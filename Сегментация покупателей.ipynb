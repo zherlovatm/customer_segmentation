{
 "cells": [
  {
   "cell_type": "markdown",
   "metadata": {},
   "source": [
    "## Задание: Сегментировать покупателей по профилю потребления. Ответить на вопрос: как сегментация может помочь в разработке более персонализированных предложений для покупателей. "
   ]
  },
  {
   "cell_type": "markdown",
   "metadata": {},
   "source": [
    "## Содержание:"
   ]
  },
  {
   "cell_type": "markdown",
   "metadata": {},
   "source": [
    "2.1 [Общая информация. Предобработка данных](#start)\n",
    "\n",
    "2.2 [Исследовательский анализ данных](#eda)\n",
    "\n",
    "2.3 [Анализ пользователей после сегментации](#seg)\n",
    "\n",
    "2.4 [Проверка гипотез о равенстве среднего чека двух категорий](#gip)\n",
    "\n",
    "2.5 [Выводы и рекомендации](#rec)"
   ]
  },
  {
   "cell_type": "markdown",
   "metadata": {},
   "source": [
    "### Предобработка данных <a id=\"start\"></a>"
   ]
  },
  {
   "cell_type": "code",
   "execution_count": 1,
   "metadata": {},
   "outputs": [],
   "source": [
    "import pandas as pd\n",
    "from IPython.display import display\n",
    "import matplotlib.pyplot as plt\n",
    "import numpy as np\n",
    "import seaborn as sns\n",
    "from pymystem3 import Mystem\n",
    "import re\n",
    "from scipy import stats as st\n",
    "import math as mth\n",
    "import plotly.express as px\n",
    "from plotly import graph_objects as go\n",
    "import scipy.stats as stats"
   ]
  },
  {
   "cell_type": "code",
   "execution_count": 2,
   "metadata": {},
   "outputs": [],
   "source": [
    "df = pd.read_csv('/datasets/ecommerce_dataset.csv')"
   ]
  },
  {
   "cell_type": "code",
   "execution_count": 3,
   "metadata": {},
   "outputs": [
    {
     "data": {
      "text/html": [
       "<div>\n",
       "<style scoped>\n",
       "    .dataframe tbody tr th:only-of-type {\n",
       "        vertical-align: middle;\n",
       "    }\n",
       "\n",
       "    .dataframe tbody tr th {\n",
       "        vertical-align: top;\n",
       "    }\n",
       "\n",
       "    .dataframe thead th {\n",
       "        text-align: right;\n",
       "    }\n",
       "</style>\n",
       "<table border=\"1\" class=\"dataframe\">\n",
       "  <thead>\n",
       "    <tr style=\"text-align: right;\">\n",
       "      <th></th>\n",
       "      <th>date</th>\n",
       "      <th>customer_id</th>\n",
       "      <th>order_id</th>\n",
       "      <th>product</th>\n",
       "      <th>quantity</th>\n",
       "      <th>price</th>\n",
       "    </tr>\n",
       "  </thead>\n",
       "  <tbody>\n",
       "    <tr>\n",
       "      <th>3191</th>\n",
       "      <td>2019042621</td>\n",
       "      <td>8cf3c949-8d92-40ad-a5fa-d67a4b49456d</td>\n",
       "      <td>71300</td>\n",
       "      <td>Коврик Dasch для ванной комнаты 50х80 см HJ-C ...</td>\n",
       "      <td>1</td>\n",
       "      <td>637.0</td>\n",
       "    </tr>\n",
       "    <tr>\n",
       "      <th>4645</th>\n",
       "      <td>2019060515</td>\n",
       "      <td>bc00e385-5eba-404d-912e-f119769b1206</td>\n",
       "      <td>71617</td>\n",
       "      <td>Коврик придверный Attribute NATURE кокосовый 6...</td>\n",
       "      <td>10</td>\n",
       "      <td>376.0</td>\n",
       "    </tr>\n",
       "    <tr>\n",
       "      <th>138</th>\n",
       "      <td>2018100813</td>\n",
       "      <td>bc59104e-73fb-4057-a65d-2325dc4b69dd</td>\n",
       "      <td>68569</td>\n",
       "      <td>Ёрш для бутылки из натурального волокна и мета...</td>\n",
       "      <td>10</td>\n",
       "      <td>142.0</td>\n",
       "    </tr>\n",
       "    <tr>\n",
       "      <th>6087</th>\n",
       "      <td>2019081310</td>\n",
       "      <td>a688224b-38c6-4fab-9d0e-f9c7b0ac6d13</td>\n",
       "      <td>72276</td>\n",
       "      <td>Штора для ванной Spirella / Спирелла Peva Hugo...</td>\n",
       "      <td>1</td>\n",
       "      <td>975.0</td>\n",
       "    </tr>\n",
       "    <tr>\n",
       "      <th>3158</th>\n",
       "      <td>2019042517</td>\n",
       "      <td>28195156-9812-4a27-a3e3-a1ebf41b5d64</td>\n",
       "      <td>14693</td>\n",
       "      <td>Вербена Red красная объем 0,5 л</td>\n",
       "      <td>2</td>\n",
       "      <td>90.0</td>\n",
       "    </tr>\n",
       "    <tr>\n",
       "      <th>4465</th>\n",
       "      <td>2019060412</td>\n",
       "      <td>d2b12dec-4755-483b-b522-48cef83e4731</td>\n",
       "      <td>71595</td>\n",
       "      <td>Сушилка для белья настенная Zalger Prima 510-7...</td>\n",
       "      <td>1</td>\n",
       "      <td>299.0</td>\n",
       "    </tr>\n",
       "    <tr>\n",
       "      <th>169</th>\n",
       "      <td>2018100917</td>\n",
       "      <td>4d93d3f6-8b24-403b-a74b-f5173e40d7db</td>\n",
       "      <td>68591</td>\n",
       "      <td>Тележка багажная DELTA ТБР-20 синий грузоподъе...</td>\n",
       "      <td>1</td>\n",
       "      <td>742.0</td>\n",
       "    </tr>\n",
       "    <tr>\n",
       "      <th>5052</th>\n",
       "      <td>2019061022</td>\n",
       "      <td>1d6c8c1f-a799-4418-9af2-1ded47d7a85c</td>\n",
       "      <td>14833</td>\n",
       "      <td>Рассада Кабачка сорт Сосновский, кассета по 6шт</td>\n",
       "      <td>1</td>\n",
       "      <td>120.0</td>\n",
       "    </tr>\n",
       "    <tr>\n",
       "      <th>3873</th>\n",
       "      <td>2019051710</td>\n",
       "      <td>1420716a-02ef-426f-828d-fddcb0e1f532</td>\n",
       "      <td>14786</td>\n",
       "      <td>Бегония вечноцветущая рассада однолетних цвето...</td>\n",
       "      <td>1</td>\n",
       "      <td>128.0</td>\n",
       "    </tr>\n",
       "    <tr>\n",
       "      <th>2049</th>\n",
       "      <td>2019022709</td>\n",
       "      <td>377c8a20-a3e0-4945-9fd8-a1f4ada5d8b0</td>\n",
       "      <td>70482</td>\n",
       "      <td>Муляж Банан желтый 21 см полиуретан</td>\n",
       "      <td>50</td>\n",
       "      <td>51.0</td>\n",
       "    </tr>\n",
       "  </tbody>\n",
       "</table>\n",
       "</div>"
      ],
      "text/plain": [
       "            date                           customer_id  order_id  \\\n",
       "3191  2019042621  8cf3c949-8d92-40ad-a5fa-d67a4b49456d     71300   \n",
       "4645  2019060515  bc00e385-5eba-404d-912e-f119769b1206     71617   \n",
       "138   2018100813  bc59104e-73fb-4057-a65d-2325dc4b69dd     68569   \n",
       "6087  2019081310  a688224b-38c6-4fab-9d0e-f9c7b0ac6d13     72276   \n",
       "3158  2019042517  28195156-9812-4a27-a3e3-a1ebf41b5d64     14693   \n",
       "4465  2019060412  d2b12dec-4755-483b-b522-48cef83e4731     71595   \n",
       "169   2018100917  4d93d3f6-8b24-403b-a74b-f5173e40d7db     68591   \n",
       "5052  2019061022  1d6c8c1f-a799-4418-9af2-1ded47d7a85c     14833   \n",
       "3873  2019051710  1420716a-02ef-426f-828d-fddcb0e1f532     14786   \n",
       "2049  2019022709  377c8a20-a3e0-4945-9fd8-a1f4ada5d8b0     70482   \n",
       "\n",
       "                                                product  quantity  price  \n",
       "3191  Коврик Dasch для ванной комнаты 50х80 см HJ-C ...         1  637.0  \n",
       "4645  Коврик придверный Attribute NATURE кокосовый 6...        10  376.0  \n",
       "138   Ёрш для бутылки из натурального волокна и мета...        10  142.0  \n",
       "6087  Штора для ванной Spirella / Спирелла Peva Hugo...         1  975.0  \n",
       "3158                    Вербена Red красная объем 0,5 л         2   90.0  \n",
       "4465  Сушилка для белья настенная Zalger Prima 510-7...         1  299.0  \n",
       "169   Тележка багажная DELTA ТБР-20 синий грузоподъе...         1  742.0  \n",
       "5052    Рассада Кабачка сорт Сосновский, кассета по 6шт         1  120.0  \n",
       "3873  Бегония вечноцветущая рассада однолетних цвето...         1  128.0  \n",
       "2049                Муляж Банан желтый 21 см полиуретан        50   51.0  "
      ]
     },
     "metadata": {},
     "output_type": "display_data"
    }
   ],
   "source": [
    "display(df.sample(10))"
   ]
  },
  {
   "cell_type": "markdown",
   "metadata": {},
   "source": [
    "Датасет описывает транзакции интернет-магазина товаров для дома и быта «Пока все ещё тут». \n",
    "\n",
    "Наименование колонок:\n",
    "* date — дата заказа;\n",
    "* customer_id — идентификатор покупателя;\n",
    "* order_id — идентификатор заказа;\n",
    "* product — наименование товара;\n",
    "* quantity — количество товара в заказе;\n",
    "* price — цена товара."
   ]
  },
  {
   "cell_type": "code",
   "execution_count": 4,
   "metadata": {},
   "outputs": [
    {
     "name": "stdout",
     "output_type": "stream",
     "text": [
      "<class 'pandas.core.frame.DataFrame'>\n",
      "RangeIndex: 6737 entries, 0 to 6736\n",
      "Data columns (total 6 columns):\n",
      " #   Column       Non-Null Count  Dtype  \n",
      "---  ------       --------------  -----  \n",
      " 0   date         6737 non-null   int64  \n",
      " 1   customer_id  6737 non-null   object \n",
      " 2   order_id     6737 non-null   int64  \n",
      " 3   product      6737 non-null   object \n",
      " 4   quantity     6737 non-null   int64  \n",
      " 5   price        6737 non-null   float64\n",
      "dtypes: float64(1), int64(3), object(2)\n",
      "memory usage: 315.9+ KB\n"
     ]
    }
   ],
   "source": [
    "df.info()"
   ]
  },
  {
   "cell_type": "markdown",
   "metadata": {},
   "source": [
    "В базе данных 6737 событий, пропущенных значений нет. Наименования колонок - коректны, и не требуют изменений."
   ]
  },
  {
   "cell_type": "markdown",
   "metadata": {},
   "source": [
    "Проведем проверку на дубликаты. для этого приведем данные столбца product к нижнему регистру:"
   ]
  },
  {
   "cell_type": "code",
   "execution_count": 5,
   "metadata": {},
   "outputs": [],
   "source": [
    "df['product'] = df['product'].str.lower()"
   ]
  },
  {
   "cell_type": "code",
   "execution_count": 6,
   "metadata": {},
   "outputs": [
    {
     "name": "stdout",
     "output_type": "stream",
     "text": [
      "0\n"
     ]
    }
   ],
   "source": [
    "print(df.duplicated().sum())"
   ]
  },
  {
   "cell_type": "markdown",
   "metadata": {},
   "source": [
    "Дубликатов в данной базе данных не обнаружено."
   ]
  },
  {
   "cell_type": "markdown",
   "metadata": {},
   "source": [
    "Проверим базу на скрытые дубликаты - это те транзакции, в которых совпаает номер заказа, номер покупателя и наименование продукта:"
   ]
  },
  {
   "cell_type": "code",
   "execution_count": 7,
   "metadata": {},
   "outputs": [
    {
     "data": {
      "text/plain": [
       "1886"
      ]
     },
     "metadata": {},
     "output_type": "display_data"
    }
   ],
   "source": [
    "display(df[['customer_id','order_id', 'product']].duplicated().sum())"
   ]
  },
  {
   "cell_type": "markdown",
   "metadata": {},
   "source": [
    "Около 30% базы составляют не явные дубликаты - возможно это ошибки подсчета заказов при оформлении или при выгрузке базы. Для дальнейшего анализа нужно удалить дубликаты:"
   ]
  },
  {
   "cell_type": "code",
   "execution_count": 8,
   "metadata": {},
   "outputs": [
    {
     "data": {
      "text/plain": [
       "4851"
      ]
     },
     "execution_count": 8,
     "metadata": {},
     "output_type": "execute_result"
    }
   ],
   "source": [
    "df = df.drop_duplicates(['customer_id','order_id', 'product'])\n",
    "len(df)"
   ]
  },
  {
   "cell_type": "code",
   "execution_count": 9,
   "metadata": {},
   "outputs": [
    {
     "data": {
      "text/plain": [
       "0"
      ]
     },
     "metadata": {},
     "output_type": "display_data"
    }
   ],
   "source": [
    "display(df[['customer_id','order_id', 'product']].duplicated().sum())"
   ]
  },
  {
   "cell_type": "markdown",
   "metadata": {},
   "source": [
    "Требуется привести данные в столбце \"date\", к формату datetime:"
   ]
  },
  {
   "cell_type": "code",
   "execution_count": 10,
   "metadata": {},
   "outputs": [],
   "source": [
    "df['date'] = pd.to_datetime(df['date'], format='%Y%m%d%H')"
   ]
  },
  {
   "cell_type": "code",
   "execution_count": 11,
   "metadata": {},
   "outputs": [
    {
     "data": {
      "text/html": [
       "<div>\n",
       "<style scoped>\n",
       "    .dataframe tbody tr th:only-of-type {\n",
       "        vertical-align: middle;\n",
       "    }\n",
       "\n",
       "    .dataframe tbody tr th {\n",
       "        vertical-align: top;\n",
       "    }\n",
       "\n",
       "    .dataframe thead th {\n",
       "        text-align: right;\n",
       "    }\n",
       "</style>\n",
       "<table border=\"1\" class=\"dataframe\">\n",
       "  <thead>\n",
       "    <tr style=\"text-align: right;\">\n",
       "      <th></th>\n",
       "      <th>date</th>\n",
       "      <th>customer_id</th>\n",
       "      <th>order_id</th>\n",
       "      <th>product</th>\n",
       "      <th>quantity</th>\n",
       "      <th>price</th>\n",
       "    </tr>\n",
       "  </thead>\n",
       "  <tbody>\n",
       "    <tr>\n",
       "      <th>1100</th>\n",
       "      <td>2018-12-04 12:00:00</td>\n",
       "      <td>c971fb21-d54c-4134-938f-16b62ee86d3b</td>\n",
       "      <td>69202</td>\n",
       "      <td>сушилка для белья ника сб1 18 м</td>\n",
       "      <td>1</td>\n",
       "      <td>689.0</td>\n",
       "    </tr>\n",
       "    <tr>\n",
       "      <th>6602</th>\n",
       "      <td>2019-10-13 17:00:00</td>\n",
       "      <td>5901a4c4-768d-4dc5-9d81-3546e29820fb</td>\n",
       "      <td>72951</td>\n",
       "      <td>пеларгония зональная ринго вайт d-7 см h-10 см...</td>\n",
       "      <td>1</td>\n",
       "      <td>74.0</td>\n",
       "    </tr>\n",
       "    <tr>\n",
       "      <th>2260</th>\n",
       "      <td>2019-03-09 19:00:00</td>\n",
       "      <td>80e311a3-2a1f-4a56-b307-d25c1f402048</td>\n",
       "      <td>70672</td>\n",
       "      <td>гладильная доска ника валенсия fashion valensi...</td>\n",
       "      <td>1</td>\n",
       "      <td>2399.0</td>\n",
       "    </tr>\n",
       "    <tr>\n",
       "      <th>1328</th>\n",
       "      <td>2018-12-23 19:00:00</td>\n",
       "      <td>ce0e2f13-d360-4ab5-a970-261d25e770e8</td>\n",
       "      <td>69534</td>\n",
       "      <td>фоторамка alparaisa на 7 фотографий бронзовая ...</td>\n",
       "      <td>1</td>\n",
       "      <td>300.0</td>\n",
       "    </tr>\n",
       "    <tr>\n",
       "      <th>1419</th>\n",
       "      <td>2018-12-29 09:00:00</td>\n",
       "      <td>c971fb21-d54c-4134-938f-16b62ee86d3b</td>\n",
       "      <td>69680</td>\n",
       "      <td>пуансеттия d-12 см красная</td>\n",
       "      <td>1</td>\n",
       "      <td>134.0</td>\n",
       "    </tr>\n",
       "  </tbody>\n",
       "</table>\n",
       "</div>"
      ],
      "text/plain": [
       "                    date                           customer_id  order_id  \\\n",
       "1100 2018-12-04 12:00:00  c971fb21-d54c-4134-938f-16b62ee86d3b     69202   \n",
       "6602 2019-10-13 17:00:00  5901a4c4-768d-4dc5-9d81-3546e29820fb     72951   \n",
       "2260 2019-03-09 19:00:00  80e311a3-2a1f-4a56-b307-d25c1f402048     70672   \n",
       "1328 2018-12-23 19:00:00  ce0e2f13-d360-4ab5-a970-261d25e770e8     69534   \n",
       "1419 2018-12-29 09:00:00  c971fb21-d54c-4134-938f-16b62ee86d3b     69680   \n",
       "\n",
       "                                                product  quantity   price  \n",
       "1100                    сушилка для белья ника сб1 18 м         1   689.0  \n",
       "6602  пеларгония зональная ринго вайт d-7 см h-10 см...         1    74.0  \n",
       "2260  гладильная доска ника валенсия fashion valensi...         1  2399.0  \n",
       "1328  фоторамка alparaisa на 7 фотографий бронзовая ...         1   300.0  \n",
       "1419                         пуансеттия d-12 см красная         1   134.0  "
      ]
     },
     "metadata": {},
     "output_type": "display_data"
    }
   ],
   "source": [
    "display(df.sample(5))"
   ]
  },
  {
   "cell_type": "code",
   "execution_count": 12,
   "metadata": {},
   "outputs": [
    {
     "name": "stdout",
     "output_type": "stream",
     "text": [
      "<class 'pandas.core.frame.DataFrame'>\n",
      "Int64Index: 4851 entries, 0 to 6735\n",
      "Data columns (total 6 columns):\n",
      " #   Column       Non-Null Count  Dtype         \n",
      "---  ------       --------------  -----         \n",
      " 0   date         4851 non-null   datetime64[ns]\n",
      " 1   customer_id  4851 non-null   object        \n",
      " 2   order_id     4851 non-null   int64         \n",
      " 3   product      4851 non-null   object        \n",
      " 4   quantity     4851 non-null   int64         \n",
      " 5   price        4851 non-null   float64       \n",
      "dtypes: datetime64[ns](1), float64(1), int64(2), object(2)\n",
      "memory usage: 265.3+ KB\n"
     ]
    }
   ],
   "source": [
    "df.info()"
   ]
  },
  {
   "cell_type": "markdown",
   "metadata": {},
   "source": [
    "Данные столбца \"date\" переведены в формат datetime64. в нем содержится год, месяц, день и час заказа."
   ]
  },
  {
   "cell_type": "markdown",
   "metadata": {},
   "source": [
    "### Исследовательский анализ данных <a id=\"eda\"></a>"
   ]
  },
  {
   "cell_type": "markdown",
   "metadata": {},
   "source": [
    "Выведим общую инфрмацию о значениях данных в БД:"
   ]
  },
  {
   "cell_type": "code",
   "execution_count": 13,
   "metadata": {},
   "outputs": [
    {
     "data": {
      "text/html": [
       "<div>\n",
       "<style scoped>\n",
       "    .dataframe tbody tr th:only-of-type {\n",
       "        vertical-align: middle;\n",
       "    }\n",
       "\n",
       "    .dataframe tbody tr th {\n",
       "        vertical-align: top;\n",
       "    }\n",
       "\n",
       "    .dataframe thead th {\n",
       "        text-align: right;\n",
       "    }\n",
       "</style>\n",
       "<table border=\"1\" class=\"dataframe\">\n",
       "  <thead>\n",
       "    <tr style=\"text-align: right;\">\n",
       "      <th></th>\n",
       "      <th>order_id</th>\n",
       "      <th>quantity</th>\n",
       "      <th>price</th>\n",
       "    </tr>\n",
       "  </thead>\n",
       "  <tbody>\n",
       "    <tr>\n",
       "      <th>count</th>\n",
       "      <td>4851.000000</td>\n",
       "      <td>4851.000000</td>\n",
       "      <td>4851.000000</td>\n",
       "    </tr>\n",
       "    <tr>\n",
       "      <th>mean</th>\n",
       "      <td>48267.589981</td>\n",
       "      <td>2.833643</td>\n",
       "      <td>516.063698</td>\n",
       "    </tr>\n",
       "    <tr>\n",
       "      <th>std</th>\n",
       "      <td>27333.809628</td>\n",
       "      <td>17.642900</td>\n",
       "      <td>946.096518</td>\n",
       "    </tr>\n",
       "    <tr>\n",
       "      <th>min</th>\n",
       "      <td>12624.000000</td>\n",
       "      <td>1.000000</td>\n",
       "      <td>9.000000</td>\n",
       "    </tr>\n",
       "    <tr>\n",
       "      <th>25%</th>\n",
       "      <td>14774.000000</td>\n",
       "      <td>1.000000</td>\n",
       "      <td>90.000000</td>\n",
       "    </tr>\n",
       "    <tr>\n",
       "      <th>50%</th>\n",
       "      <td>68860.000000</td>\n",
       "      <td>1.000000</td>\n",
       "      <td>150.000000</td>\n",
       "    </tr>\n",
       "    <tr>\n",
       "      <th>75%</th>\n",
       "      <td>70835.500000</td>\n",
       "      <td>1.000000</td>\n",
       "      <td>502.000000</td>\n",
       "    </tr>\n",
       "    <tr>\n",
       "      <th>max</th>\n",
       "      <td>73164.000000</td>\n",
       "      <td>1000.000000</td>\n",
       "      <td>14917.000000</td>\n",
       "    </tr>\n",
       "  </tbody>\n",
       "</table>\n",
       "</div>"
      ],
      "text/plain": [
       "           order_id     quantity         price\n",
       "count   4851.000000  4851.000000   4851.000000\n",
       "mean   48267.589981     2.833643    516.063698\n",
       "std    27333.809628    17.642900    946.096518\n",
       "min    12624.000000     1.000000      9.000000\n",
       "25%    14774.000000     1.000000     90.000000\n",
       "50%    68860.000000     1.000000    150.000000\n",
       "75%    70835.500000     1.000000    502.000000\n",
       "max    73164.000000  1000.000000  14917.000000"
      ]
     },
     "execution_count": 13,
     "metadata": {},
     "output_type": "execute_result"
    }
   ],
   "source": [
    "df.describe()"
   ]
  },
  {
   "cell_type": "markdown",
   "metadata": {},
   "source": [
    "\n",
    "\n",
    "\n",
    "\n",
    "В базе данных представлено 4851 транзакций. Минимальная цена позиции составляет - 9, максимальная - 14917, минимальное количество покупаемых товаров за транзакцию - 1, максимальное - 1000, при медианном значении 1 это очень похоже на выброс, проверим все признаки подробнее на предмет выбросов и аномалий:\n"
   ]
  },
  {
   "cell_type": "markdown",
   "metadata": {},
   "source": [
    "Распределение количества позиций (quantity) в транзакциях:"
   ]
  },
  {
   "cell_type": "code",
   "execution_count": 14,
   "metadata": {
    "scrolled": true
   },
   "outputs": [
    {
     "data": {
      "image/png": "[encoded data removed]",
      "text/plain": [
       "<Figure size 504x360 with 1 Axes>"
      ]
     },
     "metadata": {
      "needs_background": "light"
     },
     "output_type": "display_data"
    }
   ],
   "source": [
    "df.boxplot(column='quantity',figsize=(7, 5))\n",
    "plt.tight_layout(pad=0.4, w_pad=0.5, h_pad=1.0)\n",
    "plt.title('Разброс количества позиций')\n",
    "plt.xlabel('Позиции')\n",
    "plt.ylabel('Кол-во')\n",
    "plt.show()\n"
   ]
  },
  {
   "cell_type": "markdown",
   "metadata": {},
   "source": [
    "\n",
    "Более 200 позиций редко встречаются в рамках одной транзакции, выведим их отдельно:\n"
   ]
  },
  {
   "cell_type": "code",
   "execution_count": 15,
   "metadata": {},
   "outputs": [
    {
     "data": {
      "text/html": [
       "<div>\n",
       "<style scoped>\n",
       "    .dataframe tbody tr th:only-of-type {\n",
       "        vertical-align: middle;\n",
       "    }\n",
       "\n",
       "    .dataframe tbody tr th {\n",
       "        vertical-align: top;\n",
       "    }\n",
       "\n",
       "    .dataframe thead th {\n",
       "        text-align: right;\n",
       "    }\n",
       "</style>\n",
       "<table border=\"1\" class=\"dataframe\">\n",
       "  <thead>\n",
       "    <tr style=\"text-align: right;\">\n",
       "      <th></th>\n",
       "      <th>date</th>\n",
       "      <th>customer_id</th>\n",
       "      <th>order_id</th>\n",
       "      <th>product</th>\n",
       "      <th>quantity</th>\n",
       "      <th>price</th>\n",
       "    </tr>\n",
       "  </thead>\n",
       "  <tbody>\n",
       "    <tr>\n",
       "      <th>3961</th>\n",
       "      <td>2019-05-20 21:00:00</td>\n",
       "      <td>5d189e88-d4d6-4eac-ab43-fa65a3c4d106</td>\n",
       "      <td>71478</td>\n",
       "      <td>муляж яблоко 9 см красное</td>\n",
       "      <td>300</td>\n",
       "      <td>51.0</td>\n",
       "    </tr>\n",
       "    <tr>\n",
       "      <th>5071</th>\n",
       "      <td>2019-06-11 07:00:00</td>\n",
       "      <td>146cd9bf-a95c-4afb-915b-5f6684b17444</td>\n",
       "      <td>71668</td>\n",
       "      <td>вешалки мягкие для деликатных вещей 3 шт шоколад</td>\n",
       "      <td>334</td>\n",
       "      <td>148.0</td>\n",
       "    </tr>\n",
       "    <tr>\n",
       "      <th>5456</th>\n",
       "      <td>2019-06-18 15:00:00</td>\n",
       "      <td>312e9a3e-5fca-43ff-a6a1-892d2b2d5ba6</td>\n",
       "      <td>71743</td>\n",
       "      <td>вантуз с деревянной ручкой d14 см красный, bur...</td>\n",
       "      <td>1000</td>\n",
       "      <td>675.0</td>\n",
       "    </tr>\n",
       "  </tbody>\n",
       "</table>\n",
       "</div>"
      ],
      "text/plain": [
       "                    date                           customer_id  order_id  \\\n",
       "3961 2019-05-20 21:00:00  5d189e88-d4d6-4eac-ab43-fa65a3c4d106     71478   \n",
       "5071 2019-06-11 07:00:00  146cd9bf-a95c-4afb-915b-5f6684b17444     71668   \n",
       "5456 2019-06-18 15:00:00  312e9a3e-5fca-43ff-a6a1-892d2b2d5ba6     71743   \n",
       "\n",
       "                                                product  quantity  price  \n",
       "3961                          муляж яблоко 9 см красное       300   51.0  \n",
       "5071   вешалки мягкие для деликатных вещей 3 шт шоколад       334  148.0  \n",
       "5456  вантуз с деревянной ручкой d14 см красный, bur...      1000  675.0  "
      ]
     },
     "metadata": {},
     "output_type": "display_data"
    }
   ],
   "source": [
    "display(df.query('quantity>200'))"
   ]
  },
  {
   "cell_type": "markdown",
   "metadata": {},
   "source": [
    "Таких событий в базе - 3 шт, скорее всего это либо оптовые закупки, либо ошибка в транзакции. Для предотвращения дальнейшего искажения результатов анализа, эти события я не буду принимать в рассчет:"
   ]
  },
  {
   "cell_type": "code",
   "execution_count": 16,
   "metadata": {},
   "outputs": [],
   "source": [
    "df = df.query('quantity<200')"
   ]
  },
  {
   "cell_type": "markdown",
   "metadata": {},
   "source": [
    "Распределение цен (price) в заказе:"
   ]
  },
  {
   "cell_type": "code",
   "execution_count": 17,
   "metadata": {},
   "outputs": [
    {
     "data": {
      "image/png": "[encoded data removed]",
      "text/plain": [
       "<Figure size 504x360 with 1 Axes>"
      ]
     },
     "metadata": {
      "needs_background": "light"
     },
     "output_type": "display_data"
    }
   ],
   "source": [
    "df.boxplot(column='price',figsize=(7, 5))\n",
    "plt.tight_layout(pad=0.4, w_pad=0.5, h_pad=1.0)\n",
    "plt.title('Разброс цен на товары')\n",
    "plt.xlabel('Цены')\n",
    "plt.ylabel('Кол-во')\n",
    "plt.show()"
   ]
  },
  {
   "cell_type": "markdown",
   "metadata": {},
   "source": [
    "Цены на товар редко превышают 8000р, выведем и просмоторим дорогие позиции:"
   ]
  },
  {
   "cell_type": "code",
   "execution_count": 18,
   "metadata": {},
   "outputs": [
    {
     "data": {
      "text/html": [
       "<div>\n",
       "<style scoped>\n",
       "    .dataframe tbody tr th:only-of-type {\n",
       "        vertical-align: middle;\n",
       "    }\n",
       "\n",
       "    .dataframe tbody tr th {\n",
       "        vertical-align: top;\n",
       "    }\n",
       "\n",
       "    .dataframe thead th {\n",
       "        text-align: right;\n",
       "    }\n",
       "</style>\n",
       "<table border=\"1\" class=\"dataframe\">\n",
       "  <thead>\n",
       "    <tr style=\"text-align: right;\">\n",
       "      <th></th>\n",
       "      <th>date</th>\n",
       "      <th>customer_id</th>\n",
       "      <th>order_id</th>\n",
       "      <th>product</th>\n",
       "      <th>quantity</th>\n",
       "      <th>price</th>\n",
       "    </tr>\n",
       "  </thead>\n",
       "  <tbody>\n",
       "    <tr>\n",
       "      <th>1981</th>\n",
       "      <td>2019-02-24 10:00:00</td>\n",
       "      <td>ac250053-a236-467a-97d2-ddbb9bf4a1ba</td>\n",
       "      <td>70423</td>\n",
       "      <td>сумка-тележка хозяйственная andersen alu star ...</td>\n",
       "      <td>1</td>\n",
       "      <td>8437.0</td>\n",
       "    </tr>\n",
       "    <tr>\n",
       "      <th>2697</th>\n",
       "      <td>2019-04-05 19:00:00</td>\n",
       "      <td>c0c60544-3a99-49d0-8a8e-cf7f293c22cb</td>\n",
       "      <td>71035</td>\n",
       "      <td>сумка-тележка хозяйственная andersen royal sho...</td>\n",
       "      <td>1</td>\n",
       "      <td>8737.0</td>\n",
       "    </tr>\n",
       "    <tr>\n",
       "      <th>2997</th>\n",
       "      <td>2019-04-21 16:00:00</td>\n",
       "      <td>19d904d8-8d16-476d-8f66-b2a3b7a23660</td>\n",
       "      <td>71227</td>\n",
       "      <td>сумка-тележка хозяйственная rolser mnb019 rojo...</td>\n",
       "      <td>1</td>\n",
       "      <td>8077.0</td>\n",
       "    </tr>\n",
       "    <tr>\n",
       "      <th>5992</th>\n",
       "      <td>2019-07-29 17:00:00</td>\n",
       "      <td>0d87f4ae-465a-4fac-81e6-5d629761783e</td>\n",
       "      <td>72139</td>\n",
       "      <td>сушилка уличная leifheit 85210 linomatic v 400...</td>\n",
       "      <td>1</td>\n",
       "      <td>14917.0</td>\n",
       "    </tr>\n",
       "  </tbody>\n",
       "</table>\n",
       "</div>"
      ],
      "text/plain": [
       "                    date                           customer_id  order_id  \\\n",
       "1981 2019-02-24 10:00:00  ac250053-a236-467a-97d2-ddbb9bf4a1ba     70423   \n",
       "2697 2019-04-05 19:00:00  c0c60544-3a99-49d0-8a8e-cf7f293c22cb     71035   \n",
       "2997 2019-04-21 16:00:00  19d904d8-8d16-476d-8f66-b2a3b7a23660     71227   \n",
       "5992 2019-07-29 17:00:00  0d87f4ae-465a-4fac-81e6-5d629761783e     72139   \n",
       "\n",
       "                                                product  quantity    price  \n",
       "1981  сумка-тележка хозяйственная andersen alu star ...         1   8437.0  \n",
       "2697  сумка-тележка хозяйственная andersen royal sho...         1   8737.0  \n",
       "2997  сумка-тележка хозяйственная rolser mnb019 rojo...         1   8077.0  \n",
       "5992  сушилка уличная leifheit 85210 linomatic v 400...         1  14917.0  "
      ]
     },
     "metadata": {},
     "output_type": "display_data"
    }
   ],
   "source": [
    "display(df.query('price>8000'))"
   ]
  },
  {
   "cell_type": "markdown",
   "metadata": {},
   "source": [
    "Проверив эти 4 позиции вручную, поиском, мы убедились, что данные цены являются достоверными, поэтому удалять из базы их не нужно."
   ]
  },
  {
   "cell_type": "markdown",
   "metadata": {},
   "source": [
    "Т.к. в базе данных указаны цена на единицу товара, то нужно добавить новый столбец с итоговой суммой заказа \"order_price\":"
   ]
  },
  {
   "cell_type": "code",
   "execution_count": 19,
   "metadata": {},
   "outputs": [],
   "source": [
    "df['order_price'] = df['quantity'] * df['price']"
   ]
  },
  {
   "cell_type": "markdown",
   "metadata": {},
   "source": [
    "Также добавим в базу столбец с годом заказа, месяцем заказа, неделей заказа, и днем заказа для нахождения дальнейших метрик:"
   ]
  },
  {
   "cell_type": "code",
   "execution_count": 20,
   "metadata": {},
   "outputs": [],
   "source": [
    "df['order_month'] = df['date'].astype('datetime64[M]')\n",
    "df['year']  = df['date'].dt.year\n",
    "df['month']  = df['date'].dt.month\n",
    "df['week']  = df['date'].dt.isocalendar().week\n",
    "df['day']  = df['date'].dt.date"
   ]
  },
  {
   "cell_type": "code",
   "execution_count": 21,
   "metadata": {},
   "outputs": [
    {
     "data": {
      "text/html": [
       "<div>\n",
       "<style scoped>\n",
       "    .dataframe tbody tr th:only-of-type {\n",
       "        vertical-align: middle;\n",
       "    }\n",
       "\n",
       "    .dataframe tbody tr th {\n",
       "        vertical-align: top;\n",
       "    }\n",
       "\n",
       "    .dataframe thead th {\n",
       "        text-align: right;\n",
       "    }\n",
       "</style>\n",
       "<table border=\"1\" class=\"dataframe\">\n",
       "  <thead>\n",
       "    <tr style=\"text-align: right;\">\n",
       "      <th></th>\n",
       "      <th>date</th>\n",
       "      <th>customer_id</th>\n",
       "      <th>order_id</th>\n",
       "      <th>product</th>\n",
       "      <th>quantity</th>\n",
       "      <th>price</th>\n",
       "      <th>order_price</th>\n",
       "      <th>order_month</th>\n",
       "      <th>year</th>\n",
       "      <th>month</th>\n",
       "      <th>week</th>\n",
       "      <th>day</th>\n",
       "    </tr>\n",
       "  </thead>\n",
       "  <tbody>\n",
       "    <tr>\n",
       "      <th>2236</th>\n",
       "      <td>2019-03-07 10:00:00</td>\n",
       "      <td>a8b088ec-7c45-4dda-bc86-2ffcc861d8d8</td>\n",
       "      <td>14565</td>\n",
       "      <td>пеларгония зональная махровая белая взрослое р...</td>\n",
       "      <td>1</td>\n",
       "      <td>150.0</td>\n",
       "      <td>150.0</td>\n",
       "      <td>2019-03-01</td>\n",
       "      <td>2019</td>\n",
       "      <td>3</td>\n",
       "      <td>10</td>\n",
       "      <td>2019-03-07</td>\n",
       "    </tr>\n",
       "    <tr>\n",
       "      <th>1706</th>\n",
       "      <td>2019-02-05 20:00:00</td>\n",
       "      <td>673d44a3-9cec-4c2f-b0c6-9be4952ddc7c</td>\n",
       "      <td>70114</td>\n",
       "      <td>вешалка-плечики без эссенции цвет тёмно-розовы...</td>\n",
       "      <td>30</td>\n",
       "      <td>40.0</td>\n",
       "      <td>1200.0</td>\n",
       "      <td>2019-02-01</td>\n",
       "      <td>2019</td>\n",
       "      <td>2</td>\n",
       "      <td>6</td>\n",
       "      <td>2019-02-05</td>\n",
       "    </tr>\n",
       "    <tr>\n",
       "      <th>771</th>\n",
       "      <td>2018-11-11 22:00:00</td>\n",
       "      <td>76e12e82-776d-47fb-b2fa-822233c5ae79</td>\n",
       "      <td>68957</td>\n",
       "      <td>овощечистка с плавающим лезвием comfortline из...</td>\n",
       "      <td>1</td>\n",
       "      <td>749.0</td>\n",
       "      <td>749.0</td>\n",
       "      <td>2018-11-01</td>\n",
       "      <td>2018</td>\n",
       "      <td>11</td>\n",
       "      <td>45</td>\n",
       "      <td>2018-11-11</td>\n",
       "    </tr>\n",
       "    <tr>\n",
       "      <th>3698</th>\n",
       "      <td>2019-05-13 17:00:00</td>\n",
       "      <td>dabea2a5-f3e2-4137-b96f-a305dffaf5a8</td>\n",
       "      <td>71412</td>\n",
       "      <td>сушилка для белья потолочная лиана 1,3 м 1703002</td>\n",
       "      <td>1</td>\n",
       "      <td>509.0</td>\n",
       "      <td>509.0</td>\n",
       "      <td>2019-05-01</td>\n",
       "      <td>2019</td>\n",
       "      <td>5</td>\n",
       "      <td>20</td>\n",
       "      <td>2019-05-13</td>\n",
       "    </tr>\n",
       "    <tr>\n",
       "      <th>6657</th>\n",
       "      <td>2019-10-20 19:00:00</td>\n",
       "      <td>e2e51402-7dcd-4973-873b-be978dfb3ef3</td>\n",
       "      <td>14945</td>\n",
       "      <td>пеларгония зональная диам. 12 см сиреневый пол...</td>\n",
       "      <td>1</td>\n",
       "      <td>150.0</td>\n",
       "      <td>150.0</td>\n",
       "      <td>2019-10-01</td>\n",
       "      <td>2019</td>\n",
       "      <td>10</td>\n",
       "      <td>42</td>\n",
       "      <td>2019-10-20</td>\n",
       "    </tr>\n",
       "  </tbody>\n",
       "</table>\n",
       "</div>"
      ],
      "text/plain": [
       "                    date                           customer_id  order_id  \\\n",
       "2236 2019-03-07 10:00:00  a8b088ec-7c45-4dda-bc86-2ffcc861d8d8     14565   \n",
       "1706 2019-02-05 20:00:00  673d44a3-9cec-4c2f-b0c6-9be4952ddc7c     70114   \n",
       "771  2018-11-11 22:00:00  76e12e82-776d-47fb-b2fa-822233c5ae79     68957   \n",
       "3698 2019-05-13 17:00:00  dabea2a5-f3e2-4137-b96f-a305dffaf5a8     71412   \n",
       "6657 2019-10-20 19:00:00  e2e51402-7dcd-4973-873b-be978dfb3ef3     14945   \n",
       "\n",
       "                                                product  quantity  price  \\\n",
       "2236  пеларгония зональная махровая белая взрослое р...         1  150.0   \n",
       "1706  вешалка-плечики без эссенции цвет тёмно-розовы...        30   40.0   \n",
       "771   овощечистка с плавающим лезвием comfortline из...         1  749.0   \n",
       "3698   сушилка для белья потолочная лиана 1,3 м 1703002         1  509.0   \n",
       "6657  пеларгония зональная диам. 12 см сиреневый пол...         1  150.0   \n",
       "\n",
       "      order_price order_month  year  month  week         day  \n",
       "2236        150.0  2019-03-01  2019      3    10  2019-03-07  \n",
       "1706       1200.0  2019-02-01  2019      2     6  2019-02-05  \n",
       "771         749.0  2018-11-01  2018     11    45  2018-11-11  \n",
       "3698        509.0  2019-05-01  2019      5    20  2019-05-13  \n",
       "6657        150.0  2019-10-01  2019     10    42  2019-10-20  "
      ]
     },
     "metadata": {},
     "output_type": "display_data"
    }
   ],
   "source": [
    "display(df.sample(5))"
   ]
  },
  {
   "cell_type": "code",
   "execution_count": 22,
   "metadata": {},
   "outputs": [
    {
     "name": "stdout",
     "output_type": "stream",
     "text": [
      "Первая дата заказа: 2018-10-01 00:00:00\n",
      "Последняя дата заказа: 2019-10-31 14:00:00\n"
     ]
    }
   ],
   "source": [
    "print('Первая дата заказа:', df['date'].min())\n",
    "print('Последняя дата заказа:', df['date'].max())"
   ]
  },
  {
   "cell_type": "markdown",
   "metadata": {},
   "source": [
    "Данные представлены за 1 год с 01.10.2018 по 31.10.2019."
   ]
  },
  {
   "cell_type": "markdown",
   "metadata": {},
   "source": [
    "Проведем категоризацию данных, по признаку \"product\":"
   ]
  },
  {
   "cell_type": "code",
   "execution_count": 23,
   "metadata": {},
   "outputs": [
    {
     "name": "stdout",
     "output_type": "stream",
     "text": [
      "аргирантерум рассада однолетних цветов в горшке диам. 12 см    2\n",
      "салатник luminarc арти пинк 16,5 см l2857                      1\n",
      "сушилка для белья потолочно-настенная gimi lift 160            2\n",
      "петуния orange morn оранжевая объем 0,5 л                      3\n",
      "гладильная доска ника bruna m hbm 122х40 см                    3\n",
      "Name: product, dtype: int64\n"
     ]
    }
   ],
   "source": [
    "print(df['product'].value_counts(). sample(5))"
   ]
  },
  {
   "cell_type": "markdown",
   "metadata": {},
   "source": [
    "В строках есть повторяющиеся слова, такие как \"рассада\", \"черенок\", \"кассета\" - поэтому проведем лемматизацию, чтобы разбить покупки на категории:"
   ]
  },
  {
   "cell_type": "code",
   "execution_count": 24,
   "metadata": {},
   "outputs": [],
   "source": [
    "m = Mystem()\n",
    "df['lemmas'] = df['product'].apply(m.lemmatize)"
   ]
  },
  {
   "cell_type": "code",
   "execution_count": 25,
   "metadata": {},
   "outputs": [
    {
     "data": {
      "text/html": [
       "<div>\n",
       "<style scoped>\n",
       "    .dataframe tbody tr th:only-of-type {\n",
       "        vertical-align: middle;\n",
       "    }\n",
       "\n",
       "    .dataframe tbody tr th {\n",
       "        vertical-align: top;\n",
       "    }\n",
       "\n",
       "    .dataframe thead th {\n",
       "        text-align: right;\n",
       "    }\n",
       "</style>\n",
       "<table border=\"1\" class=\"dataframe\">\n",
       "  <thead>\n",
       "    <tr style=\"text-align: right;\">\n",
       "      <th></th>\n",
       "      <th>date</th>\n",
       "      <th>customer_id</th>\n",
       "      <th>order_id</th>\n",
       "      <th>product</th>\n",
       "      <th>quantity</th>\n",
       "      <th>price</th>\n",
       "      <th>order_price</th>\n",
       "      <th>order_month</th>\n",
       "      <th>year</th>\n",
       "      <th>month</th>\n",
       "      <th>week</th>\n",
       "      <th>day</th>\n",
       "      <th>lemmas</th>\n",
       "    </tr>\n",
       "  </thead>\n",
       "  <tbody>\n",
       "    <tr>\n",
       "      <th>5567</th>\n",
       "      <td>2019-06-24 17:00:00</td>\n",
       "      <td>b6662d1b-b30d-46ab-ad5c-b1780f143298</td>\n",
       "      <td>71788</td>\n",
       "      <td>сумка-тележка 2-х колесная gimi argo красная</td>\n",
       "      <td>1</td>\n",
       "      <td>1087.0</td>\n",
       "      <td>1087.0</td>\n",
       "      <td>2019-06-01</td>\n",
       "      <td>2019</td>\n",
       "      <td>6</td>\n",
       "      <td>26</td>\n",
       "      <td>2019-06-24</td>\n",
       "      <td>[сумка, -, тележка,  , 2, -, х,  , колесный,  ...</td>\n",
       "    </tr>\n",
       "    <tr>\n",
       "      <th>1213</th>\n",
       "      <td>2018-12-15 15:00:00</td>\n",
       "      <td>b671b176-6d01-43f4-a168-a22ef061b2fd</td>\n",
       "      <td>69375</td>\n",
       "      <td>ёрш унитазный с деревянной ручкой , ваир 1712012</td>\n",
       "      <td>1</td>\n",
       "      <td>59.0</td>\n",
       "      <td>59.0</td>\n",
       "      <td>2018-12-01</td>\n",
       "      <td>2018</td>\n",
       "      <td>12</td>\n",
       "      <td>50</td>\n",
       "      <td>2018-12-15</td>\n",
       "      <td>[ерш,  , унитазный,  , с,  , деревянный,  , ру...</td>\n",
       "    </tr>\n",
       "    <tr>\n",
       "      <th>2114</th>\n",
       "      <td>2019-03-01 15:00:00</td>\n",
       "      <td>e574a1f2-4102-412c-af15-dde56abb7bf7</td>\n",
       "      <td>70537</td>\n",
       "      <td>ёрш унитазный с деревянной ручкой , ваир 1712012</td>\n",
       "      <td>23</td>\n",
       "      <td>56.0</td>\n",
       "      <td>1288.0</td>\n",
       "      <td>2019-03-01</td>\n",
       "      <td>2019</td>\n",
       "      <td>3</td>\n",
       "      <td>9</td>\n",
       "      <td>2019-03-01</td>\n",
       "      <td>[ерш,  , унитазный,  , с,  , деревянный,  , ру...</td>\n",
       "    </tr>\n",
       "    <tr>\n",
       "      <th>1974</th>\n",
       "      <td>2019-02-23 18:00:00</td>\n",
       "      <td>533fc3fd-9412-49d4-90f5-fd9301dc48b9</td>\n",
       "      <td>14547</td>\n",
       "      <td>рассада зелени для кухни розмарин блю лагун ди...</td>\n",
       "      <td>1</td>\n",
       "      <td>119.0</td>\n",
       "      <td>119.0</td>\n",
       "      <td>2019-02-01</td>\n",
       "      <td>2019</td>\n",
       "      <td>2</td>\n",
       "      <td>8</td>\n",
       "      <td>2019-02-23</td>\n",
       "      <td>[рассада,  , зелень,  , для,  , кухня,  , розм...</td>\n",
       "    </tr>\n",
       "    <tr>\n",
       "      <th>5732</th>\n",
       "      <td>2019-07-09 15:00:00</td>\n",
       "      <td>1441d772-6f55-490f-8edf-171bef655b16</td>\n",
       "      <td>14896</td>\n",
       "      <td>рассада зелени для кухни розмарина в горшке ди...</td>\n",
       "      <td>1</td>\n",
       "      <td>120.0</td>\n",
       "      <td>120.0</td>\n",
       "      <td>2019-07-01</td>\n",
       "      <td>2019</td>\n",
       "      <td>7</td>\n",
       "      <td>28</td>\n",
       "      <td>2019-07-09</td>\n",
       "      <td>[рассада,  , зелень,  , для,  , кухня,  , розм...</td>\n",
       "    </tr>\n",
       "  </tbody>\n",
       "</table>\n",
       "</div>"
      ],
      "text/plain": [
       "                    date                           customer_id  order_id  \\\n",
       "5567 2019-06-24 17:00:00  b6662d1b-b30d-46ab-ad5c-b1780f143298     71788   \n",
       "1213 2018-12-15 15:00:00  b671b176-6d01-43f4-a168-a22ef061b2fd     69375   \n",
       "2114 2019-03-01 15:00:00  e574a1f2-4102-412c-af15-dde56abb7bf7     70537   \n",
       "1974 2019-02-23 18:00:00  533fc3fd-9412-49d4-90f5-fd9301dc48b9     14547   \n",
       "5732 2019-07-09 15:00:00  1441d772-6f55-490f-8edf-171bef655b16     14896   \n",
       "\n",
       "                                                product  quantity   price  \\\n",
       "5567       сумка-тележка 2-х колесная gimi argo красная         1  1087.0   \n",
       "1213   ёрш унитазный с деревянной ручкой , ваир 1712012         1    59.0   \n",
       "2114   ёрш унитазный с деревянной ручкой , ваир 1712012        23    56.0   \n",
       "1974  рассада зелени для кухни розмарин блю лагун ди...         1   119.0   \n",
       "5732  рассада зелени для кухни розмарина в горшке ди...         1   120.0   \n",
       "\n",
       "      order_price order_month  year  month  week         day  \\\n",
       "5567       1087.0  2019-06-01  2019      6    26  2019-06-24   \n",
       "1213         59.0  2018-12-01  2018     12    50  2018-12-15   \n",
       "2114       1288.0  2019-03-01  2019      3     9  2019-03-01   \n",
       "1974        119.0  2019-02-01  2019      2     8  2019-02-23   \n",
       "5732        120.0  2019-07-01  2019      7    28  2019-07-09   \n",
       "\n",
       "                                                 lemmas  \n",
       "5567  [сумка, -, тележка,  , 2, -, х,  , колесный,  ...  \n",
       "1213  [ерш,  , унитазный,  , с,  , деревянный,  , ру...  \n",
       "2114  [ерш,  , унитазный,  , с,  , деревянный,  , ру...  \n",
       "1974  [рассада,  , зелень,  , для,  , кухня,  , розм...  \n",
       "5732  [рассада,  , зелень,  , для,  , кухня,  , розм...  "
      ]
     },
     "metadata": {},
     "output_type": "display_data"
    }
   ],
   "source": [
    "display(df.sample(5))"
   ]
  },
  {
   "cell_type": "markdown",
   "metadata": {},
   "source": [
    "На первый взгляд можно выделить следующие категории: \"расстения\", \"декор\", \"посуда\", \"хозяйственные товары\", \"текстиль\", \"храненение\", \"ремонт\", \"электроприборы\". Те товары в категориях которых я сомневаюсь, я помещу временно в категорию \"другое\". "
   ]
  },
  {
   "cell_type": "markdown",
   "metadata": {},
   "source": [
    "Далее я переведу значения столбца 'lemmas' в строковый формат, чтобы использовать более удобный функции для выделения слов, введу 2 фильтра 1-е и затем 3-е слово, по которым буду проводить разбивку на категории:"
   ]
  },
  {
   "cell_type": "code",
   "execution_count": 26,
   "metadata": {},
   "outputs": [],
   "source": [
    "df['lemmas'] = df['lemmas'].astype(str)\n",
    "df['first'] = df['lemmas'].str.split(' ').str[0]\n",
    "#df['second'] = df['lemmas'].str.split(' ').str[2]- не используем, т.к. второе слово не информативно\n",
    "df['therd'] = df['lemmas'].str.split(' ').str[3]"
   ]
  },
  {
   "cell_type": "markdown",
   "metadata": {},
   "source": [
    "Найдем уникальные значения, и сохраним их в списках v_1 и v_3:"
   ]
  },
  {
   "cell_type": "code",
   "execution_count": 27,
   "metadata": {},
   "outputs": [],
   "source": [
    "v_1 = df['first'].unique()\n",
    "v_3 = df['therd'].unique()"
   ]
  },
  {
   "cell_type": "markdown",
   "metadata": {},
   "source": [
    "Введем функцию, которая сохранит только русские слова в списках - так мы избавимся от лишних символов и пробелов:"
   ]
  },
  {
   "cell_type": "code",
   "execution_count": 28,
   "metadata": {},
   "outputs": [],
   "source": [
    "#функция выделения слов\n",
    "def find_word (words):\n",
    "    s = []\n",
    "    for word in words: \n",
    "        i = ''.join(re.findall('[а-я ]', word))\n",
    "        s.append(i)\n",
    "    return s\n",
    "x_1 = find_word (v_1)\n",
    "x_3 = find_word (v_3)"
   ]
  },
  {
   "cell_type": "markdown",
   "metadata": {},
   "source": [
    "Введем функцию, которая сохранит только русские слова в столбцах таблицы, которые мы будем в дальнейшем использовать для категоризации: "
   ]
  },
  {
   "cell_type": "code",
   "execution_count": 29,
   "metadata": {},
   "outputs": [],
   "source": [
    "#Напишем функцию, которая оcтавит в столбце только слова (без символов)\n",
    "def az (row):\n",
    "    new = ''.join(re.findall('[а-я ]', row))\n",
    "    return new\n",
    "df['first'] = df['first'].apply(az)\n",
    "df['therd'] = df['therd'].apply(az) "
   ]
  },
  {
   "cell_type": "markdown",
   "metadata": {},
   "source": [
    "Создадим списки для разбивки на категории, распределим вручную первые слова по категориям. Разбивку проводила вручную - сначала разбивала \"знакомы слова\" из более мелких категорий, категорию расстений я выделила вычитанием из общего списка распределенных элементов:\n"
   ]
  },
  {
   "cell_type": "code",
   "execution_count": 30,
   "metadata": {},
   "outputs": [],
   "source": [
    "#посуда\n",
    "dishes_1 = ['сковорода', 'стеклянный', 'доска', 'тарелка', 'вилка', 'ложка', 'нож', 'котел', 'кувшин', 'толкушка', 'противень', 'мокружка', 'масленка', 'сервировочный', 'салатник', 'чайный', 'рыбочистка', 'овощеварка', 'терка', 'кружка', 'лопатка', 'салфетница', 'стакан', 'столовый','овощечистка', 'мантоварка', 'кухонный', 'кисточка', 'картофелемялка', 'подставка', 'миска', 'термостакан', 'термокружок', 'термос', 'фарфоровый', 'блюдце', 'бульонница', 'разделочный', 'складной', 'емкость','просеиватель', 'кастрюля', 'форма', 'орехоколка', 'скалка', 'венчик', 'сито', 'тортница', 'блюдо', 'сотейник', 'бидон', 'крышка', 'сахарница', 'половник', 'мерный', 'фужер', 'бокал', 'посуда', 'эмалированный']"
   ]
  },
  {
   "cell_type": "code",
   "execution_count": 31,
   "metadata": {},
   "outputs": [],
   "source": [
    "#хоз.товары\n",
    "household_goods_1 = ['настенный', 'сушилка', 'крючок', 'сумка', 'подкладка', 'дозатор', 'стремянка', 'лестница', 'тележка','стяжка', 'насадка', 'ножеточка', 'сидение', 'корыто', 'измерительный', 'линейка', 'бензин', 'держатель', 'пробка', 'измельчитель', 'термометр', 'шило', 'ковш', 'рассекатель', 'весы', 'пресс','кольцо', 'штангенциркуль', 'фиксатор', 'шпагат', 'отделитель', 'шприц', 'веревка']"
   ]
  },
  {
   "cell_type": "code",
   "execution_count": 32,
   "metadata": {},
   "outputs": [],
   "source": [
    "#бытовая химия, уборка\n",
    "cleaning_1 = ['таз','щетка', 'ерш', 'перчатка', 'гладильный', 'стиральный', 'чистить', 'пена', 'зубной', 'веник', 'швабра', 'ведро', 'мыло', 'сметка', 'паста', 'губка', 'антижир', 'ролик', 'сменный', 'косметь', 'скребок', 'ароматизированный', 'бальзам', 'ополаскиватель', 'сетка', 'вантуз', 'кондиционер', 'гипоаллергенный', 'совок', 'увлажнять', 'концентрат', 'окномойка', 'тряпкодержатель', 'бельевой', 'молодить', 'отжим', 'антинакипин', 'отбеливатель', 'тряпка', 'средство']"
   ]
  },
  {
   "cell_type": "code",
   "execution_count": 33,
   "metadata": {},
   "outputs": [],
   "source": [
    "#текстиль\n",
    "textile_1 = ['коврик', 'плед', 'скатерть', 'ковер', 'простыня', 'штора','подушка', 'полотенце', 'салфетка', 'вкладыш',  'подрукавник', 'подголовник', 'наматрасник', 'наматрицник', 'халат', 'покрывало', 'одеяло', 'махровый', 'нетканый', 'рукав', 'ткань', 'наматрацник', 'наволочка', 'пододеяльник', 'двуспальный', 'постельный']"
   ]
  },
  {
   "cell_type": "code",
   "execution_count": 34,
   "metadata": {},
   "outputs": [],
   "source": [
    "#декор \n",
    "decor_1 = ['муляж', 'искусственный', 'декоративный', 'новогодний', 'мыльница', 'фоторамка', 'ваза']"
   ]
  },
  {
   "cell_type": "code",
   "execution_count": 35,
   "metadata": {},
   "outputs": [],
   "source": [
    "#хранение \n",
    "storage_1 = ['чехол', 'вешалка', 'корзина', 'банка', 'плечики', 'кофр', 'контейнер', 'ящик', 'короб', 'коробка', 'урна', 'лоток', 'комод', 'этажерка', 'полка', 'ключница', 'модульный', 'хлебница', 'штанга', 'бак', 'полк', 'обувница', 'стеллаж', 'корзинка', 'мешок']"
   ]
  },
  {
   "cell_type": "code",
   "execution_count": 36,
   "metadata": {},
   "outputs": [],
   "source": [
    "#ремонт \n",
    "repairs_1 = ['мусорный', 'крепеж', 'пружина', 'петля', 'сверло', 'карниз', 'ванна', 'завертка', 'ручка', 'решетка', 'шпингалет','прецизионный', 'инструмент', 'свереть']"
   ]
  },
  {
   "cell_type": "code",
   "execution_count": 37,
   "metadata": {},
   "outputs": [],
   "source": [
    "#электроприборы\n",
    "electrical_1 = ['чайник', 'миксер', 'светильник', 'утюг', 'шнур', 'фен', 'электроштопор', 'пылесос', 'подвесной', 'соковарка', 'пьезозажигалка', 'соковыжималка', 'вакуумный', 'кипятильник', 'основание']"
   ]
  },
  {
   "cell_type": "code",
   "execution_count": 38,
   "metadata": {},
   "outputs": [],
   "source": [
    "#другое\n",
    "other_1 = ['мини', 'набор', 'готовый', 'комплект', 'кампануть', 'жидкий', 'иссоп', 'настольный', 'средство', 'универсальный', 'жестяной', 'защитный', 'многофункциональный', 'подарочный', 'автоматический', 'покрытие', 'запасный', 'основание']"
   ]
  },
  {
   "cell_type": "code",
   "execution_count": 39,
   "metadata": {},
   "outputs": [],
   "source": [
    "#расстения\n",
    "flower_1 = list(set(x_1) - set(dishes_1) - set(household_goods_1) - set(cleaning_1) - set(textile_1) - set(decor_1) - set(storage_1) - set(repairs_1)-set(electrical_1)-set(other_1))"
   ]
  },
  {
   "cell_type": "markdown",
   "metadata": {},
   "source": [
    "Напишем функцию для категоризации данных:"
   ]
  },
  {
   "cell_type": "code",
   "execution_count": 40,
   "metadata": {},
   "outputs": [],
   "source": [
    "def segment_group(segment):\n",
    "    if segment in dishes_1:\n",
    "        return 'посуда'\n",
    "    if segment in household_goods_1:\n",
    "        return 'хоз.товары'\n",
    "    if segment in cleaning_1:\n",
    "        return 'уборка'\n",
    "    if segment in textile_1:\n",
    "        return 'текстиль'\n",
    "    if segment in decor_1:\n",
    "        return 'декор'\n",
    "    if segment in storage_1:\n",
    "        return 'хранение'\n",
    "    if segment in repairs_1:\n",
    "        return 'ремонт'\n",
    "    if segment in electrical_1:\n",
    "        return 'электроприборы'\n",
    "    if segment in other_1:\n",
    "        return 'другое'\n",
    "    if segment in flower_1:\n",
    "        return 'расстения'\n",
    "    return 'другое'\n"
   ]
  },
  {
   "cell_type": "code",
   "execution_count": 41,
   "metadata": {},
   "outputs": [
    {
     "data": {
      "text/html": [
       "<div>\n",
       "<style scoped>\n",
       "    .dataframe tbody tr th:only-of-type {\n",
       "        vertical-align: middle;\n",
       "    }\n",
       "\n",
       "    .dataframe tbody tr th {\n",
       "        vertical-align: top;\n",
       "    }\n",
       "\n",
       "    .dataframe thead th {\n",
       "        text-align: right;\n",
       "    }\n",
       "</style>\n",
       "<table border=\"1\" class=\"dataframe\">\n",
       "  <thead>\n",
       "    <tr style=\"text-align: right;\">\n",
       "      <th></th>\n",
       "      <th>date</th>\n",
       "      <th>customer_id</th>\n",
       "      <th>order_id</th>\n",
       "      <th>product</th>\n",
       "      <th>quantity</th>\n",
       "      <th>price</th>\n",
       "      <th>order_price</th>\n",
       "      <th>order_month</th>\n",
       "      <th>year</th>\n",
       "      <th>month</th>\n",
       "      <th>week</th>\n",
       "      <th>day</th>\n",
       "      <th>lemmas</th>\n",
       "      <th>first</th>\n",
       "      <th>therd</th>\n",
       "      <th>segment_group</th>\n",
       "    </tr>\n",
       "  </thead>\n",
       "  <tbody>\n",
       "    <tr>\n",
       "      <th>40</th>\n",
       "      <td>2018-10-02 11:00:00</td>\n",
       "      <td>1bc8ad38-3392-4042-8cde-aa5de306c947</td>\n",
       "      <td>68494</td>\n",
       "      <td>муляж томат, оранжевый, 9 см, полиуретан, fanc...</td>\n",
       "      <td>1</td>\n",
       "      <td>104.0</td>\n",
       "      <td>104.0</td>\n",
       "      <td>2018-10-01</td>\n",
       "      <td>2018</td>\n",
       "      <td>10</td>\n",
       "      <td>40</td>\n",
       "      <td>2018-10-02</td>\n",
       "      <td>['муляж', ' ', 'томат', ', ', 'оранжевый', ', ...</td>\n",
       "      <td>муляж</td>\n",
       "      <td>томат</td>\n",
       "      <td>декор</td>\n",
       "    </tr>\n",
       "    <tr>\n",
       "      <th>2159</th>\n",
       "      <td>2019-03-04 15:00:00</td>\n",
       "      <td>0f47231c-3a68-404a-88f7-08a4a172c17f</td>\n",
       "      <td>14559</td>\n",
       "      <td>горох амброзия 10,0 г 4660010772616</td>\n",
       "      <td>1</td>\n",
       "      <td>9.0</td>\n",
       "      <td>9.0</td>\n",
       "      <td>2019-03-01</td>\n",
       "      <td>2019</td>\n",
       "      <td>3</td>\n",
       "      <td>10</td>\n",
       "      <td>2019-03-04</td>\n",
       "      <td>['горох', ' ', 'амброзия', ' ', '10', ',', '0'...</td>\n",
       "      <td>горох</td>\n",
       "      <td>амброзия</td>\n",
       "      <td>расстения</td>\n",
       "    </tr>\n",
       "    <tr>\n",
       "      <th>6642</th>\n",
       "      <td>2019-10-17 12:00:00</td>\n",
       "      <td>87b91327-f408-4329-afdd-c1bd08ee9485</td>\n",
       "      <td>14944</td>\n",
       "      <td>рассада зелени для кухни шпинат в кассете 6 шт</td>\n",
       "      <td>2</td>\n",
       "      <td>116.0</td>\n",
       "      <td>232.0</td>\n",
       "      <td>2019-10-01</td>\n",
       "      <td>2019</td>\n",
       "      <td>10</td>\n",
       "      <td>42</td>\n",
       "      <td>2019-10-17</td>\n",
       "      <td>['рассада', ' ', 'зелень', ' ', 'для', ' ', 'к...</td>\n",
       "      <td>рассада</td>\n",
       "      <td>зелень</td>\n",
       "      <td>расстения</td>\n",
       "    </tr>\n",
       "    <tr>\n",
       "      <th>937</th>\n",
       "      <td>2018-11-23 13:00:00</td>\n",
       "      <td>b45f5679-ee10-4c52-bdd3-cb714961feaf</td>\n",
       "      <td>14509</td>\n",
       "      <td>пеларгония розоцветная ред розебуд молодые рас...</td>\n",
       "      <td>1</td>\n",
       "      <td>150.0</td>\n",
       "      <td>150.0</td>\n",
       "      <td>2018-11-01</td>\n",
       "      <td>2018</td>\n",
       "      <td>11</td>\n",
       "      <td>47</td>\n",
       "      <td>2018-11-23</td>\n",
       "      <td>['пеларгония', ' ', 'розоцветный', ' ', 'ред',...</td>\n",
       "      <td>пеларгония</td>\n",
       "      <td>розоцветный</td>\n",
       "      <td>расстения</td>\n",
       "    </tr>\n",
       "    <tr>\n",
       "      <th>1058</th>\n",
       "      <td>2018-12-02 15:00:00</td>\n",
       "      <td>036118cf-c198-48fa-ba15-6d841482a56d</td>\n",
       "      <td>69176</td>\n",
       "      <td>тарелка суповая воларэ блэк 23 см g9402 luminarc</td>\n",
       "      <td>3</td>\n",
       "      <td>127.0</td>\n",
       "      <td>381.0</td>\n",
       "      <td>2018-12-01</td>\n",
       "      <td>2018</td>\n",
       "      <td>12</td>\n",
       "      <td>48</td>\n",
       "      <td>2018-12-02</td>\n",
       "      <td>['тарелка', ' ', 'суповой', ' ', 'воларэ', ' '...</td>\n",
       "      <td>тарелка</td>\n",
       "      <td>суповой</td>\n",
       "      <td>посуда</td>\n",
       "    </tr>\n",
       "  </tbody>\n",
       "</table>\n",
       "</div>"
      ],
      "text/plain": [
       "                    date                           customer_id  order_id  \\\n",
       "40   2018-10-02 11:00:00  1bc8ad38-3392-4042-8cde-aa5de306c947     68494   \n",
       "2159 2019-03-04 15:00:00  0f47231c-3a68-404a-88f7-08a4a172c17f     14559   \n",
       "6642 2019-10-17 12:00:00  87b91327-f408-4329-afdd-c1bd08ee9485     14944   \n",
       "937  2018-11-23 13:00:00  b45f5679-ee10-4c52-bdd3-cb714961feaf     14509   \n",
       "1058 2018-12-02 15:00:00  036118cf-c198-48fa-ba15-6d841482a56d     69176   \n",
       "\n",
       "                                                product  quantity  price  \\\n",
       "40    муляж томат, оранжевый, 9 см, полиуретан, fanc...         1  104.0   \n",
       "2159                горох амброзия 10,0 г 4660010772616         1    9.0   \n",
       "6642     рассада зелени для кухни шпинат в кассете 6 шт         2  116.0   \n",
       "937   пеларгония розоцветная ред розебуд молодые рас...         1  150.0   \n",
       "1058   тарелка суповая воларэ блэк 23 см g9402 luminarc         3  127.0   \n",
       "\n",
       "      order_price order_month  year  month  week         day  \\\n",
       "40          104.0  2018-10-01  2018     10    40  2018-10-02   \n",
       "2159          9.0  2019-03-01  2019      3    10  2019-03-04   \n",
       "6642        232.0  2019-10-01  2019     10    42  2019-10-17   \n",
       "937         150.0  2018-11-01  2018     11    47  2018-11-23   \n",
       "1058        381.0  2018-12-01  2018     12    48  2018-12-02   \n",
       "\n",
       "                                                 lemmas       first  \\\n",
       "40    ['муляж', ' ', 'томат', ', ', 'оранжевый', ', ...       муляж   \n",
       "2159  ['горох', ' ', 'амброзия', ' ', '10', ',', '0'...       горох   \n",
       "6642  ['рассада', ' ', 'зелень', ' ', 'для', ' ', 'к...     рассада   \n",
       "937   ['пеларгония', ' ', 'розоцветный', ' ', 'ред',...  пеларгония   \n",
       "1058  ['тарелка', ' ', 'суповой', ' ', 'воларэ', ' '...     тарелка   \n",
       "\n",
       "            therd segment_group  \n",
       "40          томат         декор  \n",
       "2159     амброзия     расстения  \n",
       "6642       зелень     расстения  \n",
       "937   розоцветный     расстения  \n",
       "1058      суповой        посуда  "
      ]
     },
     "metadata": {},
     "output_type": "display_data"
    }
   ],
   "source": [
    "df['segment_group'] = df['first'].apply(segment_group) \n",
    "display(df.sample(5))"
   ]
  },
  {
   "cell_type": "code",
   "execution_count": 42,
   "metadata": {},
   "outputs": [
    {
     "data": {
      "text/plain": [
       "расстения         2482\n",
       "хоз.товары         765\n",
       "уборка             334\n",
       "хранение           291\n",
       "текстиль           291\n",
       "декор              265\n",
       "посуда             246\n",
       "другое              75\n",
       "электроприборы      63\n",
       "ремонт              35\n",
       "Name: segment_group, dtype: int64"
      ]
     },
     "execution_count": 42,
     "metadata": {},
     "output_type": "execute_result"
    }
   ],
   "source": [
    "df['segment_group'].value_counts()"
   ]
  },
  {
   "cell_type": "code",
   "execution_count": 43,
   "metadata": {},
   "outputs": [],
   "source": [
    "df['segment_group_1'] = df['therd'].apply(segment_group)"
   ]
  },
  {
   "cell_type": "markdown",
   "metadata": {},
   "source": [
    "Проведем категоризацию по 3-ему слову, тех товаров, которые попали в категорию \"другое\""
   ]
  },
  {
   "cell_type": "code",
   "execution_count": 44,
   "metadata": {},
   "outputs": [],
   "source": [
    "df['segment_group'] = np.where(df['segment_group'] == 'другое', df['segment_group_1'], df['segment_group'])"
   ]
  },
  {
   "cell_type": "code",
   "execution_count": 45,
   "metadata": {},
   "outputs": [
    {
     "data": {
      "text/plain": [
       "расстения         2483\n",
       "хоз.товары         766\n",
       "уборка             338\n",
       "хранение           304\n",
       "текстиль           300\n",
       "посуда             271\n",
       "декор              265\n",
       "электроприборы      63\n",
       "ремонт              39\n",
       "другое              18\n",
       "Name: segment_group, dtype: int64"
      ]
     },
     "execution_count": 45,
     "metadata": {},
     "output_type": "execute_result"
    }
   ],
   "source": [
    "df['segment_group'].value_counts()"
   ]
  },
  {
   "cell_type": "code",
   "execution_count": 46,
   "metadata": {},
   "outputs": [
    {
     "data": {
      "text/html": [
       "<div>\n",
       "<style scoped>\n",
       "    .dataframe tbody tr th:only-of-type {\n",
       "        vertical-align: middle;\n",
       "    }\n",
       "\n",
       "    .dataframe tbody tr th {\n",
       "        vertical-align: top;\n",
       "    }\n",
       "\n",
       "    .dataframe thead th {\n",
       "        text-align: right;\n",
       "    }\n",
       "</style>\n",
       "<table border=\"1\" class=\"dataframe\">\n",
       "  <thead>\n",
       "    <tr style=\"text-align: right;\">\n",
       "      <th></th>\n",
       "      <th>date</th>\n",
       "      <th>customer_id</th>\n",
       "      <th>order_id</th>\n",
       "      <th>product</th>\n",
       "      <th>quantity</th>\n",
       "      <th>price</th>\n",
       "      <th>order_price</th>\n",
       "      <th>order_month</th>\n",
       "      <th>year</th>\n",
       "      <th>month</th>\n",
       "      <th>week</th>\n",
       "      <th>day</th>\n",
       "      <th>lemmas</th>\n",
       "      <th>first</th>\n",
       "      <th>therd</th>\n",
       "      <th>segment_group</th>\n",
       "      <th>segment_group_1</th>\n",
       "    </tr>\n",
       "  </thead>\n",
       "  <tbody>\n",
       "    <tr>\n",
       "      <th>6202</th>\n",
       "      <td>2019-08-27 09:00:00</td>\n",
       "      <td>5956b1f9-6d1b-4731-a38b-ce2434c499bd</td>\n",
       "      <td>72429</td>\n",
       "      <td>покрытие для гладильной доски leifheit reflect...</td>\n",
       "      <td>1</td>\n",
       "      <td>712.0</td>\n",
       "      <td>712.0</td>\n",
       "      <td>2019-08-01</td>\n",
       "      <td>2019</td>\n",
       "      <td>8</td>\n",
       "      <td>35</td>\n",
       "      <td>2019-08-27</td>\n",
       "      <td>['покрытие', ' ', 'для', ' ', 'гладильный', ' ...</td>\n",
       "      <td>покрытие</td>\n",
       "      <td>для</td>\n",
       "      <td>другое</td>\n",
       "      <td>другое</td>\n",
       "    </tr>\n",
       "    <tr>\n",
       "      <th>2076</th>\n",
       "      <td>2019-03-01 08:00:00</td>\n",
       "      <td>c971fb21-d54c-4134-938f-16b62ee86d3b</td>\n",
       "      <td>70523</td>\n",
       "      <td>подарочный набор на 8 марта пеларгония красная...</td>\n",
       "      <td>2</td>\n",
       "      <td>194.0</td>\n",
       "      <td>388.0</td>\n",
       "      <td>2019-03-01</td>\n",
       "      <td>2019</td>\n",
       "      <td>3</td>\n",
       "      <td>9</td>\n",
       "      <td>2019-03-01</td>\n",
       "      <td>['подарочный', ' ', 'набор', ' ', 'на', ' ', '...</td>\n",
       "      <td>подарочный</td>\n",
       "      <td>набор</td>\n",
       "      <td>другое</td>\n",
       "      <td>другое</td>\n",
       "    </tr>\n",
       "    <tr>\n",
       "      <th>1252</th>\n",
       "      <td>2018-12-18 10:00:00</td>\n",
       "      <td>baa2d893-381c-4eca-9edc-a02c2b3ecf4a</td>\n",
       "      <td>69432</td>\n",
       "      <td>защитный экран подставка и дуршлаг webber 3 в ...</td>\n",
       "      <td>1</td>\n",
       "      <td>442.0</td>\n",
       "      <td>442.0</td>\n",
       "      <td>2018-12-01</td>\n",
       "      <td>2018</td>\n",
       "      <td>12</td>\n",
       "      <td>51</td>\n",
       "      <td>2018-12-18</td>\n",
       "      <td>['защитный', ' ', 'экран', ' ', 'подставка', '...</td>\n",
       "      <td>защитный</td>\n",
       "      <td>экран</td>\n",
       "      <td>другое</td>\n",
       "      <td>другое</td>\n",
       "    </tr>\n",
       "    <tr>\n",
       "      <th>2128</th>\n",
       "      <td>2019-03-03 08:00:00</td>\n",
       "      <td>8bf5928c-2fa8-4b4a-9896-aadad9f11295</td>\n",
       "      <td>70556</td>\n",
       "      <td>набор vileda easy wring &amp; clean turbo 151153 в...</td>\n",
       "      <td>1</td>\n",
       "      <td>2924.0</td>\n",
       "      <td>2924.0</td>\n",
       "      <td>2019-03-01</td>\n",
       "      <td>2019</td>\n",
       "      <td>3</td>\n",
       "      <td>9</td>\n",
       "      <td>2019-03-03</td>\n",
       "      <td>['набор', ' ', 'vileda', ' ', 'easy', ' ', 'wr...</td>\n",
       "      <td>набор</td>\n",
       "      <td></td>\n",
       "      <td>другое</td>\n",
       "      <td>другое</td>\n",
       "    </tr>\n",
       "    <tr>\n",
       "      <th>15</th>\n",
       "      <td>2018-10-01 18:00:00</td>\n",
       "      <td>17213b88-1514-47a4-b8aa-ce51378ab34e</td>\n",
       "      <td>68476</td>\n",
       "      <td>мини-сковорода marmiton \"сердце\" с антипригарн...</td>\n",
       "      <td>1</td>\n",
       "      <td>239.0</td>\n",
       "      <td>239.0</td>\n",
       "      <td>2018-10-01</td>\n",
       "      <td>2018</td>\n",
       "      <td>10</td>\n",
       "      <td>40</td>\n",
       "      <td>2018-10-01</td>\n",
       "      <td>['мини', '-', 'сковорода', ' ', 'marmiton', ' ...</td>\n",
       "      <td>мини</td>\n",
       "      <td></td>\n",
       "      <td>другое</td>\n",
       "      <td>другое</td>\n",
       "    </tr>\n",
       "  </tbody>\n",
       "</table>\n",
       "</div>"
      ],
      "text/plain": [
       "                    date                           customer_id  order_id  \\\n",
       "6202 2019-08-27 09:00:00  5956b1f9-6d1b-4731-a38b-ce2434c499bd     72429   \n",
       "2076 2019-03-01 08:00:00  c971fb21-d54c-4134-938f-16b62ee86d3b     70523   \n",
       "1252 2018-12-18 10:00:00  baa2d893-381c-4eca-9edc-a02c2b3ecf4a     69432   \n",
       "2128 2019-03-03 08:00:00  8bf5928c-2fa8-4b4a-9896-aadad9f11295     70556   \n",
       "15   2018-10-01 18:00:00  17213b88-1514-47a4-b8aa-ce51378ab34e     68476   \n",
       "\n",
       "                                                product  quantity   price  \\\n",
       "6202  покрытие для гладильной доски leifheit reflect...         1   712.0   \n",
       "2076  подарочный набор на 8 марта пеларгония красная...         2   194.0   \n",
       "1252  защитный экран подставка и дуршлаг webber 3 в ...         1   442.0   \n",
       "2128  набор vileda easy wring & clean turbo 151153 в...         1  2924.0   \n",
       "15    мини-сковорода marmiton \"сердце\" с антипригарн...         1   239.0   \n",
       "\n",
       "      order_price order_month  year  month  week         day  \\\n",
       "6202        712.0  2019-08-01  2019      8    35  2019-08-27   \n",
       "2076        388.0  2019-03-01  2019      3     9  2019-03-01   \n",
       "1252        442.0  2018-12-01  2018     12    51  2018-12-18   \n",
       "2128       2924.0  2019-03-01  2019      3     9  2019-03-03   \n",
       "15          239.0  2018-10-01  2018     10    40  2018-10-01   \n",
       "\n",
       "                                                 lemmas       first  therd  \\\n",
       "6202  ['покрытие', ' ', 'для', ' ', 'гладильный', ' ...    покрытие    для   \n",
       "2076  ['подарочный', ' ', 'набор', ' ', 'на', ' ', '...  подарочный  набор   \n",
       "1252  ['защитный', ' ', 'экран', ' ', 'подставка', '...    защитный  экран   \n",
       "2128  ['набор', ' ', 'vileda', ' ', 'easy', ' ', 'wr...       набор          \n",
       "15    ['мини', '-', 'сковорода', ' ', 'marmiton', ' ...        мини          \n",
       "\n",
       "     segment_group segment_group_1  \n",
       "6202        другое          другое  \n",
       "2076        другое          другое  \n",
       "1252        другое          другое  \n",
       "2128        другое          другое  \n",
       "15          другое          другое  "
      ]
     },
     "metadata": {},
     "output_type": "display_data"
    }
   ],
   "source": [
    "display(df.query('segment_group in \"другое\"').sample(5))"
   ]
  },
  {
   "cell_type": "code",
   "execution_count": 47,
   "metadata": {},
   "outputs": [
    {
     "data": {
      "text/plain": [
       "подарочный    6\n",
       "покрытие      4\n",
       "защитный      2\n",
       "набор         2\n",
       "комплект      2\n",
       "иссоп         1\n",
       "мини          1\n",
       "Name: first, dtype: int64"
      ]
     },
     "execution_count": 47,
     "metadata": {},
     "output_type": "execute_result"
    }
   ],
   "source": [
    "(df.query('segment_group in \"другое\"')['first']).value_counts()"
   ]
  },
  {
   "cell_type": "markdown",
   "metadata": {},
   "source": [
    "Проверим вручную, какие товары не распределились, вернемся к спискам категорий, и добавим их наименования в них."
   ]
  },
  {
   "cell_type": "code",
   "execution_count": 48,
   "metadata": {},
   "outputs": [],
   "source": [
    "# Здесь я проводила поочередную выборку товаров - вспомогательный код\n",
    "#df.query('(segment_group in \"другое\") & (first in \"набор\" )')"
   ]
  },
  {
   "cell_type": "code",
   "execution_count": 49,
   "metadata": {},
   "outputs": [],
   "source": [
    "df.loc[df['first'] == 'подарочный', 'segment_group'] = 'расстения'\n",
    "df.loc[df['first'] == 'иссоп', 'segment_group'] = 'расстения'\n",
    "df.loc[df['first'] == 'покрытие', 'segment_group'] = 'уборка'\n",
    "df.loc[df['therd'] == 'соль', 'segment_group'] = 'уборка'\n",
    "df.loc[df['first'] == 'защитный', 'segment_group'] = 'посуда'\n",
    "df.loc[df['first'] == 'мини', 'segment_group'] = 'посуда'\n",
    "df.loc[df['first'] == 'комплект', 'segment_group'] = 'уборка'\n",
    "df.loc[(df['first'] == 'набор')&(df['therd'] == 'для'), 'segment_group'] = 'посуда'\n",
    "df.loc[df['first'] == 'набор', 'segment_group'] = 'уборка'"
   ]
  },
  {
   "cell_type": "code",
   "execution_count": 50,
   "metadata": {},
   "outputs": [
    {
     "data": {
      "text/plain": [
       "Series([], Name: first, dtype: int64)"
      ]
     },
     "execution_count": 50,
     "metadata": {},
     "output_type": "execute_result"
    }
   ],
   "source": [
    "(df.query('segment_group in \"другое\"')['first']).value_counts()"
   ]
  },
  {
   "cell_type": "markdown",
   "metadata": {},
   "source": [
    "На данный момент все товары распределены по следующим категориям:"
   ]
  },
  {
   "cell_type": "code",
   "execution_count": 51,
   "metadata": {},
   "outputs": [
    {
     "data": {
      "text/plain": [
       "расстения         2489\n",
       "хоз.товары         766\n",
       "уборка             389\n",
       "хранение           296\n",
       "текстиль           293\n",
       "декор              265\n",
       "посуда             250\n",
       "электроприборы      63\n",
       "ремонт              36\n",
       "Name: segment_group, dtype: int64"
      ]
     },
     "execution_count": 51,
     "metadata": {},
     "output_type": "execute_result"
    }
   ],
   "source": [
    "df['segment_group'].value_counts()"
   ]
  },
  {
   "cell_type": "code",
   "execution_count": 52,
   "metadata": {
    "scrolled": false
   },
   "outputs": [
    {
     "data": {
      "image/png": "[encoded data removed]",
      "text/plain": [
       "<Figure size 864x504 with 1 Axes>"
      ]
     },
     "metadata": {
      "needs_background": "light"
     },
     "output_type": "display_data"
    }
   ],
   "source": [
    "df['segment_group'].value_counts().plot(kind='bar', ylim=0, grid=True, figsize=(12, 7),legend=True, color='green')\n",
    "plt.legend(loc='upper right')\n",
    "plt.tight_layout(pad=0.4, w_pad=0.5, h_pad=1.0)\n",
    "plt.title('Распределение кол-ва транзакций по категориям')\n",
    "plt.xlabel('Категории')\n",
    "plt.ylabel('Кол-во транзакций')\n",
    "plt.show()\n"
   ]
  },
  {
   "cell_type": "markdown",
   "metadata": {},
   "source": [
    "Большиство транзакций относятся к категории \"расстения\", затем \"хоз.товары\". Меньше всего транзакций в разделе \"ремонт\" и \"электроприборы\"."
   ]
  },
  {
   "cell_type": "markdown",
   "metadata": {},
   "source": [
    "\n",
    "    \n",
    "Расчет заказов по категориям\n"
   ]
  },
  {
   "cell_type": "markdown",
   "metadata": {},
   "source": [
    " Найдем количество заказов, количество категорий, в которых покупаются товары и средний чек для каждого клиента:"
   ]
  },
  {
   "cell_type": "code",
   "execution_count": 53,
   "metadata": {},
   "outputs": [],
   "source": [
    "df_customer_id = df.groupby(['customer_id']).agg({'segment_group': 'nunique', 'order_id': 'nunique', 'order_price': 'sum'}).reset_index().sort_values(by='order_id')"
   ]
  },
  {
   "cell_type": "code",
   "execution_count": 54,
   "metadata": {},
   "outputs": [
    {
     "data": {
      "text/html": [
       "<div>\n",
       "<style scoped>\n",
       "    .dataframe tbody tr th:only-of-type {\n",
       "        vertical-align: middle;\n",
       "    }\n",
       "\n",
       "    .dataframe tbody tr th {\n",
       "        vertical-align: top;\n",
       "    }\n",
       "\n",
       "    .dataframe thead th {\n",
       "        text-align: right;\n",
       "    }\n",
       "</style>\n",
       "<table border=\"1\" class=\"dataframe\">\n",
       "  <thead>\n",
       "    <tr style=\"text-align: right;\">\n",
       "      <th></th>\n",
       "      <th>customer_id</th>\n",
       "      <th>segment_group</th>\n",
       "      <th>order_id</th>\n",
       "      <th>order_price</th>\n",
       "      <th>check</th>\n",
       "    </tr>\n",
       "  </thead>\n",
       "  <tbody>\n",
       "    <tr>\n",
       "      <th>0</th>\n",
       "      <td>000d6849-084e-4d9f-ac03-37174eaf60c4</td>\n",
       "      <td>1</td>\n",
       "      <td>1</td>\n",
       "      <td>555.0</td>\n",
       "      <td>555.000000</td>\n",
       "    </tr>\n",
       "    <tr>\n",
       "      <th>1600</th>\n",
       "      <td>ab46eafd-f9d3-4f91-af42-794d675d9c0c</td>\n",
       "      <td>1</td>\n",
       "      <td>1</td>\n",
       "      <td>157.0</td>\n",
       "      <td>157.000000</td>\n",
       "    </tr>\n",
       "    <tr>\n",
       "      <th>1601</th>\n",
       "      <td>ab938608-1b5b-4830-9fc0-dfc649c04b2f</td>\n",
       "      <td>1</td>\n",
       "      <td>1</td>\n",
       "      <td>177.0</td>\n",
       "      <td>177.000000</td>\n",
       "    </tr>\n",
       "    <tr>\n",
       "      <th>1602</th>\n",
       "      <td>abdc17c8-0813-4b05-9e10-1ffc77eea2d8</td>\n",
       "      <td>1</td>\n",
       "      <td>1</td>\n",
       "      <td>413.0</td>\n",
       "      <td>413.000000</td>\n",
       "    </tr>\n",
       "    <tr>\n",
       "      <th>1603</th>\n",
       "      <td>abeada3e-b1b7-48e6-b416-4acf56f24898</td>\n",
       "      <td>1</td>\n",
       "      <td>1</td>\n",
       "      <td>222.0</td>\n",
       "      <td>222.000000</td>\n",
       "    </tr>\n",
       "    <tr>\n",
       "      <th>...</th>\n",
       "      <td>...</td>\n",
       "      <td>...</td>\n",
       "      <td>...</td>\n",
       "      <td>...</td>\n",
       "      <td>...</td>\n",
       "    </tr>\n",
       "    <tr>\n",
       "      <th>17</th>\n",
       "      <td>0184f535-b60a-4914-a982-231e3f615206</td>\n",
       "      <td>1</td>\n",
       "      <td>5</td>\n",
       "      <td>5891.0</td>\n",
       "      <td>1178.200000</td>\n",
       "    </tr>\n",
       "    <tr>\n",
       "      <th>1744</th>\n",
       "      <td>b7b865ab-0735-407f-8d0c-31f74d2806cc</td>\n",
       "      <td>1</td>\n",
       "      <td>7</td>\n",
       "      <td>3779.0</td>\n",
       "      <td>539.857143</td>\n",
       "    </tr>\n",
       "    <tr>\n",
       "      <th>1098</th>\n",
       "      <td>73d1cd35-5e5f-4629-8cf2-3fda829d4e58</td>\n",
       "      <td>5</td>\n",
       "      <td>17</td>\n",
       "      <td>21361.0</td>\n",
       "      <td>1256.529412</td>\n",
       "    </tr>\n",
       "    <tr>\n",
       "      <th>740</th>\n",
       "      <td>4d93d3f6-8b24-403b-a74b-f5173e40d7db</td>\n",
       "      <td>9</td>\n",
       "      <td>35</td>\n",
       "      <td>57278.0</td>\n",
       "      <td>1636.514286</td>\n",
       "    </tr>\n",
       "    <tr>\n",
       "      <th>1912</th>\n",
       "      <td>c971fb21-d54c-4134-938f-16b62ee86d3b</td>\n",
       "      <td>9</td>\n",
       "      <td>126</td>\n",
       "      <td>159508.0</td>\n",
       "      <td>1265.936508</td>\n",
       "    </tr>\n",
       "  </tbody>\n",
       "</table>\n",
       "<p>2447 rows × 5 columns</p>\n",
       "</div>"
      ],
      "text/plain": [
       "                               customer_id  segment_group  order_id  \\\n",
       "0     000d6849-084e-4d9f-ac03-37174eaf60c4              1         1   \n",
       "1600  ab46eafd-f9d3-4f91-af42-794d675d9c0c              1         1   \n",
       "1601  ab938608-1b5b-4830-9fc0-dfc649c04b2f              1         1   \n",
       "1602  abdc17c8-0813-4b05-9e10-1ffc77eea2d8              1         1   \n",
       "1603  abeada3e-b1b7-48e6-b416-4acf56f24898              1         1   \n",
       "...                                    ...            ...       ...   \n",
       "17    0184f535-b60a-4914-a982-231e3f615206              1         5   \n",
       "1744  b7b865ab-0735-407f-8d0c-31f74d2806cc              1         7   \n",
       "1098  73d1cd35-5e5f-4629-8cf2-3fda829d4e58              5        17   \n",
       "740   4d93d3f6-8b24-403b-a74b-f5173e40d7db              9        35   \n",
       "1912  c971fb21-d54c-4134-938f-16b62ee86d3b              9       126   \n",
       "\n",
       "      order_price        check  \n",
       "0           555.0   555.000000  \n",
       "1600        157.0   157.000000  \n",
       "1601        177.0   177.000000  \n",
       "1602        413.0   413.000000  \n",
       "1603        222.0   222.000000  \n",
       "...           ...          ...  \n",
       "17         5891.0  1178.200000  \n",
       "1744       3779.0   539.857143  \n",
       "1098      21361.0  1256.529412  \n",
       "740       57278.0  1636.514286  \n",
       "1912     159508.0  1265.936508  \n",
       "\n",
       "[2447 rows x 5 columns]"
      ]
     },
     "metadata": {},
     "output_type": "display_data"
    }
   ],
   "source": [
    "df_customer_id['check'] = df_customer_id['order_price']/df_customer_id['order_id']\n",
    "display(df_customer_id)\n",
    "#display(df_customer_id.info())"
   ]
  },
  {
   "cell_type": "markdown",
   "metadata": {},
   "source": [
    "Мы получили данные о 2447 клиентах. "
   ]
  },
  {
   "cell_type": "markdown",
   "metadata": {},
   "source": [
    "Присвоим клиентам, покупающим товары только в одной категории соответствующую категорию, а тем, кто покупает в 2-х и более разных категориях укажем категорию - \"разные категории\""
   ]
  },
  {
   "cell_type": "code",
   "execution_count": 55,
   "metadata": {},
   "outputs": [],
   "source": [
    "df_customer_id_1 = df_customer_id.merge(df[['customer_id','segment_group']], on ='customer_id', how='left')"
   ]
  },
  {
   "cell_type": "code",
   "execution_count": 56,
   "metadata": {},
   "outputs": [],
   "source": [
    "df_customer_id_1 = df_customer_id_1.drop_duplicates(['customer_id','segment_group_x'])"
   ]
  },
  {
   "cell_type": "code",
   "execution_count": 57,
   "metadata": {},
   "outputs": [],
   "source": [
    "df_customer_id_1['segment_group_y'] = np.where(df_customer_id_1['segment_group_x'] > 1, \"разные категории\", df_customer_id_1['segment_group_y'])"
   ]
  },
  {
   "cell_type": "code",
   "execution_count": 58,
   "metadata": {},
   "outputs": [
    {
     "data": {
      "text/html": [
       "<div>\n",
       "<style scoped>\n",
       "    .dataframe tbody tr th:only-of-type {\n",
       "        vertical-align: middle;\n",
       "    }\n",
       "\n",
       "    .dataframe tbody tr th {\n",
       "        vertical-align: top;\n",
       "    }\n",
       "\n",
       "    .dataframe thead th {\n",
       "        text-align: right;\n",
       "    }\n",
       "</style>\n",
       "<table border=\"1\" class=\"dataframe\">\n",
       "  <thead>\n",
       "    <tr style=\"text-align: right;\">\n",
       "      <th></th>\n",
       "      <th>customer_id</th>\n",
       "      <th>segment_count</th>\n",
       "      <th>order_id</th>\n",
       "      <th>order_price</th>\n",
       "      <th>check</th>\n",
       "      <th>segment_name</th>\n",
       "    </tr>\n",
       "  </thead>\n",
       "  <tbody>\n",
       "    <tr>\n",
       "      <th>0</th>\n",
       "      <td>000d6849-084e-4d9f-ac03-37174eaf60c4</td>\n",
       "      <td>1</td>\n",
       "      <td>1</td>\n",
       "      <td>555.0</td>\n",
       "      <td>555.000000</td>\n",
       "      <td>расстения</td>\n",
       "    </tr>\n",
       "    <tr>\n",
       "      <th>4</th>\n",
       "      <td>ab46eafd-f9d3-4f91-af42-794d675d9c0c</td>\n",
       "      <td>1</td>\n",
       "      <td>1</td>\n",
       "      <td>157.0</td>\n",
       "      <td>157.000000</td>\n",
       "      <td>ремонт</td>\n",
       "    </tr>\n",
       "    <tr>\n",
       "      <th>5</th>\n",
       "      <td>ab938608-1b5b-4830-9fc0-dfc649c04b2f</td>\n",
       "      <td>1</td>\n",
       "      <td>1</td>\n",
       "      <td>177.0</td>\n",
       "      <td>177.000000</td>\n",
       "      <td>декор</td>\n",
       "    </tr>\n",
       "    <tr>\n",
       "      <th>6</th>\n",
       "      <td>abdc17c8-0813-4b05-9e10-1ffc77eea2d8</td>\n",
       "      <td>1</td>\n",
       "      <td>1</td>\n",
       "      <td>413.0</td>\n",
       "      <td>413.000000</td>\n",
       "      <td>декор</td>\n",
       "    </tr>\n",
       "    <tr>\n",
       "      <th>7</th>\n",
       "      <td>abeada3e-b1b7-48e6-b416-4acf56f24898</td>\n",
       "      <td>1</td>\n",
       "      <td>1</td>\n",
       "      <td>222.0</td>\n",
       "      <td>222.000000</td>\n",
       "      <td>расстения</td>\n",
       "    </tr>\n",
       "    <tr>\n",
       "      <th>...</th>\n",
       "      <td>...</td>\n",
       "      <td>...</td>\n",
       "      <td>...</td>\n",
       "      <td>...</td>\n",
       "      <td>...</td>\n",
       "      <td>...</td>\n",
       "    </tr>\n",
       "    <tr>\n",
       "      <th>4594</th>\n",
       "      <td>0184f535-b60a-4914-a982-231e3f615206</td>\n",
       "      <td>1</td>\n",
       "      <td>5</td>\n",
       "      <td>5891.0</td>\n",
       "      <td>1178.200000</td>\n",
       "      <td>расстения</td>\n",
       "    </tr>\n",
       "    <tr>\n",
       "      <th>4624</th>\n",
       "      <td>b7b865ab-0735-407f-8d0c-31f74d2806cc</td>\n",
       "      <td>1</td>\n",
       "      <td>7</td>\n",
       "      <td>3779.0</td>\n",
       "      <td>539.857143</td>\n",
       "      <td>расстения</td>\n",
       "    </tr>\n",
       "    <tr>\n",
       "      <th>4642</th>\n",
       "      <td>73d1cd35-5e5f-4629-8cf2-3fda829d4e58</td>\n",
       "      <td>5</td>\n",
       "      <td>17</td>\n",
       "      <td>21361.0</td>\n",
       "      <td>1256.529412</td>\n",
       "      <td>разные категории</td>\n",
       "    </tr>\n",
       "    <tr>\n",
       "      <th>4659</th>\n",
       "      <td>4d93d3f6-8b24-403b-a74b-f5173e40d7db</td>\n",
       "      <td>9</td>\n",
       "      <td>35</td>\n",
       "      <td>57278.0</td>\n",
       "      <td>1636.514286</td>\n",
       "      <td>разные категории</td>\n",
       "    </tr>\n",
       "    <tr>\n",
       "      <th>4704</th>\n",
       "      <td>c971fb21-d54c-4134-938f-16b62ee86d3b</td>\n",
       "      <td>9</td>\n",
       "      <td>126</td>\n",
       "      <td>159508.0</td>\n",
       "      <td>1265.936508</td>\n",
       "      <td>разные категории</td>\n",
       "    </tr>\n",
       "  </tbody>\n",
       "</table>\n",
       "<p>2447 rows × 6 columns</p>\n",
       "</div>"
      ],
      "text/plain": [
       "                               customer_id  segment_count  order_id  \\\n",
       "0     000d6849-084e-4d9f-ac03-37174eaf60c4              1         1   \n",
       "4     ab46eafd-f9d3-4f91-af42-794d675d9c0c              1         1   \n",
       "5     ab938608-1b5b-4830-9fc0-dfc649c04b2f              1         1   \n",
       "6     abdc17c8-0813-4b05-9e10-1ffc77eea2d8              1         1   \n",
       "7     abeada3e-b1b7-48e6-b416-4acf56f24898              1         1   \n",
       "...                                    ...            ...       ...   \n",
       "4594  0184f535-b60a-4914-a982-231e3f615206              1         5   \n",
       "4624  b7b865ab-0735-407f-8d0c-31f74d2806cc              1         7   \n",
       "4642  73d1cd35-5e5f-4629-8cf2-3fda829d4e58              5        17   \n",
       "4659  4d93d3f6-8b24-403b-a74b-f5173e40d7db              9        35   \n",
       "4704  c971fb21-d54c-4134-938f-16b62ee86d3b              9       126   \n",
       "\n",
       "      order_price        check      segment_name  \n",
       "0           555.0   555.000000         расстения  \n",
       "4           157.0   157.000000            ремонт  \n",
       "5           177.0   177.000000             декор  \n",
       "6           413.0   413.000000             декор  \n",
       "7           222.0   222.000000         расстения  \n",
       "...           ...          ...               ...  \n",
       "4594       5891.0  1178.200000         расстения  \n",
       "4624       3779.0   539.857143         расстения  \n",
       "4642      21361.0  1256.529412  разные категории  \n",
       "4659      57278.0  1636.514286  разные категории  \n",
       "4704     159508.0  1265.936508  разные категории  \n",
       "\n",
       "[2447 rows x 6 columns]"
      ]
     },
     "metadata": {},
     "output_type": "display_data"
    }
   ],
   "source": [
    "df_customer_id_1 = df_customer_id_1.rename(columns={'segment_group_x':'segment_count', 'segment_group_y':'segment_name'})\n",
    "display(df_customer_id_1)"
   ]
  },
  {
   "cell_type": "markdown",
   "metadata": {},
   "source": [
    "В данном разделе мы выявили аномалии, и удалили их из базы данных. Также мы провели сигментацию пользователей, в ходе которой выявили, что большинство транзакций пренадлежит категории \"расстения\". Изучим подробнее пользователей, с точки зрения их разбивки на категории - для этого подготовлена база данных df_customer_id_1 с информацией о пользователе, количестве заказов, сумме заказов, среднем чеке, категориях покупаемых товаров.\n"
   ]
  },
  {
   "cell_type": "markdown",
   "metadata": {},
   "source": [
    "### Анализ пользователей после сегментации  <a id=\"seg\"></a>"
   ]
  },
  {
   "cell_type": "markdown",
   "metadata": {},
   "source": [
    "Построим графики распределений покупок и сумм транзакций по категориям:"
   ]
  },
  {
   "cell_type": "code",
   "execution_count": 59,
   "metadata": {},
   "outputs": [],
   "source": [
    "df_sum = df.pivot_table(index= 'order_month', columns='segment_group', values='order_price', aggfunc='sum').reset_index()"
   ]
  },
  {
   "cell_type": "code",
   "execution_count": 60,
   "metadata": {},
   "outputs": [],
   "source": [
    "df_count = df.pivot_table(index= 'order_month', columns='segment_group', values='order_id', aggfunc='count').reset_index()"
   ]
  },
  {
   "cell_type": "code",
   "execution_count": 61,
   "metadata": {},
   "outputs": [
    {
     "data": {
      "image/png": "[encoded data removed]",
      "text/plain": [
       "<Figure size 1080x720 with 1 Axes>"
      ]
     },
     "metadata": {
      "needs_background": "light"
     },
     "output_type": "display_data"
    }
   ],
   "source": [
    "df_sum.plot(kind='bar', x='order_month', ylim=0, grid=True, figsize=(15, 10),legend=False)\n",
    "plt.legend(loc='upper right')\n",
    "plt.tight_layout(pad=0.4, w_pad=0.5, h_pad=1.0)\n",
    "plt.title('Суммы покупок по категориям за данный период')\n",
    "plt.xlabel('Месяц и год покупки')\n",
    "plt.ylabel('Сумма')\n",
    "plt.show()"
   ]
  },
  {
   "cell_type": "code",
   "execution_count": 62,
   "metadata": {},
   "outputs": [
    {
     "data": {
      "image/png": "[encoded data removed]",
      "text/plain": [
       "<Figure size 1080x720 with 1 Axes>"
      ]
     },
     "metadata": {
      "needs_background": "light"
     },
     "output_type": "display_data"
    }
   ],
   "source": [
    "df_count.plot(kind='bar', x='order_month', ylim=0, grid=True, figsize=(15, 10),legend=False)\n",
    "plt.legend(loc='upper right')\n",
    "plt.tight_layout(pad=0.4, w_pad=0.5, h_pad=1.0)\n",
    "plt.title('Количество транзакций по категориям за данный период')\n",
    "plt.xlabel('Месяц и год покупки')\n",
    "plt.ylabel('Количество транзакций')\n",
    "plt.show()"
   ]
  },
  {
   "cell_type": "markdown",
   "metadata": {},
   "source": [
    "У некоторых категорий прослеживается сезонность:\n",
    "\n",
    "\"расстения\" - стабильный рост количества транзакций наблюдается с февраля по июнь - время дачного сезона. Стоимость покупок пропорционально растет. С июля резко снижается, и до февраля нет значительных изменений.\n",
    "\n",
    "\"хоз.товары\" - в течении года, по количеству транзакций данная категория стабильна, суммы покупок в большинстве месяцев году значительно выше других категорий. Единственный значительный скачок в стоимости наблюдается в декабре 2018 года.\n",
    "\n",
    "\"уборка\" - самые крупные транзакции и по количеству и по сумме приходятся на период с октября по декабрь 2018года.\n",
    "\n",
    "Остальные категории не отличаются яркой сезонностью."
   ]
  },
  {
   "cell_type": "code",
   "execution_count": 63,
   "metadata": {},
   "outputs": [
    {
     "data": {
      "image/png": "[encoded data removed]",
      "text/plain": [
       "<Figure size 432x432 with 1 Axes>"
      ]
     },
     "metadata": {},
     "output_type": "display_data"
    }
   ],
   "source": [
    "df.pivot_table(index='segment_group', values='order_price', aggfunc='sum').plot(kind='pie', y='order_price', x='segment_group', autopct='%1.1f%%',figsize=(6, 6), legend=False)\n",
    "plt.tight_layout(pad=0.4, w_pad=0.5, h_pad=1.0)\n",
    "plt.title('Суммарная стоимость транзакций по категориям')\n",
    "plt.show()"
   ]
  },
  {
   "cell_type": "code",
   "execution_count": 64,
   "metadata": {},
   "outputs": [
    {
     "data": {
      "image/png": "[encoded data removed]",
      "text/plain": [
       "<Figure size 432x432 with 1 Axes>"
      ]
     },
     "metadata": {},
     "output_type": "display_data"
    }
   ],
   "source": [
    "df.pivot_table(index='segment_group', values='order_id', aggfunc='count').plot(kind='pie', y='order_id', x='segment_group', autopct='%1.1f%%',figsize=(6, 6), legend=False)\n",
    "plt.tight_layout(pad=0.4, w_pad=0.5, h_pad=1.0)\n",
    "plt.title('Количество транзакций по категориям')\n",
    "plt.show()"
   ]
  },
  {
   "cell_type": "markdown",
   "metadata": {},
   "source": [
    "Не смотря на то, что большиство транзакций - 51,4% сосредоточены в категории \"расстения\", в сумме стоимость заказов около 14,6%. Тогда, как сумма стоимости заказов категории \"хоз. товары\" 35,5% при доле транзакций 15,8%."
   ]
  },
  {
   "cell_type": "markdown",
   "metadata": {},
   "source": [
    "Рассчитаем следующие показатели:\n",
    "* DAU (от англ. daily active users) — количество уникальных пользователей в день;\n",
    "* WAU (от англ. weekly active users) — количество уникальных пользователей в неделю;\n",
    "* MAU (от англ. monthly active users) — количество уникальных пользователей в месяц."
   ]
  },
  {
   "cell_type": "code",
   "execution_count": 65,
   "metadata": {},
   "outputs": [
    {
     "name": "stdout",
     "output_type": "stream",
     "text": [
      "Количество уникальных пользователей в день: 6\n",
      "Количество уникальных пользователей в неделю: 44\n",
      "Количество уникальных пользователей в месяц: 191\n"
     ]
    }
   ],
   "source": [
    "dau_total = df.groupby('day').agg({'customer_id': 'nunique'}).mean()\n",
    "wau_total = df.groupby(['year', 'week']).agg({'customer_id': 'nunique'}).mean()\n",
    "mau_total = df.groupby(['year', 'month']).agg({'customer_id': 'nunique'}).mean()\n",
    "print('Количество уникальных пользователей в день:', int(dau_total))\n",
    "print('Количество уникальных пользователей в неделю:', int(wau_total)) \n",
    "print('Количество уникальных пользователей в месяц:', int(mau_total)) "
   ]
  },
  {
   "cell_type": "markdown",
   "metadata": {},
   "source": [
    "Проверим, как ежемесячно менялся MAU:"
   ]
  },
  {
   "cell_type": "code",
   "execution_count": 66,
   "metadata": {},
   "outputs": [
    {
     "name": "stdout",
     "output_type": "stream",
     "text": [
      "AxesSubplot(0.125,0.125;0.775x0.755)\n"
     ]
    },
    {
     "data": {
      "image/png": "[encoded data removed]",
      "text/plain": [
       "<Figure size 432x288 with 1 Axes>"
      ]
     },
     "metadata": {
      "needs_background": "light"
     },
     "output_type": "display_data"
    }
   ],
   "source": [
    "print(df.groupby(['year', 'month']).agg({'customer_id': 'nunique'}).plot(style='o-', legend = True))\n",
    "plt.title('Кол-во уникальных пользователей за месяц')\n",
    "plt.xlabel('Месяц')\n",
    "plt.ylabel('Количество пользователей')\n",
    "plt.grid(axis='y', alpha=0.75)\n",
    "plt.show()"
   ]
  },
  {
   "cell_type": "markdown",
   "metadata": {},
   "source": [
    "Ежедневно в среднем интернет-магазином пользуется 6 пользователей в день (44 в месяц и 191 в год). Большинство заказов уникальных пользователей приходится на 12.2018, 02.2019, 03.2019, 04.2019. Минимальное количество пользователей зафиксировано 01.2019 и 06.2019. Скорее всего это обуславливается сезонность представленных товаров."
   ]
  },
  {
   "cell_type": "markdown",
   "metadata": {},
   "source": [
    "Найдем средний чек:"
   ]
  },
  {
   "cell_type": "code",
   "execution_count": 67,
   "metadata": {},
   "outputs": [
    {
     "data": {
      "text/html": [
       "<div>\n",
       "<style scoped>\n",
       "    .dataframe tbody tr th:only-of-type {\n",
       "        vertical-align: middle;\n",
       "    }\n",
       "\n",
       "    .dataframe tbody tr th {\n",
       "        vertical-align: top;\n",
       "    }\n",
       "\n",
       "    .dataframe thead tr th {\n",
       "        text-align: left;\n",
       "    }\n",
       "\n",
       "    .dataframe thead tr:last-of-type th {\n",
       "        text-align: right;\n",
       "    }\n",
       "</style>\n",
       "<table border=\"1\" class=\"dataframe\">\n",
       "  <thead>\n",
       "    <tr>\n",
       "      <th></th>\n",
       "      <th>order_price</th>\n",
       "    </tr>\n",
       "    <tr>\n",
       "      <th></th>\n",
       "      <th>mean</th>\n",
       "    </tr>\n",
       "    <tr>\n",
       "      <th>segment_group</th>\n",
       "      <th></th>\n",
       "    </tr>\n",
       "  </thead>\n",
       "  <tbody>\n",
       "    <tr>\n",
       "      <th>декор</th>\n",
       "      <td>439.679245</td>\n",
       "    </tr>\n",
       "    <tr>\n",
       "      <th>посуда</th>\n",
       "      <td>644.656000</td>\n",
       "    </tr>\n",
       "    <tr>\n",
       "      <th>расстения</th>\n",
       "      <td>198.018080</td>\n",
       "    </tr>\n",
       "    <tr>\n",
       "      <th>ремонт</th>\n",
       "      <td>1551.611111</td>\n",
       "    </tr>\n",
       "    <tr>\n",
       "      <th>текстиль</th>\n",
       "      <td>1565.170648</td>\n",
       "    </tr>\n",
       "    <tr>\n",
       "      <th>уборка</th>\n",
       "      <td>1293.920308</td>\n",
       "    </tr>\n",
       "    <tr>\n",
       "      <th>хоз.товары</th>\n",
       "      <td>1569.344648</td>\n",
       "    </tr>\n",
       "    <tr>\n",
       "      <th>хранение</th>\n",
       "      <td>1146.307432</td>\n",
       "    </tr>\n",
       "    <tr>\n",
       "      <th>электроприборы</th>\n",
       "      <td>878.095238</td>\n",
       "    </tr>\n",
       "  </tbody>\n",
       "</table>\n",
       "</div>"
      ],
      "text/plain": [
       "                order_price\n",
       "                       mean\n",
       "segment_group              \n",
       "декор            439.679245\n",
       "посуда           644.656000\n",
       "расстения        198.018080\n",
       "ремонт          1551.611111\n",
       "текстиль        1565.170648\n",
       "уборка          1293.920308\n",
       "хоз.товары      1569.344648\n",
       "хранение        1146.307432\n",
       "электроприборы   878.095238"
      ]
     },
     "metadata": {},
     "output_type": "display_data"
    },
    {
     "name": "stdout",
     "output_type": "stream",
     "text": [
      "\n",
      "Cредний чек магазина:  1031\n"
     ]
    }
   ],
   "source": [
    "orders_check = df.groupby(['segment_group']).agg({'order_price': ['mean']})\n",
    "display(orders_check)\n",
    "print()\n",
    "print('Cредний чек магазина: ', int(orders_check.mean()))"
   ]
  },
  {
   "cell_type": "code",
   "execution_count": 68,
   "metadata": {},
   "outputs": [
    {
     "data": {
      "image/png": "[encoded data removed]",
      "text/plain": [
       "<Figure size 864x504 with 1 Axes>"
      ]
     },
     "metadata": {
      "needs_background": "light"
     },
     "output_type": "display_data"
    }
   ],
   "source": [
    "orders_check.plot(kind='barh', ylim=0, grid=True, figsize=(12, 7),legend=False)\n",
    "plt.legend(loc='upper right')\n",
    "plt.tight_layout(pad=0.4, w_pad=0.5, h_pad=1.0)\n",
    "plt.title('Величина среднего чека по категориям')\n",
    "plt.xlabel('Средний чек')\n",
    "plt.ylabel('Категории')\n",
    "plt.show()"
   ]
  },
  {
   "cell_type": "code",
   "execution_count": 69,
   "metadata": {
    "scrolled": true
   },
   "outputs": [
    {
     "data": {
      "image/png": "[encoded data removed]",
      "text/plain": [
       "<Figure size 1080x720 with 1 Axes>"
      ]
     },
     "metadata": {
      "needs_background": "light"
     },
     "output_type": "display_data"
    }
   ],
   "source": [
    "df_check = df.pivot_table(index= 'order_month', columns='segment_group', values='order_price', aggfunc='mean').reset_index()\n",
    "\n",
    "df_check.plot(kind='bar', x='order_month', ylim=0, grid=True, figsize=(15, 10),legend=False)\n",
    "plt.legend(loc='upper right')\n",
    "plt.tight_layout(pad=0.4, w_pad=0.5, h_pad=1.0)\n",
    "plt.title('Средний чек по категориям за данный период')\n",
    "plt.xlabel('Месяц и год покупки')\n",
    "plt.ylabel('Средний чек')\n",
    "plt.show()"
   ]
  },
  {
   "cell_type": "markdown",
   "metadata": {},
   "source": [
    "Самые высокии средние чеки у категорий товаров: хоз.товары, текстиль и ремонт более 1500 руб. Самый низкий средний чек у категории расстения - 198 руб, при том, что товары этой категории покупают чаще всего.\n",
    "\n",
    "\n",
    "В феврале 2019 года наблюдается самый высокий средний чек, среди всех категорий за все периоды - т.к. эта категория малочисленна и покупок за месяц крайне мало, рано говорить о какой-либо сезонности, это больше похоже на случайность. \n",
    "\n",
    "\n",
    "В январе и апреле 2019 средний чек категории \"текстиль\" практически больше в 2 раза чем в другие месяца. Возможно это является сезонными колебаниями, связанные с подготовкой к туристическому сезону домов отдыха. Для проверки требуется проанализировать данные еще за 1 год."
   ]
  },
  {
   "cell_type": "markdown",
   "metadata": {},
   "source": [
    "\n",
    "Графики и анализ пользователей по категориям:\n"
   ]
  },
  {
   "cell_type": "markdown",
   "metadata": {},
   "source": [
    "Рассмотрим пользователей в разрезе категорий покупаемых ими товаров:"
   ]
  },
  {
   "cell_type": "code",
   "execution_count": 70,
   "metadata": {},
   "outputs": [
    {
     "data": {
      "text/html": [
       "<div>\n",
       "<style scoped>\n",
       "    .dataframe tbody tr th:only-of-type {\n",
       "        vertical-align: middle;\n",
       "    }\n",
       "\n",
       "    .dataframe tbody tr th {\n",
       "        vertical-align: top;\n",
       "    }\n",
       "\n",
       "    .dataframe thead th {\n",
       "        text-align: right;\n",
       "    }\n",
       "</style>\n",
       "<table border=\"1\" class=\"dataframe\">\n",
       "  <thead>\n",
       "    <tr style=\"text-align: right;\">\n",
       "      <th></th>\n",
       "      <th>customer_id</th>\n",
       "      <th>segment_count</th>\n",
       "      <th>order_id</th>\n",
       "      <th>order_price</th>\n",
       "      <th>check</th>\n",
       "      <th>segment_name</th>\n",
       "    </tr>\n",
       "  </thead>\n",
       "  <tbody>\n",
       "    <tr>\n",
       "      <th>0</th>\n",
       "      <td>000d6849-084e-4d9f-ac03-37174eaf60c4</td>\n",
       "      <td>1</td>\n",
       "      <td>1</td>\n",
       "      <td>555.0</td>\n",
       "      <td>555.000000</td>\n",
       "      <td>расстения</td>\n",
       "    </tr>\n",
       "    <tr>\n",
       "      <th>4</th>\n",
       "      <td>ab46eafd-f9d3-4f91-af42-794d675d9c0c</td>\n",
       "      <td>1</td>\n",
       "      <td>1</td>\n",
       "      <td>157.0</td>\n",
       "      <td>157.000000</td>\n",
       "      <td>ремонт</td>\n",
       "    </tr>\n",
       "    <tr>\n",
       "      <th>5</th>\n",
       "      <td>ab938608-1b5b-4830-9fc0-dfc649c04b2f</td>\n",
       "      <td>1</td>\n",
       "      <td>1</td>\n",
       "      <td>177.0</td>\n",
       "      <td>177.000000</td>\n",
       "      <td>декор</td>\n",
       "    </tr>\n",
       "    <tr>\n",
       "      <th>6</th>\n",
       "      <td>abdc17c8-0813-4b05-9e10-1ffc77eea2d8</td>\n",
       "      <td>1</td>\n",
       "      <td>1</td>\n",
       "      <td>413.0</td>\n",
       "      <td>413.000000</td>\n",
       "      <td>декор</td>\n",
       "    </tr>\n",
       "    <tr>\n",
       "      <th>7</th>\n",
       "      <td>abeada3e-b1b7-48e6-b416-4acf56f24898</td>\n",
       "      <td>1</td>\n",
       "      <td>1</td>\n",
       "      <td>222.0</td>\n",
       "      <td>222.000000</td>\n",
       "      <td>расстения</td>\n",
       "    </tr>\n",
       "    <tr>\n",
       "      <th>...</th>\n",
       "      <td>...</td>\n",
       "      <td>...</td>\n",
       "      <td>...</td>\n",
       "      <td>...</td>\n",
       "      <td>...</td>\n",
       "      <td>...</td>\n",
       "    </tr>\n",
       "    <tr>\n",
       "      <th>4594</th>\n",
       "      <td>0184f535-b60a-4914-a982-231e3f615206</td>\n",
       "      <td>1</td>\n",
       "      <td>5</td>\n",
       "      <td>5891.0</td>\n",
       "      <td>1178.200000</td>\n",
       "      <td>расстения</td>\n",
       "    </tr>\n",
       "    <tr>\n",
       "      <th>4624</th>\n",
       "      <td>b7b865ab-0735-407f-8d0c-31f74d2806cc</td>\n",
       "      <td>1</td>\n",
       "      <td>7</td>\n",
       "      <td>3779.0</td>\n",
       "      <td>539.857143</td>\n",
       "      <td>расстения</td>\n",
       "    </tr>\n",
       "    <tr>\n",
       "      <th>4642</th>\n",
       "      <td>73d1cd35-5e5f-4629-8cf2-3fda829d4e58</td>\n",
       "      <td>5</td>\n",
       "      <td>17</td>\n",
       "      <td>21361.0</td>\n",
       "      <td>1256.529412</td>\n",
       "      <td>разные категории</td>\n",
       "    </tr>\n",
       "    <tr>\n",
       "      <th>4659</th>\n",
       "      <td>4d93d3f6-8b24-403b-a74b-f5173e40d7db</td>\n",
       "      <td>9</td>\n",
       "      <td>35</td>\n",
       "      <td>57278.0</td>\n",
       "      <td>1636.514286</td>\n",
       "      <td>разные категории</td>\n",
       "    </tr>\n",
       "    <tr>\n",
       "      <th>4704</th>\n",
       "      <td>c971fb21-d54c-4134-938f-16b62ee86d3b</td>\n",
       "      <td>9</td>\n",
       "      <td>126</td>\n",
       "      <td>159508.0</td>\n",
       "      <td>1265.936508</td>\n",
       "      <td>разные категории</td>\n",
       "    </tr>\n",
       "  </tbody>\n",
       "</table>\n",
       "<p>2447 rows × 6 columns</p>\n",
       "</div>"
      ],
      "text/plain": [
       "                               customer_id  segment_count  order_id  \\\n",
       "0     000d6849-084e-4d9f-ac03-37174eaf60c4              1         1   \n",
       "4     ab46eafd-f9d3-4f91-af42-794d675d9c0c              1         1   \n",
       "5     ab938608-1b5b-4830-9fc0-dfc649c04b2f              1         1   \n",
       "6     abdc17c8-0813-4b05-9e10-1ffc77eea2d8              1         1   \n",
       "7     abeada3e-b1b7-48e6-b416-4acf56f24898              1         1   \n",
       "...                                    ...            ...       ...   \n",
       "4594  0184f535-b60a-4914-a982-231e3f615206              1         5   \n",
       "4624  b7b865ab-0735-407f-8d0c-31f74d2806cc              1         7   \n",
       "4642  73d1cd35-5e5f-4629-8cf2-3fda829d4e58              5        17   \n",
       "4659  4d93d3f6-8b24-403b-a74b-f5173e40d7db              9        35   \n",
       "4704  c971fb21-d54c-4134-938f-16b62ee86d3b              9       126   \n",
       "\n",
       "      order_price        check      segment_name  \n",
       "0           555.0   555.000000         расстения  \n",
       "4           157.0   157.000000            ремонт  \n",
       "5           177.0   177.000000             декор  \n",
       "6           413.0   413.000000             декор  \n",
       "7           222.0   222.000000         расстения  \n",
       "...           ...          ...               ...  \n",
       "4594       5891.0  1178.200000         расстения  \n",
       "4624       3779.0   539.857143         расстения  \n",
       "4642      21361.0  1256.529412  разные категории  \n",
       "4659      57278.0  1636.514286  разные категории  \n",
       "4704     159508.0  1265.936508  разные категории  \n",
       "\n",
       "[2447 rows x 6 columns]"
      ]
     },
     "metadata": {},
     "output_type": "display_data"
    }
   ],
   "source": [
    "display(df_customer_id_1)"
   ]
  },
  {
   "cell_type": "code",
   "execution_count": 71,
   "metadata": {},
   "outputs": [
    {
     "data": {
      "image/png": "[encoded data removed]",
      "text/plain": [
       "<Figure size 1080x720 with 1 Axes>"
      ]
     },
     "metadata": {
      "needs_background": "light"
     },
     "output_type": "display_data"
    }
   ],
   "source": [
    "df_customer_id_1_count = df_customer_id_1.pivot_table(index= 'segment_name', values='customer_id', aggfunc='count').reset_index()\n",
    "df_customer_id_1_count.plot(kind='bar', x='segment_name', ylim=0, grid=True, figsize=(15, 10),legend=False)\n",
    "plt.legend(loc='upper right')\n",
    "plt.tight_layout(pad=0.4, w_pad=0.5, h_pad=1.0)\n",
    "plt.title('Количество покупателей, совершающих покупки по категориям')\n",
    "plt.xlabel('Категории')\n",
    "plt.ylabel('Количество покупателей')\n",
    "plt.show()"
   ]
  },
  {
   "cell_type": "code",
   "execution_count": 72,
   "metadata": {},
   "outputs": [
    {
     "data": {
      "text/html": [
       "<div>\n",
       "<style scoped>\n",
       "    .dataframe tbody tr th:only-of-type {\n",
       "        vertical-align: middle;\n",
       "    }\n",
       "\n",
       "    .dataframe tbody tr th {\n",
       "        vertical-align: top;\n",
       "    }\n",
       "\n",
       "    .dataframe thead th {\n",
       "        text-align: right;\n",
       "    }\n",
       "</style>\n",
       "<table border=\"1\" class=\"dataframe\">\n",
       "  <thead>\n",
       "    <tr style=\"text-align: right;\">\n",
       "      <th></th>\n",
       "      <th>segment_name</th>\n",
       "      <th>customer_id</th>\n",
       "    </tr>\n",
       "  </thead>\n",
       "  <tbody>\n",
       "    <tr>\n",
       "      <th>3</th>\n",
       "      <td>расстения</td>\n",
       "      <td>643</td>\n",
       "    </tr>\n",
       "    <tr>\n",
       "      <th>7</th>\n",
       "      <td>хоз.товары</td>\n",
       "      <td>620</td>\n",
       "    </tr>\n",
       "    <tr>\n",
       "      <th>6</th>\n",
       "      <td>уборка</td>\n",
       "      <td>264</td>\n",
       "    </tr>\n",
       "    <tr>\n",
       "      <th>5</th>\n",
       "      <td>текстиль</td>\n",
       "      <td>217</td>\n",
       "    </tr>\n",
       "    <tr>\n",
       "      <th>8</th>\n",
       "      <td>хранение</td>\n",
       "      <td>216</td>\n",
       "    </tr>\n",
       "    <tr>\n",
       "      <th>1</th>\n",
       "      <td>посуда</td>\n",
       "      <td>178</td>\n",
       "    </tr>\n",
       "    <tr>\n",
       "      <th>0</th>\n",
       "      <td>декор</td>\n",
       "      <td>167</td>\n",
       "    </tr>\n",
       "    <tr>\n",
       "      <th>2</th>\n",
       "      <td>разные категории</td>\n",
       "      <td>86</td>\n",
       "    </tr>\n",
       "    <tr>\n",
       "      <th>9</th>\n",
       "      <td>электроприборы</td>\n",
       "      <td>29</td>\n",
       "    </tr>\n",
       "    <tr>\n",
       "      <th>4</th>\n",
       "      <td>ремонт</td>\n",
       "      <td>27</td>\n",
       "    </tr>\n",
       "  </tbody>\n",
       "</table>\n",
       "</div>"
      ],
      "text/plain": [
       "       segment_name  customer_id\n",
       "3         расстения          643\n",
       "7        хоз.товары          620\n",
       "6            уборка          264\n",
       "5          текстиль          217\n",
       "8          хранение          216\n",
       "1            посуда          178\n",
       "0             декор          167\n",
       "2  разные категории           86\n",
       "9    электроприборы           29\n",
       "4            ремонт           27"
      ]
     },
     "metadata": {},
     "output_type": "display_data"
    }
   ],
   "source": [
    "display(df_customer_id_1_count.sort_values(by = 'customer_id', ascending = False))"
   ]
  },
  {
   "cell_type": "code",
   "execution_count": 73,
   "metadata": {},
   "outputs": [
    {
     "data": {
      "image/png": "[encoded data removed]",
      "text/plain": [
       "<Figure size 432x432 with 1 Axes>"
      ]
     },
     "metadata": {},
     "output_type": "display_data"
    }
   ],
   "source": [
    "df_customer_id_1.pivot_table(index='segment_name', values='customer_id', aggfunc='count').plot(kind='pie', y='customer_id', x='segment_name', autopct='%1.1f%%',figsize=(6, 6), legend=False)\n",
    "plt.tight_layout(pad=0.4, w_pad=0.5, h_pad=1.0)\n",
    "plt.title('Количество покупателей по категориям')\n",
    "plt.show()"
   ]
  },
  {
   "cell_type": "markdown",
   "metadata": {},
   "source": [
    "Большинство пользователей (более 600 по каждой из категорий) покупают товар в 2-х категориях: расстения и хоз.товары. Чуть меньше 100 пользователей покупают товары в 2-х или более категориях."
   ]
  },
  {
   "cell_type": "code",
   "execution_count": 74,
   "metadata": {},
   "outputs": [
    {
     "data": {
      "image/png": "[encoded data removed]",
      "text/plain": [
       "<Figure size 1080x720 with 1 Axes>"
      ]
     },
     "metadata": {
      "needs_background": "light"
     },
     "output_type": "display_data"
    }
   ],
   "source": [
    "df_customer_id_1_check = df_customer_id_1.pivot_table(index= 'segment_name', values='check', aggfunc='mean').reset_index()\n",
    "df_customer_id_1_check.plot(kind='bar', x='segment_name', ylim=0, grid=True, figsize=(15, 10),legend=False)\n",
    "plt.legend(loc='upper right')\n",
    "plt.tight_layout(pad=0.4, w_pad=0.5, h_pad=1.0)\n",
    "plt.title('Средний чек покупателей, совершающих покупки по категориям')\n",
    "plt.xlabel('Категории')\n",
    "plt.ylabel('Средний чек')\n",
    "plt.show()"
   ]
  },
  {
   "cell_type": "code",
   "execution_count": 75,
   "metadata": {},
   "outputs": [
    {
     "data": {
      "text/html": [
       "<div>\n",
       "<style scoped>\n",
       "    .dataframe tbody tr th:only-of-type {\n",
       "        vertical-align: middle;\n",
       "    }\n",
       "\n",
       "    .dataframe tbody tr th {\n",
       "        vertical-align: top;\n",
       "    }\n",
       "\n",
       "    .dataframe thead th {\n",
       "        text-align: right;\n",
       "    }\n",
       "</style>\n",
       "<table border=\"1\" class=\"dataframe\">\n",
       "  <thead>\n",
       "    <tr style=\"text-align: right;\">\n",
       "      <th></th>\n",
       "      <th>segment_name</th>\n",
       "      <th>check</th>\n",
       "    </tr>\n",
       "  </thead>\n",
       "  <tbody>\n",
       "    <tr>\n",
       "      <th>2</th>\n",
       "      <td>разные категории</td>\n",
       "      <td>2295.802095</td>\n",
       "    </tr>\n",
       "    <tr>\n",
       "      <th>4</th>\n",
       "      <td>ремонт</td>\n",
       "      <td>1832.888889</td>\n",
       "    </tr>\n",
       "    <tr>\n",
       "      <th>7</th>\n",
       "      <td>хоз.товары</td>\n",
       "      <td>1606.856720</td>\n",
       "    </tr>\n",
       "    <tr>\n",
       "      <th>5</th>\n",
       "      <td>текстиль</td>\n",
       "      <td>1505.739631</td>\n",
       "    </tr>\n",
       "    <tr>\n",
       "      <th>6</th>\n",
       "      <td>уборка</td>\n",
       "      <td>1430.174242</td>\n",
       "    </tr>\n",
       "    <tr>\n",
       "      <th>9</th>\n",
       "      <td>электроприборы</td>\n",
       "      <td>1324.827586</td>\n",
       "    </tr>\n",
       "    <tr>\n",
       "      <th>8</th>\n",
       "      <td>хранение</td>\n",
       "      <td>1305.986111</td>\n",
       "    </tr>\n",
       "    <tr>\n",
       "      <th>1</th>\n",
       "      <td>посуда</td>\n",
       "      <td>784.147940</td>\n",
       "    </tr>\n",
       "    <tr>\n",
       "      <th>3</th>\n",
       "      <td>расстения</td>\n",
       "      <td>643.405610</td>\n",
       "    </tr>\n",
       "    <tr>\n",
       "      <th>0</th>\n",
       "      <td>декор</td>\n",
       "      <td>594.814371</td>\n",
       "    </tr>\n",
       "  </tbody>\n",
       "</table>\n",
       "</div>"
      ],
      "text/plain": [
       "       segment_name        check\n",
       "2  разные категории  2295.802095\n",
       "4            ремонт  1832.888889\n",
       "7        хоз.товары  1606.856720\n",
       "5          текстиль  1505.739631\n",
       "6            уборка  1430.174242\n",
       "9    электроприборы  1324.827586\n",
       "8          хранение  1305.986111\n",
       "1            посуда   784.147940\n",
       "3         расстения   643.405610\n",
       "0             декор   594.814371"
      ]
     },
     "metadata": {},
     "output_type": "display_data"
    }
   ],
   "source": [
    "display(df_customer_id_1_check.sort_values(by = 'check', ascending = False))"
   ]
  },
  {
   "cell_type": "markdown",
   "metadata": {},
   "source": [
    "Средний чек покупателей, совершающих покупки в данных категориях самый высокий - более 2000 у тех, кто совершает покупки в 2-х и более категориях. Самый низкий средний у покупателей, совершающих покупки только в категории \"расстения\" и \"декор\" - около 600руб"
   ]
  },
  {
   "cell_type": "code",
   "execution_count": 76,
   "metadata": {},
   "outputs": [
    {
     "data": {
      "image/png": "[encoded data removed]",
      "text/plain": [
       "<Figure size 1080x720 with 1 Axes>"
      ]
     },
     "metadata": {
      "needs_background": "light"
     },
     "output_type": "display_data"
    }
   ],
   "source": [
    "df_customer_id_1_order = df_customer_id_1.pivot_table(index= 'segment_name', values='order_id', aggfunc='mean').reset_index()\n",
    "df_customer_id_1_order.plot(kind='bar', x='segment_name', ylim=0, grid=True, figsize=(15, 10),legend=False)\n",
    "plt.legend(loc='upper right')\n",
    "plt.tight_layout(pad=0.4, w_pad=0.5, h_pad=1.0)\n",
    "plt.title('Среднее количество заказов покупателей, совершающих покупки по категориям')\n",
    "plt.xlabel('Категории')\n",
    "plt.ylabel('Среднее количество заказов')\n",
    "plt.show()"
   ]
  },
  {
   "cell_type": "code",
   "execution_count": 77,
   "metadata": {},
   "outputs": [
    {
     "data": {
      "image/png": "[encoded data removed]",
      "text/plain": [
       "<Figure size 432x288 with 1 Axes>"
      ]
     },
     "metadata": {
      "needs_background": "light"
     },
     "output_type": "display_data"
    },
    {
     "data": {
      "image/png": "[encoded data removed]",
      "text/plain": [
       "<Figure size 504x360 with 1 Axes>"
      ]
     },
     "metadata": {
      "needs_background": "light"
     },
     "output_type": "display_data"
    }
   ],
   "source": [
    "df_customer_id_1.query('segment_name in \"разные категории\"')['order_id'].hist(bins=50, range = (0, 20)) \n",
    "plt.title('Распределение количества заказов покупателей, категории \"разные\"')\n",
    "plt.xlabel('Заказы покупателя')\n",
    "plt.ylabel('Кол-во')\n",
    "plt.show()\n",
    "df_customer_id_1.query('segment_name in \"разные категории\"').boxplot(column='order_id',figsize=(7, 5))\n",
    "plt.tight_layout(pad=0.4, w_pad=0.5, h_pad=1.0)\n",
    "plt.title('Заказы покупателей категории \"разные\"')\n",
    "plt.xlabel('Заказы')\n",
    "plt.ylabel('Кол-во')\n",
    "plt.show()"
   ]
  },
  {
   "cell_type": "code",
   "execution_count": 78,
   "metadata": {},
   "outputs": [
    {
     "name": "stdout",
     "output_type": "stream",
     "text": [
      "Среднее количество заказов покупателей, совершающих заказы в нескольких категориях, после удаления аномальных заказов:\n",
      "1.4096385542168675\n"
     ]
    }
   ],
   "source": [
    "print(\"Среднее количество заказов покупателей, совершающих заказы в нескольких категориях, после удаления аномальных заказов:\")\n",
    "print(df_customer_id_1.query('segment_name in \"разные категории\" & order_id <10')['order_id'].mean())"
   ]
  },
  {
   "cell_type": "markdown",
   "metadata": {},
   "source": [
    "В среднем один покупатель совершает 1 заказ, покупатели, которые покупают в разных категориях совершают в среднем 1,5 заказа."
   ]
  },
  {
   "cell_type": "code",
   "execution_count": 79,
   "metadata": {},
   "outputs": [
    {
     "data": {
      "image/png": "[encoded data removed]",
      "text/plain": [
       "<Figure size 1080x720 with 1 Axes>"
      ]
     },
     "metadata": {
      "needs_background": "light"
     },
     "output_type": "display_data"
    }
   ],
   "source": [
    "df_customer_id_1_order = df_customer_id_1.pivot_table(index= 'segment_name', values='order_id', aggfunc='sum').reset_index()\n",
    "df_customer_id_1_order.plot(kind='bar', x='segment_name', ylim=0, grid=True, figsize=(15, 10),legend=False)\n",
    "plt.legend(loc='upper right')\n",
    "plt.tight_layout(pad=0.4, w_pad=0.5, h_pad=1.0)\n",
    "plt.title('Суммарное количество заказов по категориям')\n",
    "plt.xlabel('Категории')\n",
    "plt.ylabel('Количество заказов')\n",
    "plt.show()"
   ]
  },
  {
   "cell_type": "markdown",
   "metadata": {},
   "source": [
    "В сумме по количеству заказов лидирует категории \"расстения\" и \"хоз.товары\""
   ]
  },
  {
   "cell_type": "code",
   "execution_count": 80,
   "metadata": {},
   "outputs": [
    {
     "data": {
      "image/png": "[encoded data removed]",
      "text/plain": [
       "<Figure size 1080x720 with 1 Axes>"
      ]
     },
     "metadata": {
      "needs_background": "light"
     },
     "output_type": "display_data"
    }
   ],
   "source": [
    "df_customer_id_1_order_sum = df_customer_id_1.pivot_table(index= 'segment_name', values='order_price', aggfunc='sum').reset_index()\n",
    "df_customer_id_1_order_sum.plot(kind='bar', x='segment_name', ylim=0, grid=True, figsize=(15, 10),legend=False)\n",
    "plt.legend(loc='upper right')\n",
    "plt.tight_layout(pad=0.4, w_pad=0.5, h_pad=1.0)\n",
    "plt.title('Стоимость заказов покупателей, совершающих покупки по категориям')\n",
    "plt.xlabel('Категории')\n",
    "plt.ylabel('Стоимость заказов')\n",
    "plt.show()"
   ]
  },
  {
   "cell_type": "markdown",
   "metadata": {},
   "source": [
    "По стоимости заказов лидирует категория \"хоз.товары\""
   ]
  },
  {
   "cell_type": "markdown",
   "metadata": {},
   "source": [
    "Большинство покупателей совершают покупки только в одной категории - 96,5%. \n",
    "\n",
    "Есть 2 категории, в которых покупают большинство покупателей - 26,5% - расстения и 25,3% - хоз.товары - на эти категории приходится и большинство клиентов, и большинство заказов. \n",
    "\n",
    "Только 3,5% покупателей приобретают товары в нескольких категориях (от 2-х и более). При этом, у тех, кто совершает покупки в разных категориях самый высокий средний чек - более 2000 и в среднем самое большое количество заказов из расчета на одного клиента (1,5 - против 1 для других категорий).\n",
    "\n",
    "В стоимости заказов безоговорочным длидером является категория - хоз.товары. Суммарная стоимость заказов клиентов этой категории больше чем в 2 раза выше чем в категории \"расстения\", \"различные товары\". "
   ]
  },
  {
   "cell_type": "markdown",
   "metadata": {},
   "source": [
    "### Проверка гипотез о равенстве среднего чека двух категорий <a id=\"gip\"></a>"
   ]
  },
  {
   "cell_type": "markdown",
   "metadata": {},
   "source": [
    "В данной базе также присутствуют 2 группы клиентов, которые делают покупки в категориях: \"уборка\" и \"текстиль\". В данных категориях на первый взгляд похожи средние чеки, количество заказов, стоимость заказов. Но все же проверим, есть ли статистически значимая разница между средними чеками заказов. В дальнейшем это поможет нам принять решения, можно ли к этим 2-м группам применять один подход в плане таргетирования\n",
    "\n",
    "Выдвенем гипотезу, что средние чеки данных категорий равны:\n",
    "\n",
    "* нулевая гипотеза - средние чеки покупателей категорий уборка и текстиль равны\n",
    "\n",
    "* альтернативная гипотеза - средние чеки покупателей категорий уборка и текстиль отличаются."
   ]
  },
  {
   "cell_type": "markdown",
   "metadata": {},
   "source": [
    "Подготовим срезы данных для 2-х категорий:"
   ]
  },
  {
   "cell_type": "code",
   "execution_count": 81,
   "metadata": {},
   "outputs": [],
   "source": [
    "df_cl = df_customer_id_1.query('segment_name in \"уборка\"')\n",
    "df_tx = df_customer_id_1.query('segment_name in \"текстиль\"')"
   ]
  },
  {
   "cell_type": "markdown",
   "metadata": {},
   "source": [
    "Проверим характер распределения стоимости заказов:"
   ]
  },
  {
   "cell_type": "code",
   "execution_count": 82,
   "metadata": {},
   "outputs": [
    {
     "data": {
      "image/png": "[encoded data removed]",
      "text/plain": [
       "<Figure size 432x288 with 1 Axes>"
      ]
     },
     "metadata": {
      "needs_background": "light"
     },
     "output_type": "display_data"
    }
   ],
   "source": [
    "df_customer_id_1['check'].hist(bins=50, range = (0, 10000)) \n",
    "plt.title('Распределение средних чеков заказов покупателей')\n",
    "plt.xlabel('Средний чек покупателя')\n",
    "plt.ylabel('Кол-во')\n",
    "plt.show()"
   ]
  },
  {
   "cell_type": "markdown",
   "metadata": {},
   "source": [
    "Т.к. в данных есть большие (по сравнению с нормальным распределением) выбросы, распределение не является нормальным, то для проверки гипотезы выберем тест, основанный на структурном подходе - критерий Манна-Уитни."
   ]
  },
  {
   "cell_type": "markdown",
   "metadata": {},
   "source": [
    "Зададим уровень статистической значимости, равный 5%:"
   ]
  },
  {
   "cell_type": "code",
   "execution_count": 83,
   "metadata": {},
   "outputs": [],
   "source": [
    "alpha = .05"
   ]
  },
  {
   "cell_type": "code",
   "execution_count": 84,
   "metadata": {},
   "outputs": [],
   "source": [
    "sample_cl = df_cl['check']\n",
    "sample_tx = df_tx['check']"
   ]
  },
  {
   "cell_type": "code",
   "execution_count": 85,
   "metadata": {},
   "outputs": [
    {
     "name": "stdout",
     "output_type": "stream",
     "text": [
      "p-значение:  0.5214356865979821\n",
      "Не получилось отвергнуть нулевую гипотезу, вывод о различии сделать нельзя\n"
     ]
    }
   ],
   "source": [
    "results = st.mannwhitneyu(sample_cl, sample_tx)\n",
    "\n",
    "print('p-значение: ', results.pvalue)\n",
    "\n",
    "if (results.pvalue < alpha):\n",
    "    print(\"Отвергаем нулевую гипотезу: разница статистически значима\")\n",
    "else:\n",
    "    print(\"Не получилось отвергнуть нулевую гипотезу, вывод о различии сделать нельзя\") \n"
   ]
  },
  {
   "cell_type": "markdown",
   "metadata": {},
   "source": [
    "Т.к. p-value > 5% - нулевую гипотезу о том, что средние чеки заказов категорий уборка и текстиль равны нельзя отвергнуть. Альтернативную гипотезу, о том. что между стоимосотью заказов категорий есть различия - отвергаем. "
   ]
  },
  {
   "cell_type": "markdown",
   "metadata": {},
   "source": [
    "\n"
   ]
  },
  {
   "cell_type": "markdown",
   "metadata": {},
   "source": [
    "### Выводы и рекомендации <a id=\"rec\"></a>"
   ]
  },
  {
   "cell_type": "markdown",
   "metadata": {},
   "source": [
    "* В ходе категоризации выделено 9 категорий: электроприборы, хранение, хоз.товары, ремонт, декор, уборка, расстения, посуда, текстиль. Мы поделили пользователей по категориям, в которых они совершают покупки, а также отдельно выделили категорию пользователей, которая совершает покупи в нескольких категоиях.\n",
    "* по количеству заказов лидирует категории \"расстения\" и \"хоз.товары\", при этом средний чек категории \"расстения\" в 2,5 раза ниже среднего чека категории \"хоз.товары\". Также в категории \"расстения\" четко прослеживаются сезонные подъемы и падения продаж - с февраля по май растет количество транзакций в данной категории.\n",
    "* наиболее высокий средний чек у покупателей, покупающих товары больше чем в одной категории - 2295р. Также среднее количество заказов на одного покупателя у них выше чем у покупателей, покупающих только в одной категории. Средние чеки  в категориях \"хоз.товары\",  \"текстиль\", \"ремонт\", \"уборка\", \"хранение\", \"электроприборы\" также достаточно высокие - более 1300 руб, что в 2 раза выше среднего чека покупателей категории \"расстения\".\n",
    "* также определено, что ежедневно в среднем интернет-магазином пользуется 6 уникальных пользователей (44 в месяц и 191 в год). Большинство уникальных пользователей приходится на 12.2018, 02.2019, 03.2019, 04.2019. Минимальное количество пользователей зафиксировано 01.2019 и 06.2019. На эти показатели очень влияет категория \"расстения\", точнее сезонность этой категории\n",
    "* 26,3% покупателей совершают покупки только в категории \"расстения\", думаю, что нужно уделить этой категории отдельное внимание - рассказать о дополнительных товарах, из других категорий, например \"текстиль\", \"уборка\", \"хоз.товары\". Возможно стоит предложить клиентам, покупающим только в категории \"расстения\" промокод на покупку товаров в других категориях. Цель - \"перетянуть\" пользователей категории \"расстения\" в сегмент пользователей, покупающих в 2-х и более категориях. Т.к. это увеличит средний чек заказа и смотивирует покупать не только сезонные товары. "
   ]
  },
  {
   "cell_type": "code",
   "execution_count": null,
   "metadata": {},
   "outputs": [],
   "source": []
  }
 ],
 "metadata": {
  "ExecuteTimeLog": [
   {
    "duration": 1432,
    "start_time": "2021-06-27T21:11:27.348Z"
   },
   {
    "duration": 2203,
    "start_time": "2021-06-27T21:11:28.782Z"
   },
   {
    "duration": -95,
    "start_time": "2021-06-27T21:11:31.084Z"
   },
   {
    "duration": 1510,
    "start_time": "2021-06-27T21:11:54.870Z"
   },
   {
    "duration": 33,
    "start_time": "2021-06-27T21:11:56.382Z"
   },
   {
    "duration": 18,
    "start_time": "2021-06-27T21:11:56.418Z"
   },
   {
    "duration": 10,
    "start_time": "2021-06-27T21:14:34.412Z"
   },
   {
    "duration": 1426,
    "start_time": "2021-06-28T09:58:26.698Z"
   },
   {
    "duration": 34,
    "start_time": "2021-06-28T09:58:28.127Z"
   },
   {
    "duration": 25,
    "start_time": "2021-06-28T09:58:28.164Z"
   },
   {
    "duration": 11,
    "start_time": "2021-06-28T09:58:28.192Z"
   },
   {
    "duration": 14,
    "start_time": "2021-06-28T09:58:28.206Z"
   },
   {
    "duration": 1350,
    "start_time": "2021-06-28T10:08:38.487Z"
   },
   {
    "duration": 31,
    "start_time": "2021-06-28T10:08:39.839Z"
   },
   {
    "duration": 19,
    "start_time": "2021-06-28T10:08:39.873Z"
   },
   {
    "duration": 9,
    "start_time": "2021-06-28T10:08:39.895Z"
   },
   {
    "duration": 412,
    "start_time": "2021-06-28T10:08:39.907Z"
   },
   {
    "duration": -19,
    "start_time": "2021-06-28T10:08:40.341Z"
   },
   {
    "duration": 15,
    "start_time": "2021-06-28T10:09:15.112Z"
   },
   {
    "duration": 12,
    "start_time": "2021-06-28T10:09:18.736Z"
   },
   {
    "duration": 100,
    "start_time": "2021-06-28T10:18:59.684Z"
   },
   {
    "duration": 17,
    "start_time": "2021-06-28T10:19:09.800Z"
   },
   {
    "duration": 15,
    "start_time": "2021-06-28T10:19:20.040Z"
   },
   {
    "duration": 14,
    "start_time": "2021-06-28T10:20:43.715Z"
   },
   {
    "duration": 12,
    "start_time": "2021-06-28T10:21:15.024Z"
   },
   {
    "duration": 7,
    "start_time": "2021-06-28T10:21:17.359Z"
   },
   {
    "duration": 14,
    "start_time": "2021-06-28T10:21:17.841Z"
   },
   {
    "duration": 7,
    "start_time": "2021-06-28T10:21:48.224Z"
   },
   {
    "duration": 15,
    "start_time": "2021-06-28T10:21:48.729Z"
   },
   {
    "duration": 11,
    "start_time": "2021-06-28T10:22:06.492Z"
   },
   {
    "duration": 1507,
    "start_time": "2021-06-28T10:24:52.041Z"
   },
   {
    "duration": 33,
    "start_time": "2021-06-28T10:24:53.550Z"
   },
   {
    "duration": 20,
    "start_time": "2021-06-28T10:24:53.585Z"
   },
   {
    "duration": 11,
    "start_time": "2021-06-28T10:24:53.609Z"
   },
   {
    "duration": 14,
    "start_time": "2021-06-28T10:24:53.623Z"
   },
   {
    "duration": 49,
    "start_time": "2021-06-28T10:24:53.639Z"
   },
   {
    "duration": 18,
    "start_time": "2021-06-28T10:24:53.690Z"
   },
   {
    "duration": 15,
    "start_time": "2021-06-28T10:24:53.710Z"
   },
   {
    "duration": 22,
    "start_time": "2021-06-28T10:24:53.729Z"
   },
   {
    "duration": 32,
    "start_time": "2021-06-28T10:30:49.496Z"
   },
   {
    "duration": 31,
    "start_time": "2021-06-28T10:30:58.774Z"
   },
   {
    "duration": 27,
    "start_time": "2021-06-28T10:31:45.181Z"
   },
   {
    "duration": 388,
    "start_time": "2021-06-28T10:39:39.520Z"
   },
   {
    "duration": 382,
    "start_time": "2021-06-28T10:39:50.488Z"
   },
   {
    "duration": 400,
    "start_time": "2021-06-28T10:40:01.511Z"
   },
   {
    "duration": 518,
    "start_time": "2021-06-28T10:40:07.191Z"
   },
   {
    "duration": 2941,
    "start_time": "2021-06-28T10:40:11.417Z"
   },
   {
    "duration": 308,
    "start_time": "2021-06-28T10:40:19.726Z"
   },
   {
    "duration": 644,
    "start_time": "2021-06-28T10:40:26.443Z"
   },
   {
    "duration": 494,
    "start_time": "2021-06-28T10:42:50.943Z"
   },
   {
    "duration": 486,
    "start_time": "2021-06-28T10:44:14.806Z"
   },
   {
    "duration": 401,
    "start_time": "2021-06-28T10:44:25.906Z"
   },
   {
    "duration": 22,
    "start_time": "2021-06-28T10:45:37.879Z"
   },
   {
    "duration": 8,
    "start_time": "2021-06-28T10:48:33.955Z"
   },
   {
    "duration": 412,
    "start_time": "2021-06-28T10:50:39.084Z"
   },
   {
    "duration": 23,
    "start_time": "2021-06-28T10:52:11.347Z"
   },
   {
    "duration": 7,
    "start_time": "2021-06-28T11:07:53.751Z"
   },
   {
    "duration": 18,
    "start_time": "2021-06-28T11:07:54.977Z"
   },
   {
    "duration": 15,
    "start_time": "2021-06-28T11:08:04.476Z"
   },
   {
    "duration": 6,
    "start_time": "2021-06-28T11:11:03.707Z"
   },
   {
    "duration": 20,
    "start_time": "2021-06-28T11:11:04.290Z"
   },
   {
    "duration": 524,
    "start_time": "2021-06-28T11:13:26.376Z"
   },
   {
    "duration": 290,
    "start_time": "2021-06-28T11:14:16.530Z"
   },
   {
    "duration": 18,
    "start_time": "2021-06-28T11:19:12.088Z"
   },
   {
    "duration": 22,
    "start_time": "2021-06-28T11:19:13.000Z"
   },
   {
    "duration": 35,
    "start_time": "2021-06-28T11:23:30.233Z"
   },
   {
    "duration": 304,
    "start_time": "2021-06-28T11:51:56.442Z"
   },
   {
    "duration": 7,
    "start_time": "2021-06-28T11:54:35.745Z"
   },
   {
    "duration": 288,
    "start_time": "2021-06-28T11:57:02.535Z"
   },
   {
    "duration": 260,
    "start_time": "2021-06-28T11:57:22.742Z"
   },
   {
    "duration": 281,
    "start_time": "2021-06-28T11:57:38.356Z"
   },
   {
    "duration": 285,
    "start_time": "2021-06-28T11:59:21.441Z"
   },
   {
    "duration": 6,
    "start_time": "2021-06-28T11:59:50.055Z"
   },
   {
    "duration": 13,
    "start_time": "2021-06-28T12:10:10.200Z"
   },
   {
    "duration": 9,
    "start_time": "2021-06-28T12:12:26.551Z"
   },
   {
    "duration": 1346,
    "start_time": "2021-06-28T12:15:20.280Z"
   },
   {
    "duration": 31,
    "start_time": "2021-06-28T12:15:21.629Z"
   },
   {
    "duration": 23,
    "start_time": "2021-06-28T12:15:21.663Z"
   },
   {
    "duration": 12,
    "start_time": "2021-06-28T12:15:21.689Z"
   },
   {
    "duration": 12,
    "start_time": "2021-06-28T12:15:21.704Z"
   },
   {
    "duration": 16,
    "start_time": "2021-06-28T12:15:21.718Z"
   },
   {
    "duration": 50,
    "start_time": "2021-06-28T12:15:21.736Z"
   },
   {
    "duration": 15,
    "start_time": "2021-06-28T12:15:21.788Z"
   },
   {
    "duration": 13,
    "start_time": "2021-06-28T12:15:21.807Z"
   },
   {
    "duration": 27,
    "start_time": "2021-06-28T12:15:21.823Z"
   },
   {
    "duration": 482,
    "start_time": "2021-06-28T12:15:21.852Z"
   },
   {
    "duration": 22,
    "start_time": "2021-06-28T12:15:22.338Z"
   },
   {
    "duration": 24,
    "start_time": "2021-06-28T12:15:22.363Z"
   },
   {
    "duration": 449,
    "start_time": "2021-06-28T12:15:22.390Z"
   },
   {
    "duration": 17,
    "start_time": "2021-06-28T12:15:22.843Z"
   },
   {
    "duration": 23,
    "start_time": "2021-06-28T12:15:22.864Z"
   },
   {
    "duration": 19,
    "start_time": "2021-06-28T12:15:22.890Z"
   },
   {
    "duration": 23,
    "start_time": "2021-06-28T12:15:22.912Z"
   },
   {
    "duration": 74,
    "start_time": "2021-06-28T12:15:22.937Z"
   },
   {
    "duration": 296,
    "start_time": "2021-06-28T12:15:23.014Z"
   },
   {
    "duration": 6,
    "start_time": "2021-06-28T12:15:23.312Z"
   },
   {
    "duration": 13,
    "start_time": "2021-06-28T12:15:23.320Z"
   },
   {
    "duration": 3333,
    "start_time": "2021-06-28T12:15:23.336Z"
   },
   {
    "duration": 17,
    "start_time": "2021-06-28T12:16:21.984Z"
   },
   {
    "duration": 23,
    "start_time": "2021-06-28T12:16:30.321Z"
   },
   {
    "duration": 33,
    "start_time": "2021-06-28T12:31:43.779Z"
   },
   {
    "duration": 22,
    "start_time": "2021-06-28T12:31:53.816Z"
   },
   {
    "duration": 11,
    "start_time": "2021-06-28T12:32:47.082Z"
   },
   {
    "duration": 11,
    "start_time": "2021-06-28T12:38:40.857Z"
   },
   {
    "duration": 20,
    "start_time": "2021-06-28T12:43:33.988Z"
   },
   {
    "duration": 27,
    "start_time": "2021-06-28T12:43:45.095Z"
   },
   {
    "duration": 6,
    "start_time": "2021-06-28T12:47:31.809Z"
   },
   {
    "duration": 28,
    "start_time": "2021-06-28T12:47:40.703Z"
   },
   {
    "duration": 10,
    "start_time": "2021-06-28T12:47:52.933Z"
   },
   {
    "duration": 28,
    "start_time": "2021-06-28T12:50:51.171Z"
   },
   {
    "duration": 32,
    "start_time": "2021-06-28T12:51:05.335Z"
   },
   {
    "duration": 14,
    "start_time": "2021-06-28T12:51:17.659Z"
   },
   {
    "duration": 9,
    "start_time": "2021-06-28T12:52:17.577Z"
   },
   {
    "duration": 1488,
    "start_time": "2021-06-28T12:52:50.659Z"
   },
   {
    "duration": 34,
    "start_time": "2021-06-28T12:52:52.150Z"
   },
   {
    "duration": 21,
    "start_time": "2021-06-28T12:52:52.187Z"
   },
   {
    "duration": 12,
    "start_time": "2021-06-28T12:52:52.212Z"
   },
   {
    "duration": 16,
    "start_time": "2021-06-28T12:52:52.227Z"
   },
   {
    "duration": 49,
    "start_time": "2021-06-28T12:52:52.246Z"
   },
   {
    "duration": 18,
    "start_time": "2021-06-28T12:52:52.297Z"
   },
   {
    "duration": 17,
    "start_time": "2021-06-28T12:52:52.317Z"
   },
   {
    "duration": 10,
    "start_time": "2021-06-28T12:52:52.338Z"
   },
   {
    "duration": 65,
    "start_time": "2021-06-28T12:52:52.351Z"
   },
   {
    "duration": 422,
    "start_time": "2021-06-28T12:52:52.418Z"
   },
   {
    "duration": 22,
    "start_time": "2021-06-28T12:52:52.842Z"
   },
   {
    "duration": 20,
    "start_time": "2021-06-28T12:52:52.866Z"
   },
   {
    "duration": 441,
    "start_time": "2021-06-28T12:52:52.889Z"
   },
   {
    "duration": 17,
    "start_time": "2021-06-28T12:52:53.332Z"
   },
   {
    "duration": 11,
    "start_time": "2021-06-28T12:52:53.351Z"
   },
   {
    "duration": 17,
    "start_time": "2021-06-28T12:52:53.382Z"
   },
   {
    "duration": 21,
    "start_time": "2021-06-28T12:52:53.401Z"
   },
   {
    "duration": 61,
    "start_time": "2021-06-28T12:52:53.425Z"
   },
   {
    "duration": 283,
    "start_time": "2021-06-28T12:52:53.489Z"
   },
   {
    "duration": 11,
    "start_time": "2021-06-28T12:52:53.775Z"
   },
   {
    "duration": 13,
    "start_time": "2021-06-28T12:52:53.789Z"
   },
   {
    "duration": 3321,
    "start_time": "2021-06-28T12:52:53.805Z"
   },
   {
    "duration": 27,
    "start_time": "2021-06-28T12:52:57.128Z"
   },
   {
    "duration": 54,
    "start_time": "2021-06-28T12:52:57.158Z"
   },
   {
    "duration": 16,
    "start_time": "2021-06-28T12:52:57.215Z"
   },
   {
    "duration": 10,
    "start_time": "2021-06-28T12:52:57.237Z"
   },
   {
    "duration": 34,
    "start_time": "2021-06-28T12:55:33.193Z"
   },
   {
    "duration": 9,
    "start_time": "2021-06-28T12:55:51.765Z"
   },
   {
    "duration": 37,
    "start_time": "2021-06-28T12:57:11.208Z"
   },
   {
    "duration": 9,
    "start_time": "2021-06-28T12:57:13.742Z"
   },
   {
    "duration": 59,
    "start_time": "2021-06-28T12:59:03.076Z"
   },
   {
    "duration": 9,
    "start_time": "2021-06-28T12:59:05.957Z"
   },
   {
    "duration": 81,
    "start_time": "2021-06-28T13:00:11.729Z"
   },
   {
    "duration": 9,
    "start_time": "2021-06-28T13:00:15.014Z"
   },
   {
    "duration": 450,
    "start_time": "2021-06-28T13:00:51.703Z"
   },
   {
    "duration": 45,
    "start_time": "2021-06-28T13:01:02.072Z"
   },
   {
    "duration": 90,
    "start_time": "2021-06-28T13:02:31.762Z"
   },
   {
    "duration": 9,
    "start_time": "2021-06-28T13:02:32.567Z"
   },
   {
    "duration": 42,
    "start_time": "2021-06-28T13:02:33.174Z"
   },
   {
    "duration": 41,
    "start_time": "2021-06-28T13:06:14.896Z"
   },
   {
    "duration": 75,
    "start_time": "2021-06-28T13:07:56.783Z"
   },
   {
    "duration": 8,
    "start_time": "2021-06-28T13:07:57.479Z"
   },
   {
    "duration": 40,
    "start_time": "2021-06-28T13:07:58.161Z"
   },
   {
    "duration": 8,
    "start_time": "2021-06-28T13:08:03.374Z"
   },
   {
    "duration": 38,
    "start_time": "2021-06-28T13:08:10.128Z"
   },
   {
    "duration": 110,
    "start_time": "2021-06-28T13:08:37.848Z"
   },
   {
    "duration": 9,
    "start_time": "2021-06-28T13:08:39.118Z"
   },
   {
    "duration": 39,
    "start_time": "2021-06-28T13:08:39.712Z"
   },
   {
    "duration": 75,
    "start_time": "2021-06-28T13:09:24.273Z"
   },
   {
    "duration": 9,
    "start_time": "2021-06-28T13:09:24.886Z"
   },
   {
    "duration": 39,
    "start_time": "2021-06-28T13:09:25.458Z"
   },
   {
    "duration": 76,
    "start_time": "2021-06-28T13:10:51.413Z"
   },
   {
    "duration": 9,
    "start_time": "2021-06-28T13:10:52.083Z"
   },
   {
    "duration": 40,
    "start_time": "2021-06-28T13:10:52.689Z"
   },
   {
    "duration": 76,
    "start_time": "2021-06-28T13:12:27.540Z"
   },
   {
    "duration": 9,
    "start_time": "2021-06-28T13:12:28.160Z"
   },
   {
    "duration": 43,
    "start_time": "2021-06-28T13:12:28.689Z"
   },
   {
    "duration": 74,
    "start_time": "2021-06-28T13:13:17.817Z"
   },
   {
    "duration": 9,
    "start_time": "2021-06-28T13:13:18.345Z"
   },
   {
    "duration": 39,
    "start_time": "2021-06-28T13:13:18.896Z"
   },
   {
    "duration": 300,
    "start_time": "2021-06-28T13:16:39.391Z"
   },
   {
    "duration": 317,
    "start_time": "2021-06-28T13:18:36.095Z"
   },
   {
    "duration": 279,
    "start_time": "2021-06-28T13:21:58.816Z"
   },
   {
    "duration": 273,
    "start_time": "2021-06-28T13:22:32.966Z"
   },
   {
    "duration": 3345,
    "start_time": "2021-06-28T13:22:49.818Z"
   },
   {
    "duration": 26,
    "start_time": "2021-06-28T13:22:54.568Z"
   },
   {
    "duration": 79,
    "start_time": "2021-06-28T13:23:01.233Z"
   },
   {
    "duration": 11,
    "start_time": "2021-06-28T13:23:02.007Z"
   },
   {
    "duration": 40,
    "start_time": "2021-06-28T13:23:02.514Z"
   },
   {
    "duration": 1408,
    "start_time": "2021-06-28T13:23:16.521Z"
   },
   {
    "duration": 32,
    "start_time": "2021-06-28T13:23:17.932Z"
   },
   {
    "duration": 19,
    "start_time": "2021-06-28T13:23:17.966Z"
   },
   {
    "duration": 10,
    "start_time": "2021-06-28T13:23:17.987Z"
   },
   {
    "duration": 10,
    "start_time": "2021-06-28T13:23:18.000Z"
   },
   {
    "duration": 15,
    "start_time": "2021-06-28T13:23:18.013Z"
   },
   {
    "duration": 55,
    "start_time": "2021-06-28T13:23:18.030Z"
   },
   {
    "duration": 14,
    "start_time": "2021-06-28T13:23:18.087Z"
   },
   {
    "duration": 10,
    "start_time": "2021-06-28T13:23:18.105Z"
   },
   {
    "duration": 26,
    "start_time": "2021-06-28T13:23:18.118Z"
   },
   {
    "duration": 447,
    "start_time": "2021-06-28T13:23:18.146Z"
   },
   {
    "duration": 16,
    "start_time": "2021-06-28T13:23:18.595Z"
   },
   {
    "duration": 8,
    "start_time": "2021-06-28T13:23:18.613Z"
   },
   {
    "duration": 404,
    "start_time": "2021-06-28T13:23:18.623Z"
   },
   {
    "duration": 16,
    "start_time": "2021-06-28T13:23:19.029Z"
   },
   {
    "duration": 8,
    "start_time": "2021-06-28T13:23:19.048Z"
   },
   {
    "duration": 36,
    "start_time": "2021-06-28T13:23:19.059Z"
   },
   {
    "duration": 21,
    "start_time": "2021-06-28T13:23:19.098Z"
   },
   {
    "duration": 33,
    "start_time": "2021-06-28T13:23:19.121Z"
   },
   {
    "duration": 286,
    "start_time": "2021-06-28T13:23:19.183Z"
   },
   {
    "duration": 16,
    "start_time": "2021-06-28T13:23:19.471Z"
   },
   {
    "duration": 11,
    "start_time": "2021-06-28T13:23:19.489Z"
   },
   {
    "duration": 3244,
    "start_time": "2021-06-28T13:23:19.502Z"
   },
   {
    "duration": 38,
    "start_time": "2021-06-28T13:23:22.749Z"
   },
   {
    "duration": 93,
    "start_time": "2021-06-28T13:23:22.790Z"
   },
   {
    "duration": 9,
    "start_time": "2021-06-28T13:23:22.885Z"
   },
   {
    "duration": 39,
    "start_time": "2021-06-28T13:23:22.899Z"
   },
   {
    "duration": 80,
    "start_time": "2021-06-28T13:24:23.873Z"
   },
   {
    "duration": 10,
    "start_time": "2021-06-28T13:24:24.343Z"
   },
   {
    "duration": 42,
    "start_time": "2021-06-28T13:24:24.841Z"
   },
   {
    "duration": 80,
    "start_time": "2021-06-28T13:25:26.658Z"
   },
   {
    "duration": 9,
    "start_time": "2021-06-28T13:25:27.280Z"
   },
   {
    "duration": 40,
    "start_time": "2021-06-28T13:25:27.721Z"
   },
   {
    "duration": 80,
    "start_time": "2021-06-28T13:26:49.145Z"
   },
   {
    "duration": 9,
    "start_time": "2021-06-28T13:26:49.633Z"
   },
   {
    "duration": 38,
    "start_time": "2021-06-28T13:26:50.174Z"
   },
   {
    "duration": 83,
    "start_time": "2021-06-28T13:27:12.585Z"
   },
   {
    "duration": 9,
    "start_time": "2021-06-28T13:27:14.752Z"
   },
   {
    "duration": 40,
    "start_time": "2021-06-28T13:27:16.370Z"
   },
   {
    "duration": 82,
    "start_time": "2021-06-28T13:27:54.298Z"
   },
   {
    "duration": 10,
    "start_time": "2021-06-28T13:27:54.738Z"
   },
   {
    "duration": 39,
    "start_time": "2021-06-28T13:27:55.163Z"
   },
   {
    "duration": 56,
    "start_time": "2021-06-28T13:29:04.301Z"
   },
   {
    "duration": 9,
    "start_time": "2021-06-28T13:29:04.737Z"
   },
   {
    "duration": 1463,
    "start_time": "2021-06-28T13:29:05.242Z"
   },
   {
    "duration": 81,
    "start_time": "2021-06-28T13:38:42.647Z"
   },
   {
    "duration": 10,
    "start_time": "2021-06-28T13:38:43.417Z"
   },
   {
    "duration": 39,
    "start_time": "2021-06-28T13:38:44.353Z"
   },
   {
    "duration": 84,
    "start_time": "2021-06-28T13:40:03.468Z"
   },
   {
    "duration": 10,
    "start_time": "2021-06-28T13:40:03.920Z"
   },
   {
    "duration": 39,
    "start_time": "2021-06-28T13:40:04.452Z"
   },
   {
    "duration": 82,
    "start_time": "2021-06-28T13:41:32.056Z"
   },
   {
    "duration": 9,
    "start_time": "2021-06-28T13:41:32.426Z"
   },
   {
    "duration": 38,
    "start_time": "2021-06-28T13:41:32.883Z"
   },
   {
    "duration": 85,
    "start_time": "2021-06-28T13:42:09.141Z"
   },
   {
    "duration": 9,
    "start_time": "2021-06-28T13:42:09.482Z"
   },
   {
    "duration": 39,
    "start_time": "2021-06-28T13:42:09.940Z"
   },
   {
    "duration": 67,
    "start_time": "2021-06-28T13:43:57.276Z"
   },
   {
    "duration": 9,
    "start_time": "2021-06-28T13:43:58.249Z"
   },
   {
    "duration": 47,
    "start_time": "2021-06-28T13:43:59.093Z"
   },
   {
    "duration": 71,
    "start_time": "2021-06-28T13:45:13.066Z"
   },
   {
    "duration": 42,
    "start_time": "2021-06-28T13:45:13.680Z"
   },
   {
    "duration": 9,
    "start_time": "2021-06-28T13:45:15.762Z"
   },
   {
    "duration": 1685,
    "start_time": "2021-06-28T14:30:01.258Z"
   },
   {
    "duration": 35,
    "start_time": "2021-06-28T14:30:02.946Z"
   },
   {
    "duration": 25,
    "start_time": "2021-06-28T14:30:02.986Z"
   },
   {
    "duration": 16,
    "start_time": "2021-06-28T14:30:03.015Z"
   },
   {
    "duration": 28,
    "start_time": "2021-06-28T14:30:03.034Z"
   },
   {
    "duration": 36,
    "start_time": "2021-06-28T14:30:03.065Z"
   },
   {
    "duration": 24,
    "start_time": "2021-06-28T14:30:03.103Z"
   },
   {
    "duration": 41,
    "start_time": "2021-06-28T14:30:03.129Z"
   },
   {
    "duration": 24,
    "start_time": "2021-06-28T14:30:03.174Z"
   },
   {
    "duration": 36,
    "start_time": "2021-06-28T14:30:03.201Z"
   },
   {
    "duration": 390,
    "start_time": "2021-06-28T14:30:03.241Z"
   },
   {
    "duration": 21,
    "start_time": "2021-06-28T14:30:03.634Z"
   },
   {
    "duration": 264,
    "start_time": "2021-06-28T14:30:03.658Z"
   },
   {
    "duration": 441,
    "start_time": "2021-06-28T14:30:03.925Z"
   },
   {
    "duration": 29,
    "start_time": "2021-06-28T14:30:04.369Z"
   },
   {
    "duration": 13,
    "start_time": "2021-06-28T14:30:04.401Z"
   },
   {
    "duration": 19,
    "start_time": "2021-06-28T14:30:04.416Z"
   },
   {
    "duration": 56,
    "start_time": "2021-06-28T14:30:04.438Z"
   },
   {
    "duration": 35,
    "start_time": "2021-06-28T14:30:04.496Z"
   },
   {
    "duration": 374,
    "start_time": "2021-06-28T14:30:04.534Z"
   },
   {
    "duration": 8,
    "start_time": "2021-06-28T14:30:04.912Z"
   },
   {
    "duration": 19,
    "start_time": "2021-06-28T14:30:04.923Z"
   },
   {
    "duration": 3812,
    "start_time": "2021-06-28T14:30:04.947Z"
   },
   {
    "duration": 44,
    "start_time": "2021-06-28T14:30:08.762Z"
   },
   {
    "duration": 86,
    "start_time": "2021-06-28T14:30:08.809Z"
   },
   {
    "duration": 42,
    "start_time": "2021-06-28T14:30:08.898Z"
   },
   {
    "duration": 9,
    "start_time": "2021-06-28T14:30:08.944Z"
   },
   {
    "duration": 68,
    "start_time": "2021-06-28T14:32:25.335Z"
   },
   {
    "duration": 41,
    "start_time": "2021-06-28T14:32:25.796Z"
   },
   {
    "duration": 10,
    "start_time": "2021-06-28T14:32:26.442Z"
   },
   {
    "duration": 72,
    "start_time": "2021-06-28T14:37:42.825Z"
   },
   {
    "duration": 40,
    "start_time": "2021-06-28T14:37:43.582Z"
   },
   {
    "duration": 8,
    "start_time": "2021-06-28T14:37:44.731Z"
   },
   {
    "duration": 72,
    "start_time": "2021-06-28T14:40:37.776Z"
   },
   {
    "duration": 40,
    "start_time": "2021-06-28T14:40:38.216Z"
   },
   {
    "duration": 9,
    "start_time": "2021-06-28T14:40:38.692Z"
   },
   {
    "duration": 74,
    "start_time": "2021-06-28T14:43:37.033Z"
   },
   {
    "duration": 40,
    "start_time": "2021-06-28T14:43:37.502Z"
   },
   {
    "duration": 10,
    "start_time": "2021-06-28T14:43:38.973Z"
   },
   {
    "duration": 4110,
    "start_time": "2021-06-28T14:47:56.014Z"
   },
   {
    "duration": 3706,
    "start_time": "2021-06-28T14:48:44.896Z"
   },
   {
    "duration": 3622,
    "start_time": "2021-06-28T14:49:23.508Z"
   },
   {
    "duration": 3712,
    "start_time": "2021-06-28T14:49:52.413Z"
   },
   {
    "duration": 3369,
    "start_time": "2021-06-28T14:53:33.644Z"
   },
   {
    "duration": 26,
    "start_time": "2021-06-28T14:53:44.327Z"
   },
   {
    "duration": 76,
    "start_time": "2021-06-28T14:53:45.980Z"
   },
   {
    "duration": 41,
    "start_time": "2021-06-28T14:53:46.598Z"
   },
   {
    "duration": 11,
    "start_time": "2021-06-28T14:53:47.532Z"
   },
   {
    "duration": 74,
    "start_time": "2021-06-28T14:56:15.054Z"
   },
   {
    "duration": 38,
    "start_time": "2021-06-28T14:56:15.504Z"
   },
   {
    "duration": 9,
    "start_time": "2021-06-28T14:56:15.999Z"
   },
   {
    "duration": 82,
    "start_time": "2021-06-28T21:31:49.629Z"
   },
   {
    "duration": 43,
    "start_time": "2021-06-28T21:31:50.300Z"
   },
   {
    "duration": 10,
    "start_time": "2021-06-28T21:31:51.461Z"
   },
   {
    "duration": 77,
    "start_time": "2021-06-28T21:32:27.759Z"
   },
   {
    "duration": 46,
    "start_time": "2021-06-28T21:32:28.263Z"
   },
   {
    "duration": 10,
    "start_time": "2021-06-28T21:32:29.030Z"
   },
   {
    "duration": 79,
    "start_time": "2021-06-28T21:32:42.574Z"
   },
   {
    "duration": 42,
    "start_time": "2021-06-28T21:32:42.991Z"
   },
   {
    "duration": 10,
    "start_time": "2021-06-28T21:32:43.581Z"
   },
   {
    "duration": 81,
    "start_time": "2021-06-28T21:33:29.534Z"
   },
   {
    "duration": 44,
    "start_time": "2021-06-28T21:33:29.975Z"
   },
   {
    "duration": 10,
    "start_time": "2021-06-28T21:33:30.581Z"
   },
   {
    "duration": 80,
    "start_time": "2021-06-28T21:33:52.966Z"
   },
   {
    "duration": 40,
    "start_time": "2021-06-28T21:33:53.306Z"
   },
   {
    "duration": 9,
    "start_time": "2021-06-28T21:33:53.726Z"
   },
   {
    "duration": 78,
    "start_time": "2021-06-28T21:34:50.095Z"
   },
   {
    "duration": 41,
    "start_time": "2021-06-28T21:34:50.176Z"
   },
   {
    "duration": 8,
    "start_time": "2021-06-28T21:34:50.856Z"
   },
   {
    "duration": 84,
    "start_time": "2021-06-28T21:35:53.344Z"
   },
   {
    "duration": 84,
    "start_time": "2021-06-28T21:35:56.540Z"
   },
   {
    "duration": 42,
    "start_time": "2021-06-28T21:35:56.627Z"
   },
   {
    "duration": 9,
    "start_time": "2021-06-28T21:35:57.238Z"
   },
   {
    "duration": 82,
    "start_time": "2021-06-28T21:36:22.022Z"
   },
   {
    "duration": 79,
    "start_time": "2021-06-28T21:36:24.665Z"
   },
   {
    "duration": 43,
    "start_time": "2021-06-28T21:36:25.112Z"
   },
   {
    "duration": 8,
    "start_time": "2021-06-28T21:36:25.575Z"
   },
   {
    "duration": 81,
    "start_time": "2021-06-28T21:37:54.019Z"
   },
   {
    "duration": 42,
    "start_time": "2021-06-28T21:37:54.655Z"
   },
   {
    "duration": 9,
    "start_time": "2021-06-28T21:37:55.207Z"
   },
   {
    "duration": 81,
    "start_time": "2021-06-28T21:38:20.590Z"
   },
   {
    "duration": 40,
    "start_time": "2021-06-28T21:38:20.960Z"
   },
   {
    "duration": 10,
    "start_time": "2021-06-28T21:38:21.494Z"
   },
   {
    "duration": 84,
    "start_time": "2021-06-28T21:39:23.184Z"
   },
   {
    "duration": 41,
    "start_time": "2021-06-28T21:39:23.696Z"
   },
   {
    "duration": 8,
    "start_time": "2021-06-28T21:39:24.263Z"
   },
   {
    "duration": 82,
    "start_time": "2021-06-28T21:44:29.339Z"
   },
   {
    "duration": 38,
    "start_time": "2021-06-28T21:44:29.818Z"
   },
   {
    "duration": 10,
    "start_time": "2021-06-28T21:44:31.344Z"
   },
   {
    "duration": 83,
    "start_time": "2021-06-28T21:46:43.740Z"
   },
   {
    "duration": 39,
    "start_time": "2021-06-28T21:46:44.209Z"
   },
   {
    "duration": 9,
    "start_time": "2021-06-28T21:46:45.206Z"
   },
   {
    "duration": 84,
    "start_time": "2021-06-28T21:48:22.349Z"
   },
   {
    "duration": 37,
    "start_time": "2021-06-28T21:48:22.738Z"
   },
   {
    "duration": 9,
    "start_time": "2021-06-28T21:48:23.208Z"
   },
   {
    "duration": 85,
    "start_time": "2021-06-28T21:49:38.913Z"
   },
   {
    "duration": 41,
    "start_time": "2021-06-28T21:49:39.431Z"
   },
   {
    "duration": 9,
    "start_time": "2021-06-28T21:49:39.943Z"
   },
   {
    "duration": 87,
    "start_time": "2021-06-28T21:50:15.923Z"
   },
   {
    "duration": 39,
    "start_time": "2021-06-28T21:50:16.308Z"
   },
   {
    "duration": 9,
    "start_time": "2021-06-28T21:50:16.703Z"
   },
   {
    "duration": 84,
    "start_time": "2021-06-28T21:50:53.081Z"
   },
   {
    "duration": 40,
    "start_time": "2021-06-28T21:50:53.392Z"
   },
   {
    "duration": 10,
    "start_time": "2021-06-28T21:50:53.752Z"
   },
   {
    "duration": 88,
    "start_time": "2021-06-28T21:52:05.352Z"
   },
   {
    "duration": 41,
    "start_time": "2021-06-28T21:52:06.613Z"
   },
   {
    "duration": 10,
    "start_time": "2021-06-28T21:52:06.657Z"
   },
   {
    "duration": 91,
    "start_time": "2021-06-28T21:53:30.856Z"
   },
   {
    "duration": 67,
    "start_time": "2021-06-28T21:53:31.425Z"
   },
   {
    "duration": 12,
    "start_time": "2021-06-28T21:53:32.287Z"
   },
   {
    "duration": 92,
    "start_time": "2021-06-28T21:55:36.599Z"
   },
   {
    "duration": 47,
    "start_time": "2021-06-28T21:55:36.969Z"
   },
   {
    "duration": 9,
    "start_time": "2021-06-28T21:55:37.608Z"
   },
   {
    "duration": 96,
    "start_time": "2021-06-28T21:56:09.760Z"
   },
   {
    "duration": 39,
    "start_time": "2021-06-28T21:56:10.026Z"
   },
   {
    "duration": 97,
    "start_time": "2021-06-28T21:56:31.328Z"
   },
   {
    "duration": 39,
    "start_time": "2021-06-28T21:56:31.617Z"
   },
   {
    "duration": 9,
    "start_time": "2021-06-28T21:56:32.095Z"
   },
   {
    "duration": 100,
    "start_time": "2021-06-28T21:57:17.383Z"
   },
   {
    "duration": 46,
    "start_time": "2021-06-28T21:57:17.667Z"
   },
   {
    "duration": 9,
    "start_time": "2021-06-28T21:57:18.098Z"
   },
   {
    "duration": 100,
    "start_time": "2021-06-28T21:57:59.898Z"
   },
   {
    "duration": 48,
    "start_time": "2021-06-28T21:58:00.256Z"
   },
   {
    "duration": 10,
    "start_time": "2021-06-28T21:58:00.794Z"
   },
   {
    "duration": 99,
    "start_time": "2021-06-28T21:58:41.928Z"
   },
   {
    "duration": 38,
    "start_time": "2021-06-28T21:58:42.329Z"
   },
   {
    "duration": 8,
    "start_time": "2021-06-28T21:58:42.921Z"
   },
   {
    "duration": 192,
    "start_time": "2021-06-28T21:59:41.600Z"
   },
   {
    "duration": 41,
    "start_time": "2021-06-28T21:59:42.017Z"
   },
   {
    "duration": 13,
    "start_time": "2021-06-28T21:59:42.489Z"
   },
   {
    "duration": 99,
    "start_time": "2021-06-28T22:02:26.540Z"
   },
   {
    "duration": 39,
    "start_time": "2021-06-28T22:02:26.817Z"
   },
   {
    "duration": 9,
    "start_time": "2021-06-28T22:02:27.487Z"
   },
   {
    "duration": 98,
    "start_time": "2021-06-28T22:03:09.073Z"
   },
   {
    "duration": 43,
    "start_time": "2021-06-28T22:03:09.490Z"
   },
   {
    "duration": 118,
    "start_time": "2021-06-28T22:06:26.208Z"
   },
   {
    "duration": 39,
    "start_time": "2021-06-28T22:06:26.593Z"
   },
   {
    "duration": 9,
    "start_time": "2021-06-28T22:06:27.088Z"
   },
   {
    "duration": 103,
    "start_time": "2021-06-28T22:06:56.953Z"
   },
   {
    "duration": 39,
    "start_time": "2021-06-28T22:06:57.362Z"
   },
   {
    "duration": 9,
    "start_time": "2021-06-28T22:06:58.128Z"
   },
   {
    "duration": 110,
    "start_time": "2021-06-28T22:08:46.751Z"
   },
   {
    "duration": 40,
    "start_time": "2021-06-28T22:08:47.156Z"
   },
   {
    "duration": 10,
    "start_time": "2021-06-28T22:08:47.728Z"
   },
   {
    "duration": 106,
    "start_time": "2021-06-28T22:09:20.545Z"
   },
   {
    "duration": 38,
    "start_time": "2021-06-28T22:09:20.859Z"
   },
   {
    "duration": 9,
    "start_time": "2021-06-28T22:09:21.233Z"
   },
   {
    "duration": 113,
    "start_time": "2021-06-28T22:09:54.770Z"
   },
   {
    "duration": 38,
    "start_time": "2021-06-28T22:09:55.105Z"
   },
   {
    "duration": 9,
    "start_time": "2021-06-28T22:09:55.514Z"
   },
   {
    "duration": 107,
    "start_time": "2021-06-28T22:11:07.263Z"
   },
   {
    "duration": 40,
    "start_time": "2021-06-28T22:11:07.649Z"
   },
   {
    "duration": 9,
    "start_time": "2021-06-28T22:11:08.098Z"
   },
   {
    "duration": 117,
    "start_time": "2021-06-28T22:12:47.299Z"
   },
   {
    "duration": 43,
    "start_time": "2021-06-28T22:12:47.703Z"
   },
   {
    "duration": 10,
    "start_time": "2021-06-28T22:12:48.343Z"
   },
   {
    "duration": 123,
    "start_time": "2021-06-28T22:15:49.029Z"
   },
   {
    "duration": 42,
    "start_time": "2021-06-28T22:15:49.418Z"
   },
   {
    "duration": 10,
    "start_time": "2021-06-28T22:15:49.850Z"
   },
   {
    "duration": 39,
    "start_time": "2021-06-28T22:16:11.757Z"
   },
   {
    "duration": 118,
    "start_time": "2021-06-28T22:16:56.650Z"
   },
   {
    "duration": 40,
    "start_time": "2021-06-28T22:16:57.050Z"
   },
   {
    "duration": 9,
    "start_time": "2021-06-28T22:16:57.642Z"
   },
   {
    "duration": 115,
    "start_time": "2021-06-28T22:17:41.590Z"
   },
   {
    "duration": 39,
    "start_time": "2021-06-28T22:17:41.931Z"
   },
   {
    "duration": 9,
    "start_time": "2021-06-28T22:17:42.288Z"
   },
   {
    "duration": 117,
    "start_time": "2021-06-28T22:18:03.492Z"
   },
   {
    "duration": 39,
    "start_time": "2021-06-28T22:18:03.755Z"
   },
   {
    "duration": 9,
    "start_time": "2021-06-28T22:18:04.112Z"
   },
   {
    "duration": 119,
    "start_time": "2021-06-28T22:18:56.779Z"
   },
   {
    "duration": 38,
    "start_time": "2021-06-28T22:18:57.139Z"
   },
   {
    "duration": 10,
    "start_time": "2021-06-28T22:18:57.577Z"
   },
   {
    "duration": 129,
    "start_time": "2021-06-28T22:19:26.122Z"
   },
   {
    "duration": 61,
    "start_time": "2021-06-28T22:19:26.393Z"
   },
   {
    "duration": 8,
    "start_time": "2021-06-28T22:19:26.785Z"
   },
   {
    "duration": 117,
    "start_time": "2021-06-28T22:19:55.066Z"
   },
   {
    "duration": 38,
    "start_time": "2021-06-28T22:19:55.459Z"
   },
   {
    "duration": 8,
    "start_time": "2021-06-28T22:19:55.828Z"
   },
   {
    "duration": 119,
    "start_time": "2021-06-28T22:20:39.085Z"
   },
   {
    "duration": 39,
    "start_time": "2021-06-28T22:20:39.387Z"
   },
   {
    "duration": 9,
    "start_time": "2021-06-28T22:20:39.817Z"
   },
   {
    "duration": 125,
    "start_time": "2021-06-28T22:21:54.075Z"
   },
   {
    "duration": 39,
    "start_time": "2021-06-28T22:21:54.387Z"
   },
   {
    "duration": 9,
    "start_time": "2021-06-28T22:21:54.770Z"
   },
   {
    "duration": 122,
    "start_time": "2021-06-28T22:22:19.548Z"
   },
   {
    "duration": 41,
    "start_time": "2021-06-28T22:22:19.845Z"
   },
   {
    "duration": 123,
    "start_time": "2021-06-28T22:22:44.834Z"
   },
   {
    "duration": 41,
    "start_time": "2021-06-28T22:22:45.076Z"
   },
   {
    "duration": 125,
    "start_time": "2021-06-28T22:23:15.348Z"
   },
   {
    "duration": 40,
    "start_time": "2021-06-28T22:23:15.642Z"
   },
   {
    "duration": 9,
    "start_time": "2021-06-28T22:23:16.068Z"
   },
   {
    "duration": 123,
    "start_time": "2021-06-28T22:23:43.852Z"
   },
   {
    "duration": 39,
    "start_time": "2021-06-28T22:23:44.124Z"
   },
   {
    "duration": 10,
    "start_time": "2021-06-28T22:23:44.593Z"
   },
   {
    "duration": 130,
    "start_time": "2021-06-28T22:25:07.711Z"
   },
   {
    "duration": 41,
    "start_time": "2021-06-28T22:25:08.076Z"
   },
   {
    "duration": 9,
    "start_time": "2021-06-28T22:25:08.443Z"
   },
   {
    "duration": 132,
    "start_time": "2021-06-28T22:26:29.383Z"
   },
   {
    "duration": 38,
    "start_time": "2021-06-28T22:26:29.741Z"
   },
   {
    "duration": 9,
    "start_time": "2021-06-28T22:26:30.194Z"
   },
   {
    "duration": 38,
    "start_time": "2021-06-28T22:26:52.598Z"
   },
   {
    "duration": 10,
    "start_time": "2021-06-28T22:27:00.666Z"
   },
   {
    "duration": 38,
    "start_time": "2021-06-28T22:27:09.949Z"
   },
   {
    "duration": 129,
    "start_time": "2021-06-28T22:27:55.243Z"
   },
   {
    "duration": 39,
    "start_time": "2021-06-28T22:27:55.539Z"
   },
   {
    "duration": 126,
    "start_time": "2021-06-28T22:28:00.091Z"
   },
   {
    "duration": 38,
    "start_time": "2021-06-28T22:28:00.484Z"
   },
   {
    "duration": 10,
    "start_time": "2021-06-28T22:28:02.066Z"
   },
   {
    "duration": 130,
    "start_time": "2021-06-28T22:32:09.087Z"
   },
   {
    "duration": 39,
    "start_time": "2021-06-28T22:32:09.340Z"
   },
   {
    "duration": 9,
    "start_time": "2021-06-28T22:32:12.202Z"
   },
   {
    "duration": 131,
    "start_time": "2021-06-28T22:33:03.996Z"
   },
   {
    "duration": 39,
    "start_time": "2021-06-28T22:33:04.341Z"
   },
   {
    "duration": 9,
    "start_time": "2021-06-28T22:33:04.706Z"
   },
   {
    "duration": 130,
    "start_time": "2021-06-28T22:34:01.832Z"
   },
   {
    "duration": 37,
    "start_time": "2021-06-28T22:34:02.125Z"
   },
   {
    "duration": 144,
    "start_time": "2021-06-28T22:34:33.956Z"
   },
   {
    "duration": 143,
    "start_time": "2021-06-28T22:34:59.701Z"
   },
   {
    "duration": 40,
    "start_time": "2021-06-28T22:34:59.991Z"
   },
   {
    "duration": 9,
    "start_time": "2021-06-28T22:35:00.555Z"
   },
   {
    "duration": 40,
    "start_time": "2021-06-28T22:35:56.980Z"
   },
   {
    "duration": 37,
    "start_time": "2021-06-28T22:36:09.365Z"
   },
   {
    "duration": 9,
    "start_time": "2021-06-28T22:36:17.451Z"
   },
   {
    "duration": 42,
    "start_time": "2021-06-28T22:36:28.957Z"
   },
   {
    "duration": 136,
    "start_time": "2021-06-28T22:36:59.949Z"
   },
   {
    "duration": 37,
    "start_time": "2021-06-28T22:37:00.332Z"
   },
   {
    "duration": 131,
    "start_time": "2021-06-28T22:37:30.476Z"
   },
   {
    "duration": 40,
    "start_time": "2021-06-28T22:37:30.764Z"
   },
   {
    "duration": 10,
    "start_time": "2021-06-28T22:37:31.099Z"
   },
   {
    "duration": 132,
    "start_time": "2021-06-28T22:38:22.228Z"
   },
   {
    "duration": 38,
    "start_time": "2021-06-28T22:38:22.557Z"
   },
   {
    "duration": 10,
    "start_time": "2021-06-28T22:38:22.995Z"
   },
   {
    "duration": 134,
    "start_time": "2021-06-28T22:38:53.485Z"
   },
   {
    "duration": 38,
    "start_time": "2021-06-28T22:38:53.894Z"
   },
   {
    "duration": 10,
    "start_time": "2021-06-28T22:38:54.444Z"
   },
   {
    "duration": 135,
    "start_time": "2021-06-28T22:39:21.708Z"
   },
   {
    "duration": 38,
    "start_time": "2021-06-28T22:39:22.020Z"
   },
   {
    "duration": 137,
    "start_time": "2021-06-28T22:40:01.878Z"
   },
   {
    "duration": 39,
    "start_time": "2021-06-28T22:40:02.017Z"
   },
   {
    "duration": 38,
    "start_time": "2021-06-28T22:40:24.460Z"
   },
   {
    "duration": 131,
    "start_time": "2021-06-28T22:41:04.343Z"
   },
   {
    "duration": 38,
    "start_time": "2021-06-28T22:41:04.749Z"
   },
   {
    "duration": 9,
    "start_time": "2021-06-28T22:41:05.203Z"
   },
   {
    "duration": 150,
    "start_time": "2021-06-28T22:42:49.672Z"
   },
   {
    "duration": 40,
    "start_time": "2021-06-28T22:42:50.041Z"
   },
   {
    "duration": 9,
    "start_time": "2021-06-28T22:42:50.452Z"
   },
   {
    "duration": 129,
    "start_time": "2021-06-28T22:43:44.445Z"
   },
   {
    "duration": 40,
    "start_time": "2021-06-28T22:43:44.805Z"
   },
   {
    "duration": 9,
    "start_time": "2021-06-28T22:43:45.171Z"
   },
   {
    "duration": 132,
    "start_time": "2021-06-28T22:44:27.437Z"
   },
   {
    "duration": 38,
    "start_time": "2021-06-28T22:44:27.791Z"
   },
   {
    "duration": 9,
    "start_time": "2021-06-28T22:44:28.147Z"
   },
   {
    "duration": 133,
    "start_time": "2021-06-28T22:44:53.422Z"
   },
   {
    "duration": 41,
    "start_time": "2021-06-28T22:44:53.686Z"
   },
   {
    "duration": 139,
    "start_time": "2021-06-28T22:44:54.486Z"
   },
   {
    "duration": 42,
    "start_time": "2021-06-28T22:44:55.133Z"
   },
   {
    "duration": 9,
    "start_time": "2021-06-28T22:45:01.373Z"
   },
   {
    "duration": 136,
    "start_time": "2021-06-28T22:45:58.178Z"
   },
   {
    "duration": 38,
    "start_time": "2021-06-28T22:45:58.452Z"
   },
   {
    "duration": 10,
    "start_time": "2021-06-28T22:45:58.947Z"
   },
   {
    "duration": 139,
    "start_time": "2021-06-28T22:46:25.176Z"
   },
   {
    "duration": 36,
    "start_time": "2021-06-28T22:46:25.405Z"
   },
   {
    "duration": 9,
    "start_time": "2021-06-28T22:46:25.781Z"
   },
   {
    "duration": 136,
    "start_time": "2021-06-28T22:47:25.019Z"
   },
   {
    "duration": 40,
    "start_time": "2021-06-28T22:47:25.376Z"
   },
   {
    "duration": 9,
    "start_time": "2021-06-28T22:47:25.807Z"
   },
   {
    "duration": 138,
    "start_time": "2021-06-28T22:49:22.105Z"
   },
   {
    "duration": 39,
    "start_time": "2021-06-28T22:49:22.601Z"
   },
   {
    "duration": 9,
    "start_time": "2021-06-28T22:49:23.395Z"
   },
   {
    "duration": 337,
    "start_time": "2021-06-28T22:50:20.244Z"
   },
   {
    "duration": 282,
    "start_time": "2021-06-28T22:51:44.605Z"
   },
   {
    "duration": 13,
    "start_time": "2021-06-28T22:52:01.804Z"
   },
   {
    "duration": 96,
    "start_time": "2021-06-28T22:52:46.221Z"
   },
   {
    "duration": 8,
    "start_time": "2021-06-28T22:52:57.453Z"
   },
   {
    "duration": 11,
    "start_time": "2021-06-28T22:53:05.390Z"
   },
   {
    "duration": 316,
    "start_time": "2021-06-28T22:53:55.061Z"
   },
   {
    "duration": 12,
    "start_time": "2021-06-28T22:54:04.095Z"
   },
   {
    "duration": 16,
    "start_time": "2021-06-28T22:54:24.543Z"
   },
   {
    "duration": 500,
    "start_time": "2021-06-28T22:58:04.908Z"
   },
   {
    "duration": 469,
    "start_time": "2021-06-28T22:58:22.366Z"
   },
   {
    "duration": 97,
    "start_time": "2021-06-28T22:58:29.125Z"
   },
   {
    "duration": 12,
    "start_time": "2021-06-28T22:59:07.326Z"
   },
   {
    "duration": 110,
    "start_time": "2021-06-28T22:59:09.981Z"
   },
   {
    "duration": 1380,
    "start_time": "2021-06-28T22:59:18.215Z"
   },
   {
    "duration": 9,
    "start_time": "2021-06-28T23:00:43.270Z"
   },
   {
    "duration": 11,
    "start_time": "2021-06-28T23:00:59.068Z"
   },
   {
    "duration": 11,
    "start_time": "2021-06-28T23:01:09.284Z"
   },
   {
    "duration": 3571,
    "start_time": "2021-06-28T23:01:32.909Z"
   },
   {
    "duration": 1316,
    "start_time": "2021-06-28T23:04:34.784Z"
   },
   {
    "duration": 290,
    "start_time": "2021-06-28T23:05:29.039Z"
   },
   {
    "duration": 501,
    "start_time": "2021-06-28T23:06:30.279Z"
   },
   {
    "duration": 13,
    "start_time": "2021-06-28T23:07:16.649Z"
   },
   {
    "duration": 474,
    "start_time": "2021-06-28T23:07:17.406Z"
   },
   {
    "duration": 10,
    "start_time": "2021-06-28T23:10:22.544Z"
   },
   {
    "duration": 30,
    "start_time": "2021-06-28T23:10:46.966Z"
   },
   {
    "duration": 278,
    "start_time": "2021-06-28T23:16:37.177Z"
   },
   {
    "duration": 308,
    "start_time": "2021-06-28T23:20:23.929Z"
   },
   {
    "duration": 1863,
    "start_time": "2021-06-28T23:21:18.862Z"
   },
   {
    "duration": 33,
    "start_time": "2021-06-28T23:21:20.728Z"
   },
   {
    "duration": 24,
    "start_time": "2021-06-28T23:21:20.765Z"
   },
   {
    "duration": 10,
    "start_time": "2021-06-28T23:21:20.792Z"
   },
   {
    "duration": 15,
    "start_time": "2021-06-28T23:21:20.804Z"
   },
   {
    "duration": 26,
    "start_time": "2021-06-28T23:21:20.821Z"
   },
   {
    "duration": 38,
    "start_time": "2021-06-28T23:21:20.849Z"
   },
   {
    "duration": 13,
    "start_time": "2021-06-28T23:21:20.890Z"
   },
   {
    "duration": 15,
    "start_time": "2021-06-28T23:21:20.906Z"
   },
   {
    "duration": 25,
    "start_time": "2021-06-28T23:21:20.923Z"
   },
   {
    "duration": 431,
    "start_time": "2021-06-28T23:21:20.951Z"
   },
   {
    "duration": 20,
    "start_time": "2021-06-28T23:21:21.385Z"
   },
   {
    "duration": 7,
    "start_time": "2021-06-28T23:21:21.407Z"
   },
   {
    "duration": 427,
    "start_time": "2021-06-28T23:21:21.416Z"
   },
   {
    "duration": 15,
    "start_time": "2021-06-28T23:21:21.845Z"
   },
   {
    "duration": 22,
    "start_time": "2021-06-28T23:21:21.862Z"
   },
   {
    "duration": 15,
    "start_time": "2021-06-28T23:21:21.887Z"
   },
   {
    "duration": 19,
    "start_time": "2021-06-28T23:21:21.905Z"
   },
   {
    "duration": 65,
    "start_time": "2021-06-28T23:21:21.927Z"
   },
   {
    "duration": 269,
    "start_time": "2021-06-28T23:21:21.994Z"
   },
   {
    "duration": 5,
    "start_time": "2021-06-28T23:21:22.265Z"
   },
   {
    "duration": 12,
    "start_time": "2021-06-28T23:21:22.283Z"
   },
   {
    "duration": 3256,
    "start_time": "2021-06-28T23:21:22.299Z"
   },
   {
    "duration": 34,
    "start_time": "2021-06-28T23:21:25.558Z"
   },
   {
    "duration": 161,
    "start_time": "2021-06-28T23:21:25.594Z"
   },
   {
    "duration": 47,
    "start_time": "2021-06-28T23:21:25.757Z"
   },
   {
    "duration": 9,
    "start_time": "2021-06-28T23:21:25.807Z"
   },
   {
    "duration": 447,
    "start_time": "2021-06-28T23:21:25.818Z"
   },
   {
    "duration": -55,
    "start_time": "2021-06-28T23:21:26.322Z"
   },
   {
    "duration": -59,
    "start_time": "2021-06-28T23:21:26.328Z"
   },
   {
    "duration": 13,
    "start_time": "2021-06-28T23:22:03.699Z"
   },
   {
    "duration": 323,
    "start_time": "2021-06-28T23:29:28.923Z"
   },
   {
    "duration": 41,
    "start_time": "2021-06-28T23:29:39.660Z"
   },
   {
    "duration": 290,
    "start_time": "2021-06-28T23:30:09.689Z"
   },
   {
    "duration": 29,
    "start_time": "2021-06-28T23:30:26.460Z"
   },
   {
    "duration": 153,
    "start_time": "2021-06-28T23:30:35.275Z"
   },
   {
    "duration": 7,
    "start_time": "2021-06-28T23:31:32.748Z"
   },
   {
    "duration": 13,
    "start_time": "2021-06-28T23:32:01.892Z"
   },
   {
    "duration": 92,
    "start_time": "2021-06-28T23:33:05.471Z"
   },
   {
    "duration": 47,
    "start_time": "2021-06-28T23:33:25.285Z"
   },
   {
    "duration": 43,
    "start_time": "2021-06-28T23:33:38.204Z"
   },
   {
    "duration": 122,
    "start_time": "2021-06-28T23:37:09.829Z"
   },
   {
    "duration": 279,
    "start_time": "2021-06-28T23:37:52.747Z"
   },
   {
    "duration": 306,
    "start_time": "2021-06-28T23:38:17.132Z"
   },
   {
    "duration": 42,
    "start_time": "2021-06-28T23:38:29.191Z"
   },
   {
    "duration": 294,
    "start_time": "2021-06-28T23:41:34.486Z"
   },
   {
    "duration": 280,
    "start_time": "2021-06-28T23:41:42.070Z"
   },
   {
    "duration": 44,
    "start_time": "2021-06-28T23:41:58.236Z"
   },
   {
    "duration": 46,
    "start_time": "2021-06-28T23:42:12.709Z"
   },
   {
    "duration": 43,
    "start_time": "2021-06-28T23:42:42.181Z"
   },
   {
    "duration": 9,
    "start_time": "2021-06-28T23:43:34.756Z"
   },
   {
    "duration": 9,
    "start_time": "2021-06-28T23:43:43.501Z"
   },
   {
    "duration": 8,
    "start_time": "2021-06-28T23:44:49.577Z"
   },
   {
    "duration": 107,
    "start_time": "2021-06-28T23:47:15.388Z"
   },
   {
    "duration": 287,
    "start_time": "2021-06-28T23:48:46.285Z"
   },
   {
    "duration": 311,
    "start_time": "2021-06-28T23:53:07.705Z"
   },
   {
    "duration": 43,
    "start_time": "2021-06-28T23:54:27.854Z"
   },
   {
    "duration": 315,
    "start_time": "2021-06-28T23:55:20.317Z"
   },
   {
    "duration": 289,
    "start_time": "2021-06-28T23:56:50.177Z"
   },
   {
    "duration": 277,
    "start_time": "2021-06-28T23:57:08.302Z"
   },
   {
    "duration": 283,
    "start_time": "2021-06-28T23:58:45.703Z"
   },
   {
    "duration": 311,
    "start_time": "2021-06-28T23:59:05.863Z"
   },
   {
    "duration": 291,
    "start_time": "2021-06-28T23:59:23.286Z"
   },
   {
    "duration": 7,
    "start_time": "2021-06-29T00:00:26.710Z"
   },
   {
    "duration": 293,
    "start_time": "2021-06-29T00:03:20.311Z"
   },
   {
    "duration": 281,
    "start_time": "2021-06-29T00:03:37.983Z"
   },
   {
    "duration": 26,
    "start_time": "2021-06-29T00:05:50.878Z"
   },
   {
    "duration": 475,
    "start_time": "2021-06-29T00:06:30.295Z"
   },
   {
    "duration": 475,
    "start_time": "2021-06-29T00:06:37.967Z"
   },
   {
    "duration": 492,
    "start_time": "2021-06-29T00:07:14.846Z"
   },
   {
    "duration": 435,
    "start_time": "2021-06-29T00:07:21.959Z"
   },
   {
    "duration": 27,
    "start_time": "2021-06-29T00:07:54.191Z"
   },
   {
    "duration": 1255,
    "start_time": "2021-06-29T00:08:04.034Z"
   },
   {
    "duration": 12,
    "start_time": "2021-06-29T00:12:15.104Z"
   },
   {
    "duration": 33,
    "start_time": "2021-06-29T00:12:27.617Z"
   },
   {
    "duration": 291,
    "start_time": "2021-06-29T00:14:41.300Z"
   },
   {
    "duration": 32,
    "start_time": "2021-06-29T00:16:34.696Z"
   },
   {
    "duration": 1124,
    "start_time": "2021-06-29T00:18:31.667Z"
   },
   {
    "duration": 31,
    "start_time": "2021-06-29T00:18:46.586Z"
   },
   {
    "duration": 26,
    "start_time": "2021-06-29T00:19:02.531Z"
   },
   {
    "duration": 26,
    "start_time": "2021-06-29T00:19:14.434Z"
   },
   {
    "duration": 27,
    "start_time": "2021-06-29T00:19:25.913Z"
   },
   {
    "duration": 89,
    "start_time": "2021-06-29T00:22:46.124Z"
   },
   {
    "duration": 137,
    "start_time": "2021-06-29T00:23:09.242Z"
   },
   {
    "duration": 101,
    "start_time": "2021-06-29T00:24:01.658Z"
   },
   {
    "duration": 28,
    "start_time": "2021-06-29T00:24:06.849Z"
   },
   {
    "duration": 25,
    "start_time": "2021-06-29T00:24:45.618Z"
   },
   {
    "duration": 98,
    "start_time": "2021-06-29T00:27:06.057Z"
   },
   {
    "duration": 27,
    "start_time": "2021-06-29T00:27:16.060Z"
   },
   {
    "duration": 108,
    "start_time": "2021-06-29T00:29:13.282Z"
   },
   {
    "duration": 92,
    "start_time": "2021-06-29T00:33:05.674Z"
   },
   {
    "duration": 105,
    "start_time": "2021-06-29T00:33:15.050Z"
   },
   {
    "duration": 279,
    "start_time": "2021-06-29T00:33:24.892Z"
   },
   {
    "duration": 5,
    "start_time": "2021-06-29T00:34:33.961Z"
   },
   {
    "duration": 1196,
    "start_time": "2021-06-29T00:37:03.703Z"
   },
   {
    "duration": 12,
    "start_time": "2021-06-29T00:37:18.907Z"
   },
   {
    "duration": 42,
    "start_time": "2021-06-29T00:38:03.827Z"
   },
   {
    "duration": 1387,
    "start_time": "2021-06-29T00:38:09.532Z"
   },
   {
    "duration": 31,
    "start_time": "2021-06-29T00:38:10.922Z"
   },
   {
    "duration": 19,
    "start_time": "2021-06-29T00:38:10.956Z"
   },
   {
    "duration": 9,
    "start_time": "2021-06-29T00:38:10.984Z"
   },
   {
    "duration": 15,
    "start_time": "2021-06-29T00:38:10.995Z"
   },
   {
    "duration": 21,
    "start_time": "2021-06-29T00:38:11.012Z"
   },
   {
    "duration": 16,
    "start_time": "2021-06-29T00:38:11.036Z"
   },
   {
    "duration": 38,
    "start_time": "2021-06-29T00:38:11.055Z"
   },
   {
    "duration": 17,
    "start_time": "2021-06-29T00:38:11.097Z"
   },
   {
    "duration": 31,
    "start_time": "2021-06-29T00:38:11.117Z"
   },
   {
    "duration": 424,
    "start_time": "2021-06-29T00:38:11.151Z"
   },
   {
    "duration": 16,
    "start_time": "2021-06-29T00:38:11.578Z"
   },
   {
    "duration": 7,
    "start_time": "2021-06-29T00:38:11.597Z"
   },
   {
    "duration": 431,
    "start_time": "2021-06-29T00:38:11.606Z"
   },
   {
    "duration": 16,
    "start_time": "2021-06-29T00:38:12.039Z"
   },
   {
    "duration": 26,
    "start_time": "2021-06-29T00:38:12.057Z"
   },
   {
    "duration": 17,
    "start_time": "2021-06-29T00:38:12.085Z"
   },
   {
    "duration": 21,
    "start_time": "2021-06-29T00:38:12.105Z"
   },
   {
    "duration": 66,
    "start_time": "2021-06-29T00:38:12.129Z"
   },
   {
    "duration": 262,
    "start_time": "2021-06-29T00:38:12.198Z"
   },
   {
    "duration": 23,
    "start_time": "2021-06-29T00:38:12.463Z"
   },
   {
    "duration": 20,
    "start_time": "2021-06-29T00:38:12.489Z"
   },
   {
    "duration": 3271,
    "start_time": "2021-06-29T00:38:12.512Z"
   },
   {
    "duration": 25,
    "start_time": "2021-06-29T00:38:15.786Z"
   },
   {
    "duration": 162,
    "start_time": "2021-06-29T00:38:15.814Z"
   },
   {
    "duration": 40,
    "start_time": "2021-06-29T00:38:15.984Z"
   },
   {
    "duration": 9,
    "start_time": "2021-06-29T00:38:16.028Z"
   },
   {
    "duration": 99,
    "start_time": "2021-06-29T00:38:16.040Z"
   },
   {
    "duration": 13,
    "start_time": "2021-06-29T00:38:16.142Z"
   },
   {
    "duration": 31,
    "start_time": "2021-06-29T00:38:16.158Z"
   },
   {
    "duration": 9,
    "start_time": "2021-06-29T00:38:16.192Z"
   },
   {
    "duration": 18,
    "start_time": "2021-06-29T00:38:16.203Z"
   },
   {
    "duration": 406,
    "start_time": "2021-06-29T00:40:18.305Z"
   },
   {
    "duration": 282,
    "start_time": "2021-06-29T00:40:42.368Z"
   },
   {
    "duration": 113,
    "start_time": "2021-06-29T00:43:10.824Z"
   },
   {
    "duration": 1338,
    "start_time": "2021-06-29T00:45:07.244Z"
   },
   {
    "duration": 1167,
    "start_time": "2021-06-29T00:45:20.478Z"
   },
   {
    "duration": 1359,
    "start_time": "2021-06-29T00:46:23.379Z"
   },
   {
    "duration": 1206,
    "start_time": "2021-06-29T00:46:35.348Z"
   },
   {
    "duration": 1232,
    "start_time": "2021-06-29T00:46:39.899Z"
   },
   {
    "duration": 67,
    "start_time": "2021-06-29T00:47:15.747Z"
   },
   {
    "duration": 4,
    "start_time": "2021-06-29T00:48:28.818Z"
   },
   {
    "duration": 295,
    "start_time": "2021-06-29T00:53:46.556Z"
   },
   {
    "duration": 282,
    "start_time": "2021-06-29T00:54:01.683Z"
   },
   {
    "duration": 199,
    "start_time": "2021-06-29T00:54:26.789Z"
   },
   {
    "duration": 133,
    "start_time": "2021-06-29T00:55:30.513Z"
   },
   {
    "duration": 147,
    "start_time": "2021-06-29T00:55:40.679Z"
   },
   {
    "duration": 7,
    "start_time": "2021-06-29T00:55:56.204Z"
   },
   {
    "duration": 294,
    "start_time": "2021-06-29T00:59:27.086Z"
   },
   {
    "duration": 277,
    "start_time": "2021-06-29T01:00:04.731Z"
   },
   {
    "duration": 218,
    "start_time": "2021-06-29T01:00:24.954Z"
   },
   {
    "duration": 2407,
    "start_time": "2021-06-29T01:00:41.609Z"
   },
   {
    "duration": 61,
    "start_time": "2021-06-29T01:05:03.955Z"
   },
   {
    "duration": 208,
    "start_time": "2021-06-29T01:05:21.627Z"
   },
   {
    "duration": 66,
    "start_time": "2021-06-29T01:05:26.458Z"
   },
   {
    "duration": 7,
    "start_time": "2021-06-29T01:05:33.883Z"
   },
   {
    "duration": 62,
    "start_time": "2021-06-29T01:05:45.922Z"
   },
   {
    "duration": 105,
    "start_time": "2021-06-29T01:10:27.603Z"
   },
   {
    "duration": 8,
    "start_time": "2021-06-29T01:10:42.578Z"
   },
   {
    "duration": 8,
    "start_time": "2021-06-29T01:10:54.012Z"
   },
   {
    "duration": 4,
    "start_time": "2021-06-29T01:17:13.211Z"
   },
   {
    "duration": 37,
    "start_time": "2021-06-29T01:17:26.492Z"
   },
   {
    "duration": 143,
    "start_time": "2021-06-29T01:21:58.241Z"
   },
   {
    "duration": 100,
    "start_time": "2021-06-29T01:22:27.428Z"
   },
   {
    "duration": 130,
    "start_time": "2021-06-29T01:23:59.269Z"
   },
   {
    "duration": 98,
    "start_time": "2021-06-29T01:24:31.765Z"
   },
   {
    "duration": 98,
    "start_time": "2021-06-29T01:25:13.631Z"
   },
   {
    "duration": 109,
    "start_time": "2021-06-29T01:25:46.876Z"
   },
   {
    "duration": 90,
    "start_time": "2021-06-29T01:27:35.550Z"
   },
   {
    "duration": 106,
    "start_time": "2021-06-29T01:29:35.333Z"
   },
   {
    "duration": 106,
    "start_time": "2021-06-29T01:30:09.326Z"
   },
   {
    "duration": 116,
    "start_time": "2021-06-29T01:31:37.271Z"
   },
   {
    "duration": 238,
    "start_time": "2021-06-29T01:31:56.221Z"
   },
   {
    "duration": 39,
    "start_time": "2021-06-29T01:32:02.161Z"
   },
   {
    "duration": 250,
    "start_time": "2021-06-29T01:32:27.806Z"
   },
   {
    "duration": 38,
    "start_time": "2021-06-29T01:32:33.693Z"
   },
   {
    "duration": 323,
    "start_time": "2021-06-29T01:53:19.823Z"
   },
   {
    "duration": 295,
    "start_time": "2021-06-29T01:54:25.306Z"
   },
   {
    "duration": 313,
    "start_time": "2021-06-29T01:55:01.197Z"
   },
   {
    "duration": 183,
    "start_time": "2021-06-29T01:57:21.138Z"
   },
   {
    "duration": 7,
    "start_time": "2021-06-29T01:57:28.362Z"
   },
   {
    "duration": 6,
    "start_time": "2021-06-29T01:57:46.034Z"
   },
   {
    "duration": 124,
    "start_time": "2021-06-29T01:57:54.730Z"
   },
   {
    "duration": 8,
    "start_time": "2021-06-29T01:57:56.442Z"
   },
   {
    "duration": 7,
    "start_time": "2021-06-29T01:58:02.828Z"
   },
   {
    "duration": 200,
    "start_time": "2021-06-29T01:58:06.758Z"
   },
   {
    "duration": 1377,
    "start_time": "2021-06-29T01:58:59.266Z"
   },
   {
    "duration": 32,
    "start_time": "2021-06-29T01:59:00.646Z"
   },
   {
    "duration": 20,
    "start_time": "2021-06-29T01:59:00.681Z"
   },
   {
    "duration": 15,
    "start_time": "2021-06-29T01:59:00.704Z"
   },
   {
    "duration": 24,
    "start_time": "2021-06-29T01:59:00.721Z"
   },
   {
    "duration": 37,
    "start_time": "2021-06-29T01:59:00.747Z"
   },
   {
    "duration": 17,
    "start_time": "2021-06-29T01:59:00.787Z"
   },
   {
    "duration": 17,
    "start_time": "2021-06-29T01:59:00.808Z"
   },
   {
    "duration": 20,
    "start_time": "2021-06-29T01:59:00.828Z"
   },
   {
    "duration": 52,
    "start_time": "2021-06-29T01:59:00.850Z"
   },
   {
    "duration": 428,
    "start_time": "2021-06-29T01:59:00.905Z"
   },
   {
    "duration": 22,
    "start_time": "2021-06-29T01:59:01.335Z"
   },
   {
    "duration": 7,
    "start_time": "2021-06-29T01:59:01.359Z"
   },
   {
    "duration": 414,
    "start_time": "2021-06-29T01:59:01.383Z"
   },
   {
    "duration": 17,
    "start_time": "2021-06-29T01:59:01.799Z"
   },
   {
    "duration": 27,
    "start_time": "2021-06-29T01:59:01.818Z"
   },
   {
    "duration": 38,
    "start_time": "2021-06-29T01:59:01.848Z"
   },
   {
    "duration": 26,
    "start_time": "2021-06-29T01:59:01.889Z"
   },
   {
    "duration": 34,
    "start_time": "2021-06-29T01:59:01.918Z"
   },
   {
    "duration": 284,
    "start_time": "2021-06-29T01:59:01.954Z"
   },
   {
    "duration": 6,
    "start_time": "2021-06-29T01:59:02.240Z"
   },
   {
    "duration": 20,
    "start_time": "2021-06-29T01:59:02.249Z"
   },
   {
    "duration": 3211,
    "start_time": "2021-06-29T01:59:02.286Z"
   },
   {
    "duration": 25,
    "start_time": "2021-06-29T01:59:05.500Z"
   },
   {
    "duration": 164,
    "start_time": "2021-06-29T01:59:05.527Z"
   },
   {
    "duration": 41,
    "start_time": "2021-06-29T01:59:05.693Z"
   },
   {
    "duration": 9,
    "start_time": "2021-06-29T01:59:05.737Z"
   },
   {
    "duration": 81,
    "start_time": "2021-06-29T01:59:05.748Z"
   },
   {
    "duration": 8,
    "start_time": "2021-06-29T01:59:05.832Z"
   },
   {
    "duration": 8,
    "start_time": "2021-06-29T01:59:05.842Z"
   },
   {
    "duration": 210,
    "start_time": "2021-06-29T01:59:05.884Z"
   },
   {
    "duration": 36,
    "start_time": "2021-06-29T01:59:06.096Z"
   },
   {
    "duration": 22,
    "start_time": "2021-06-29T01:59:36.510Z"
   },
   {
    "duration": 6,
    "start_time": "2021-06-29T08:23:54.631Z"
   },
   {
    "duration": 10,
    "start_time": "2021-06-29T08:24:05.222Z"
   },
   {
    "duration": 7387,
    "start_time": "2021-06-29T08:39:58.013Z"
   },
   {
    "duration": -64,
    "start_time": "2021-06-29T08:40:05.467Z"
   },
   {
    "duration": 1390,
    "start_time": "2021-06-29T08:40:12.649Z"
   },
   {
    "duration": 33,
    "start_time": "2021-06-29T08:40:14.041Z"
   },
   {
    "duration": 19,
    "start_time": "2021-06-29T08:40:14.077Z"
   },
   {
    "duration": 16,
    "start_time": "2021-06-29T08:40:14.099Z"
   },
   {
    "duration": 15,
    "start_time": "2021-06-29T08:40:14.118Z"
   },
   {
    "duration": 16,
    "start_time": "2021-06-29T08:40:14.135Z"
   },
   {
    "duration": 44,
    "start_time": "2021-06-29T08:40:14.153Z"
   },
   {
    "duration": 14,
    "start_time": "2021-06-29T08:40:14.201Z"
   },
   {
    "duration": 13,
    "start_time": "2021-06-29T08:40:14.218Z"
   },
   {
    "duration": 55,
    "start_time": "2021-06-29T08:40:14.233Z"
   },
   {
    "duration": 417,
    "start_time": "2021-06-29T08:40:14.290Z"
   },
   {
    "duration": 16,
    "start_time": "2021-06-29T08:40:14.710Z"
   },
   {
    "duration": 10,
    "start_time": "2021-06-29T08:40:14.728Z"
   },
   {
    "duration": 408,
    "start_time": "2021-06-29T08:40:14.740Z"
   },
   {
    "duration": 17,
    "start_time": "2021-06-29T08:40:15.150Z"
   },
   {
    "duration": 5,
    "start_time": "2021-06-29T08:40:15.183Z"
   },
   {
    "duration": 23,
    "start_time": "2021-06-29T08:40:15.191Z"
   },
   {
    "duration": 21,
    "start_time": "2021-06-29T08:40:15.216Z"
   },
   {
    "duration": 57,
    "start_time": "2021-06-29T08:40:15.239Z"
   },
   {
    "duration": 289,
    "start_time": "2021-06-29T08:40:15.299Z"
   },
   {
    "duration": 7,
    "start_time": "2021-06-29T08:40:15.590Z"
   },
   {
    "duration": 13,
    "start_time": "2021-06-29T08:40:15.599Z"
   },
   {
    "duration": 3500,
    "start_time": "2021-06-29T08:40:15.617Z"
   },
   {
    "duration": 27,
    "start_time": "2021-06-29T08:40:19.121Z"
   },
   {
    "duration": 168,
    "start_time": "2021-06-29T08:40:19.151Z"
   },
   {
    "duration": 41,
    "start_time": "2021-06-29T08:40:19.322Z"
   },
   {
    "duration": 23,
    "start_time": "2021-06-29T08:40:19.365Z"
   },
   {
    "duration": 99,
    "start_time": "2021-06-29T08:40:19.391Z"
   },
   {
    "duration": 7,
    "start_time": "2021-06-29T08:40:19.492Z"
   },
   {
    "duration": 9,
    "start_time": "2021-06-29T08:40:19.501Z"
   },
   {
    "duration": 8,
    "start_time": "2021-06-29T08:40:19.512Z"
   },
   {
    "duration": 510,
    "start_time": "2021-06-29T08:40:19.522Z"
   },
   {
    "duration": 23,
    "start_time": "2021-06-29T08:40:20.034Z"
   },
   {
    "duration": 400,
    "start_time": "2021-06-29T08:41:07.609Z"
   },
   {
    "duration": 23,
    "start_time": "2021-06-29T08:41:08.144Z"
   },
   {
    "duration": 1396,
    "start_time": "2021-06-29T08:41:45.040Z"
   },
   {
    "duration": 32,
    "start_time": "2021-06-29T08:41:46.438Z"
   },
   {
    "duration": 24,
    "start_time": "2021-06-29T08:41:46.474Z"
   },
   {
    "duration": 15,
    "start_time": "2021-06-29T08:41:46.501Z"
   },
   {
    "duration": 11,
    "start_time": "2021-06-29T08:41:46.518Z"
   },
   {
    "duration": 15,
    "start_time": "2021-06-29T08:41:46.532Z"
   },
   {
    "duration": 45,
    "start_time": "2021-06-29T08:41:46.549Z"
   },
   {
    "duration": 14,
    "start_time": "2021-06-29T08:41:46.598Z"
   },
   {
    "duration": 27,
    "start_time": "2021-06-29T08:41:46.615Z"
   },
   {
    "duration": 40,
    "start_time": "2021-06-29T08:41:46.645Z"
   },
   {
    "duration": 435,
    "start_time": "2021-06-29T08:41:46.688Z"
   },
   {
    "duration": 25,
    "start_time": "2021-06-29T08:41:47.126Z"
   },
   {
    "duration": 10,
    "start_time": "2021-06-29T08:41:47.155Z"
   },
   {
    "duration": 422,
    "start_time": "2021-06-29T08:41:47.182Z"
   },
   {
    "duration": 18,
    "start_time": "2021-06-29T08:41:47.607Z"
   },
   {
    "duration": 18,
    "start_time": "2021-06-29T08:41:47.628Z"
   },
   {
    "duration": 38,
    "start_time": "2021-06-29T08:41:47.648Z"
   },
   {
    "duration": 23,
    "start_time": "2021-06-29T08:41:47.688Z"
   },
   {
    "duration": 36,
    "start_time": "2021-06-29T08:41:47.714Z"
   },
   {
    "duration": 318,
    "start_time": "2021-06-29T08:41:47.753Z"
   },
   {
    "duration": 7,
    "start_time": "2021-06-29T08:41:48.082Z"
   },
   {
    "duration": 27,
    "start_time": "2021-06-29T08:41:48.091Z"
   },
   {
    "duration": 3239,
    "start_time": "2021-06-29T08:41:48.123Z"
   },
   {
    "duration": 38,
    "start_time": "2021-06-29T08:41:51.365Z"
   },
   {
    "duration": 172,
    "start_time": "2021-06-29T08:41:51.406Z"
   },
   {
    "duration": 41,
    "start_time": "2021-06-29T08:41:51.580Z"
   },
   {
    "duration": 8,
    "start_time": "2021-06-29T08:41:51.624Z"
   },
   {
    "duration": 112,
    "start_time": "2021-06-29T08:41:51.634Z"
   },
   {
    "duration": 15,
    "start_time": "2021-06-29T08:41:51.748Z"
   },
   {
    "duration": 18,
    "start_time": "2021-06-29T08:41:51.766Z"
   },
   {
    "duration": 19,
    "start_time": "2021-06-29T08:41:51.786Z"
   },
   {
    "duration": 476,
    "start_time": "2021-06-29T08:41:51.807Z"
   },
   {
    "duration": 21,
    "start_time": "2021-06-29T08:41:52.286Z"
   },
   {
    "duration": 5,
    "start_time": "2021-06-29T08:42:09.343Z"
   },
   {
    "duration": 7,
    "start_time": "2021-06-29T08:42:27.142Z"
   },
   {
    "duration": 55,
    "start_time": "2021-06-29T08:42:42.591Z"
   },
   {
    "duration": 9,
    "start_time": "2021-06-29T08:42:43.622Z"
   },
   {
    "duration": 6,
    "start_time": "2021-06-29T08:43:01.448Z"
   },
   {
    "duration": 7,
    "start_time": "2021-06-29T08:43:02.567Z"
   },
   {
    "duration": 391,
    "start_time": "2021-06-29T08:43:03.071Z"
   },
   {
    "duration": 25,
    "start_time": "2021-06-29T08:43:04.321Z"
   },
   {
    "duration": 88,
    "start_time": "2021-06-29T08:45:30.952Z"
   },
   {
    "duration": 9,
    "start_time": "2021-06-29T08:45:32.159Z"
   },
   {
    "duration": 143,
    "start_time": "2021-06-29T08:45:42.248Z"
   },
   {
    "duration": 9,
    "start_time": "2021-06-29T08:45:43.062Z"
   },
   {
    "duration": 6,
    "start_time": "2021-06-29T08:45:43.816Z"
   },
   {
    "duration": 6,
    "start_time": "2021-06-29T08:45:44.631Z"
   },
   {
    "duration": 393,
    "start_time": "2021-06-29T08:45:45.159Z"
   },
   {
    "duration": 23,
    "start_time": "2021-06-29T08:45:45.567Z"
   },
   {
    "duration": 86,
    "start_time": "2021-06-29T08:45:54.073Z"
   },
   {
    "duration": 9,
    "start_time": "2021-06-29T08:45:54.960Z"
   },
   {
    "duration": 7,
    "start_time": "2021-06-29T08:45:55.694Z"
   },
   {
    "duration": 97,
    "start_time": "2021-06-29T08:46:06.797Z"
   },
   {
    "duration": 96,
    "start_time": "2021-06-29T08:47:41.249Z"
   },
   {
    "duration": 144,
    "start_time": "2021-06-29T08:48:39.623Z"
   },
   {
    "duration": 7,
    "start_time": "2021-06-29T08:59:32.724Z"
   },
   {
    "duration": 388,
    "start_time": "2021-06-29T08:59:55.419Z"
   },
   {
    "duration": 321,
    "start_time": "2021-06-29T09:00:21.105Z"
   },
   {
    "duration": 7,
    "start_time": "2021-06-29T09:01:15.785Z"
   },
   {
    "duration": 6,
    "start_time": "2021-06-29T09:07:54.124Z"
   },
   {
    "duration": 5,
    "start_time": "2021-06-29T09:08:40.171Z"
   },
   {
    "duration": 7,
    "start_time": "2021-06-29T09:08:47.713Z"
   },
   {
    "duration": 530,
    "start_time": "2021-06-29T11:03:43.981Z"
   },
   {
    "duration": 6,
    "start_time": "2021-06-29T11:03:54.443Z"
   },
   {
    "duration": 5,
    "start_time": "2021-06-29T11:04:09.322Z"
   },
   {
    "duration": 6,
    "start_time": "2021-06-29T11:04:27.155Z"
   },
   {
    "duration": 510,
    "start_time": "2021-06-29T11:04:32.301Z"
   },
   {
    "duration": 8,
    "start_time": "2021-06-29T11:04:37.138Z"
   },
   {
    "duration": 9,
    "start_time": "2021-06-29T11:07:02.995Z"
   },
   {
    "duration": 8,
    "start_time": "2021-06-29T11:07:29.154Z"
   },
   {
    "duration": 7,
    "start_time": "2021-06-29T11:07:45.859Z"
   },
   {
    "duration": 7,
    "start_time": "2021-06-29T11:11:25.037Z"
   },
   {
    "duration": 7,
    "start_time": "2021-06-29T11:12:30.835Z"
   },
   {
    "duration": 7,
    "start_time": "2021-06-29T11:12:33.812Z"
   },
   {
    "duration": 7,
    "start_time": "2021-06-29T11:12:48.972Z"
   },
   {
    "duration": 1618,
    "start_time": "2021-06-29T11:13:28.152Z"
   },
   {
    "duration": 39,
    "start_time": "2021-06-29T11:13:29.772Z"
   },
   {
    "duration": 18,
    "start_time": "2021-06-29T11:13:29.814Z"
   },
   {
    "duration": 12,
    "start_time": "2021-06-29T11:13:29.834Z"
   },
   {
    "duration": 39,
    "start_time": "2021-06-29T11:13:29.848Z"
   },
   {
    "duration": 20,
    "start_time": "2021-06-29T11:13:29.891Z"
   },
   {
    "duration": 21,
    "start_time": "2021-06-29T11:13:29.915Z"
   },
   {
    "duration": 48,
    "start_time": "2021-06-29T11:13:29.938Z"
   },
   {
    "duration": 13,
    "start_time": "2021-06-29T11:13:29.991Z"
   },
   {
    "duration": 27,
    "start_time": "2021-06-29T11:13:30.009Z"
   },
   {
    "duration": 428,
    "start_time": "2021-06-29T11:13:30.038Z"
   },
   {
    "duration": 32,
    "start_time": "2021-06-29T11:13:30.468Z"
   },
   {
    "duration": 8,
    "start_time": "2021-06-29T11:13:30.504Z"
   },
   {
    "duration": 421,
    "start_time": "2021-06-29T11:13:30.514Z"
   },
   {
    "duration": 16,
    "start_time": "2021-06-29T11:13:30.938Z"
   },
   {
    "duration": 26,
    "start_time": "2021-06-29T11:13:30.957Z"
   },
   {
    "duration": 25,
    "start_time": "2021-06-29T11:13:30.987Z"
   },
   {
    "duration": 33,
    "start_time": "2021-06-29T11:13:31.014Z"
   },
   {
    "duration": 53,
    "start_time": "2021-06-29T11:13:31.050Z"
   },
   {
    "duration": 320,
    "start_time": "2021-06-29T11:13:31.106Z"
   },
   {
    "duration": 7,
    "start_time": "2021-06-29T11:13:31.429Z"
   },
   {
    "duration": 20,
    "start_time": "2021-06-29T11:13:31.438Z"
   },
   {
    "duration": 3546,
    "start_time": "2021-06-29T11:13:31.461Z"
   },
   {
    "duration": 27,
    "start_time": "2021-06-29T11:13:35.010Z"
   },
   {
    "duration": 182,
    "start_time": "2021-06-29T11:13:35.040Z"
   },
   {
    "duration": 59,
    "start_time": "2021-06-29T11:13:35.224Z"
   },
   {
    "duration": 14,
    "start_time": "2021-06-29T11:13:35.290Z"
   },
   {
    "duration": 147,
    "start_time": "2021-06-29T11:13:35.308Z"
   },
   {
    "duration": 9,
    "start_time": "2021-06-29T11:13:35.457Z"
   },
   {
    "duration": 19,
    "start_time": "2021-06-29T11:13:35.484Z"
   },
   {
    "duration": 14,
    "start_time": "2021-06-29T11:13:35.506Z"
   },
   {
    "duration": 30,
    "start_time": "2021-06-29T11:13:35.523Z"
   },
   {
    "duration": 548,
    "start_time": "2021-06-29T11:13:35.556Z"
   },
   {
    "duration": 23,
    "start_time": "2021-06-29T11:13:36.107Z"
   },
   {
    "duration": 778,
    "start_time": "2021-06-29T11:17:03.403Z"
   },
   {
    "duration": 1194,
    "start_time": "2021-06-29T11:20:34.148Z"
   },
   {
    "duration": 1164,
    "start_time": "2021-06-29T11:22:23.257Z"
   },
   {
    "duration": 38,
    "start_time": "2021-06-29T11:22:36.072Z"
   },
   {
    "duration": 57,
    "start_time": "2021-06-29T11:22:48.745Z"
   },
   {
    "duration": 63,
    "start_time": "2021-06-29T11:23:15.226Z"
   },
   {
    "duration": 47,
    "start_time": "2021-06-29T11:23:43.317Z"
   },
   {
    "duration": 68,
    "start_time": "2021-06-29T11:23:58.949Z"
   },
   {
    "duration": 40,
    "start_time": "2021-06-29T11:24:39.833Z"
   },
   {
    "duration": 1592,
    "start_time": "2021-06-29T11:24:54.453Z"
   },
   {
    "duration": 33,
    "start_time": "2021-06-29T11:24:56.048Z"
   },
   {
    "duration": 23,
    "start_time": "2021-06-29T11:24:56.086Z"
   },
   {
    "duration": 13,
    "start_time": "2021-06-29T11:24:56.113Z"
   },
   {
    "duration": 12,
    "start_time": "2021-06-29T11:24:56.128Z"
   },
   {
    "duration": 53,
    "start_time": "2021-06-29T11:24:56.142Z"
   },
   {
    "duration": 19,
    "start_time": "2021-06-29T11:24:56.199Z"
   },
   {
    "duration": 15,
    "start_time": "2021-06-29T11:24:56.224Z"
   },
   {
    "duration": 55,
    "start_time": "2021-06-29T11:24:56.244Z"
   },
   {
    "duration": 37,
    "start_time": "2021-06-29T11:24:56.303Z"
   },
   {
    "duration": 503,
    "start_time": "2021-06-29T11:24:56.343Z"
   },
   {
    "duration": 31,
    "start_time": "2021-06-29T11:24:56.848Z"
   },
   {
    "duration": 11,
    "start_time": "2021-06-29T11:24:56.885Z"
   },
   {
    "duration": 520,
    "start_time": "2021-06-29T11:24:56.900Z"
   },
   {
    "duration": 17,
    "start_time": "2021-06-29T11:24:57.423Z"
   },
   {
    "duration": 12,
    "start_time": "2021-06-29T11:24:57.443Z"
   },
   {
    "duration": 42,
    "start_time": "2021-06-29T11:24:57.457Z"
   },
   {
    "duration": 21,
    "start_time": "2021-06-29T11:24:57.501Z"
   },
   {
    "duration": 32,
    "start_time": "2021-06-29T11:24:57.524Z"
   },
   {
    "duration": 340,
    "start_time": "2021-06-29T11:24:57.559Z"
   },
   {
    "duration": 7,
    "start_time": "2021-06-29T11:24:57.902Z"
   },
   {
    "duration": 16,
    "start_time": "2021-06-29T11:24:57.911Z"
   },
   {
    "duration": 3681,
    "start_time": "2021-06-29T11:24:57.932Z"
   },
   {
    "duration": 27,
    "start_time": "2021-06-29T11:25:01.616Z"
   },
   {
    "duration": 185,
    "start_time": "2021-06-29T11:25:01.645Z"
   },
   {
    "duration": 52,
    "start_time": "2021-06-29T11:25:01.832Z"
   },
   {
    "duration": 13,
    "start_time": "2021-06-29T11:25:01.888Z"
   },
   {
    "duration": 122,
    "start_time": "2021-06-29T11:25:01.904Z"
   },
   {
    "duration": 9,
    "start_time": "2021-06-29T11:25:02.028Z"
   },
   {
    "duration": 27,
    "start_time": "2021-06-29T11:25:02.039Z"
   },
   {
    "duration": 30,
    "start_time": "2021-06-29T11:25:02.069Z"
   },
   {
    "duration": 14,
    "start_time": "2021-06-29T11:25:02.102Z"
   },
   {
    "duration": 53,
    "start_time": "2021-06-29T11:25:02.119Z"
   },
   {
    "duration": 543,
    "start_time": "2021-06-29T11:25:02.175Z"
   },
   {
    "duration": 25,
    "start_time": "2021-06-29T11:25:02.720Z"
   },
   {
    "duration": 1684,
    "start_time": "2021-06-29T11:25:44.478Z"
   },
   {
    "duration": 33,
    "start_time": "2021-06-29T11:25:46.165Z"
   },
   {
    "duration": 20,
    "start_time": "2021-06-29T11:25:46.201Z"
   },
   {
    "duration": 11,
    "start_time": "2021-06-29T11:25:46.224Z"
   },
   {
    "duration": 52,
    "start_time": "2021-06-29T11:25:46.237Z"
   },
   {
    "duration": 18,
    "start_time": "2021-06-29T11:25:46.293Z"
   },
   {
    "duration": 19,
    "start_time": "2021-06-29T11:25:46.313Z"
   },
   {
    "duration": 50,
    "start_time": "2021-06-29T11:25:46.335Z"
   },
   {
    "duration": 10,
    "start_time": "2021-06-29T11:25:46.392Z"
   },
   {
    "duration": 30,
    "start_time": "2021-06-29T11:25:46.406Z"
   },
   {
    "duration": 453,
    "start_time": "2021-06-29T11:25:46.440Z"
   },
   {
    "duration": 24,
    "start_time": "2021-06-29T11:25:46.895Z"
   },
   {
    "duration": 7,
    "start_time": "2021-06-29T11:25:46.922Z"
   },
   {
    "duration": 448,
    "start_time": "2021-06-29T11:25:46.932Z"
   },
   {
    "duration": 25,
    "start_time": "2021-06-29T11:25:47.383Z"
   },
   {
    "duration": 10,
    "start_time": "2021-06-29T11:25:47.412Z"
   },
   {
    "duration": 28,
    "start_time": "2021-06-29T11:25:47.425Z"
   },
   {
    "duration": 33,
    "start_time": "2021-06-29T11:25:47.484Z"
   },
   {
    "duration": 36,
    "start_time": "2021-06-29T11:25:47.520Z"
   },
   {
    "duration": 325,
    "start_time": "2021-06-29T11:25:47.558Z"
   },
   {
    "duration": 7,
    "start_time": "2021-06-29T11:25:47.885Z"
   },
   {
    "duration": 17,
    "start_time": "2021-06-29T11:25:47.895Z"
   },
   {
    "duration": 3817,
    "start_time": "2021-06-29T11:25:47.916Z"
   },
   {
    "duration": 28,
    "start_time": "2021-06-29T11:25:51.735Z"
   },
   {
    "duration": 180,
    "start_time": "2021-06-29T11:25:51.765Z"
   },
   {
    "duration": 61,
    "start_time": "2021-06-29T11:25:51.947Z"
   },
   {
    "duration": 11,
    "start_time": "2021-06-29T11:25:52.015Z"
   },
   {
    "duration": 121,
    "start_time": "2021-06-29T11:25:52.029Z"
   },
   {
    "duration": 8,
    "start_time": "2021-06-29T11:25:52.153Z"
   },
   {
    "duration": 26,
    "start_time": "2021-06-29T11:25:52.164Z"
   },
   {
    "duration": 11,
    "start_time": "2021-06-29T11:25:52.193Z"
   },
   {
    "duration": 13,
    "start_time": "2021-06-29T11:25:52.206Z"
   },
   {
    "duration": 83,
    "start_time": "2021-06-29T11:25:52.222Z"
   },
   {
    "duration": 557,
    "start_time": "2021-06-29T11:25:52.307Z"
   },
   {
    "duration": 34,
    "start_time": "2021-06-29T11:25:52.867Z"
   },
   {
    "duration": 41,
    "start_time": "2021-06-29T11:26:20.072Z"
   },
   {
    "duration": 5,
    "start_time": "2021-06-29T11:26:31.127Z"
   },
   {
    "duration": 40,
    "start_time": "2021-06-29T11:26:51.233Z"
   },
   {
    "duration": 140,
    "start_time": "2021-06-29T11:27:34.479Z"
   },
   {
    "duration": 92,
    "start_time": "2021-06-29T11:27:58.095Z"
   },
   {
    "duration": 15,
    "start_time": "2021-06-29T11:28:08.238Z"
   },
   {
    "duration": 11,
    "start_time": "2021-06-29T11:28:13.520Z"
   },
   {
    "duration": 10,
    "start_time": "2021-06-29T11:31:01.257Z"
   },
   {
    "duration": 11,
    "start_time": "2021-06-29T11:31:04.847Z"
   },
   {
    "duration": 9,
    "start_time": "2021-06-29T11:40:36.912Z"
   },
   {
    "duration": 2034,
    "start_time": "2021-06-29T12:27:20.098Z"
   },
   {
    "duration": 41,
    "start_time": "2021-06-29T12:27:22.135Z"
   },
   {
    "duration": 29,
    "start_time": "2021-06-29T12:27:22.180Z"
   },
   {
    "duration": 15,
    "start_time": "2021-06-29T12:27:22.214Z"
   },
   {
    "duration": 12,
    "start_time": "2021-06-29T12:27:22.232Z"
   },
   {
    "duration": 43,
    "start_time": "2021-06-29T12:27:22.247Z"
   },
   {
    "duration": 18,
    "start_time": "2021-06-29T12:27:22.292Z"
   },
   {
    "duration": 20,
    "start_time": "2021-06-29T12:27:22.312Z"
   },
   {
    "duration": 15,
    "start_time": "2021-06-29T12:27:22.337Z"
   },
   {
    "duration": 55,
    "start_time": "2021-06-29T12:27:22.356Z"
   },
   {
    "duration": 444,
    "start_time": "2021-06-29T12:27:22.414Z"
   },
   {
    "duration": 27,
    "start_time": "2021-06-29T12:27:22.861Z"
   },
   {
    "duration": 13,
    "start_time": "2021-06-29T12:27:22.890Z"
   },
   {
    "duration": 451,
    "start_time": "2021-06-29T12:27:22.905Z"
   },
   {
    "duration": 26,
    "start_time": "2021-06-29T12:27:23.359Z"
   },
   {
    "duration": 6,
    "start_time": "2021-06-29T12:27:23.389Z"
   },
   {
    "duration": 20,
    "start_time": "2021-06-29T12:27:23.398Z"
   },
   {
    "duration": 22,
    "start_time": "2021-06-29T12:27:23.421Z"
   },
   {
    "duration": 74,
    "start_time": "2021-06-29T12:27:23.445Z"
   },
   {
    "duration": 317,
    "start_time": "2021-06-29T12:27:23.522Z"
   },
   {
    "duration": 7,
    "start_time": "2021-06-29T12:27:23.843Z"
   },
   {
    "duration": 37,
    "start_time": "2021-06-29T12:27:23.853Z"
   },
   {
    "duration": 3923,
    "start_time": "2021-06-29T12:27:23.894Z"
   },
   {
    "duration": 27,
    "start_time": "2021-06-29T12:27:27.821Z"
   },
   {
    "duration": 186,
    "start_time": "2021-06-29T12:27:27.851Z"
   },
   {
    "duration": 51,
    "start_time": "2021-06-29T12:27:28.039Z"
   },
   {
    "duration": 13,
    "start_time": "2021-06-29T12:27:28.095Z"
   },
   {
    "duration": 118,
    "start_time": "2021-06-29T12:27:28.110Z"
   },
   {
    "duration": 12,
    "start_time": "2021-06-29T12:27:28.231Z"
   },
   {
    "duration": 9,
    "start_time": "2021-06-29T12:27:28.247Z"
   },
   {
    "duration": 110,
    "start_time": "2021-06-29T12:27:28.284Z"
   },
   {
    "duration": 34,
    "start_time": "2021-06-29T12:27:28.397Z"
   },
   {
    "duration": 37,
    "start_time": "2021-06-29T12:28:16.692Z"
   },
   {
    "duration": 6,
    "start_time": "2021-06-29T12:31:20.026Z"
   },
   {
    "duration": 5,
    "start_time": "2021-06-29T12:31:41.105Z"
   },
   {
    "duration": 7,
    "start_time": "2021-06-29T16:11:40.496Z"
   },
   {
    "duration": 94,
    "start_time": "2021-06-29T16:11:41.034Z"
   },
   {
    "duration": 4,
    "start_time": "2021-06-29T16:11:41.514Z"
   },
   {
    "duration": 6,
    "start_time": "2021-06-29T16:12:44.894Z"
   },
   {
    "duration": 4,
    "start_time": "2021-06-29T16:12:47.707Z"
   },
   {
    "duration": 11,
    "start_time": "2021-06-29T16:12:48.987Z"
   },
   {
    "duration": 4,
    "start_time": "2021-06-29T16:12:49.874Z"
   },
   {
    "duration": 4,
    "start_time": "2021-06-29T16:12:50.979Z"
   },
   {
    "duration": 7,
    "start_time": "2021-06-29T16:12:51.986Z"
   },
   {
    "duration": 4,
    "start_time": "2021-06-29T16:12:52.858Z"
   },
   {
    "duration": 406,
    "start_time": "2021-06-29T16:12:55.154Z"
   },
   {
    "duration": 91,
    "start_time": "2021-06-29T16:14:15.356Z"
   },
   {
    "duration": 97,
    "start_time": "2021-06-29T16:14:25.811Z"
   },
   {
    "duration": 91,
    "start_time": "2021-06-29T16:14:38.924Z"
   },
   {
    "duration": 117,
    "start_time": "2021-06-29T16:14:44.611Z"
   },
   {
    "duration": 89,
    "start_time": "2021-06-29T16:14:54.018Z"
   },
   {
    "duration": 130,
    "start_time": "2021-06-29T16:15:00.115Z"
   },
   {
    "duration": 99,
    "start_time": "2021-06-29T16:15:24.203Z"
   },
   {
    "duration": 86,
    "start_time": "2021-06-29T16:15:30.174Z"
   },
   {
    "duration": 110,
    "start_time": "2021-06-29T16:15:38.554Z"
   },
   {
    "duration": 86,
    "start_time": "2021-06-29T16:15:44.634Z"
   },
   {
    "duration": 89,
    "start_time": "2021-06-29T16:15:49.807Z"
   },
   {
    "duration": 88,
    "start_time": "2021-06-29T16:15:55.831Z"
   },
   {
    "duration": 84,
    "start_time": "2021-06-29T16:16:18.259Z"
   },
   {
    "duration": 93,
    "start_time": "2021-06-29T16:16:33.203Z"
   },
   {
    "duration": 5,
    "start_time": "2021-06-29T16:17:12.557Z"
   },
   {
    "duration": 260,
    "start_time": "2021-06-29T16:17:16.730Z"
   },
   {
    "duration": 5,
    "start_time": "2021-06-29T16:23:00.131Z"
   },
   {
    "duration": 5,
    "start_time": "2021-06-29T16:23:20.467Z"
   },
   {
    "duration": 84,
    "start_time": "2021-06-29T16:25:33.291Z"
   },
   {
    "duration": 6,
    "start_time": "2021-06-29T16:25:41.755Z"
   },
   {
    "duration": 6,
    "start_time": "2021-06-29T16:25:51.821Z"
   },
   {
    "duration": 5,
    "start_time": "2021-06-29T16:25:56.256Z"
   },
   {
    "duration": 3,
    "start_time": "2021-06-29T16:26:18.376Z"
   },
   {
    "duration": 6,
    "start_time": "2021-06-29T16:36:21.131Z"
   },
   {
    "duration": 7,
    "start_time": "2021-06-29T16:39:07.709Z"
   },
   {
    "duration": 6,
    "start_time": "2021-06-29T16:39:19.095Z"
   },
   {
    "duration": 6,
    "start_time": "2021-06-29T16:39:31.645Z"
   },
   {
    "duration": 6,
    "start_time": "2021-06-29T16:39:42.516Z"
   },
   {
    "duration": 52,
    "start_time": "2021-06-29T16:39:43.412Z"
   },
   {
    "duration": 61,
    "start_time": "2021-06-29T16:39:53.164Z"
   },
   {
    "duration": 16,
    "start_time": "2021-06-29T16:40:19.242Z"
   },
   {
    "duration": 8,
    "start_time": "2021-06-29T16:41:19.346Z"
   },
   {
    "duration": 63,
    "start_time": "2021-06-29T16:41:47.973Z"
   },
   {
    "duration": 63,
    "start_time": "2021-06-29T16:42:00.194Z"
   },
   {
    "duration": 142,
    "start_time": "2021-06-29T16:44:57.447Z"
   },
   {
    "duration": 8,
    "start_time": "2021-06-29T16:45:30.832Z"
   },
   {
    "duration": 1457,
    "start_time": "2021-06-30T06:14:06.365Z"
   },
   {
    "duration": 33,
    "start_time": "2021-06-30T06:14:07.825Z"
   },
   {
    "duration": 19,
    "start_time": "2021-06-30T06:14:07.861Z"
   },
   {
    "duration": 17,
    "start_time": "2021-06-30T06:14:07.883Z"
   },
   {
    "duration": 29,
    "start_time": "2021-06-30T06:14:07.903Z"
   },
   {
    "duration": 26,
    "start_time": "2021-06-30T06:14:07.934Z"
   },
   {
    "duration": 18,
    "start_time": "2021-06-30T06:14:07.962Z"
   },
   {
    "duration": 15,
    "start_time": "2021-06-30T06:14:07.984Z"
   },
   {
    "duration": 17,
    "start_time": "2021-06-30T06:14:08.003Z"
   },
   {
    "duration": 56,
    "start_time": "2021-06-30T06:14:08.022Z"
   },
   {
    "duration": 416,
    "start_time": "2021-06-30T06:14:08.081Z"
   },
   {
    "duration": 21,
    "start_time": "2021-06-30T06:14:08.499Z"
   },
   {
    "duration": 8,
    "start_time": "2021-06-30T06:14:08.522Z"
   },
   {
    "duration": 419,
    "start_time": "2021-06-30T06:14:08.533Z"
   },
   {
    "duration": 17,
    "start_time": "2021-06-30T06:14:08.955Z"
   },
   {
    "duration": 8,
    "start_time": "2021-06-30T06:14:08.974Z"
   },
   {
    "duration": 26,
    "start_time": "2021-06-30T06:14:08.984Z"
   },
   {
    "duration": 46,
    "start_time": "2021-06-30T06:14:09.012Z"
   },
   {
    "duration": 35,
    "start_time": "2021-06-30T06:14:09.060Z"
   },
   {
    "duration": 362,
    "start_time": "2021-06-30T06:14:09.098Z"
   },
   {
    "duration": 6,
    "start_time": "2021-06-30T06:14:09.462Z"
   },
   {
    "duration": 16,
    "start_time": "2021-06-30T06:14:09.470Z"
   },
   {
    "duration": 3373,
    "start_time": "2021-06-30T06:14:09.491Z"
   },
   {
    "duration": 27,
    "start_time": "2021-06-30T06:14:12.867Z"
   },
   {
    "duration": 101,
    "start_time": "2021-06-30T06:14:12.896Z"
   },
   {
    "duration": 8,
    "start_time": "2021-06-30T06:14:12.999Z"
   },
   {
    "duration": 61,
    "start_time": "2021-06-30T06:14:13.010Z"
   },
   {
    "duration": 84,
    "start_time": "2021-06-30T06:14:13.073Z"
   },
   {
    "duration": 6,
    "start_time": "2021-06-30T06:14:13.159Z"
   },
   {
    "duration": 27,
    "start_time": "2021-06-30T06:14:13.167Z"
   },
   {
    "duration": 26,
    "start_time": "2021-06-30T06:14:13.196Z"
   },
   {
    "duration": 43,
    "start_time": "2021-06-30T06:14:13.224Z"
   },
   {
    "duration": 26,
    "start_time": "2021-06-30T06:14:13.270Z"
   },
   {
    "duration": 16,
    "start_time": "2021-06-30T06:14:13.298Z"
   },
   {
    "duration": 28,
    "start_time": "2021-06-30T06:14:13.316Z"
   },
   {
    "duration": 33,
    "start_time": "2021-06-30T06:14:13.346Z"
   },
   {
    "duration": 26,
    "start_time": "2021-06-30T06:14:13.382Z"
   },
   {
    "duration": 24,
    "start_time": "2021-06-30T06:14:13.410Z"
   },
   {
    "duration": 27,
    "start_time": "2021-06-30T06:14:13.437Z"
   },
   {
    "duration": 80,
    "start_time": "2021-06-30T06:14:13.467Z"
   },
   {
    "duration": 10,
    "start_time": "2021-06-30T06:14:13.550Z"
   },
   {
    "duration": 22,
    "start_time": "2021-06-30T06:14:13.562Z"
   },
   {
    "duration": 1497,
    "start_time": "2021-06-30T17:30:14.537Z"
   },
   {
    "duration": 36,
    "start_time": "2021-06-30T17:30:16.036Z"
   },
   {
    "duration": 21,
    "start_time": "2021-06-30T17:30:16.075Z"
   },
   {
    "duration": 20,
    "start_time": "2021-06-30T17:30:16.098Z"
   },
   {
    "duration": 37,
    "start_time": "2021-06-30T17:30:16.120Z"
   },
   {
    "duration": 14,
    "start_time": "2021-06-30T17:30:16.159Z"
   },
   {
    "duration": 16,
    "start_time": "2021-06-30T17:30:16.176Z"
   },
   {
    "duration": 28,
    "start_time": "2021-06-30T17:30:16.196Z"
   },
   {
    "duration": 32,
    "start_time": "2021-06-30T17:30:16.227Z"
   },
   {
    "duration": 29,
    "start_time": "2021-06-30T17:30:16.261Z"
   },
   {
    "duration": 435,
    "start_time": "2021-06-30T17:30:16.293Z"
   },
   {
    "duration": 29,
    "start_time": "2021-06-30T17:30:16.731Z"
   },
   {
    "duration": 7,
    "start_time": "2021-06-30T17:30:16.763Z"
   },
   {
    "duration": 455,
    "start_time": "2021-06-30T17:30:16.773Z"
   },
   {
    "duration": 26,
    "start_time": "2021-06-30T17:30:17.231Z"
   },
   {
    "duration": 8,
    "start_time": "2021-06-30T17:30:17.259Z"
   },
   {
    "duration": 17,
    "start_time": "2021-06-30T17:30:17.270Z"
   },
   {
    "duration": 22,
    "start_time": "2021-06-30T17:30:17.290Z"
   },
   {
    "duration": 69,
    "start_time": "2021-06-30T17:30:17.314Z"
   },
   {
    "duration": 317,
    "start_time": "2021-06-30T17:30:17.385Z"
   },
   {
    "duration": 6,
    "start_time": "2021-06-30T17:30:17.705Z"
   },
   {
    "duration": 12,
    "start_time": "2021-06-30T17:30:17.713Z"
   },
   {
    "duration": 3452,
    "start_time": "2021-06-30T17:30:17.730Z"
   },
   {
    "duration": 27,
    "start_time": "2021-06-30T17:30:21.185Z"
   },
   {
    "duration": 100,
    "start_time": "2021-06-30T17:30:21.215Z"
   },
   {
    "duration": 9,
    "start_time": "2021-06-30T17:30:21.318Z"
   },
   {
    "duration": 26,
    "start_time": "2021-06-30T17:30:21.330Z"
   },
   {
    "duration": 58,
    "start_time": "2021-06-30T17:30:21.359Z"
   },
   {
    "duration": 7,
    "start_time": "2021-06-30T17:30:21.420Z"
   },
   {
    "duration": 32,
    "start_time": "2021-06-30T17:30:21.430Z"
   },
   {
    "duration": 7,
    "start_time": "2021-06-30T17:30:21.465Z"
   },
   {
    "duration": 16,
    "start_time": "2021-06-30T17:30:21.475Z"
   },
   {
    "duration": 9,
    "start_time": "2021-06-30T17:30:21.494Z"
   },
   {
    "duration": 14,
    "start_time": "2021-06-30T17:30:21.506Z"
   },
   {
    "duration": 9,
    "start_time": "2021-06-30T17:30:21.522Z"
   },
   {
    "duration": 23,
    "start_time": "2021-06-30T17:30:21.534Z"
   },
   {
    "duration": 14,
    "start_time": "2021-06-30T17:30:21.561Z"
   },
   {
    "duration": 13,
    "start_time": "2021-06-30T17:30:21.577Z"
   },
   {
    "duration": 12,
    "start_time": "2021-06-30T17:30:21.593Z"
   },
   {
    "duration": 83,
    "start_time": "2021-06-30T17:30:21.608Z"
   },
   {
    "duration": 10,
    "start_time": "2021-06-30T17:30:21.694Z"
   },
   {
    "duration": 21,
    "start_time": "2021-06-30T17:30:21.706Z"
   },
   {
    "duration": 1567,
    "start_time": "2021-07-01T08:21:30.074Z"
   },
   {
    "duration": 33,
    "start_time": "2021-07-01T08:21:31.644Z"
   },
   {
    "duration": 20,
    "start_time": "2021-07-01T08:21:31.680Z"
   },
   {
    "duration": 17,
    "start_time": "2021-07-01T08:21:31.702Z"
   },
   {
    "duration": 35,
    "start_time": "2021-07-01T08:21:31.722Z"
   },
   {
    "duration": 17,
    "start_time": "2021-07-01T08:21:31.759Z"
   },
   {
    "duration": 18,
    "start_time": "2021-07-01T08:21:31.778Z"
   },
   {
    "duration": 20,
    "start_time": "2021-07-01T08:21:31.800Z"
   },
   {
    "duration": 39,
    "start_time": "2021-07-01T08:21:31.825Z"
   },
   {
    "duration": 40,
    "start_time": "2021-07-01T08:21:31.867Z"
   },
   {
    "duration": 483,
    "start_time": "2021-07-01T08:21:31.910Z"
   },
   {
    "duration": 21,
    "start_time": "2021-07-01T08:21:32.396Z"
   },
   {
    "duration": 29,
    "start_time": "2021-07-01T08:21:32.419Z"
   },
   {
    "duration": 525,
    "start_time": "2021-07-01T08:21:32.455Z"
   },
   {
    "duration": 21,
    "start_time": "2021-07-01T08:21:32.982Z"
   },
   {
    "duration": 10,
    "start_time": "2021-07-01T08:21:33.006Z"
   },
   {
    "duration": 50,
    "start_time": "2021-07-01T08:21:33.019Z"
   },
   {
    "duration": 30,
    "start_time": "2021-07-01T08:21:33.072Z"
   },
   {
    "duration": 76,
    "start_time": "2021-07-01T08:21:33.104Z"
   },
   {
    "duration": 442,
    "start_time": "2021-07-01T08:21:33.184Z"
   },
   {
    "duration": 9,
    "start_time": "2021-07-01T08:21:33.629Z"
   },
   {
    "duration": 12,
    "start_time": "2021-07-01T08:21:33.655Z"
   },
   {
    "duration": 4162,
    "start_time": "2021-07-01T08:21:33.673Z"
   },
   {
    "duration": 37,
    "start_time": "2021-07-01T08:21:37.838Z"
   },
   {
    "duration": 104,
    "start_time": "2021-07-01T08:21:37.878Z"
   },
   {
    "duration": 9,
    "start_time": "2021-07-01T08:21:37.984Z"
   },
   {
    "duration": 12,
    "start_time": "2021-07-01T08:21:37.996Z"
   },
   {
    "duration": 86,
    "start_time": "2021-07-01T08:21:38.010Z"
   },
   {
    "duration": 5,
    "start_time": "2021-07-01T08:21:38.099Z"
   },
   {
    "duration": 10,
    "start_time": "2021-07-01T08:21:38.107Z"
   },
   {
    "duration": 9,
    "start_time": "2021-07-01T08:21:38.120Z"
   },
   {
    "duration": 23,
    "start_time": "2021-07-01T08:21:38.131Z"
   },
   {
    "duration": 4,
    "start_time": "2021-07-01T08:21:38.157Z"
   },
   {
    "duration": 6,
    "start_time": "2021-07-01T08:21:38.163Z"
   },
   {
    "duration": 12,
    "start_time": "2021-07-01T08:21:38.172Z"
   },
   {
    "duration": 19,
    "start_time": "2021-07-01T08:21:38.187Z"
   },
   {
    "duration": 6,
    "start_time": "2021-07-01T08:21:38.208Z"
   },
   {
    "duration": 10,
    "start_time": "2021-07-01T08:21:38.217Z"
   },
   {
    "duration": 26,
    "start_time": "2021-07-01T08:21:38.229Z"
   },
   {
    "duration": 68,
    "start_time": "2021-07-01T08:21:38.258Z"
   },
   {
    "duration": 11,
    "start_time": "2021-07-01T08:21:38.354Z"
   },
   {
    "duration": 5,
    "start_time": "2021-07-01T08:21:38.367Z"
   },
   {
    "duration": 36,
    "start_time": "2021-07-01T09:55:49.593Z"
   },
   {
    "duration": 1543,
    "start_time": "2021-07-01T09:59:19.457Z"
   },
   {
    "duration": 9,
    "start_time": "2021-07-01T10:00:37.435Z"
   },
   {
    "duration": 64,
    "start_time": "2021-07-01T10:00:38.172Z"
   },
   {
    "duration": 9,
    "start_time": "2021-07-01T10:00:39.552Z"
   },
   {
    "duration": 36,
    "start_time": "2021-07-01T10:00:40.257Z"
   },
   {
    "duration": 58,
    "start_time": "2021-07-01T10:00:51.774Z"
   },
   {
    "duration": 9,
    "start_time": "2021-07-01T10:00:54.119Z"
   },
   {
    "duration": 29,
    "start_time": "2021-07-01T10:01:10.008Z"
   },
   {
    "duration": 58,
    "start_time": "2021-07-01T10:01:22.767Z"
   },
   {
    "duration": 63,
    "start_time": "2021-07-01T10:02:36.088Z"
   },
   {
    "duration": 1022,
    "start_time": "2021-07-01T10:17:59.518Z"
   },
   {
    "duration": 376,
    "start_time": "2021-07-01T10:18:24.866Z"
   },
   {
    "duration": 443,
    "start_time": "2021-07-01T10:21:25.378Z"
   },
   {
    "duration": 6,
    "start_time": "2021-07-01T10:21:40.531Z"
   },
   {
    "duration": 9,
    "start_time": "2021-07-01T10:21:46.981Z"
   },
   {
    "duration": 10,
    "start_time": "2021-07-01T10:22:05.828Z"
   },
   {
    "duration": 1643,
    "start_time": "2021-07-01T10:22:39.099Z"
   },
   {
    "duration": 44,
    "start_time": "2021-07-01T10:22:40.745Z"
   },
   {
    "duration": 28,
    "start_time": "2021-07-01T10:22:40.793Z"
   },
   {
    "duration": 20,
    "start_time": "2021-07-01T10:22:40.825Z"
   },
   {
    "duration": 16,
    "start_time": "2021-07-01T10:22:40.856Z"
   },
   {
    "duration": 17,
    "start_time": "2021-07-01T10:22:40.874Z"
   },
   {
    "duration": 19,
    "start_time": "2021-07-01T10:22:40.893Z"
   },
   {
    "duration": 50,
    "start_time": "2021-07-01T10:22:40.917Z"
   },
   {
    "duration": 14,
    "start_time": "2021-07-01T10:22:40.971Z"
   },
   {
    "duration": 34,
    "start_time": "2021-07-01T10:22:40.988Z"
   },
   {
    "duration": 429,
    "start_time": "2021-07-01T10:22:41.025Z"
   },
   {
    "duration": 23,
    "start_time": "2021-07-01T10:22:41.457Z"
   },
   {
    "duration": 9,
    "start_time": "2021-07-01T10:22:41.483Z"
   },
   {
    "duration": 425,
    "start_time": "2021-07-01T10:22:41.495Z"
   },
   {
    "duration": 17,
    "start_time": "2021-07-01T10:22:41.923Z"
   },
   {
    "duration": 7,
    "start_time": "2021-07-01T10:22:41.957Z"
   },
   {
    "duration": 34,
    "start_time": "2021-07-01T10:22:41.967Z"
   },
   {
    "duration": 22,
    "start_time": "2021-07-01T10:22:42.004Z"
   },
   {
    "duration": 50,
    "start_time": "2021-07-01T10:22:42.029Z"
   },
   {
    "duration": 308,
    "start_time": "2021-07-01T10:22:42.086Z"
   },
   {
    "duration": 6,
    "start_time": "2021-07-01T10:22:42.397Z"
   },
   {
    "duration": 23,
    "start_time": "2021-07-01T10:22:42.405Z"
   },
   {
    "duration": 3570,
    "start_time": "2021-07-01T10:22:42.434Z"
   },
   {
    "duration": 27,
    "start_time": "2021-07-01T10:22:46.008Z"
   },
   {
    "duration": 94,
    "start_time": "2021-07-01T10:22:46.038Z"
   },
   {
    "duration": 19,
    "start_time": "2021-07-01T10:22:46.135Z"
   },
   {
    "duration": 21,
    "start_time": "2021-07-01T10:22:46.158Z"
   },
   {
    "duration": 70,
    "start_time": "2021-07-01T10:22:46.181Z"
   },
   {
    "duration": 7,
    "start_time": "2021-07-01T10:22:46.253Z"
   },
   {
    "duration": 21,
    "start_time": "2021-07-01T10:22:46.263Z"
   },
   {
    "duration": 17,
    "start_time": "2021-07-01T10:22:46.287Z"
   },
   {
    "duration": 14,
    "start_time": "2021-07-01T10:22:46.306Z"
   },
   {
    "duration": 16,
    "start_time": "2021-07-01T10:22:46.322Z"
   },
   {
    "duration": 21,
    "start_time": "2021-07-01T10:22:46.340Z"
   },
   {
    "duration": 15,
    "start_time": "2021-07-01T10:22:46.364Z"
   },
   {
    "duration": 18,
    "start_time": "2021-07-01T10:22:46.381Z"
   },
   {
    "duration": 8,
    "start_time": "2021-07-01T10:22:46.401Z"
   },
   {
    "duration": 18,
    "start_time": "2021-07-01T10:22:46.412Z"
   },
   {
    "duration": 15,
    "start_time": "2021-07-01T10:22:46.432Z"
   },
   {
    "duration": 79,
    "start_time": "2021-07-01T10:22:46.449Z"
   },
   {
    "duration": 8,
    "start_time": "2021-07-01T10:22:46.531Z"
   },
   {
    "duration": 46,
    "start_time": "2021-07-01T10:22:46.541Z"
   },
   {
    "duration": 83,
    "start_time": "2021-07-01T10:22:46.589Z"
   },
   {
    "duration": 6,
    "start_time": "2021-07-01T10:22:46.674Z"
   },
   {
    "duration": 14,
    "start_time": "2021-07-01T10:22:46.682Z"
   },
   {
    "duration": 59,
    "start_time": "2021-07-01T10:30:41.939Z"
   },
   {
    "duration": 1448,
    "start_time": "2021-07-01T10:31:58.172Z"
   },
   {
    "duration": 33,
    "start_time": "2021-07-01T10:31:59.622Z"
   },
   {
    "duration": 19,
    "start_time": "2021-07-01T10:31:59.658Z"
   },
   {
    "duration": 17,
    "start_time": "2021-07-01T10:31:59.680Z"
   },
   {
    "duration": 23,
    "start_time": "2021-07-01T10:31:59.700Z"
   },
   {
    "duration": 40,
    "start_time": "2021-07-01T10:31:59.726Z"
   },
   {
    "duration": 28,
    "start_time": "2021-07-01T10:31:59.769Z"
   },
   {
    "duration": 20,
    "start_time": "2021-07-01T10:31:59.801Z"
   },
   {
    "duration": 38,
    "start_time": "2021-07-01T10:31:59.824Z"
   },
   {
    "duration": 31,
    "start_time": "2021-07-01T10:31:59.864Z"
   },
   {
    "duration": 412,
    "start_time": "2021-07-01T10:31:59.897Z"
   },
   {
    "duration": 27,
    "start_time": "2021-07-01T10:32:00.312Z"
   },
   {
    "duration": 19,
    "start_time": "2021-07-01T10:32:00.342Z"
   },
   {
    "duration": 526,
    "start_time": "2021-07-01T10:32:00.364Z"
   },
   {
    "duration": 17,
    "start_time": "2021-07-01T10:32:00.893Z"
   },
   {
    "duration": 24,
    "start_time": "2021-07-01T10:32:00.913Z"
   },
   {
    "duration": 40,
    "start_time": "2021-07-01T10:32:00.939Z"
   },
   {
    "duration": 33,
    "start_time": "2021-07-01T10:32:00.982Z"
   },
   {
    "duration": 37,
    "start_time": "2021-07-01T10:32:01.017Z"
   },
   {
    "duration": 297,
    "start_time": "2021-07-01T10:32:01.057Z"
   },
   {
    "duration": 7,
    "start_time": "2021-07-01T10:32:01.357Z"
   },
   {
    "duration": 22,
    "start_time": "2021-07-01T10:32:01.367Z"
   },
   {
    "duration": 3761,
    "start_time": "2021-07-01T10:32:01.394Z"
   },
   {
    "duration": 37,
    "start_time": "2021-07-01T10:32:05.160Z"
   },
   {
    "duration": 146,
    "start_time": "2021-07-01T10:32:05.200Z"
   },
   {
    "duration": 10,
    "start_time": "2021-07-01T10:32:05.355Z"
   },
   {
    "duration": 29,
    "start_time": "2021-07-01T10:32:05.368Z"
   },
   {
    "duration": 109,
    "start_time": "2021-07-01T10:32:05.399Z"
   },
   {
    "duration": 8,
    "start_time": "2021-07-01T10:32:05.511Z"
   },
   {
    "duration": 34,
    "start_time": "2021-07-01T10:32:05.522Z"
   },
   {
    "duration": 30,
    "start_time": "2021-07-01T10:32:05.559Z"
   },
   {
    "duration": 35,
    "start_time": "2021-07-01T10:32:05.592Z"
   },
   {
    "duration": 12,
    "start_time": "2021-07-01T10:32:05.630Z"
   },
   {
    "duration": 21,
    "start_time": "2021-07-01T10:32:05.644Z"
   },
   {
    "duration": 17,
    "start_time": "2021-07-01T10:32:05.668Z"
   },
   {
    "duration": 29,
    "start_time": "2021-07-01T10:32:05.688Z"
   },
   {
    "duration": 26,
    "start_time": "2021-07-01T10:32:05.720Z"
   },
   {
    "duration": 33,
    "start_time": "2021-07-01T10:32:05.749Z"
   },
   {
    "duration": 17,
    "start_time": "2021-07-01T10:32:05.785Z"
   },
   {
    "duration": 87,
    "start_time": "2021-07-01T10:32:05.805Z"
   },
   {
    "duration": 10,
    "start_time": "2021-07-01T10:32:05.895Z"
   },
   {
    "duration": 48,
    "start_time": "2021-07-01T10:32:05.908Z"
   },
   {
    "duration": 85,
    "start_time": "2021-07-01T10:32:05.959Z"
   },
   {
    "duration": 6,
    "start_time": "2021-07-01T10:32:06.046Z"
   },
   {
    "duration": 33,
    "start_time": "2021-07-01T10:32:06.054Z"
   },
   {
    "duration": 31,
    "start_time": "2021-07-01T10:32:52.765Z"
   },
   {
    "duration": 13,
    "start_time": "2021-07-01T10:33:44.981Z"
   },
   {
    "duration": 120,
    "start_time": "2021-07-01T10:34:16.226Z"
   },
   {
    "duration": 17,
    "start_time": "2021-07-01T10:34:22.964Z"
   },
   {
    "duration": 16,
    "start_time": "2021-07-01T10:34:41.251Z"
   },
   {
    "duration": 98,
    "start_time": "2021-07-01T12:44:09.866Z"
   },
   {
    "duration": 38,
    "start_time": "2021-07-01T12:44:27.519Z"
   },
   {
    "duration": 1428,
    "start_time": "2021-07-01T13:29:05.899Z"
   },
   {
    "duration": 34,
    "start_time": "2021-07-01T13:29:07.330Z"
   },
   {
    "duration": 20,
    "start_time": "2021-07-01T13:29:07.367Z"
   },
   {
    "duration": 11,
    "start_time": "2021-07-01T13:29:07.389Z"
   },
   {
    "duration": 11,
    "start_time": "2021-07-01T13:29:07.403Z"
   },
   {
    "duration": 47,
    "start_time": "2021-07-01T13:29:07.417Z"
   },
   {
    "duration": 28,
    "start_time": "2021-07-01T13:29:07.467Z"
   },
   {
    "duration": 19,
    "start_time": "2021-07-01T13:29:07.498Z"
   },
   {
    "duration": 40,
    "start_time": "2021-07-01T13:29:07.522Z"
   },
   {
    "duration": 42,
    "start_time": "2021-07-01T13:29:07.566Z"
   },
   {
    "duration": 486,
    "start_time": "2021-07-01T13:29:07.611Z"
   },
   {
    "duration": 20,
    "start_time": "2021-07-01T13:29:08.100Z"
   },
   {
    "duration": 6,
    "start_time": "2021-07-01T13:29:08.123Z"
   },
   {
    "duration": 435,
    "start_time": "2021-07-01T13:29:08.155Z"
   },
   {
    "duration": 17,
    "start_time": "2021-07-01T13:29:08.592Z"
   },
   {
    "duration": 17,
    "start_time": "2021-07-01T13:29:08.611Z"
   },
   {
    "duration": 34,
    "start_time": "2021-07-01T13:29:08.630Z"
   },
   {
    "duration": 22,
    "start_time": "2021-07-01T13:29:08.666Z"
   },
   {
    "duration": 65,
    "start_time": "2021-07-01T13:29:08.690Z"
   },
   {
    "duration": 303,
    "start_time": "2021-07-01T13:29:08.758Z"
   },
   {
    "duration": 6,
    "start_time": "2021-07-01T13:29:09.063Z"
   },
   {
    "duration": 30,
    "start_time": "2021-07-01T13:29:09.071Z"
   },
   {
    "duration": 3751,
    "start_time": "2021-07-01T13:29:09.104Z"
   },
   {
    "duration": 26,
    "start_time": "2021-07-01T13:29:12.858Z"
   },
   {
    "duration": 108,
    "start_time": "2021-07-01T13:29:12.887Z"
   },
   {
    "duration": 8,
    "start_time": "2021-07-01T13:29:12.998Z"
   },
   {
    "duration": 23,
    "start_time": "2021-07-01T13:29:13.012Z"
   },
   {
    "duration": 84,
    "start_time": "2021-07-01T13:29:13.038Z"
   },
   {
    "duration": 5,
    "start_time": "2021-07-01T13:29:13.125Z"
   },
   {
    "duration": 12,
    "start_time": "2021-07-01T13:29:13.132Z"
   },
   {
    "duration": 17,
    "start_time": "2021-07-01T13:29:13.147Z"
   },
   {
    "duration": 15,
    "start_time": "2021-07-01T13:29:13.166Z"
   },
   {
    "duration": 13,
    "start_time": "2021-07-01T13:29:13.183Z"
   },
   {
    "duration": 17,
    "start_time": "2021-07-01T13:29:13.198Z"
   },
   {
    "duration": 13,
    "start_time": "2021-07-01T13:29:13.218Z"
   },
   {
    "duration": 8,
    "start_time": "2021-07-01T13:29:13.233Z"
   },
   {
    "duration": 10,
    "start_time": "2021-07-01T13:29:13.243Z"
   },
   {
    "duration": 7,
    "start_time": "2021-07-01T13:29:13.255Z"
   },
   {
    "duration": 12,
    "start_time": "2021-07-01T13:29:13.264Z"
   },
   {
    "duration": 81,
    "start_time": "2021-07-01T13:29:13.278Z"
   },
   {
    "duration": 9,
    "start_time": "2021-07-01T13:29:13.361Z"
   },
   {
    "duration": 70,
    "start_time": "2021-07-01T13:29:13.372Z"
   },
   {
    "duration": 5,
    "start_time": "2021-07-01T13:29:13.455Z"
   },
   {
    "duration": 23,
    "start_time": "2021-07-01T13:29:13.462Z"
   },
   {
    "duration": 51,
    "start_time": "2021-07-01T13:29:13.488Z"
   },
   {
    "duration": 11,
    "start_time": "2021-07-01T13:29:13.542Z"
   },
   {
    "duration": 34,
    "start_time": "2021-07-01T13:29:13.556Z"
   },
   {
    "duration": 31,
    "start_time": "2021-07-01T13:29:50.938Z"
   },
   {
    "duration": 30,
    "start_time": "2021-07-01T13:30:38.299Z"
   },
   {
    "duration": 7,
    "start_time": "2021-07-01T13:33:33.897Z"
   },
   {
    "duration": 14,
    "start_time": "2021-07-01T13:33:45.033Z"
   },
   {
    "duration": 9,
    "start_time": "2021-07-01T13:34:12.066Z"
   },
   {
    "duration": 6,
    "start_time": "2021-07-01T13:34:41.917Z"
   },
   {
    "duration": 17,
    "start_time": "2021-07-01T13:34:42.514Z"
   },
   {
    "duration": 10,
    "start_time": "2021-07-01T13:34:43.081Z"
   },
   {
    "duration": 9,
    "start_time": "2021-07-01T13:35:08.832Z"
   },
   {
    "duration": 14,
    "start_time": "2021-07-01T13:35:09.449Z"
   },
   {
    "duration": 11,
    "start_time": "2021-07-01T13:35:09.849Z"
   },
   {
    "duration": 8,
    "start_time": "2021-07-01T13:35:23.805Z"
   },
   {
    "duration": 26,
    "start_time": "2021-07-01T13:35:24.542Z"
   },
   {
    "duration": 9,
    "start_time": "2021-07-01T13:35:24.961Z"
   },
   {
    "duration": 410,
    "start_time": "2021-07-01T13:35:57.770Z"
   },
   {
    "duration": 9,
    "start_time": "2021-07-01T13:37:52.170Z"
   },
   {
    "duration": 22,
    "start_time": "2021-07-01T13:37:54.146Z"
   },
   {
    "duration": 9,
    "start_time": "2021-07-01T13:37:55.185Z"
   },
   {
    "duration": 269,
    "start_time": "2021-07-01T13:38:37.650Z"
   },
   {
    "duration": 8,
    "start_time": "2021-07-01T13:38:44.082Z"
   },
   {
    "duration": 21,
    "start_time": "2021-07-01T13:38:44.993Z"
   },
   {
    "duration": 9,
    "start_time": "2021-07-01T13:38:47.098Z"
   },
   {
    "duration": 1510,
    "start_time": "2021-07-01T13:39:01.114Z"
   },
   {
    "duration": 35,
    "start_time": "2021-07-01T13:39:02.627Z"
   },
   {
    "duration": 20,
    "start_time": "2021-07-01T13:39:02.665Z"
   },
   {
    "duration": 19,
    "start_time": "2021-07-01T13:39:02.689Z"
   },
   {
    "duration": 14,
    "start_time": "2021-07-01T13:39:02.711Z"
   },
   {
    "duration": 18,
    "start_time": "2021-07-01T13:39:02.755Z"
   },
   {
    "duration": 19,
    "start_time": "2021-07-01T13:39:02.776Z"
   },
   {
    "duration": 22,
    "start_time": "2021-07-01T13:39:02.800Z"
   },
   {
    "duration": 11,
    "start_time": "2021-07-01T13:39:02.854Z"
   },
   {
    "duration": 43,
    "start_time": "2021-07-01T13:39:02.867Z"
   },
   {
    "duration": 423,
    "start_time": "2021-07-01T13:39:02.912Z"
   },
   {
    "duration": 27,
    "start_time": "2021-07-01T13:39:03.338Z"
   },
   {
    "duration": 8,
    "start_time": "2021-07-01T13:39:03.368Z"
   },
   {
    "duration": 422,
    "start_time": "2021-07-01T13:39:03.379Z"
   },
   {
    "duration": 18,
    "start_time": "2021-07-01T13:39:03.804Z"
   },
   {
    "duration": 29,
    "start_time": "2021-07-01T13:39:03.825Z"
   },
   {
    "duration": 23,
    "start_time": "2021-07-01T13:39:03.857Z"
   },
   {
    "duration": 28,
    "start_time": "2021-07-01T13:39:03.883Z"
   },
   {
    "duration": 73,
    "start_time": "2021-07-01T13:39:03.914Z"
   },
   {
    "duration": 406,
    "start_time": "2021-07-01T13:39:03.990Z"
   },
   {
    "duration": 7,
    "start_time": "2021-07-01T13:39:04.399Z"
   },
   {
    "duration": 22,
    "start_time": "2021-07-01T13:39:04.408Z"
   },
   {
    "duration": 3719,
    "start_time": "2021-07-01T13:39:04.455Z"
   },
   {
    "duration": 36,
    "start_time": "2021-07-01T13:39:08.178Z"
   },
   {
    "duration": 157,
    "start_time": "2021-07-01T13:39:08.216Z"
   },
   {
    "duration": 11,
    "start_time": "2021-07-01T13:39:08.376Z"
   },
   {
    "duration": 25,
    "start_time": "2021-07-01T13:39:08.390Z"
   },
   {
    "duration": 114,
    "start_time": "2021-07-01T13:39:08.418Z"
   },
   {
    "duration": 7,
    "start_time": "2021-07-01T13:39:08.535Z"
   },
   {
    "duration": 24,
    "start_time": "2021-07-01T13:39:08.545Z"
   },
   {
    "duration": 32,
    "start_time": "2021-07-01T13:39:08.572Z"
   },
   {
    "duration": 17,
    "start_time": "2021-07-01T13:39:08.607Z"
   },
   {
    "duration": 40,
    "start_time": "2021-07-01T13:39:08.627Z"
   },
   {
    "duration": 22,
    "start_time": "2021-07-01T13:39:08.670Z"
   },
   {
    "duration": 27,
    "start_time": "2021-07-01T13:39:08.695Z"
   },
   {
    "duration": 30,
    "start_time": "2021-07-01T13:39:08.725Z"
   },
   {
    "duration": 24,
    "start_time": "2021-07-01T13:39:08.758Z"
   },
   {
    "duration": 34,
    "start_time": "2021-07-01T13:39:08.785Z"
   },
   {
    "duration": 23,
    "start_time": "2021-07-01T13:39:08.822Z"
   },
   {
    "duration": 76,
    "start_time": "2021-07-01T13:39:08.848Z"
   },
   {
    "duration": 9,
    "start_time": "2021-07-01T13:39:08.926Z"
   },
   {
    "duration": 80,
    "start_time": "2021-07-01T13:39:08.938Z"
   },
   {
    "duration": 5,
    "start_time": "2021-07-01T13:39:09.021Z"
   },
   {
    "duration": 28,
    "start_time": "2021-07-01T13:39:09.029Z"
   },
   {
    "duration": 69,
    "start_time": "2021-07-01T13:39:09.060Z"
   },
   {
    "duration": 17,
    "start_time": "2021-07-01T13:39:09.132Z"
   },
   {
    "duration": 51,
    "start_time": "2021-07-01T13:39:09.152Z"
   },
   {
    "duration": 10,
    "start_time": "2021-07-01T13:39:09.206Z"
   },
   {
    "duration": 30,
    "start_time": "2021-07-01T13:39:09.219Z"
   },
   {
    "duration": 25,
    "start_time": "2021-07-01T13:39:09.252Z"
   },
   {
    "duration": 27,
    "start_time": "2021-07-01T13:39:40.351Z"
   },
   {
    "duration": 15,
    "start_time": "2021-07-01T13:40:25.179Z"
   },
   {
    "duration": 13,
    "start_time": "2021-07-01T13:40:26.259Z"
   },
   {
    "duration": 8,
    "start_time": "2021-07-01T13:40:27.003Z"
   },
   {
    "duration": 28,
    "start_time": "2021-07-01T13:40:46.484Z"
   },
   {
    "duration": 19,
    "start_time": "2021-07-01T13:42:11.920Z"
   },
   {
    "duration": 12,
    "start_time": "2021-07-01T13:42:13.101Z"
   },
   {
    "duration": 9,
    "start_time": "2021-07-01T13:42:13.779Z"
   },
   {
    "duration": 27,
    "start_time": "2021-07-01T13:42:24.620Z"
   },
   {
    "duration": 26,
    "start_time": "2021-07-01T13:44:12.132Z"
   },
   {
    "duration": 26,
    "start_time": "2021-07-01T13:45:28.212Z"
   },
   {
    "duration": 426,
    "start_time": "2021-07-01T13:46:17.212Z"
   },
   {
    "duration": 13,
    "start_time": "2021-07-01T13:46:17.866Z"
   },
   {
    "duration": 349,
    "start_time": "2021-07-01T13:46:36.174Z"
   },
   {
    "duration": 283,
    "start_time": "2021-07-01T13:47:03.324Z"
   },
   {
    "duration": 23,
    "start_time": "2021-07-01T13:47:36.388Z"
   },
   {
    "duration": 12,
    "start_time": "2021-07-01T13:47:37.571Z"
   },
   {
    "duration": 11,
    "start_time": "2021-07-01T13:47:38.236Z"
   },
   {
    "duration": 25,
    "start_time": "2021-07-01T13:47:59.332Z"
   },
   {
    "duration": 25,
    "start_time": "2021-07-01T13:48:40.204Z"
   },
   {
    "duration": 1489,
    "start_time": "2021-07-01T13:49:29.847Z"
   },
   {
    "duration": 34,
    "start_time": "2021-07-01T13:49:31.339Z"
   },
   {
    "duration": 20,
    "start_time": "2021-07-01T13:49:31.377Z"
   },
   {
    "duration": 22,
    "start_time": "2021-07-01T13:49:31.400Z"
   },
   {
    "duration": 31,
    "start_time": "2021-07-01T13:49:31.424Z"
   },
   {
    "duration": 31,
    "start_time": "2021-07-01T13:49:31.457Z"
   },
   {
    "duration": 22,
    "start_time": "2021-07-01T13:49:31.491Z"
   },
   {
    "duration": 15,
    "start_time": "2021-07-01T13:49:31.515Z"
   },
   {
    "duration": 31,
    "start_time": "2021-07-01T13:49:31.534Z"
   },
   {
    "duration": 30,
    "start_time": "2021-07-01T13:49:31.569Z"
   },
   {
    "duration": 425,
    "start_time": "2021-07-01T13:49:31.603Z"
   },
   {
    "duration": 30,
    "start_time": "2021-07-01T13:49:32.032Z"
   },
   {
    "duration": 8,
    "start_time": "2021-07-01T13:49:32.065Z"
   },
   {
    "duration": 430,
    "start_time": "2021-07-01T13:49:32.076Z"
   },
   {
    "duration": 17,
    "start_time": "2021-07-01T13:49:32.509Z"
   },
   {
    "duration": 28,
    "start_time": "2021-07-01T13:49:32.528Z"
   },
   {
    "duration": 28,
    "start_time": "2021-07-01T13:49:32.559Z"
   },
   {
    "duration": 26,
    "start_time": "2021-07-01T13:49:32.589Z"
   },
   {
    "duration": 47,
    "start_time": "2021-07-01T13:49:32.617Z"
   },
   {
    "duration": 330,
    "start_time": "2021-07-01T13:49:32.667Z"
   },
   {
    "duration": 7,
    "start_time": "2021-07-01T13:49:32.999Z"
   },
   {
    "duration": 23,
    "start_time": "2021-07-01T13:49:33.009Z"
   },
   {
    "duration": 3919,
    "start_time": "2021-07-01T13:49:33.036Z"
   },
   {
    "duration": 28,
    "start_time": "2021-07-01T13:49:36.958Z"
   },
   {
    "duration": 99,
    "start_time": "2021-07-01T13:49:36.990Z"
   },
   {
    "duration": 7,
    "start_time": "2021-07-01T13:49:37.092Z"
   },
   {
    "duration": 20,
    "start_time": "2021-07-01T13:49:37.104Z"
   },
   {
    "duration": 74,
    "start_time": "2021-07-01T13:49:37.127Z"
   },
   {
    "duration": 6,
    "start_time": "2021-07-01T13:49:37.204Z"
   },
   {
    "duration": 22,
    "start_time": "2021-07-01T13:49:37.212Z"
   },
   {
    "duration": 24,
    "start_time": "2021-07-01T13:49:37.236Z"
   },
   {
    "duration": 18,
    "start_time": "2021-07-01T13:49:37.262Z"
   },
   {
    "duration": 19,
    "start_time": "2021-07-01T13:49:37.283Z"
   },
   {
    "duration": 17,
    "start_time": "2021-07-01T13:49:37.305Z"
   },
   {
    "duration": 14,
    "start_time": "2021-07-01T13:49:37.324Z"
   },
   {
    "duration": 20,
    "start_time": "2021-07-01T13:49:37.341Z"
   },
   {
    "duration": 19,
    "start_time": "2021-07-01T13:49:37.363Z"
   },
   {
    "duration": 28,
    "start_time": "2021-07-01T13:49:37.384Z"
   },
   {
    "duration": 17,
    "start_time": "2021-07-01T13:49:37.415Z"
   },
   {
    "duration": 83,
    "start_time": "2021-07-01T13:49:37.434Z"
   },
   {
    "duration": 10,
    "start_time": "2021-07-01T13:49:37.520Z"
   },
   {
    "duration": 83,
    "start_time": "2021-07-01T13:49:37.533Z"
   },
   {
    "duration": 6,
    "start_time": "2021-07-01T13:49:37.619Z"
   },
   {
    "duration": 20,
    "start_time": "2021-07-01T13:49:37.628Z"
   },
   {
    "duration": 46,
    "start_time": "2021-07-01T13:49:37.655Z"
   },
   {
    "duration": 12,
    "start_time": "2021-07-01T13:49:37.704Z"
   },
   {
    "duration": 40,
    "start_time": "2021-07-01T13:49:37.719Z"
   },
   {
    "duration": 41,
    "start_time": "2021-07-01T13:49:37.761Z"
   },
   {
    "duration": 40,
    "start_time": "2021-07-01T13:49:37.805Z"
   },
   {
    "duration": 24,
    "start_time": "2021-07-01T13:49:37.847Z"
   },
   {
    "duration": 1496,
    "start_time": "2021-07-01T14:02:00.926Z"
   },
   {
    "duration": 33,
    "start_time": "2021-07-01T14:02:02.424Z"
   },
   {
    "duration": 19,
    "start_time": "2021-07-01T14:02:02.460Z"
   },
   {
    "duration": 15,
    "start_time": "2021-07-01T14:02:02.482Z"
   },
   {
    "duration": 25,
    "start_time": "2021-07-01T14:02:02.499Z"
   },
   {
    "duration": 30,
    "start_time": "2021-07-01T14:02:02.526Z"
   },
   {
    "duration": 23,
    "start_time": "2021-07-01T14:02:02.558Z"
   },
   {
    "duration": 15,
    "start_time": "2021-07-01T14:02:02.584Z"
   },
   {
    "duration": 13,
    "start_time": "2021-07-01T14:02:02.603Z"
   },
   {
    "duration": 53,
    "start_time": "2021-07-01T14:02:02.619Z"
   },
   {
    "duration": 419,
    "start_time": "2021-07-01T14:02:02.675Z"
   },
   {
    "duration": 22,
    "start_time": "2021-07-01T14:02:03.097Z"
   },
   {
    "duration": 32,
    "start_time": "2021-07-01T14:02:03.122Z"
   },
   {
    "duration": 430,
    "start_time": "2021-07-01T14:02:03.156Z"
   },
   {
    "duration": 17,
    "start_time": "2021-07-01T14:02:03.589Z"
   },
   {
    "duration": 18,
    "start_time": "2021-07-01T14:02:03.609Z"
   },
   {
    "duration": 33,
    "start_time": "2021-07-01T14:02:03.629Z"
   },
   {
    "duration": 28,
    "start_time": "2021-07-01T14:02:03.665Z"
   },
   {
    "duration": 34,
    "start_time": "2021-07-01T14:02:03.696Z"
   },
   {
    "duration": 300,
    "start_time": "2021-07-01T14:02:03.733Z"
   },
   {
    "duration": 21,
    "start_time": "2021-07-01T14:02:04.036Z"
   },
   {
    "duration": 18,
    "start_time": "2021-07-01T14:02:04.059Z"
   },
   {
    "duration": 3562,
    "start_time": "2021-07-01T14:02:04.080Z"
   },
   {
    "duration": 33,
    "start_time": "2021-07-01T14:02:07.644Z"
   },
   {
    "duration": 98,
    "start_time": "2021-07-01T14:02:07.679Z"
   },
   {
    "duration": 8,
    "start_time": "2021-07-01T14:02:07.780Z"
   },
   {
    "duration": 9,
    "start_time": "2021-07-01T14:02:07.794Z"
   },
   {
    "duration": 80,
    "start_time": "2021-07-01T14:02:07.805Z"
   },
   {
    "duration": 6,
    "start_time": "2021-07-01T14:02:07.887Z"
   },
   {
    "duration": 17,
    "start_time": "2021-07-01T14:02:07.895Z"
   },
   {
    "duration": 7,
    "start_time": "2021-07-01T14:02:07.914Z"
   },
   {
    "duration": 11,
    "start_time": "2021-07-01T14:02:07.923Z"
   },
   {
    "duration": 17,
    "start_time": "2021-07-01T14:02:07.937Z"
   },
   {
    "duration": 7,
    "start_time": "2021-07-01T14:02:07.957Z"
   },
   {
    "duration": 5,
    "start_time": "2021-07-01T14:02:07.967Z"
   },
   {
    "duration": 8,
    "start_time": "2021-07-01T14:02:07.974Z"
   },
   {
    "duration": 8,
    "start_time": "2021-07-01T14:02:07.984Z"
   },
   {
    "duration": 12,
    "start_time": "2021-07-01T14:02:07.994Z"
   },
   {
    "duration": 12,
    "start_time": "2021-07-01T14:02:08.008Z"
   },
   {
    "duration": 89,
    "start_time": "2021-07-01T14:02:08.023Z"
   },
   {
    "duration": 8,
    "start_time": "2021-07-01T14:02:08.115Z"
   },
   {
    "duration": 86,
    "start_time": "2021-07-01T14:02:08.125Z"
   },
   {
    "duration": 5,
    "start_time": "2021-07-01T14:02:08.214Z"
   },
   {
    "duration": 11,
    "start_time": "2021-07-01T14:02:08.221Z"
   },
   {
    "duration": 47,
    "start_time": "2021-07-01T14:02:08.234Z"
   },
   {
    "duration": 12,
    "start_time": "2021-07-01T14:02:08.283Z"
   },
   {
    "duration": 59,
    "start_time": "2021-07-01T14:02:08.297Z"
   },
   {
    "duration": 32,
    "start_time": "2021-07-01T14:02:08.359Z"
   },
   {
    "duration": 31,
    "start_time": "2021-07-01T14:02:08.394Z"
   },
   {
    "duration": 14,
    "start_time": "2021-07-01T14:02:08.428Z"
   },
   {
    "duration": 25,
    "start_time": "2021-07-01T14:02:23.532Z"
   },
   {
    "duration": 17,
    "start_time": "2021-07-01T14:03:19.345Z"
   },
   {
    "duration": 25,
    "start_time": "2021-07-01T14:03:25.507Z"
   },
   {
    "duration": 39,
    "start_time": "2021-07-01T14:04:39.335Z"
   },
   {
    "duration": 14,
    "start_time": "2021-07-01T14:04:40.515Z"
   },
   {
    "duration": 9,
    "start_time": "2021-07-01T14:04:41.802Z"
   },
   {
    "duration": 1423,
    "start_time": "2021-07-01T14:04:54.504Z"
   },
   {
    "duration": 35,
    "start_time": "2021-07-01T14:04:55.929Z"
   },
   {
    "duration": 20,
    "start_time": "2021-07-01T14:04:55.967Z"
   },
   {
    "duration": 10,
    "start_time": "2021-07-01T14:04:55.991Z"
   },
   {
    "duration": 17,
    "start_time": "2021-07-01T14:04:56.004Z"
   },
   {
    "duration": 44,
    "start_time": "2021-07-01T14:04:56.024Z"
   },
   {
    "duration": 18,
    "start_time": "2021-07-01T14:04:56.070Z"
   },
   {
    "duration": 14,
    "start_time": "2021-07-01T14:04:56.090Z"
   },
   {
    "duration": 46,
    "start_time": "2021-07-01T14:04:56.109Z"
   },
   {
    "duration": 28,
    "start_time": "2021-07-01T14:04:56.158Z"
   },
   {
    "duration": 413,
    "start_time": "2021-07-01T14:04:56.189Z"
   },
   {
    "duration": 21,
    "start_time": "2021-07-01T14:04:56.604Z"
   },
   {
    "duration": 8,
    "start_time": "2021-07-01T14:04:56.627Z"
   },
   {
    "duration": 432,
    "start_time": "2021-07-01T14:04:56.654Z"
   },
   {
    "duration": 16,
    "start_time": "2021-07-01T14:04:57.089Z"
   },
   {
    "duration": 12,
    "start_time": "2021-07-01T14:04:57.107Z"
   },
   {
    "duration": 37,
    "start_time": "2021-07-01T14:04:57.121Z"
   },
   {
    "duration": 23,
    "start_time": "2021-07-01T14:04:57.160Z"
   },
   {
    "duration": 35,
    "start_time": "2021-07-01T14:04:57.186Z"
   },
   {
    "duration": 342,
    "start_time": "2021-07-01T14:04:57.223Z"
   },
   {
    "duration": 6,
    "start_time": "2021-07-01T14:04:57.567Z"
   },
   {
    "duration": 21,
    "start_time": "2021-07-01T14:04:57.575Z"
   },
   {
    "duration": 3434,
    "start_time": "2021-07-01T14:04:57.599Z"
   },
   {
    "duration": 39,
    "start_time": "2021-07-01T14:05:01.035Z"
   },
   {
    "duration": 107,
    "start_time": "2021-07-01T14:05:01.076Z"
   },
   {
    "duration": 9,
    "start_time": "2021-07-01T14:05:01.185Z"
   },
   {
    "duration": 19,
    "start_time": "2021-07-01T14:05:01.200Z"
   },
   {
    "duration": 70,
    "start_time": "2021-07-01T14:05:01.222Z"
   },
   {
    "duration": 5,
    "start_time": "2021-07-01T14:05:01.295Z"
   },
   {
    "duration": 33,
    "start_time": "2021-07-01T14:05:01.303Z"
   },
   {
    "duration": 30,
    "start_time": "2021-07-01T14:05:01.338Z"
   },
   {
    "duration": 18,
    "start_time": "2021-07-01T14:05:01.370Z"
   },
   {
    "duration": 23,
    "start_time": "2021-07-01T14:05:01.390Z"
   },
   {
    "duration": 13,
    "start_time": "2021-07-01T14:05:01.415Z"
   },
   {
    "duration": 7,
    "start_time": "2021-07-01T14:05:01.430Z"
   },
   {
    "duration": 30,
    "start_time": "2021-07-01T14:05:01.439Z"
   },
   {
    "duration": 17,
    "start_time": "2021-07-01T14:05:01.471Z"
   },
   {
    "duration": 27,
    "start_time": "2021-07-01T14:05:01.491Z"
   },
   {
    "duration": 11,
    "start_time": "2021-07-01T14:05:01.521Z"
   },
   {
    "duration": 70,
    "start_time": "2021-07-01T14:05:01.535Z"
   },
   {
    "duration": 12,
    "start_time": "2021-07-01T14:05:01.608Z"
   },
   {
    "duration": 76,
    "start_time": "2021-07-01T14:05:01.623Z"
   },
   {
    "duration": 6,
    "start_time": "2021-07-01T14:05:01.701Z"
   },
   {
    "duration": 45,
    "start_time": "2021-07-01T14:05:01.710Z"
   },
   {
    "duration": 59,
    "start_time": "2021-07-01T14:05:01.757Z"
   },
   {
    "duration": 12,
    "start_time": "2021-07-01T14:05:01.818Z"
   },
   {
    "duration": 35,
    "start_time": "2021-07-01T14:05:01.832Z"
   },
   {
    "duration": 42,
    "start_time": "2021-07-01T14:05:01.870Z"
   },
   {
    "duration": 36,
    "start_time": "2021-07-01T14:05:01.914Z"
   },
   {
    "duration": 43,
    "start_time": "2021-07-01T14:05:01.953Z"
   },
   {
    "duration": 1495,
    "start_time": "2021-07-01T14:07:21.222Z"
   },
   {
    "duration": 33,
    "start_time": "2021-07-01T14:07:22.720Z"
   },
   {
    "duration": 19,
    "start_time": "2021-07-01T14:07:22.756Z"
   },
   {
    "duration": 24,
    "start_time": "2021-07-01T14:07:22.778Z"
   },
   {
    "duration": 13,
    "start_time": "2021-07-01T14:07:22.805Z"
   },
   {
    "duration": 34,
    "start_time": "2021-07-01T14:07:22.820Z"
   },
   {
    "duration": 17,
    "start_time": "2021-07-01T14:07:22.857Z"
   },
   {
    "duration": 18,
    "start_time": "2021-07-01T14:07:22.879Z"
   },
   {
    "duration": 19,
    "start_time": "2021-07-01T14:07:22.901Z"
   },
   {
    "duration": 52,
    "start_time": "2021-07-01T14:07:22.922Z"
   },
   {
    "duration": 424,
    "start_time": "2021-07-01T14:07:22.976Z"
   },
   {
    "duration": 22,
    "start_time": "2021-07-01T14:07:23.404Z"
   },
   {
    "duration": 7,
    "start_time": "2021-07-01T14:07:23.429Z"
   },
   {
    "duration": 413,
    "start_time": "2021-07-01T14:07:23.455Z"
   },
   {
    "duration": 17,
    "start_time": "2021-07-01T14:07:23.870Z"
   },
   {
    "duration": 11,
    "start_time": "2021-07-01T14:07:23.890Z"
   },
   {
    "duration": 20,
    "start_time": "2021-07-01T14:07:23.904Z"
   },
   {
    "duration": 48,
    "start_time": "2021-07-01T14:07:23.926Z"
   },
   {
    "duration": 36,
    "start_time": "2021-07-01T14:07:23.977Z"
   },
   {
    "duration": 370,
    "start_time": "2021-07-01T14:07:24.016Z"
   },
   {
    "duration": 8,
    "start_time": "2021-07-01T14:07:24.389Z"
   },
   {
    "duration": 14,
    "start_time": "2021-07-01T14:07:24.401Z"
   },
   {
    "duration": 3581,
    "start_time": "2021-07-01T14:07:24.456Z"
   },
   {
    "duration": 35,
    "start_time": "2021-07-01T14:07:28.041Z"
   },
   {
    "duration": 98,
    "start_time": "2021-07-01T14:07:28.078Z"
   },
   {
    "duration": 8,
    "start_time": "2021-07-01T14:07:28.179Z"
   },
   {
    "duration": 20,
    "start_time": "2021-07-01T14:07:28.189Z"
   },
   {
    "duration": 73,
    "start_time": "2021-07-01T14:07:28.211Z"
   },
   {
    "duration": 7,
    "start_time": "2021-07-01T14:07:28.286Z"
   },
   {
    "duration": 21,
    "start_time": "2021-07-01T14:07:28.296Z"
   },
   {
    "duration": 29,
    "start_time": "2021-07-01T14:07:28.320Z"
   },
   {
    "duration": 39,
    "start_time": "2021-07-01T14:07:28.352Z"
   },
   {
    "duration": 27,
    "start_time": "2021-07-01T14:07:28.393Z"
   },
   {
    "duration": 19,
    "start_time": "2021-07-01T14:07:28.422Z"
   },
   {
    "duration": 20,
    "start_time": "2021-07-01T14:07:28.444Z"
   },
   {
    "duration": 27,
    "start_time": "2021-07-01T14:07:28.466Z"
   },
   {
    "duration": 25,
    "start_time": "2021-07-01T14:07:28.495Z"
   },
   {
    "duration": 34,
    "start_time": "2021-07-01T14:07:28.523Z"
   },
   {
    "duration": 24,
    "start_time": "2021-07-01T14:07:28.559Z"
   },
   {
    "duration": 87,
    "start_time": "2021-07-01T14:07:28.586Z"
   },
   {
    "duration": 9,
    "start_time": "2021-07-01T14:07:28.675Z"
   },
   {
    "duration": 80,
    "start_time": "2021-07-01T14:07:28.686Z"
   },
   {
    "duration": 5,
    "start_time": "2021-07-01T14:07:28.769Z"
   },
   {
    "duration": 43,
    "start_time": "2021-07-01T14:07:28.776Z"
   },
   {
    "duration": 55,
    "start_time": "2021-07-01T14:07:28.821Z"
   },
   {
    "duration": 13,
    "start_time": "2021-07-01T14:07:28.879Z"
   },
   {
    "duration": 47,
    "start_time": "2021-07-01T14:07:28.894Z"
   },
   {
    "duration": 53,
    "start_time": "2021-07-01T14:07:28.944Z"
   },
   {
    "duration": 53,
    "start_time": "2021-07-01T14:07:28.999Z"
   },
   {
    "duration": 18,
    "start_time": "2021-07-01T14:07:29.055Z"
   },
   {
    "duration": 35,
    "start_time": "2021-07-01T16:11:38.464Z"
   },
   {
    "duration": 13,
    "start_time": "2021-07-01T16:11:39.844Z"
   },
   {
    "duration": 11,
    "start_time": "2021-07-01T16:11:40.887Z"
   },
   {
    "duration": 40,
    "start_time": "2021-07-01T16:12:14.594Z"
   },
   {
    "duration": 12,
    "start_time": "2021-07-01T16:12:15.186Z"
   },
   {
    "duration": 8,
    "start_time": "2021-07-01T16:12:16.064Z"
   },
   {
    "duration": 4,
    "start_time": "2021-07-01T16:13:27.861Z"
   },
   {
    "duration": 1656,
    "start_time": "2021-07-01T16:13:38.855Z"
   },
   {
    "duration": 34,
    "start_time": "2021-07-01T16:13:40.514Z"
   },
   {
    "duration": 21,
    "start_time": "2021-07-01T16:13:40.551Z"
   },
   {
    "duration": 10,
    "start_time": "2021-07-01T16:13:40.575Z"
   },
   {
    "duration": 19,
    "start_time": "2021-07-01T16:13:40.587Z"
   },
   {
    "duration": 28,
    "start_time": "2021-07-01T16:13:40.609Z"
   },
   {
    "duration": 27,
    "start_time": "2021-07-01T16:13:40.640Z"
   },
   {
    "duration": 15,
    "start_time": "2021-07-01T16:13:40.671Z"
   },
   {
    "duration": 15,
    "start_time": "2021-07-01T16:13:40.689Z"
   },
   {
    "duration": 55,
    "start_time": "2021-07-01T16:13:40.707Z"
   },
   {
    "duration": 428,
    "start_time": "2021-07-01T16:13:40.765Z"
   },
   {
    "duration": 21,
    "start_time": "2021-07-01T16:13:41.196Z"
   },
   {
    "duration": 8,
    "start_time": "2021-07-01T16:13:41.219Z"
   },
   {
    "duration": 442,
    "start_time": "2021-07-01T16:13:41.229Z"
   },
   {
    "duration": 19,
    "start_time": "2021-07-01T16:13:41.674Z"
   },
   {
    "duration": 13,
    "start_time": "2021-07-01T16:13:41.695Z"
   },
   {
    "duration": 43,
    "start_time": "2021-07-01T16:13:41.711Z"
   },
   {
    "duration": 23,
    "start_time": "2021-07-01T16:13:41.757Z"
   },
   {
    "duration": 36,
    "start_time": "2021-07-01T16:13:41.782Z"
   },
   {
    "duration": 326,
    "start_time": "2021-07-01T16:13:41.820Z"
   },
   {
    "duration": 11,
    "start_time": "2021-07-01T16:13:42.149Z"
   },
   {
    "duration": 18,
    "start_time": "2021-07-01T16:13:42.163Z"
   },
   {
    "duration": 3576,
    "start_time": "2021-07-01T16:13:42.187Z"
   },
   {
    "duration": 27,
    "start_time": "2021-07-01T16:13:45.766Z"
   },
   {
    "duration": 99,
    "start_time": "2021-07-01T16:13:45.795Z"
   },
   {
    "duration": 8,
    "start_time": "2021-07-01T16:13:45.896Z"
   },
   {
    "duration": 10,
    "start_time": "2021-07-01T16:13:45.907Z"
   },
   {
    "duration": 83,
    "start_time": "2021-07-01T16:13:45.919Z"
   },
   {
    "duration": 6,
    "start_time": "2021-07-01T16:13:46.005Z"
   },
   {
    "duration": 8,
    "start_time": "2021-07-01T16:13:46.014Z"
   },
   {
    "duration": 16,
    "start_time": "2021-07-01T16:13:46.024Z"
   },
   {
    "duration": 5,
    "start_time": "2021-07-01T16:13:46.055Z"
   },
   {
    "duration": 12,
    "start_time": "2021-07-01T16:13:46.062Z"
   },
   {
    "duration": 11,
    "start_time": "2021-07-01T16:13:46.076Z"
   },
   {
    "duration": 7,
    "start_time": "2021-07-01T16:13:46.090Z"
   },
   {
    "duration": 6,
    "start_time": "2021-07-01T16:13:46.100Z"
   },
   {
    "duration": 10,
    "start_time": "2021-07-01T16:13:46.108Z"
   },
   {
    "duration": 35,
    "start_time": "2021-07-01T16:13:46.120Z"
   },
   {
    "duration": 8,
    "start_time": "2021-07-01T16:13:46.158Z"
   },
   {
    "duration": 68,
    "start_time": "2021-07-01T16:13:46.169Z"
   },
   {
    "duration": 22,
    "start_time": "2021-07-01T16:13:46.239Z"
   },
   {
    "duration": 62,
    "start_time": "2021-07-01T16:13:46.263Z"
   },
   {
    "duration": 6,
    "start_time": "2021-07-01T16:13:46.327Z"
   },
   {
    "duration": 9,
    "start_time": "2021-07-01T16:13:46.355Z"
   },
   {
    "duration": 36,
    "start_time": "2021-07-01T16:13:46.366Z"
   },
   {
    "duration": 12,
    "start_time": "2021-07-01T16:13:46.405Z"
   },
   {
    "duration": 35,
    "start_time": "2021-07-01T16:13:46.419Z"
   },
   {
    "duration": 45,
    "start_time": "2021-07-01T16:13:46.457Z"
   },
   {
    "duration": 18,
    "start_time": "2021-07-01T16:13:46.505Z"
   },
   {
    "duration": 13,
    "start_time": "2021-07-01T16:13:46.525Z"
   },
   {
    "duration": 10,
    "start_time": "2021-07-01T16:14:49.580Z"
   },
   {
    "duration": 680,
    "start_time": "2021-07-01T16:22:23.861Z"
   },
   {
    "duration": 433,
    "start_time": "2021-07-01T16:23:20.181Z"
   },
   {
    "duration": 684,
    "start_time": "2021-07-01T16:23:28.494Z"
   },
   {
    "duration": 612,
    "start_time": "2021-07-01T16:25:07.572Z"
   },
   {
    "duration": 343,
    "start_time": "2021-07-01T16:38:34.024Z"
   },
   {
    "duration": 619,
    "start_time": "2021-07-01T16:38:39.570Z"
   },
   {
    "duration": 584,
    "start_time": "2021-07-01T16:40:40.498Z"
   },
   {
    "duration": 271,
    "start_time": "2021-07-01T16:42:02.767Z"
   },
   {
    "duration": 611,
    "start_time": "2021-07-01T16:42:08.391Z"
   },
   {
    "duration": 625,
    "start_time": "2021-07-01T16:46:43.374Z"
   },
   {
    "duration": 763,
    "start_time": "2021-07-01T16:50:28.157Z"
   },
   {
    "duration": 348,
    "start_time": "2021-07-01T16:51:50.142Z"
   },
   {
    "duration": 621,
    "start_time": "2021-07-01T16:51:58.352Z"
   },
   {
    "duration": 280,
    "start_time": "2021-07-01T17:07:04.276Z"
   },
   {
    "duration": 24,
    "start_time": "2021-07-01T17:07:22.436Z"
   },
   {
    "duration": 6350,
    "start_time": "2021-07-01T17:08:05.958Z"
   },
   {
    "duration": 43,
    "start_time": "2021-07-01T17:08:35.111Z"
   },
   {
    "duration": 44,
    "start_time": "2021-07-01T17:10:14.326Z"
   },
   {
    "duration": 42,
    "start_time": "2021-07-01T17:10:22.535Z"
   },
   {
    "duration": 1088,
    "start_time": "2021-07-01T17:10:24.686Z"
   },
   {
    "duration": 26,
    "start_time": "2021-07-01T17:15:27.773Z"
   },
   {
    "duration": 1313,
    "start_time": "2021-07-01T17:16:26.397Z"
   },
   {
    "duration": 262,
    "start_time": "2021-07-01T17:19:53.061Z"
   },
   {
    "duration": 394,
    "start_time": "2021-07-01T17:20:01.442Z"
   },
   {
    "duration": 305,
    "start_time": "2021-07-01T17:20:20.197Z"
   },
   {
    "duration": 322,
    "start_time": "2021-07-01T17:20:56.238Z"
   },
   {
    "duration": 392,
    "start_time": "2021-07-01T17:21:10.191Z"
   },
   {
    "duration": 373,
    "start_time": "2021-07-01T17:21:38.841Z"
   },
   {
    "duration": 407,
    "start_time": "2021-07-01T17:21:53.717Z"
   },
   {
    "duration": 684,
    "start_time": "2021-07-01T17:24:58.791Z"
   },
   {
    "duration": 570,
    "start_time": "2021-07-01T17:26:25.911Z"
   },
   {
    "duration": 760,
    "start_time": "2021-07-01T17:26:36.978Z"
   },
   {
    "duration": 402,
    "start_time": "2021-07-01T17:26:53.409Z"
   },
   {
    "duration": 336,
    "start_time": "2021-07-01T17:27:19.441Z"
   },
   {
    "duration": 365,
    "start_time": "2021-07-01T17:29:02.502Z"
   },
   {
    "duration": 26,
    "start_time": "2021-07-01T17:42:52.852Z"
   },
   {
    "duration": 1207,
    "start_time": "2021-07-01T17:42:56.906Z"
   },
   {
    "duration": 130,
    "start_time": "2021-07-01T18:04:29.317Z"
   },
   {
    "duration": 94,
    "start_time": "2021-07-01T18:04:38.858Z"
   },
   {
    "duration": 348,
    "start_time": "2021-07-01T18:04:55.295Z"
   },
   {
    "duration": 160,
    "start_time": "2021-07-01T18:05:07.047Z"
   },
   {
    "duration": 281,
    "start_time": "2021-07-01T18:07:53.994Z"
   },
   {
    "duration": 21,
    "start_time": "2021-07-01T18:08:03.614Z"
   },
   {
    "duration": 82,
    "start_time": "2021-07-01T18:08:54.345Z"
   },
   {
    "duration": 51,
    "start_time": "2021-07-01T18:09:00.744Z"
   },
   {
    "duration": 51,
    "start_time": "2021-07-01T18:11:10.808Z"
   },
   {
    "duration": 268,
    "start_time": "2021-07-01T18:11:52.136Z"
   },
   {
    "duration": 261,
    "start_time": "2021-07-01T18:12:07.931Z"
   },
   {
    "duration": 14,
    "start_time": "2021-07-01T18:12:37.154Z"
   },
   {
    "duration": 119,
    "start_time": "2021-07-01T18:15:23.950Z"
   },
   {
    "duration": 7079,
    "start_time": "2021-07-01T18:15:45.300Z"
   },
   {
    "duration": 6858,
    "start_time": "2021-07-01T18:16:12.498Z"
   },
   {
    "duration": 300,
    "start_time": "2021-07-01T18:16:45.105Z"
   },
   {
    "duration": 14,
    "start_time": "2021-07-01T18:17:14.928Z"
   },
   {
    "duration": 90,
    "start_time": "2021-07-01T18:19:30.096Z"
   },
   {
    "duration": 41,
    "start_time": "2021-07-01T18:19:59.104Z"
   },
   {
    "duration": 98,
    "start_time": "2021-07-01T18:22:23.904Z"
   },
   {
    "duration": 24,
    "start_time": "2021-07-01T18:22:46.937Z"
   },
   {
    "duration": 6,
    "start_time": "2021-07-01T18:28:43.908Z"
   },
   {
    "duration": 6690,
    "start_time": "2021-07-01T18:29:05.747Z"
   },
   {
    "duration": 10,
    "start_time": "2021-07-01T18:29:21.107Z"
   },
   {
    "duration": 11,
    "start_time": "2021-07-01T18:29:52.749Z"
   },
   {
    "duration": 13,
    "start_time": "2021-07-01T18:30:38.089Z"
   },
   {
    "duration": 14,
    "start_time": "2021-07-01T18:30:43.772Z"
   },
   {
    "duration": 13,
    "start_time": "2021-07-01T18:31:02.605Z"
   },
   {
    "duration": 13,
    "start_time": "2021-07-01T18:31:59.455Z"
   },
   {
    "duration": 268,
    "start_time": "2021-07-01T18:32:18.507Z"
   },
   {
    "duration": 29,
    "start_time": "2021-07-01T18:32:27.965Z"
   },
   {
    "duration": 47,
    "start_time": "2021-07-01T18:32:46.375Z"
   },
   {
    "duration": 46,
    "start_time": "2021-07-01T18:33:25.917Z"
   },
   {
    "duration": 44,
    "start_time": "2021-07-01T18:50:19.077Z"
   },
   {
    "duration": 13,
    "start_time": "2021-07-01T18:52:56.840Z"
   },
   {
    "duration": 25,
    "start_time": "2021-07-01T18:53:25.136Z"
   },
   {
    "duration": 276,
    "start_time": "2021-07-01T18:55:07.019Z"
   },
   {
    "duration": 256,
    "start_time": "2021-07-01T18:55:14.041Z"
   },
   {
    "duration": 271,
    "start_time": "2021-07-01T18:55:28.835Z"
   },
   {
    "duration": 23,
    "start_time": "2021-07-01T18:56:02.488Z"
   },
   {
    "duration": 12,
    "start_time": "2021-07-01T18:56:20.108Z"
   },
   {
    "duration": 12,
    "start_time": "2021-07-01T18:56:29.499Z"
   },
   {
    "duration": 12,
    "start_time": "2021-07-01T18:56:31.330Z"
   },
   {
    "duration": 13,
    "start_time": "2021-07-01T18:56:47.594Z"
   },
   {
    "duration": 1919,
    "start_time": "2021-07-01T19:03:12.547Z"
   },
   {
    "duration": 33,
    "start_time": "2021-07-01T19:03:14.469Z"
   },
   {
    "duration": 19,
    "start_time": "2021-07-01T19:03:14.505Z"
   },
   {
    "duration": 22,
    "start_time": "2021-07-01T19:03:14.526Z"
   },
   {
    "duration": 21,
    "start_time": "2021-07-01T19:03:14.550Z"
   },
   {
    "duration": 18,
    "start_time": "2021-07-01T19:03:14.575Z"
   },
   {
    "duration": 19,
    "start_time": "2021-07-01T19:03:14.597Z"
   },
   {
    "duration": 35,
    "start_time": "2021-07-01T19:03:14.619Z"
   },
   {
    "duration": 11,
    "start_time": "2021-07-01T19:03:14.657Z"
   },
   {
    "duration": 30,
    "start_time": "2021-07-01T19:03:14.670Z"
   },
   {
    "duration": 432,
    "start_time": "2021-07-01T19:03:14.702Z"
   },
   {
    "duration": 21,
    "start_time": "2021-07-01T19:03:15.136Z"
   },
   {
    "duration": 7,
    "start_time": "2021-07-01T19:03:15.160Z"
   },
   {
    "duration": 435,
    "start_time": "2021-07-01T19:03:15.169Z"
   },
   {
    "duration": 16,
    "start_time": "2021-07-01T19:03:15.606Z"
   },
   {
    "duration": 8,
    "start_time": "2021-07-01T19:03:15.624Z"
   },
   {
    "duration": 34,
    "start_time": "2021-07-01T19:03:15.634Z"
   },
   {
    "duration": 21,
    "start_time": "2021-07-01T19:03:15.673Z"
   },
   {
    "duration": 61,
    "start_time": "2021-07-01T19:03:15.698Z"
   },
   {
    "duration": 296,
    "start_time": "2021-07-01T19:03:15.762Z"
   },
   {
    "duration": 6,
    "start_time": "2021-07-01T19:03:16.061Z"
   },
   {
    "duration": 20,
    "start_time": "2021-07-01T19:03:16.069Z"
   },
   {
    "duration": 3451,
    "start_time": "2021-07-01T19:03:16.091Z"
   },
   {
    "duration": 32,
    "start_time": "2021-07-01T19:03:19.545Z"
   },
   {
    "duration": 103,
    "start_time": "2021-07-01T19:03:19.579Z"
   },
   {
    "duration": 7,
    "start_time": "2021-07-01T19:03:19.684Z"
   },
   {
    "duration": 26,
    "start_time": "2021-07-01T19:03:19.694Z"
   },
   {
    "duration": 70,
    "start_time": "2021-07-01T19:03:19.723Z"
   },
   {
    "duration": 6,
    "start_time": "2021-07-01T19:03:19.795Z"
   },
   {
    "duration": 25,
    "start_time": "2021-07-01T19:03:19.803Z"
   },
   {
    "duration": 18,
    "start_time": "2021-07-01T19:03:19.830Z"
   },
   {
    "duration": 27,
    "start_time": "2021-07-01T19:03:19.850Z"
   },
   {
    "duration": 10,
    "start_time": "2021-07-01T19:03:19.879Z"
   },
   {
    "duration": 10,
    "start_time": "2021-07-01T19:03:19.897Z"
   },
   {
    "duration": 22,
    "start_time": "2021-07-01T19:03:19.910Z"
   },
   {
    "duration": 25,
    "start_time": "2021-07-01T19:03:19.935Z"
   },
   {
    "duration": 11,
    "start_time": "2021-07-01T19:03:19.963Z"
   },
   {
    "duration": 10,
    "start_time": "2021-07-01T19:03:19.977Z"
   },
   {
    "duration": 20,
    "start_time": "2021-07-01T19:03:19.989Z"
   },
   {
    "duration": 77,
    "start_time": "2021-07-01T19:03:20.012Z"
   },
   {
    "duration": 9,
    "start_time": "2021-07-01T19:03:20.092Z"
   },
   {
    "duration": 72,
    "start_time": "2021-07-01T19:03:20.103Z"
   },
   {
    "duration": 5,
    "start_time": "2021-07-01T19:03:20.178Z"
   },
   {
    "duration": 27,
    "start_time": "2021-07-01T19:03:20.185Z"
   },
   {
    "duration": 39,
    "start_time": "2021-07-01T19:03:20.215Z"
   },
   {
    "duration": 13,
    "start_time": "2021-07-01T19:03:20.256Z"
   },
   {
    "duration": 15,
    "start_time": "2021-07-01T19:03:20.271Z"
   },
   {
    "duration": 46,
    "start_time": "2021-07-01T19:03:20.288Z"
   },
   {
    "duration": 26,
    "start_time": "2021-07-01T19:03:20.337Z"
   },
   {
    "duration": 16,
    "start_time": "2021-07-01T19:03:20.366Z"
   },
   {
    "duration": 638,
    "start_time": "2021-07-01T19:03:20.384Z"
   },
   {
    "duration": 40,
    "start_time": "2021-07-01T19:03:21.025Z"
   },
   {
    "duration": 23,
    "start_time": "2021-07-01T19:03:21.067Z"
   },
   {
    "duration": 1290,
    "start_time": "2021-07-01T19:03:21.096Z"
   },
   {
    "duration": 1195,
    "start_time": "2021-07-01T19:03:22.389Z"
   },
   {
    "duration": 14,
    "start_time": "2021-07-01T19:03:23.586Z"
   },
   {
    "duration": 72,
    "start_time": "2021-07-01T19:03:23.603Z"
   },
   {
    "duration": 13,
    "start_time": "2021-07-01T19:03:23.677Z"
   },
   {
    "duration": 15,
    "start_time": "2021-07-01T19:03:23.692Z"
   },
   {
    "duration": 49,
    "start_time": "2021-07-01T19:03:23.709Z"
   },
   {
    "duration": 467,
    "start_time": "2021-07-01T19:03:23.760Z"
   },
   {
    "duration": -92,
    "start_time": "2021-07-01T19:03:24.322Z"
   },
   {
    "duration": -96,
    "start_time": "2021-07-01T19:03:24.328Z"
   },
   {
    "duration": -100,
    "start_time": "2021-07-01T19:03:24.334Z"
   },
   {
    "duration": 275,
    "start_time": "2021-07-01T19:04:30.559Z"
   },
   {
    "duration": 16,
    "start_time": "2021-07-01T19:05:25.179Z"
   },
   {
    "duration": 6747,
    "start_time": "2021-07-01T19:05:39.013Z"
   },
   {
    "duration": 293,
    "start_time": "2021-07-01T19:07:02.330Z"
   },
   {
    "duration": 13,
    "start_time": "2021-07-01T19:07:13.359Z"
   },
   {
    "duration": 14,
    "start_time": "2021-07-01T19:07:16.128Z"
   },
   {
    "duration": 18,
    "start_time": "2021-07-01T19:07:16.819Z"
   },
   {
    "duration": 1958,
    "start_time": "2021-07-01T19:07:27.815Z"
   },
   {
    "duration": 36,
    "start_time": "2021-07-01T19:07:29.776Z"
   },
   {
    "duration": 22,
    "start_time": "2021-07-01T19:07:29.816Z"
   },
   {
    "duration": 35,
    "start_time": "2021-07-01T19:07:29.841Z"
   },
   {
    "duration": 45,
    "start_time": "2021-07-01T19:07:29.878Z"
   },
   {
    "duration": 44,
    "start_time": "2021-07-01T19:07:29.926Z"
   },
   {
    "duration": 41,
    "start_time": "2021-07-01T19:07:29.972Z"
   },
   {
    "duration": 20,
    "start_time": "2021-07-01T19:07:30.017Z"
   },
   {
    "duration": 26,
    "start_time": "2021-07-01T19:07:30.041Z"
   },
   {
    "duration": 58,
    "start_time": "2021-07-01T19:07:30.070Z"
   },
   {
    "duration": 400,
    "start_time": "2021-07-01T19:07:30.130Z"
   },
   {
    "duration": 26,
    "start_time": "2021-07-01T19:07:30.532Z"
   },
   {
    "duration": 27,
    "start_time": "2021-07-01T19:07:30.560Z"
   },
   {
    "duration": 433,
    "start_time": "2021-07-01T19:07:30.590Z"
   },
   {
    "duration": 17,
    "start_time": "2021-07-01T19:07:31.025Z"
   },
   {
    "duration": 29,
    "start_time": "2021-07-01T19:07:31.055Z"
   },
   {
    "duration": 32,
    "start_time": "2021-07-01T19:07:31.086Z"
   },
   {
    "duration": 45,
    "start_time": "2021-07-01T19:07:31.121Z"
   },
   {
    "duration": 42,
    "start_time": "2021-07-01T19:07:31.169Z"
   },
   {
    "duration": 291,
    "start_time": "2021-07-01T19:07:31.213Z"
   },
   {
    "duration": 6,
    "start_time": "2021-07-01T19:07:31.506Z"
   },
   {
    "duration": 37,
    "start_time": "2021-07-01T19:07:31.514Z"
   },
   {
    "duration": 3444,
    "start_time": "2021-07-01T19:07:31.557Z"
   },
   {
    "duration": 27,
    "start_time": "2021-07-01T19:07:35.005Z"
   },
   {
    "duration": 102,
    "start_time": "2021-07-01T19:07:35.034Z"
   },
   {
    "duration": 16,
    "start_time": "2021-07-01T19:07:35.139Z"
   },
   {
    "duration": 13,
    "start_time": "2021-07-01T19:07:35.158Z"
   },
   {
    "duration": 67,
    "start_time": "2021-07-01T19:07:35.174Z"
   },
   {
    "duration": 13,
    "start_time": "2021-07-01T19:07:35.244Z"
   },
   {
    "duration": 11,
    "start_time": "2021-07-01T19:07:35.260Z"
   },
   {
    "duration": 17,
    "start_time": "2021-07-01T19:07:35.274Z"
   },
   {
    "duration": 7,
    "start_time": "2021-07-01T19:07:35.294Z"
   },
   {
    "duration": 22,
    "start_time": "2021-07-01T19:07:35.303Z"
   },
   {
    "duration": 12,
    "start_time": "2021-07-01T19:07:35.328Z"
   },
   {
    "duration": 9,
    "start_time": "2021-07-01T19:07:35.342Z"
   },
   {
    "duration": 5,
    "start_time": "2021-07-01T19:07:35.353Z"
   },
   {
    "duration": 7,
    "start_time": "2021-07-01T19:07:35.361Z"
   },
   {
    "duration": 22,
    "start_time": "2021-07-01T19:07:35.370Z"
   },
   {
    "duration": 10,
    "start_time": "2021-07-01T19:07:35.395Z"
   },
   {
    "duration": 74,
    "start_time": "2021-07-01T19:07:35.408Z"
   },
   {
    "duration": 9,
    "start_time": "2021-07-01T19:07:35.485Z"
   },
   {
    "duration": 79,
    "start_time": "2021-07-01T19:07:35.496Z"
   },
   {
    "duration": 6,
    "start_time": "2021-07-01T19:07:35.577Z"
   },
   {
    "duration": 26,
    "start_time": "2021-07-01T19:07:35.585Z"
   },
   {
    "duration": 41,
    "start_time": "2021-07-01T19:07:35.613Z"
   },
   {
    "duration": 12,
    "start_time": "2021-07-01T19:07:35.657Z"
   },
   {
    "duration": 9,
    "start_time": "2021-07-01T19:07:35.671Z"
   },
   {
    "duration": 43,
    "start_time": "2021-07-01T19:07:35.682Z"
   },
   {
    "duration": 33,
    "start_time": "2021-07-01T19:07:35.728Z"
   },
   {
    "duration": 18,
    "start_time": "2021-07-01T19:07:35.764Z"
   },
   {
    "duration": 639,
    "start_time": "2021-07-01T19:07:35.785Z"
   },
   {
    "duration": 37,
    "start_time": "2021-07-01T19:07:36.426Z"
   },
   {
    "duration": 25,
    "start_time": "2021-07-01T19:07:36.465Z"
   },
   {
    "duration": 1399,
    "start_time": "2021-07-01T19:07:36.492Z"
   },
   {
    "duration": 1199,
    "start_time": "2021-07-01T19:07:37.894Z"
   },
   {
    "duration": 14,
    "start_time": "2021-07-01T19:07:39.095Z"
   },
   {
    "duration": 74,
    "start_time": "2021-07-01T19:07:39.112Z"
   },
   {
    "duration": 14,
    "start_time": "2021-07-01T19:07:39.190Z"
   },
   {
    "duration": 17,
    "start_time": "2021-07-01T19:07:39.206Z"
   },
   {
    "duration": 39,
    "start_time": "2021-07-01T19:07:39.226Z"
   },
   {
    "duration": 38,
    "start_time": "2021-07-01T19:07:39.267Z"
   },
   {
    "duration": 1292,
    "start_time": "2021-07-01T19:07:39.308Z"
   },
   {
    "duration": 1185,
    "start_time": "2021-07-01T19:07:40.603Z"
   },
   {
    "duration": 352,
    "start_time": "2021-07-01T19:07:41.791Z"
   },
   {
    "duration": 313,
    "start_time": "2021-07-01T19:07:42.145Z"
   },
   {
    "duration": 32,
    "start_time": "2021-07-01T19:57:45.218Z"
   },
   {
    "duration": 92,
    "start_time": "2021-07-01T19:57:46.715Z"
   },
   {
    "duration": 271,
    "start_time": "2021-07-01T19:57:53.212Z"
   },
   {
    "duration": 1830,
    "start_time": "2021-07-01T19:59:14.910Z"
   },
   {
    "duration": 33,
    "start_time": "2021-07-01T19:59:16.742Z"
   },
   {
    "duration": 23,
    "start_time": "2021-07-01T19:59:16.778Z"
   },
   {
    "duration": 25,
    "start_time": "2021-07-01T19:59:16.803Z"
   },
   {
    "duration": 27,
    "start_time": "2021-07-01T19:59:16.831Z"
   },
   {
    "duration": 41,
    "start_time": "2021-07-01T19:59:16.860Z"
   },
   {
    "duration": 25,
    "start_time": "2021-07-01T19:59:16.903Z"
   },
   {
    "duration": 33,
    "start_time": "2021-07-01T19:59:16.930Z"
   },
   {
    "duration": 30,
    "start_time": "2021-07-01T19:59:16.967Z"
   },
   {
    "duration": 33,
    "start_time": "2021-07-01T19:59:17.000Z"
   },
   {
    "duration": 391,
    "start_time": "2021-07-01T19:59:17.036Z"
   },
   {
    "duration": 30,
    "start_time": "2021-07-01T19:59:17.430Z"
   },
   {
    "duration": 7,
    "start_time": "2021-07-01T19:59:17.462Z"
   },
   {
    "duration": 429,
    "start_time": "2021-07-01T19:59:17.471Z"
   },
   {
    "duration": 18,
    "start_time": "2021-07-01T19:59:17.902Z"
   },
   {
    "duration": 25,
    "start_time": "2021-07-01T19:59:17.922Z"
   },
   {
    "duration": 27,
    "start_time": "2021-07-01T19:59:17.950Z"
   },
   {
    "duration": 21,
    "start_time": "2021-07-01T19:59:17.980Z"
   },
   {
    "duration": 8,
    "start_time": "2021-07-01T19:59:18.003Z"
   },
   {
    "duration": 17,
    "start_time": "2021-07-01T19:59:18.014Z"
   },
   {
    "duration": 3525,
    "start_time": "2021-07-01T19:59:18.055Z"
   },
   {
    "duration": 27,
    "start_time": "2021-07-01T19:59:21.583Z"
   },
   {
    "duration": 99,
    "start_time": "2021-07-01T19:59:21.612Z"
   },
   {
    "duration": 7,
    "start_time": "2021-07-01T19:59:21.714Z"
   },
   {
    "duration": 30,
    "start_time": "2021-07-01T19:59:21.724Z"
   },
   {
    "duration": 65,
    "start_time": "2021-07-01T19:59:21.757Z"
   },
   {
    "duration": 5,
    "start_time": "2021-07-01T19:59:21.829Z"
   },
   {
    "duration": 19,
    "start_time": "2021-07-01T19:59:21.839Z"
   },
   {
    "duration": 11,
    "start_time": "2021-07-01T19:59:21.861Z"
   },
   {
    "duration": 7,
    "start_time": "2021-07-01T19:59:21.875Z"
   },
   {
    "duration": 10,
    "start_time": "2021-07-01T19:59:21.884Z"
   },
   {
    "duration": 10,
    "start_time": "2021-07-01T19:59:21.896Z"
   },
   {
    "duration": 8,
    "start_time": "2021-07-01T19:59:21.908Z"
   },
   {
    "duration": 36,
    "start_time": "2021-07-01T19:59:21.919Z"
   },
   {
    "duration": 7,
    "start_time": "2021-07-01T19:59:21.958Z"
   },
   {
    "duration": 14,
    "start_time": "2021-07-01T19:59:21.967Z"
   },
   {
    "duration": 9,
    "start_time": "2021-07-01T19:59:21.984Z"
   },
   {
    "duration": 89,
    "start_time": "2021-07-01T19:59:21.995Z"
   },
   {
    "duration": 14,
    "start_time": "2021-07-01T19:59:22.087Z"
   },
   {
    "duration": 79,
    "start_time": "2021-07-01T19:59:22.103Z"
   },
   {
    "duration": 6,
    "start_time": "2021-07-01T19:59:22.184Z"
   },
   {
    "duration": 10,
    "start_time": "2021-07-01T19:59:22.193Z"
   },
   {
    "duration": 55,
    "start_time": "2021-07-01T19:59:22.206Z"
   },
   {
    "duration": 12,
    "start_time": "2021-07-01T19:59:22.264Z"
   },
   {
    "duration": 9,
    "start_time": "2021-07-01T19:59:22.280Z"
   },
   {
    "duration": 71,
    "start_time": "2021-07-01T19:59:22.291Z"
   },
   {
    "duration": 16,
    "start_time": "2021-07-01T19:59:22.365Z"
   },
   {
    "duration": 13,
    "start_time": "2021-07-01T19:59:22.384Z"
   },
   {
    "duration": 734,
    "start_time": "2021-07-01T19:59:22.400Z"
   },
   {
    "duration": 36,
    "start_time": "2021-07-01T19:59:23.137Z"
   },
   {
    "duration": 24,
    "start_time": "2021-07-01T19:59:23.175Z"
   },
   {
    "duration": 1355,
    "start_time": "2021-07-01T19:59:23.201Z"
   },
   {
    "duration": 1246,
    "start_time": "2021-07-01T19:59:24.558Z"
   },
   {
    "duration": 14,
    "start_time": "2021-07-01T19:59:25.806Z"
   },
   {
    "duration": 75,
    "start_time": "2021-07-01T19:59:25.823Z"
   },
   {
    "duration": 13,
    "start_time": "2021-07-01T19:59:25.901Z"
   },
   {
    "duration": 36,
    "start_time": "2021-07-01T19:59:25.917Z"
   },
   {
    "duration": 12,
    "start_time": "2021-07-01T19:59:25.956Z"
   },
   {
    "duration": 1252,
    "start_time": "2021-07-01T19:59:25.970Z"
   },
   {
    "duration": 1216,
    "start_time": "2021-07-01T19:59:27.225Z"
   },
   {
    "duration": 335,
    "start_time": "2021-07-01T19:59:28.444Z"
   },
   {
    "duration": 360,
    "start_time": "2021-07-01T19:59:28.781Z"
   },
   {
    "duration": 35,
    "start_time": "2021-07-01T19:59:29.144Z"
   },
   {
    "duration": 311,
    "start_time": "2021-07-01T19:59:29.181Z"
   },
   {
    "duration": 2782,
    "start_time": "2021-07-02T10:26:46.141Z"
   },
   {
    "duration": 34,
    "start_time": "2021-07-02T10:26:48.927Z"
   },
   {
    "duration": 20,
    "start_time": "2021-07-02T10:26:48.965Z"
   },
   {
    "duration": 23,
    "start_time": "2021-07-02T10:26:48.988Z"
   },
   {
    "duration": 13,
    "start_time": "2021-07-02T10:26:49.013Z"
   },
   {
    "duration": 16,
    "start_time": "2021-07-02T10:26:49.028Z"
   },
   {
    "duration": 69,
    "start_time": "2021-07-02T10:26:49.048Z"
   },
   {
    "duration": 22,
    "start_time": "2021-07-02T10:26:49.123Z"
   },
   {
    "duration": 9,
    "start_time": "2021-07-02T10:26:49.148Z"
   },
   {
    "duration": 65,
    "start_time": "2021-07-02T10:26:49.160Z"
   },
   {
    "duration": 458,
    "start_time": "2021-07-02T10:26:49.228Z"
   },
   {
    "duration": 26,
    "start_time": "2021-07-02T10:26:49.689Z"
   },
   {
    "duration": 9,
    "start_time": "2021-07-02T10:26:49.718Z"
   },
   {
    "duration": 430,
    "start_time": "2021-07-02T10:26:49.730Z"
   },
   {
    "duration": 17,
    "start_time": "2021-07-02T10:26:50.163Z"
   },
   {
    "duration": 26,
    "start_time": "2021-07-02T10:26:50.183Z"
   },
   {
    "duration": 18,
    "start_time": "2021-07-02T10:26:50.212Z"
   },
   {
    "duration": 25,
    "start_time": "2021-07-02T10:26:50.232Z"
   },
   {
    "duration": 9,
    "start_time": "2021-07-02T10:26:50.260Z"
   },
   {
    "duration": 46,
    "start_time": "2021-07-02T10:26:50.272Z"
   },
   {
    "duration": 3688,
    "start_time": "2021-07-02T10:26:50.320Z"
   },
   {
    "duration": 26,
    "start_time": "2021-07-02T10:26:54.012Z"
   },
   {
    "duration": 102,
    "start_time": "2021-07-02T10:26:54.045Z"
   },
   {
    "duration": 7,
    "start_time": "2021-07-02T10:26:54.150Z"
   },
   {
    "duration": 10,
    "start_time": "2021-07-02T10:26:54.160Z"
   },
   {
    "duration": 81,
    "start_time": "2021-07-02T10:26:54.172Z"
   },
   {
    "duration": 6,
    "start_time": "2021-07-02T10:26:54.255Z"
   },
   {
    "duration": 8,
    "start_time": "2021-07-02T10:26:54.263Z"
   },
   {
    "duration": 14,
    "start_time": "2021-07-02T10:26:54.273Z"
   },
   {
    "duration": 21,
    "start_time": "2021-07-02T10:26:54.290Z"
   },
   {
    "duration": 13,
    "start_time": "2021-07-02T10:26:54.313Z"
   },
   {
    "duration": 10,
    "start_time": "2021-07-02T10:26:54.329Z"
   },
   {
    "duration": 10,
    "start_time": "2021-07-02T10:26:54.341Z"
   },
   {
    "duration": 8,
    "start_time": "2021-07-02T10:26:54.354Z"
   },
   {
    "duration": 9,
    "start_time": "2021-07-02T10:26:54.365Z"
   },
   {
    "duration": 32,
    "start_time": "2021-07-02T10:26:54.377Z"
   },
   {
    "duration": 10,
    "start_time": "2021-07-02T10:26:54.412Z"
   },
   {
    "duration": 85,
    "start_time": "2021-07-02T10:26:54.424Z"
   },
   {
    "duration": 9,
    "start_time": "2021-07-02T10:26:54.511Z"
   },
   {
    "duration": 87,
    "start_time": "2021-07-02T10:26:54.523Z"
   },
   {
    "duration": 7,
    "start_time": "2021-07-02T10:26:54.613Z"
   },
   {
    "duration": 13,
    "start_time": "2021-07-02T10:26:54.622Z"
   },
   {
    "duration": 33,
    "start_time": "2021-07-02T10:26:54.638Z"
   },
   {
    "duration": 45,
    "start_time": "2021-07-02T10:26:54.674Z"
   },
   {
    "duration": 5,
    "start_time": "2021-07-02T10:26:54.722Z"
   },
   {
    "duration": 42,
    "start_time": "2021-07-02T10:26:54.730Z"
   },
   {
    "duration": 39,
    "start_time": "2021-07-02T10:26:54.774Z"
   },
   {
    "duration": 10,
    "start_time": "2021-07-02T10:26:54.816Z"
   },
   {
    "duration": 720,
    "start_time": "2021-07-02T10:26:54.829Z"
   },
   {
    "duration": 27,
    "start_time": "2021-07-02T10:26:55.551Z"
   },
   {
    "duration": 40,
    "start_time": "2021-07-02T10:26:55.580Z"
   },
   {
    "duration": 1353,
    "start_time": "2021-07-02T10:26:55.622Z"
   },
   {
    "duration": 1233,
    "start_time": "2021-07-02T10:26:56.977Z"
   },
   {
    "duration": 14,
    "start_time": "2021-07-02T10:26:58.212Z"
   },
   {
    "duration": 59,
    "start_time": "2021-07-02T10:26:58.229Z"
   },
   {
    "duration": 12,
    "start_time": "2021-07-02T10:26:58.308Z"
   },
   {
    "duration": 13,
    "start_time": "2021-07-02T10:26:58.323Z"
   },
   {
    "duration": 15,
    "start_time": "2021-07-02T10:26:58.338Z"
   },
   {
    "duration": 1333,
    "start_time": "2021-07-02T10:26:58.355Z"
   },
   {
    "duration": 1296,
    "start_time": "2021-07-02T10:26:59.690Z"
   },
   {
    "duration": 348,
    "start_time": "2021-07-02T10:27:00.989Z"
   },
   {
    "duration": 404,
    "start_time": "2021-07-02T10:27:01.339Z"
   },
   {
    "duration": 36,
    "start_time": "2021-07-02T10:27:01.745Z"
   },
   {
    "duration": 324,
    "start_time": "2021-07-02T10:27:01.784Z"
   },
   {
    "duration": 2066,
    "start_time": "2021-07-02T13:18:54.913Z"
   },
   {
    "duration": 31,
    "start_time": "2021-07-02T13:18:56.982Z"
   },
   {
    "duration": 20,
    "start_time": "2021-07-02T13:18:57.016Z"
   },
   {
    "duration": 11,
    "start_time": "2021-07-02T13:18:57.039Z"
   },
   {
    "duration": 18,
    "start_time": "2021-07-02T13:18:57.052Z"
   },
   {
    "duration": 48,
    "start_time": "2021-07-02T13:18:57.074Z"
   },
   {
    "duration": 29,
    "start_time": "2021-07-02T13:18:57.125Z"
   },
   {
    "duration": 28,
    "start_time": "2021-07-02T13:18:57.157Z"
   },
   {
    "duration": 31,
    "start_time": "2021-07-02T13:18:57.191Z"
   },
   {
    "duration": 43,
    "start_time": "2021-07-02T13:18:57.226Z"
   },
   {
    "duration": 478,
    "start_time": "2021-07-02T13:18:57.272Z"
   },
   {
    "duration": 17,
    "start_time": "2021-07-02T13:18:57.753Z"
   },
   {
    "duration": 8,
    "start_time": "2021-07-02T13:18:57.773Z"
   },
   {
    "duration": 433,
    "start_time": "2021-07-02T13:18:57.783Z"
   },
   {
    "duration": 18,
    "start_time": "2021-07-02T13:18:58.218Z"
   },
   {
    "duration": 6,
    "start_time": "2021-07-02T13:18:58.239Z"
   },
   {
    "duration": 19,
    "start_time": "2021-07-02T13:18:58.247Z"
   },
   {
    "duration": 59,
    "start_time": "2021-07-02T13:18:58.268Z"
   },
   {
    "duration": 6,
    "start_time": "2021-07-02T13:18:58.330Z"
   },
   {
    "duration": 14,
    "start_time": "2021-07-02T13:18:58.338Z"
   },
   {
    "duration": 4256,
    "start_time": "2021-07-02T13:18:58.355Z"
   },
   {
    "duration": 27,
    "start_time": "2021-07-02T13:19:02.614Z"
   },
   {
    "duration": 116,
    "start_time": "2021-07-02T13:19:02.644Z"
   },
   {
    "duration": 9,
    "start_time": "2021-07-02T13:19:02.762Z"
   },
   {
    "duration": 14,
    "start_time": "2021-07-02T13:19:02.774Z"
   },
   {
    "duration": 77,
    "start_time": "2021-07-02T13:19:02.791Z"
   },
   {
    "duration": 7,
    "start_time": "2021-07-02T13:19:02.877Z"
   },
   {
    "duration": 10,
    "start_time": "2021-07-02T13:19:02.909Z"
   },
   {
    "duration": 44,
    "start_time": "2021-07-02T13:19:02.921Z"
   },
   {
    "duration": 22,
    "start_time": "2021-07-02T13:19:02.968Z"
   },
   {
    "duration": 58,
    "start_time": "2021-07-02T13:19:02.993Z"
   },
   {
    "duration": 100,
    "start_time": "2021-07-02T13:19:03.054Z"
   },
   {
    "duration": 19,
    "start_time": "2021-07-02T13:19:03.156Z"
   },
   {
    "duration": 31,
    "start_time": "2021-07-02T13:19:03.178Z"
   },
   {
    "duration": 59,
    "start_time": "2021-07-02T13:19:03.211Z"
   },
   {
    "duration": 52,
    "start_time": "2021-07-02T13:19:03.273Z"
   },
   {
    "duration": 18,
    "start_time": "2021-07-02T13:19:03.328Z"
   },
   {
    "duration": 92,
    "start_time": "2021-07-02T13:19:03.349Z"
   },
   {
    "duration": 12,
    "start_time": "2021-07-02T13:19:03.445Z"
   },
   {
    "duration": 104,
    "start_time": "2021-07-02T13:19:03.460Z"
   },
   {
    "duration": 5,
    "start_time": "2021-07-02T13:19:03.567Z"
   },
   {
    "duration": 25,
    "start_time": "2021-07-02T13:19:03.575Z"
   },
   {
    "duration": 56,
    "start_time": "2021-07-02T13:19:03.603Z"
   },
   {
    "duration": 14,
    "start_time": "2021-07-02T13:19:03.663Z"
   },
   {
    "duration": 8,
    "start_time": "2021-07-02T13:19:03.680Z"
   },
   {
    "duration": 70,
    "start_time": "2021-07-02T13:19:03.691Z"
   },
   {
    "duration": 27,
    "start_time": "2021-07-02T13:19:03.764Z"
   },
   {
    "duration": 21,
    "start_time": "2021-07-02T13:19:03.794Z"
   },
   {
    "duration": 956,
    "start_time": "2021-07-02T13:19:03.819Z"
   },
   {
    "duration": 54,
    "start_time": "2021-07-02T13:19:04.779Z"
   },
   {
    "duration": 35,
    "start_time": "2021-07-02T13:19:04.835Z"
   },
   {
    "duration": 2079,
    "start_time": "2021-07-02T13:19:04.874Z"
   },
   {
    "duration": 1892,
    "start_time": "2021-07-02T13:19:06.957Z"
   },
   {
    "duration": 16,
    "start_time": "2021-07-02T13:19:08.852Z"
   },
   {
    "duration": 77,
    "start_time": "2021-07-02T13:19:08.871Z"
   },
   {
    "duration": 15,
    "start_time": "2021-07-02T13:19:08.951Z"
   },
   {
    "duration": 40,
    "start_time": "2021-07-02T13:19:08.968Z"
   },
   {
    "duration": 14,
    "start_time": "2021-07-02T13:19:09.011Z"
   },
   {
    "duration": 1289,
    "start_time": "2021-07-02T13:19:09.028Z"
   },
   {
    "duration": 1272,
    "start_time": "2021-07-02T13:19:10.321Z"
   },
   {
    "duration": 385,
    "start_time": "2021-07-02T13:19:11.596Z"
   },
   {
    "duration": 358,
    "start_time": "2021-07-02T13:19:11.984Z"
   },
   {
    "duration": 34,
    "start_time": "2021-07-02T13:19:12.346Z"
   },
   {
    "duration": 328,
    "start_time": "2021-07-02T13:19:12.383Z"
   },
   {
    "duration": 1397,
    "start_time": "2021-07-02T14:01:30.431Z"
   },
   {
    "duration": 135,
    "start_time": "2021-07-02T14:03:40.827Z"
   },
   {
    "duration": 113,
    "start_time": "2021-07-02T14:04:26.958Z"
   },
   {
    "duration": 10,
    "start_time": "2021-07-02T14:04:46.556Z"
   },
   {
    "duration": 642,
    "start_time": "2021-07-02T14:04:47.596Z"
   },
   {
    "duration": 762,
    "start_time": "2021-07-02T14:05:22.475Z"
   },
   {
    "duration": 1402,
    "start_time": "2021-07-03T14:07:58.364Z"
   },
   {
    "duration": 24,
    "start_time": "2021-07-03T14:07:59.768Z"
   },
   {
    "duration": 10,
    "start_time": "2021-07-03T14:07:59.794Z"
   },
   {
    "duration": 14,
    "start_time": "2021-07-03T14:07:59.806Z"
   },
   {
    "duration": 20,
    "start_time": "2021-07-03T14:07:59.822Z"
   },
   {
    "duration": 17,
    "start_time": "2021-07-03T14:07:59.843Z"
   },
   {
    "duration": 10,
    "start_time": "2021-07-03T14:07:59.861Z"
   },
   {
    "duration": 18,
    "start_time": "2021-07-03T14:07:59.872Z"
   },
   {
    "duration": 10,
    "start_time": "2021-07-03T14:07:59.892Z"
   },
   {
    "duration": 20,
    "start_time": "2021-07-03T14:07:59.903Z"
   },
   {
    "duration": 270,
    "start_time": "2021-07-03T14:07:59.924Z"
   },
   {
    "duration": 9,
    "start_time": "2021-07-03T14:08:00.196Z"
   },
   {
    "duration": 4,
    "start_time": "2021-07-03T14:08:00.207Z"
   },
   {
    "duration": 289,
    "start_time": "2021-07-03T14:08:00.213Z"
   },
   {
    "duration": 10,
    "start_time": "2021-07-03T14:08:00.503Z"
   },
   {
    "duration": 16,
    "start_time": "2021-07-03T14:08:00.514Z"
   },
   {
    "duration": 29,
    "start_time": "2021-07-03T14:08:00.531Z"
   },
   {
    "duration": 29,
    "start_time": "2021-07-03T14:08:00.562Z"
   },
   {
    "duration": 3,
    "start_time": "2021-07-03T14:08:00.593Z"
   },
   {
    "duration": 21,
    "start_time": "2021-07-03T14:08:00.598Z"
   },
   {
    "duration": 2272,
    "start_time": "2021-07-03T14:08:00.620Z"
   },
   {
    "duration": 17,
    "start_time": "2021-07-03T14:08:02.894Z"
   },
   {
    "duration": 64,
    "start_time": "2021-07-03T14:08:02.913Z"
   },
   {
    "duration": 5,
    "start_time": "2021-07-03T14:08:02.978Z"
   },
   {
    "duration": 17,
    "start_time": "2021-07-03T14:08:02.984Z"
   },
   {
    "duration": 54,
    "start_time": "2021-07-03T14:08:03.002Z"
   },
   {
    "duration": 3,
    "start_time": "2021-07-03T14:08:03.060Z"
   },
   {
    "duration": 5,
    "start_time": "2021-07-03T14:08:03.065Z"
   },
   {
    "duration": 13,
    "start_time": "2021-07-03T14:08:03.072Z"
   },
   {
    "duration": 7,
    "start_time": "2021-07-03T14:08:03.086Z"
   },
   {
    "duration": 11,
    "start_time": "2021-07-03T14:08:03.094Z"
   },
   {
    "duration": 6,
    "start_time": "2021-07-03T14:08:03.106Z"
   },
   {
    "duration": 17,
    "start_time": "2021-07-03T14:08:03.113Z"
   },
   {
    "duration": 15,
    "start_time": "2021-07-03T14:08:03.131Z"
   },
   {
    "duration": 13,
    "start_time": "2021-07-03T14:08:03.147Z"
   },
   {
    "duration": 16,
    "start_time": "2021-07-03T14:08:03.161Z"
   },
   {
    "duration": 7,
    "start_time": "2021-07-03T14:08:03.179Z"
   },
   {
    "duration": 41,
    "start_time": "2021-07-03T14:08:03.188Z"
   },
   {
    "duration": 5,
    "start_time": "2021-07-03T14:08:03.230Z"
   },
   {
    "duration": 40,
    "start_time": "2021-07-03T14:08:03.236Z"
   },
   {
    "duration": 3,
    "start_time": "2021-07-03T14:08:03.278Z"
   },
   {
    "duration": 26,
    "start_time": "2021-07-03T14:08:03.282Z"
   },
   {
    "duration": 32,
    "start_time": "2021-07-03T14:08:03.309Z"
   },
   {
    "duration": 6,
    "start_time": "2021-07-03T14:08:03.343Z"
   },
   {
    "duration": 10,
    "start_time": "2021-07-03T14:08:03.350Z"
   },
   {
    "duration": 35,
    "start_time": "2021-07-03T14:08:03.362Z"
   },
   {
    "duration": 17,
    "start_time": "2021-07-03T14:08:03.398Z"
   },
   {
    "duration": 12,
    "start_time": "2021-07-03T14:08:03.416Z"
   },
   {
    "duration": 413,
    "start_time": "2021-07-03T14:08:03.429Z"
   },
   {
    "duration": 17,
    "start_time": "2021-07-03T14:08:03.844Z"
   },
   {
    "duration": 17,
    "start_time": "2021-07-03T14:08:03.863Z"
   },
   {
    "duration": 750,
    "start_time": "2021-07-03T14:08:03.881Z"
   },
   {
    "duration": 678,
    "start_time": "2021-07-03T14:08:04.632Z"
   },
   {
    "duration": 8,
    "start_time": "2021-07-03T14:08:05.312Z"
   },
   {
    "duration": 36,
    "start_time": "2021-07-03T14:08:05.322Z"
   },
   {
    "duration": 19,
    "start_time": "2021-07-03T14:08:05.360Z"
   },
   {
    "duration": 16,
    "start_time": "2021-07-03T14:08:05.381Z"
   },
   {
    "duration": 13,
    "start_time": "2021-07-03T14:08:05.398Z"
   },
   {
    "duration": 710,
    "start_time": "2021-07-03T14:08:05.412Z"
   },
   {
    "duration": 690,
    "start_time": "2021-07-03T14:08:06.124Z"
   },
   {
    "duration": 249,
    "start_time": "2021-07-03T14:08:06.815Z"
   },
   {
    "duration": 211,
    "start_time": "2021-07-03T14:08:07.065Z"
   },
   {
    "duration": 19,
    "start_time": "2021-07-03T14:08:07.278Z"
   },
   {
    "duration": 161,
    "start_time": "2021-07-03T14:08:07.298Z"
   },
   {
    "duration": 6,
    "start_time": "2021-07-03T14:08:07.461Z"
   },
   {
    "duration": 407,
    "start_time": "2021-07-03T14:08:07.468Z"
   },
   {
    "duration": 795,
    "start_time": "2021-07-03T14:08:07.877Z"
   },
   {
    "duration": 15,
    "start_time": "2021-07-03T14:39:30.592Z"
   },
   {
    "duration": 22,
    "start_time": "2021-07-03T14:43:39.765Z"
   },
   {
    "duration": 20,
    "start_time": "2021-07-03T14:45:46.158Z"
   },
   {
    "duration": 21,
    "start_time": "2021-07-03T14:46:17.971Z"
   },
   {
    "duration": 10,
    "start_time": "2021-07-03T14:55:03.717Z"
   },
   {
    "duration": 11,
    "start_time": "2021-07-03T14:55:35.586Z"
   },
   {
    "duration": 11,
    "start_time": "2021-07-03T14:55:45.700Z"
   },
   {
    "duration": 12,
    "start_time": "2021-07-03T14:55:54.110Z"
   },
   {
    "duration": 12,
    "start_time": "2021-07-03T14:56:01.839Z"
   },
   {
    "duration": 11,
    "start_time": "2021-07-03T14:56:06.440Z"
   },
   {
    "duration": 85,
    "start_time": "2021-07-03T15:52:47.073Z"
   },
   {
    "duration": 7,
    "start_time": "2021-07-03T15:53:08.342Z"
   },
   {
    "duration": 235,
    "start_time": "2021-07-03T16:17:28.963Z"
   },
   {
    "duration": 229,
    "start_time": "2021-07-03T16:19:39.962Z"
   },
   {
    "duration": 233,
    "start_time": "2021-07-03T16:20:43.121Z"
   },
   {
    "duration": 258,
    "start_time": "2021-07-03T16:20:54.927Z"
   },
   {
    "duration": 229,
    "start_time": "2021-07-03T16:21:04.759Z"
   },
   {
    "duration": 231,
    "start_time": "2021-07-03T16:28:28.544Z"
   },
   {
    "duration": 2,
    "start_time": "2021-07-03T20:39:52.781Z"
   },
   {
    "duration": 3,
    "start_time": "2021-07-03T20:43:54.462Z"
   },
   {
    "duration": 362,
    "start_time": "2021-07-03T20:45:20.722Z"
   },
   {
    "duration": 5,
    "start_time": "2021-07-03T20:47:01.309Z"
   },
   {
    "duration": 249,
    "start_time": "2021-07-03T20:50:18.940Z"
   },
   {
    "duration": 3,
    "start_time": "2021-07-03T20:51:37.914Z"
   },
   {
    "duration": 5,
    "start_time": "2021-07-03T20:51:48.346Z"
   },
   {
    "duration": 1369,
    "start_time": "2021-07-03T21:20:26.457Z"
   },
   {
    "duration": 24,
    "start_time": "2021-07-03T21:20:27.828Z"
   },
   {
    "duration": 12,
    "start_time": "2021-07-03T21:20:27.854Z"
   },
   {
    "duration": 10,
    "start_time": "2021-07-03T21:20:27.868Z"
   },
   {
    "duration": 9,
    "start_time": "2021-07-03T21:20:27.879Z"
   },
   {
    "duration": 13,
    "start_time": "2021-07-03T21:20:27.889Z"
   },
   {
    "duration": 14,
    "start_time": "2021-07-03T21:20:27.903Z"
   },
   {
    "duration": 8,
    "start_time": "2021-07-03T21:20:27.918Z"
   },
   {
    "duration": 18,
    "start_time": "2021-07-03T21:20:27.928Z"
   },
   {
    "duration": 25,
    "start_time": "2021-07-03T21:20:27.947Z"
   },
   {
    "duration": 286,
    "start_time": "2021-07-03T21:20:27.973Z"
   },
   {
    "duration": 10,
    "start_time": "2021-07-03T21:20:28.261Z"
   },
   {
    "duration": 5,
    "start_time": "2021-07-03T21:20:28.273Z"
   },
   {
    "duration": 323,
    "start_time": "2021-07-03T21:20:28.280Z"
   },
   {
    "duration": 10,
    "start_time": "2021-07-03T21:20:28.605Z"
   },
   {
    "duration": 31,
    "start_time": "2021-07-03T21:20:28.616Z"
   },
   {
    "duration": 20,
    "start_time": "2021-07-03T21:20:28.648Z"
   },
   {
    "duration": 21,
    "start_time": "2021-07-03T21:20:28.670Z"
   },
   {
    "duration": 15,
    "start_time": "2021-07-03T21:20:28.693Z"
   },
   {
    "duration": 28,
    "start_time": "2021-07-03T21:20:28.710Z"
   },
   {
    "duration": 2339,
    "start_time": "2021-07-03T21:20:28.740Z"
   },
   {
    "duration": 14,
    "start_time": "2021-07-03T21:20:31.081Z"
   },
   {
    "duration": 66,
    "start_time": "2021-07-03T21:20:31.097Z"
   },
   {
    "duration": 5,
    "start_time": "2021-07-03T21:20:31.165Z"
   },
   {
    "duration": 19,
    "start_time": "2021-07-03T21:20:31.172Z"
   },
   {
    "duration": 44,
    "start_time": "2021-07-03T21:20:31.192Z"
   },
   {
    "duration": 3,
    "start_time": "2021-07-03T21:20:31.240Z"
   },
   {
    "duration": 20,
    "start_time": "2021-07-03T21:20:31.245Z"
   },
   {
    "duration": 19,
    "start_time": "2021-07-03T21:20:31.266Z"
   },
   {
    "duration": 23,
    "start_time": "2021-07-03T21:20:31.286Z"
   },
   {
    "duration": 8,
    "start_time": "2021-07-03T21:20:31.310Z"
   },
   {
    "duration": 8,
    "start_time": "2021-07-03T21:20:31.319Z"
   },
   {
    "duration": 28,
    "start_time": "2021-07-03T21:20:31.328Z"
   },
   {
    "duration": 15,
    "start_time": "2021-07-03T21:20:31.357Z"
   },
   {
    "duration": 6,
    "start_time": "2021-07-03T21:20:31.373Z"
   },
   {
    "duration": 14,
    "start_time": "2021-07-03T21:20:31.380Z"
   },
   {
    "duration": 7,
    "start_time": "2021-07-03T21:20:31.395Z"
   },
   {
    "duration": 45,
    "start_time": "2021-07-03T21:20:31.403Z"
   },
   {
    "duration": 7,
    "start_time": "2021-07-03T21:20:31.449Z"
   },
   {
    "duration": 46,
    "start_time": "2021-07-03T21:20:31.457Z"
   },
   {
    "duration": 4,
    "start_time": "2021-07-03T21:20:31.504Z"
   },
   {
    "duration": 12,
    "start_time": "2021-07-03T21:20:31.509Z"
   },
   {
    "duration": 23,
    "start_time": "2021-07-03T21:20:31.522Z"
   },
   {
    "duration": 7,
    "start_time": "2021-07-03T21:20:31.546Z"
   },
   {
    "duration": 7,
    "start_time": "2021-07-03T21:20:31.554Z"
   },
   {
    "duration": 38,
    "start_time": "2021-07-03T21:20:31.562Z"
   },
   {
    "duration": 6,
    "start_time": "2021-07-03T21:20:31.602Z"
   },
   {
    "duration": 14,
    "start_time": "2021-07-03T21:20:31.610Z"
   },
   {
    "duration": 417,
    "start_time": "2021-07-03T21:20:31.625Z"
   },
   {
    "duration": 17,
    "start_time": "2021-07-03T21:20:32.044Z"
   },
   {
    "duration": 12,
    "start_time": "2021-07-03T21:20:32.063Z"
   },
   {
    "duration": 756,
    "start_time": "2021-07-03T21:20:32.077Z"
   },
   {
    "duration": 677,
    "start_time": "2021-07-03T21:20:32.835Z"
   },
   {
    "duration": 9,
    "start_time": "2021-07-03T21:20:33.513Z"
   },
   {
    "duration": 45,
    "start_time": "2021-07-03T21:20:33.523Z"
   },
   {
    "duration": 22,
    "start_time": "2021-07-03T21:20:33.569Z"
   },
   {
    "duration": 16,
    "start_time": "2021-07-03T21:20:33.593Z"
   },
   {
    "duration": 24,
    "start_time": "2021-07-03T21:20:33.610Z"
   },
   {
    "duration": 831,
    "start_time": "2021-07-03T21:20:33.636Z"
   },
   {
    "duration": 698,
    "start_time": "2021-07-03T21:20:34.468Z"
   },
   {
    "duration": 209,
    "start_time": "2021-07-03T21:20:35.167Z"
   },
   {
    "duration": 206,
    "start_time": "2021-07-03T21:20:35.378Z"
   },
   {
    "duration": 19,
    "start_time": "2021-07-03T21:20:35.585Z"
   },
   {
    "duration": 178,
    "start_time": "2021-07-03T21:20:35.605Z"
   },
   {
    "duration": 10,
    "start_time": "2021-07-03T21:20:35.784Z"
   },
   {
    "duration": 392,
    "start_time": "2021-07-03T21:20:35.796Z"
   },
   {
    "duration": 796,
    "start_time": "2021-07-03T21:20:36.190Z"
   },
   {
    "duration": 7,
    "start_time": "2021-07-03T21:20:36.988Z"
   },
   {
    "duration": 220,
    "start_time": "2021-07-03T21:20:36.996Z"
   },
   {
    "duration": 2,
    "start_time": "2021-07-03T21:20:37.218Z"
   },
   {
    "duration": 22,
    "start_time": "2021-07-03T21:20:37.222Z"
   },
   {
    "duration": 29,
    "start_time": "2021-07-03T21:20:37.245Z"
   },
   {
    "duration": 12,
    "start_time": "2021-07-03T21:20:37.275Z"
   },
   {
    "duration": 1920,
    "start_time": "2021-07-04T10:36:31.924Z"
   },
   {
    "duration": 46,
    "start_time": "2021-07-04T10:36:33.847Z"
   },
   {
    "duration": 19,
    "start_time": "2021-07-04T10:36:33.896Z"
   },
   {
    "duration": 16,
    "start_time": "2021-07-04T10:36:33.918Z"
   },
   {
    "duration": 13,
    "start_time": "2021-07-04T10:36:33.936Z"
   },
   {
    "duration": 21,
    "start_time": "2021-07-04T10:36:33.951Z"
   },
   {
    "duration": 16,
    "start_time": "2021-07-04T10:36:33.975Z"
   },
   {
    "duration": 19,
    "start_time": "2021-07-04T10:36:33.994Z"
   },
   {
    "duration": 17,
    "start_time": "2021-07-04T10:36:34.016Z"
   },
   {
    "duration": 45,
    "start_time": "2021-07-04T10:36:34.035Z"
   },
   {
    "duration": 407,
    "start_time": "2021-07-04T10:36:34.082Z"
   },
   {
    "duration": 16,
    "start_time": "2021-07-04T10:36:34.492Z"
   },
   {
    "duration": 7,
    "start_time": "2021-07-04T10:36:34.510Z"
   },
   {
    "duration": 393,
    "start_time": "2021-07-04T10:36:34.519Z"
   },
   {
    "duration": 16,
    "start_time": "2021-07-04T10:36:34.916Z"
   },
   {
    "duration": 22,
    "start_time": "2021-07-04T10:36:34.934Z"
   },
   {
    "duration": 18,
    "start_time": "2021-07-04T10:36:34.958Z"
   },
   {
    "duration": 20,
    "start_time": "2021-07-04T10:36:34.978Z"
   },
   {
    "duration": 6,
    "start_time": "2021-07-04T10:36:35.000Z"
   },
   {
    "duration": 12,
    "start_time": "2021-07-04T10:36:35.008Z"
   },
   {
    "duration": 3244,
    "start_time": "2021-07-04T10:36:35.055Z"
   },
   {
    "duration": 26,
    "start_time": "2021-07-04T10:36:38.301Z"
   },
   {
    "duration": 96,
    "start_time": "2021-07-04T10:36:38.333Z"
   },
   {
    "duration": 7,
    "start_time": "2021-07-04T10:36:38.433Z"
   },
   {
    "duration": 9,
    "start_time": "2021-07-04T10:36:38.456Z"
   },
   {
    "duration": 58,
    "start_time": "2021-07-04T10:36:38.467Z"
   },
   {
    "duration": 28,
    "start_time": "2021-07-04T10:36:38.528Z"
   },
   {
    "duration": 4,
    "start_time": "2021-07-04T10:36:38.558Z"
   },
   {
    "duration": 9,
    "start_time": "2021-07-04T10:36:38.565Z"
   },
   {
    "duration": 9,
    "start_time": "2021-07-04T10:36:38.576Z"
   },
   {
    "duration": 11,
    "start_time": "2021-07-04T10:36:38.587Z"
   },
   {
    "duration": 10,
    "start_time": "2021-07-04T10:36:38.600Z"
   },
   {
    "duration": 11,
    "start_time": "2021-07-04T10:36:38.613Z"
   },
   {
    "duration": 29,
    "start_time": "2021-07-04T10:36:38.626Z"
   },
   {
    "duration": 10,
    "start_time": "2021-07-04T10:36:38.658Z"
   },
   {
    "duration": 11,
    "start_time": "2021-07-04T10:36:38.671Z"
   },
   {
    "duration": 10,
    "start_time": "2021-07-04T10:36:38.685Z"
   },
   {
    "duration": 87,
    "start_time": "2021-07-04T10:36:38.698Z"
   },
   {
    "duration": 10,
    "start_time": "2021-07-04T10:36:38.788Z"
   },
   {
    "duration": 84,
    "start_time": "2021-07-04T10:36:38.801Z"
   },
   {
    "duration": 7,
    "start_time": "2021-07-04T10:36:38.887Z"
   },
   {
    "duration": 21,
    "start_time": "2021-07-04T10:36:38.897Z"
   },
   {
    "duration": 44,
    "start_time": "2021-07-04T10:36:38.921Z"
   },
   {
    "duration": 13,
    "start_time": "2021-07-04T10:36:38.968Z"
   },
   {
    "duration": 8,
    "start_time": "2021-07-04T10:36:38.984Z"
   },
   {
    "duration": 74,
    "start_time": "2021-07-04T10:36:38.995Z"
   },
   {
    "duration": 12,
    "start_time": "2021-07-04T10:36:39.071Z"
   },
   {
    "duration": 12,
    "start_time": "2021-07-04T10:36:39.085Z"
   },
   {
    "duration": 678,
    "start_time": "2021-07-04T10:36:39.099Z"
   },
   {
    "duration": 27,
    "start_time": "2021-07-04T10:36:39.779Z"
   },
   {
    "duration": 48,
    "start_time": "2021-07-04T10:36:39.808Z"
   },
   {
    "duration": 1340,
    "start_time": "2021-07-04T10:36:39.858Z"
   },
   {
    "duration": 1187,
    "start_time": "2021-07-04T10:36:41.200Z"
   },
   {
    "duration": 13,
    "start_time": "2021-07-04T10:36:42.389Z"
   },
   {
    "duration": 69,
    "start_time": "2021-07-04T10:36:42.405Z"
   },
   {
    "duration": 12,
    "start_time": "2021-07-04T10:36:42.476Z"
   },
   {
    "duration": 13,
    "start_time": "2021-07-04T10:36:42.490Z"
   },
   {
    "duration": 11,
    "start_time": "2021-07-04T10:36:42.505Z"
   },
   {
    "duration": 1205,
    "start_time": "2021-07-04T10:36:42.556Z"
   },
   {
    "duration": 1218,
    "start_time": "2021-07-04T10:36:43.764Z"
   },
   {
    "duration": 383,
    "start_time": "2021-07-04T10:36:44.984Z"
   },
   {
    "duration": 347,
    "start_time": "2021-07-04T10:36:45.369Z"
   },
   {
    "duration": 45,
    "start_time": "2021-07-04T10:36:45.718Z"
   },
   {
    "duration": 263,
    "start_time": "2021-07-04T10:36:45.765Z"
   },
   {
    "duration": 32,
    "start_time": "2021-07-04T10:36:46.030Z"
   },
   {
    "duration": 594,
    "start_time": "2021-07-04T10:36:46.065Z"
   },
   {
    "duration": 1394,
    "start_time": "2021-07-04T10:36:46.661Z"
   },
   {
    "duration": 11,
    "start_time": "2021-07-04T10:36:48.062Z"
   },
   {
    "duration": 391,
    "start_time": "2021-07-04T10:36:48.075Z"
   },
   {
    "duration": 3,
    "start_time": "2021-07-04T10:36:48.469Z"
   },
   {
    "duration": 6,
    "start_time": "2021-07-04T10:36:48.474Z"
   },
   {
    "duration": 13,
    "start_time": "2021-07-04T10:36:48.482Z"
   },
   {
    "duration": 7,
    "start_time": "2021-07-04T10:36:48.497Z"
   },
   {
    "duration": 2151,
    "start_time": "2021-07-04T13:11:14.530Z"
   },
   {
    "duration": 33,
    "start_time": "2021-07-04T13:11:16.684Z"
   },
   {
    "duration": 19,
    "start_time": "2021-07-04T13:11:16.719Z"
   },
   {
    "duration": 20,
    "start_time": "2021-07-04T13:11:16.741Z"
   },
   {
    "duration": 25,
    "start_time": "2021-07-04T13:11:16.764Z"
   },
   {
    "duration": 26,
    "start_time": "2021-07-04T13:11:16.791Z"
   },
   {
    "duration": 20,
    "start_time": "2021-07-04T13:11:16.819Z"
   },
   {
    "duration": 14,
    "start_time": "2021-07-04T13:11:16.843Z"
   },
   {
    "duration": 34,
    "start_time": "2021-07-04T13:11:16.860Z"
   },
   {
    "duration": 31,
    "start_time": "2021-07-04T13:11:16.897Z"
   },
   {
    "duration": 415,
    "start_time": "2021-07-04T13:11:16.931Z"
   },
   {
    "duration": 18,
    "start_time": "2021-07-04T13:11:17.349Z"
   },
   {
    "duration": 9,
    "start_time": "2021-07-04T13:11:17.387Z"
   },
   {
    "duration": 457,
    "start_time": "2021-07-04T13:11:17.399Z"
   },
   {
    "duration": 28,
    "start_time": "2021-07-04T13:11:17.860Z"
   },
   {
    "duration": 17,
    "start_time": "2021-07-04T13:11:17.890Z"
   },
   {
    "duration": 27,
    "start_time": "2021-07-04T13:11:17.910Z"
   },
   {
    "duration": 23,
    "start_time": "2021-07-04T13:11:17.939Z"
   },
   {
    "duration": 22,
    "start_time": "2021-07-04T13:11:17.965Z"
   },
   {
    "duration": 26,
    "start_time": "2021-07-04T13:11:17.990Z"
   },
   {
    "duration": 3505,
    "start_time": "2021-07-04T13:11:18.019Z"
   },
   {
    "duration": 25,
    "start_time": "2021-07-04T13:11:21.527Z"
   },
   {
    "duration": 102,
    "start_time": "2021-07-04T13:11:21.560Z"
   },
   {
    "duration": 7,
    "start_time": "2021-07-04T13:11:21.666Z"
   },
   {
    "duration": 12,
    "start_time": "2021-07-04T13:11:21.685Z"
   },
   {
    "duration": 59,
    "start_time": "2021-07-04T13:11:21.700Z"
   },
   {
    "duration": 26,
    "start_time": "2021-07-04T13:11:21.762Z"
   },
   {
    "duration": 8,
    "start_time": "2021-07-04T13:11:21.792Z"
   },
   {
    "duration": 6,
    "start_time": "2021-07-04T13:11:21.803Z"
   },
   {
    "duration": 13,
    "start_time": "2021-07-04T13:11:21.812Z"
   },
   {
    "duration": 5,
    "start_time": "2021-07-04T13:11:21.828Z"
   },
   {
    "duration": 7,
    "start_time": "2021-07-04T13:11:21.836Z"
   },
   {
    "duration": 40,
    "start_time": "2021-07-04T13:11:21.846Z"
   },
   {
    "duration": 10,
    "start_time": "2021-07-04T13:11:21.888Z"
   },
   {
    "duration": 9,
    "start_time": "2021-07-04T13:11:21.900Z"
   },
   {
    "duration": 10,
    "start_time": "2021-07-04T13:11:21.912Z"
   },
   {
    "duration": 8,
    "start_time": "2021-07-04T13:11:21.924Z"
   },
   {
    "duration": 85,
    "start_time": "2021-07-04T13:11:21.934Z"
   },
   {
    "duration": 8,
    "start_time": "2021-07-04T13:11:22.022Z"
   },
   {
    "duration": 76,
    "start_time": "2021-07-04T13:11:22.032Z"
   },
   {
    "duration": 6,
    "start_time": "2021-07-04T13:11:22.111Z"
   },
   {
    "duration": 17,
    "start_time": "2021-07-04T13:11:22.119Z"
   },
   {
    "duration": 51,
    "start_time": "2021-07-04T13:11:22.138Z"
   },
   {
    "duration": 12,
    "start_time": "2021-07-04T13:11:22.192Z"
   },
   {
    "duration": 5,
    "start_time": "2021-07-04T13:11:22.206Z"
   },
   {
    "duration": 41,
    "start_time": "2021-07-04T13:11:22.213Z"
   },
   {
    "duration": 38,
    "start_time": "2021-07-04T13:11:22.257Z"
   },
   {
    "duration": 15,
    "start_time": "2021-07-04T13:11:22.298Z"
   },
   {
    "duration": 645,
    "start_time": "2021-07-04T13:11:22.315Z"
   },
   {
    "duration": 38,
    "start_time": "2021-07-04T13:11:22.963Z"
   },
   {
    "duration": 26,
    "start_time": "2021-07-04T13:11:23.003Z"
   },
   {
    "duration": 1322,
    "start_time": "2021-07-04T13:11:23.031Z"
   },
   {
    "duration": 1222,
    "start_time": "2021-07-04T13:11:24.357Z"
   },
   {
    "duration": 13,
    "start_time": "2021-07-04T13:11:25.585Z"
   },
   {
    "duration": 54,
    "start_time": "2021-07-04T13:11:25.601Z"
   },
   {
    "duration": 37,
    "start_time": "2021-07-04T13:11:25.658Z"
   },
   {
    "duration": 14,
    "start_time": "2021-07-04T13:11:25.698Z"
   },
   {
    "duration": 12,
    "start_time": "2021-07-04T13:11:25.715Z"
   },
   {
    "duration": 1271,
    "start_time": "2021-07-04T13:11:25.730Z"
   },
   {
    "duration": 1224,
    "start_time": "2021-07-04T13:11:27.004Z"
   },
   {
    "duration": 358,
    "start_time": "2021-07-04T13:11:28.231Z"
   },
   {
    "duration": 335,
    "start_time": "2021-07-04T13:11:28.591Z"
   },
   {
    "duration": 31,
    "start_time": "2021-07-04T13:11:28.928Z"
   },
   {
    "duration": 298,
    "start_time": "2021-07-04T13:11:28.962Z"
   },
   {
    "duration": 34,
    "start_time": "2021-07-04T13:11:29.262Z"
   },
   {
    "duration": 620,
    "start_time": "2021-07-04T13:11:29.298Z"
   },
   {
    "duration": 1384,
    "start_time": "2021-07-04T13:11:29.921Z"
   },
   {
    "duration": 12,
    "start_time": "2021-07-04T13:11:31.312Z"
   },
   {
    "duration": 427,
    "start_time": "2021-07-04T13:11:31.327Z"
   },
   {
    "duration": 3,
    "start_time": "2021-07-04T13:11:31.757Z"
   },
   {
    "duration": 22,
    "start_time": "2021-07-04T13:11:31.763Z"
   },
   {
    "duration": 11,
    "start_time": "2021-07-04T13:11:31.788Z"
   },
   {
    "duration": 23,
    "start_time": "2021-07-04T13:11:31.802Z"
   },
   {
    "duration": 5,
    "start_time": "2021-07-04T13:26:13.265Z"
   },
   {
    "duration": 44,
    "start_time": "2021-07-04T13:26:13.273Z"
   },
   {
    "duration": 16,
    "start_time": "2021-07-04T13:26:13.320Z"
   },
   {
    "duration": 47,
    "start_time": "2021-07-04T13:26:13.339Z"
   },
   {
    "duration": 18,
    "start_time": "2021-07-04T13:26:13.389Z"
   },
   {
    "duration": 22,
    "start_time": "2021-07-04T13:26:13.410Z"
   },
   {
    "duration": 64,
    "start_time": "2021-07-04T13:26:13.435Z"
   },
   {
    "duration": 15,
    "start_time": "2021-07-04T13:26:13.505Z"
   },
   {
    "duration": 13,
    "start_time": "2021-07-04T13:26:13.525Z"
   },
   {
    "duration": 64,
    "start_time": "2021-07-04T13:26:13.540Z"
   },
   {
    "duration": 416,
    "start_time": "2021-07-04T13:26:13.607Z"
   },
   {
    "duration": 17,
    "start_time": "2021-07-04T13:26:14.025Z"
   },
   {
    "duration": 14,
    "start_time": "2021-07-04T13:26:14.045Z"
   },
   {
    "duration": 421,
    "start_time": "2021-07-04T13:26:14.061Z"
   },
   {
    "duration": 16,
    "start_time": "2021-07-04T13:26:14.486Z"
   },
   {
    "duration": 21,
    "start_time": "2021-07-04T13:26:14.505Z"
   },
   {
    "duration": 32,
    "start_time": "2021-07-04T13:26:14.529Z"
   },
   {
    "duration": 51,
    "start_time": "2021-07-04T13:26:14.564Z"
   },
   {
    "duration": 6,
    "start_time": "2021-07-04T13:26:14.617Z"
   },
   {
    "duration": 29,
    "start_time": "2021-07-04T13:26:14.626Z"
   },
   {
    "duration": 3507,
    "start_time": "2021-07-04T13:26:14.657Z"
   },
   {
    "duration": 36,
    "start_time": "2021-07-04T13:26:18.167Z"
   },
   {
    "duration": 104,
    "start_time": "2021-07-04T13:26:18.209Z"
   },
   {
    "duration": 8,
    "start_time": "2021-07-04T13:26:18.317Z"
   },
   {
    "duration": 13,
    "start_time": "2021-07-04T13:26:18.328Z"
   },
   {
    "duration": 77,
    "start_time": "2021-07-04T13:26:18.344Z"
   },
   {
    "duration": 6,
    "start_time": "2021-07-04T13:26:18.423Z"
   },
   {
    "duration": 18,
    "start_time": "2021-07-04T13:26:18.431Z"
   },
   {
    "duration": 14,
    "start_time": "2021-07-04T13:26:18.452Z"
   },
   {
    "duration": 24,
    "start_time": "2021-07-04T13:26:18.468Z"
   },
   {
    "duration": 10,
    "start_time": "2021-07-04T13:26:18.495Z"
   },
   {
    "duration": 11,
    "start_time": "2021-07-04T13:26:18.507Z"
   },
   {
    "duration": 14,
    "start_time": "2021-07-04T13:26:18.520Z"
   },
   {
    "duration": 17,
    "start_time": "2021-07-04T13:26:18.537Z"
   },
   {
    "duration": 11,
    "start_time": "2021-07-04T13:26:18.556Z"
   },
   {
    "duration": 22,
    "start_time": "2021-07-04T13:26:18.569Z"
   },
   {
    "duration": 18,
    "start_time": "2021-07-04T13:26:18.594Z"
   },
   {
    "duration": 72,
    "start_time": "2021-07-04T13:26:18.614Z"
   },
   {
    "duration": 8,
    "start_time": "2021-07-04T13:26:18.689Z"
   },
   {
    "duration": 64,
    "start_time": "2021-07-04T13:26:18.699Z"
   },
   {
    "duration": 23,
    "start_time": "2021-07-04T13:26:18.765Z"
   },
   {
    "duration": 15,
    "start_time": "2021-07-04T13:26:18.791Z"
   },
   {
    "duration": 41,
    "start_time": "2021-07-04T13:26:18.808Z"
   },
   {
    "duration": 12,
    "start_time": "2021-07-04T13:26:18.852Z"
   },
   {
    "duration": 21,
    "start_time": "2021-07-04T13:26:18.866Z"
   },
   {
    "duration": 58,
    "start_time": "2021-07-04T13:26:18.889Z"
   },
   {
    "duration": 34,
    "start_time": "2021-07-04T13:26:18.950Z"
   },
   {
    "duration": 26,
    "start_time": "2021-07-04T13:26:18.987Z"
   },
   {
    "duration": 669,
    "start_time": "2021-07-04T13:26:19.016Z"
   },
   {
    "duration": 26,
    "start_time": "2021-07-04T13:26:19.688Z"
   },
   {
    "duration": 23,
    "start_time": "2021-07-04T13:26:19.717Z"
   },
   {
    "duration": 1217,
    "start_time": "2021-07-04T13:26:19.743Z"
   },
   {
    "duration": 1371,
    "start_time": "2021-07-04T13:26:20.963Z"
   },
   {
    "duration": 15,
    "start_time": "2021-07-04T13:26:22.336Z"
   },
   {
    "duration": 72,
    "start_time": "2021-07-04T13:26:22.353Z"
   },
   {
    "duration": 13,
    "start_time": "2021-07-04T13:26:22.427Z"
   },
   {
    "duration": 18,
    "start_time": "2021-07-04T13:26:22.442Z"
   },
   {
    "duration": 33,
    "start_time": "2021-07-04T13:26:22.463Z"
   },
   {
    "duration": 1267,
    "start_time": "2021-07-04T13:26:22.499Z"
   },
   {
    "duration": 1270,
    "start_time": "2021-07-04T13:26:23.769Z"
   },
   {
    "duration": 350,
    "start_time": "2021-07-04T13:26:25.041Z"
   },
   {
    "duration": 431,
    "start_time": "2021-07-04T13:26:25.393Z"
   },
   {
    "duration": 37,
    "start_time": "2021-07-04T13:26:25.827Z"
   },
   {
    "duration": 318,
    "start_time": "2021-07-04T13:26:25.867Z"
   },
   {
    "duration": 19,
    "start_time": "2021-07-04T13:26:26.188Z"
   },
   {
    "duration": 621,
    "start_time": "2021-07-04T13:26:26.209Z"
   },
   {
    "duration": 1342,
    "start_time": "2021-07-04T13:26:26.833Z"
   },
   {
    "duration": 13,
    "start_time": "2021-07-04T13:26:28.190Z"
   },
   {
    "duration": 435,
    "start_time": "2021-07-04T13:26:28.205Z"
   },
   {
    "duration": 4,
    "start_time": "2021-07-04T13:26:28.642Z"
   },
   {
    "duration": 8,
    "start_time": "2021-07-04T13:26:28.648Z"
   },
   {
    "duration": 30,
    "start_time": "2021-07-04T13:26:28.658Z"
   },
   {
    "duration": 16,
    "start_time": "2021-07-04T13:26:28.691Z"
   },
   {
    "duration": 105,
    "start_time": "2021-07-04T14:16:28.582Z"
   },
   {
    "duration": 2588,
    "start_time": "2021-07-04T19:26:37.836Z"
   },
   {
    "duration": 42,
    "start_time": "2021-07-04T19:26:40.428Z"
   },
   {
    "duration": 32,
    "start_time": "2021-07-04T19:26:40.474Z"
   },
   {
    "duration": 17,
    "start_time": "2021-07-04T19:26:40.512Z"
   },
   {
    "duration": 18,
    "start_time": "2021-07-04T19:26:40.532Z"
   },
   {
    "duration": 21,
    "start_time": "2021-07-04T19:26:40.553Z"
   },
   {
    "duration": 16,
    "start_time": "2021-07-04T19:26:40.602Z"
   },
   {
    "duration": 12,
    "start_time": "2021-07-04T19:26:40.626Z"
   },
   {
    "duration": 12,
    "start_time": "2021-07-04T19:26:40.643Z"
   },
   {
    "duration": 51,
    "start_time": "2021-07-04T19:26:40.657Z"
   },
   {
    "duration": 19,
    "start_time": "2021-07-04T19:26:40.711Z"
   },
   {
    "duration": 13,
    "start_time": "2021-07-04T19:26:40.733Z"
   },
   {
    "duration": 73,
    "start_time": "2021-07-04T19:26:40.748Z"
   },
   {
    "duration": 493,
    "start_time": "2021-07-04T19:26:40.823Z"
   },
   {
    "duration": 26,
    "start_time": "2021-07-04T19:26:41.318Z"
   },
   {
    "duration": 11,
    "start_time": "2021-07-04T19:26:41.346Z"
   },
   {
    "duration": 561,
    "start_time": "2021-07-04T19:26:41.360Z"
   },
   {
    "duration": 16,
    "start_time": "2021-07-04T19:26:41.923Z"
   },
   {
    "duration": 16,
    "start_time": "2021-07-04T19:26:41.941Z"
   },
   {
    "duration": 47,
    "start_time": "2021-07-04T19:26:41.960Z"
   },
   {
    "duration": 24,
    "start_time": "2021-07-04T19:26:42.010Z"
   },
   {
    "duration": 6,
    "start_time": "2021-07-04T19:26:42.037Z"
   },
   {
    "duration": 12,
    "start_time": "2021-07-04T19:26:42.050Z"
   },
   {
    "duration": 3508,
    "start_time": "2021-07-04T19:26:42.067Z"
   },
   {
    "duration": 48,
    "start_time": "2021-07-04T19:26:45.578Z"
   },
   {
    "duration": 77,
    "start_time": "2021-07-04T19:26:45.628Z"
   },
   {
    "duration": 8,
    "start_time": "2021-07-04T19:26:45.708Z"
   },
   {
    "duration": 12,
    "start_time": "2021-07-04T19:26:45.719Z"
   },
   {
    "duration": 70,
    "start_time": "2021-07-04T19:26:45.734Z"
   },
   {
    "duration": 14,
    "start_time": "2021-07-04T19:26:45.811Z"
   },
   {
    "duration": 14,
    "start_time": "2021-07-04T19:26:45.828Z"
   },
   {
    "duration": 16,
    "start_time": "2021-07-04T19:26:45.845Z"
   },
   {
    "duration": 18,
    "start_time": "2021-07-04T19:26:45.864Z"
   },
   {
    "duration": 20,
    "start_time": "2021-07-04T19:26:45.884Z"
   },
   {
    "duration": 16,
    "start_time": "2021-07-04T19:26:45.908Z"
   },
   {
    "duration": 12,
    "start_time": "2021-07-04T19:26:45.926Z"
   },
   {
    "duration": 16,
    "start_time": "2021-07-04T19:26:45.940Z"
   },
   {
    "duration": 18,
    "start_time": "2021-07-04T19:26:45.958Z"
   },
   {
    "duration": 15,
    "start_time": "2021-07-04T19:26:45.979Z"
   },
   {
    "duration": 11,
    "start_time": "2021-07-04T19:26:45.997Z"
   },
   {
    "duration": 57,
    "start_time": "2021-07-04T19:26:46.011Z"
   },
   {
    "duration": 9,
    "start_time": "2021-07-04T19:26:46.071Z"
   },
   {
    "duration": 50,
    "start_time": "2021-07-04T19:26:46.102Z"
   },
   {
    "duration": 6,
    "start_time": "2021-07-04T19:26:46.155Z"
   },
   {
    "duration": 42,
    "start_time": "2021-07-04T19:26:46.164Z"
   },
   {
    "duration": 41,
    "start_time": "2021-07-04T19:26:46.210Z"
   },
   {
    "duration": 19,
    "start_time": "2021-07-04T19:26:46.254Z"
   },
   {
    "duration": 13,
    "start_time": "2021-07-04T19:26:46.304Z"
   },
   {
    "duration": 58,
    "start_time": "2021-07-04T19:26:46.320Z"
   },
   {
    "duration": 40,
    "start_time": "2021-07-04T19:26:46.381Z"
   },
   {
    "duration": 10,
    "start_time": "2021-07-04T19:26:46.424Z"
   },
   {
    "duration": 832,
    "start_time": "2021-07-04T19:26:46.437Z"
   },
   {
    "duration": 104,
    "start_time": "2021-07-04T19:26:47.272Z"
   },
   {
    "duration": -54,
    "start_time": "2021-07-04T19:26:47.434Z"
   },
   {
    "duration": -58,
    "start_time": "2021-07-04T19:26:47.439Z"
   },
   {
    "duration": -61,
    "start_time": "2021-07-04T19:26:47.443Z"
   },
   {
    "duration": -63,
    "start_time": "2021-07-04T19:26:47.447Z"
   },
   {
    "duration": -67,
    "start_time": "2021-07-04T19:26:47.452Z"
   },
   {
    "duration": -71,
    "start_time": "2021-07-04T19:26:47.458Z"
   },
   {
    "duration": -74,
    "start_time": "2021-07-04T19:26:47.462Z"
   },
   {
    "duration": -77,
    "start_time": "2021-07-04T19:26:47.466Z"
   },
   {
    "duration": -80,
    "start_time": "2021-07-04T19:26:47.471Z"
   },
   {
    "duration": -82,
    "start_time": "2021-07-04T19:26:47.475Z"
   },
   {
    "duration": -84,
    "start_time": "2021-07-04T19:26:47.479Z"
   },
   {
    "duration": -86,
    "start_time": "2021-07-04T19:26:47.483Z"
   },
   {
    "duration": -90,
    "start_time": "2021-07-04T19:26:47.488Z"
   },
   {
    "duration": -87,
    "start_time": "2021-07-04T19:26:47.492Z"
   },
   {
    "duration": -89,
    "start_time": "2021-07-04T19:26:47.496Z"
   },
   {
    "duration": -92,
    "start_time": "2021-07-04T19:26:47.500Z"
   },
   {
    "duration": -94,
    "start_time": "2021-07-04T19:26:47.504Z"
   },
   {
    "duration": 629,
    "start_time": "2021-07-04T19:43:16.606Z"
   },
   {
    "duration": 295,
    "start_time": "2021-07-04T19:44:12.942Z"
   },
   {
    "duration": 28,
    "start_time": "2021-07-04T19:45:38.493Z"
   },
   {
    "duration": 28,
    "start_time": "2021-07-04T19:45:54.027Z"
   },
   {
    "duration": 13,
    "start_time": "2021-07-04T19:52:12.015Z"
   },
   {
    "duration": 26,
    "start_time": "2021-07-04T19:52:20.135Z"
   },
   {
    "duration": 13,
    "start_time": "2021-07-04T19:53:49.758Z"
   },
   {
    "duration": 27,
    "start_time": "2021-07-04T19:53:50.460Z"
   },
   {
    "duration": 13,
    "start_time": "2021-07-04T19:54:38.479Z"
   },
   {
    "duration": 15,
    "start_time": "2021-07-04T19:54:38.860Z"
   },
   {
    "duration": 15,
    "start_time": "2021-07-04T19:56:55.316Z"
   },
   {
    "duration": 18,
    "start_time": "2021-07-04T19:56:55.862Z"
   },
   {
    "duration": 22,
    "start_time": "2021-07-04T20:04:20.794Z"
   },
   {
    "duration": 22,
    "start_time": "2021-07-04T20:04:21.351Z"
   },
   {
    "duration": 8,
    "start_time": "2021-07-04T20:05:32.815Z"
   },
   {
    "duration": 25,
    "start_time": "2021-07-04T20:05:40.133Z"
   },
   {
    "duration": 26,
    "start_time": "2021-07-04T20:10:28.489Z"
   },
   {
    "duration": 26,
    "start_time": "2021-07-04T20:10:53.631Z"
   },
   {
    "duration": 27,
    "start_time": "2021-07-04T20:12:05.742Z"
   },
   {
    "duration": 2108,
    "start_time": "2021-07-05T07:21:32.651Z"
   },
   {
    "duration": 40,
    "start_time": "2021-07-05T07:21:34.762Z"
   },
   {
    "duration": 24,
    "start_time": "2021-07-05T07:21:34.806Z"
   },
   {
    "duration": 11,
    "start_time": "2021-07-05T07:21:34.832Z"
   },
   {
    "duration": 14,
    "start_time": "2021-07-05T07:21:34.845Z"
   },
   {
    "duration": 57,
    "start_time": "2021-07-05T07:21:34.861Z"
   },
   {
    "duration": 17,
    "start_time": "2021-07-05T07:21:34.921Z"
   },
   {
    "duration": 59,
    "start_time": "2021-07-05T07:21:34.944Z"
   },
   {
    "duration": 15,
    "start_time": "2021-07-05T07:21:35.007Z"
   },
   {
    "duration": 19,
    "start_time": "2021-07-05T07:21:35.025Z"
   },
   {
    "duration": 68,
    "start_time": "2021-07-05T07:21:35.047Z"
   },
   {
    "duration": 13,
    "start_time": "2021-07-05T07:21:35.118Z"
   },
   {
    "duration": 75,
    "start_time": "2021-07-05T07:21:35.134Z"
   },
   {
    "duration": 443,
    "start_time": "2021-07-05T07:21:35.212Z"
   },
   {
    "duration": 23,
    "start_time": "2021-07-05T07:21:35.658Z"
   },
   {
    "duration": 10,
    "start_time": "2021-07-05T07:21:35.705Z"
   },
   {
    "duration": 512,
    "start_time": "2021-07-05T07:21:35.718Z"
   },
   {
    "duration": 16,
    "start_time": "2021-07-05T07:21:36.233Z"
   },
   {
    "duration": 10,
    "start_time": "2021-07-05T07:21:36.252Z"
   },
   {
    "duration": 49,
    "start_time": "2021-07-05T07:21:36.265Z"
   },
   {
    "duration": 24,
    "start_time": "2021-07-05T07:21:36.317Z"
   },
   {
    "duration": 6,
    "start_time": "2021-07-05T07:21:36.343Z"
   },
   {
    "duration": 57,
    "start_time": "2021-07-05T07:21:36.355Z"
   },
   {
    "duration": 2961,
    "start_time": "2021-07-05T07:21:36.420Z"
   },
   {
    "duration": 39,
    "start_time": "2021-07-05T07:21:39.384Z"
   },
   {
    "duration": 88,
    "start_time": "2021-07-05T07:21:39.426Z"
   },
   {
    "duration": 9,
    "start_time": "2021-07-05T07:21:39.516Z"
   },
   {
    "duration": 13,
    "start_time": "2021-07-05T07:21:39.528Z"
   },
   {
    "duration": 87,
    "start_time": "2021-07-05T07:21:39.544Z"
   },
   {
    "duration": 11,
    "start_time": "2021-07-05T07:21:39.634Z"
   },
   {
    "duration": 9,
    "start_time": "2021-07-05T07:21:39.647Z"
   },
   {
    "duration": 11,
    "start_time": "2021-07-05T07:21:39.659Z"
   },
   {
    "duration": 34,
    "start_time": "2021-07-05T07:21:39.672Z"
   },
   {
    "duration": 18,
    "start_time": "2021-07-05T07:21:39.709Z"
   },
   {
    "duration": 8,
    "start_time": "2021-07-05T07:21:39.730Z"
   },
   {
    "duration": 7,
    "start_time": "2021-07-05T07:21:39.740Z"
   },
   {
    "duration": 11,
    "start_time": "2021-07-05T07:21:39.750Z"
   },
   {
    "duration": 37,
    "start_time": "2021-07-05T07:21:39.763Z"
   },
   {
    "duration": 23,
    "start_time": "2021-07-05T07:21:39.804Z"
   },
   {
    "duration": 11,
    "start_time": "2021-07-05T07:21:39.830Z"
   },
   {
    "duration": 65,
    "start_time": "2021-07-05T07:21:39.843Z"
   },
   {
    "duration": 11,
    "start_time": "2021-07-05T07:21:39.912Z"
   },
   {
    "duration": 75,
    "start_time": "2021-07-05T07:21:39.926Z"
   },
   {
    "duration": 7,
    "start_time": "2021-07-05T07:21:40.004Z"
   },
   {
    "duration": 27,
    "start_time": "2021-07-05T07:21:40.013Z"
   },
   {
    "duration": 42,
    "start_time": "2021-07-05T07:21:40.043Z"
   },
   {
    "duration": 23,
    "start_time": "2021-07-05T07:21:40.087Z"
   },
   {
    "duration": 13,
    "start_time": "2021-07-05T07:21:40.113Z"
   },
   {
    "duration": 39,
    "start_time": "2021-07-05T07:21:40.129Z"
   },
   {
    "duration": 42,
    "start_time": "2021-07-05T07:21:40.170Z"
   },
   {
    "duration": 14,
    "start_time": "2021-07-05T07:21:40.215Z"
   },
   {
    "duration": 709,
    "start_time": "2021-07-05T07:21:40.231Z"
   },
   {
    "duration": 27,
    "start_time": "2021-07-05T07:21:40.942Z"
   },
   {
    "duration": 42,
    "start_time": "2021-07-05T07:21:40.971Z"
   },
   {
    "duration": 31,
    "start_time": "2021-07-05T07:21:41.016Z"
   },
   {
    "duration": 62,
    "start_time": "2021-07-05T07:21:41.050Z"
   },
   {
    "duration": 23,
    "start_time": "2021-07-05T07:21:41.115Z"
   },
   {
    "duration": 1327,
    "start_time": "2021-07-05T07:21:41.140Z"
   },
   {
    "duration": 1414,
    "start_time": "2021-07-05T07:21:42.469Z"
   },
   {
    "duration": 331,
    "start_time": "2021-07-05T07:21:43.885Z"
   },
   {
    "duration": 386,
    "start_time": "2021-07-05T07:21:44.219Z"
   },
   {
    "duration": 33,
    "start_time": "2021-07-05T07:21:44.608Z"
   },
   {
    "duration": 325,
    "start_time": "2021-07-05T07:21:44.644Z"
   },
   {
    "duration": 35,
    "start_time": "2021-07-05T07:21:44.971Z"
   },
   {
    "duration": 644,
    "start_time": "2021-07-05T07:21:45.008Z"
   },
   {
    "duration": 1330,
    "start_time": "2021-07-05T07:21:45.655Z"
   },
   {
    "duration": 21,
    "start_time": "2021-07-05T07:21:46.987Z"
   },
   {
    "duration": 467,
    "start_time": "2021-07-05T07:21:47.017Z"
   },
   {
    "duration": 15,
    "start_time": "2021-07-05T07:21:47.487Z"
   },
   {
    "duration": 8,
    "start_time": "2021-07-05T07:21:47.505Z"
   },
   {
    "duration": 10,
    "start_time": "2021-07-05T07:21:47.516Z"
   },
   {
    "duration": 9,
    "start_time": "2021-07-05T07:21:47.529Z"
   },
   {
    "duration": 102,
    "start_time": "2021-07-05T07:25:05.477Z"
   },
   {
    "duration": 12,
    "start_time": "2021-07-05T07:25:12.687Z"
   },
   {
    "duration": 17,
    "start_time": "2021-07-05T07:25:34.441Z"
   },
   {
    "duration": 14,
    "start_time": "2021-07-05T07:26:23.057Z"
   },
   {
    "duration": 15,
    "start_time": "2021-07-05T07:26:24.482Z"
   },
   {
    "duration": 14,
    "start_time": "2021-07-05T07:26:46.910Z"
   },
   {
    "duration": 9,
    "start_time": "2021-07-05T07:26:47.414Z"
   },
   {
    "duration": 13,
    "start_time": "2021-07-05T07:26:55.654Z"
   },
   {
    "duration": 16,
    "start_time": "2021-07-05T07:26:55.775Z"
   },
   {
    "duration": 28,
    "start_time": "2021-07-05T07:28:30.505Z"
   },
   {
    "duration": 35,
    "start_time": "2021-07-05T07:28:39.601Z"
   },
   {
    "duration": 14,
    "start_time": "2021-07-05T07:29:49.714Z"
   },
   {
    "duration": 18,
    "start_time": "2021-07-05T07:29:50.446Z"
   },
   {
    "duration": 25,
    "start_time": "2021-07-05T07:30:05.822Z"
   },
   {
    "duration": 11,
    "start_time": "2021-07-05T07:32:27.762Z"
   },
   {
    "duration": 18,
    "start_time": "2021-07-05T07:50:29.911Z"
   },
   {
    "duration": 11,
    "start_time": "2021-07-05T07:50:45.465Z"
   },
   {
    "duration": 22,
    "start_time": "2021-07-05T07:50:52.910Z"
   },
   {
    "duration": 98,
    "start_time": "2021-07-05T07:51:02.024Z"
   },
   {
    "duration": 11,
    "start_time": "2021-07-05T07:51:06.040Z"
   },
   {
    "duration": 17,
    "start_time": "2021-07-05T07:54:47.407Z"
   },
   {
    "duration": 18,
    "start_time": "2021-07-05T07:54:47.816Z"
   },
   {
    "duration": 19,
    "start_time": "2021-07-05T07:55:07.801Z"
   },
   {
    "duration": 19,
    "start_time": "2021-07-05T07:55:08.280Z"
   },
   {
    "duration": 10,
    "start_time": "2021-07-05T07:56:13.267Z"
   },
   {
    "duration": 7554,
    "start_time": "2021-07-05T07:56:58.139Z"
   },
   {
    "duration": 11,
    "start_time": "2021-07-05T07:57:15.372Z"
   },
   {
    "duration": 3863,
    "start_time": "2021-07-05T07:57:22.651Z"
   },
   {
    "duration": 318,
    "start_time": "2021-07-05T07:57:46.443Z"
   },
   {
    "duration": 23,
    "start_time": "2021-07-05T07:58:11.153Z"
   },
   {
    "duration": 288,
    "start_time": "2021-07-05T07:58:38.541Z"
   },
   {
    "duration": 295,
    "start_time": "2021-07-05T07:59:29.696Z"
   },
   {
    "duration": 15,
    "start_time": "2021-07-05T08:13:02.242Z"
   },
   {
    "duration": 24,
    "start_time": "2021-07-05T08:13:03.163Z"
   },
   {
    "duration": 17,
    "start_time": "2021-07-05T08:14:47.556Z"
   },
   {
    "duration": 22,
    "start_time": "2021-07-05T08:14:48.253Z"
   },
   {
    "duration": 17,
    "start_time": "2021-07-05T08:15:51.716Z"
   },
   {
    "duration": 40,
    "start_time": "2021-07-05T08:15:55.736Z"
   },
   {
    "duration": 1970,
    "start_time": "2021-07-05T08:16:38.331Z"
   },
   {
    "duration": 33,
    "start_time": "2021-07-05T08:16:40.304Z"
   },
   {
    "duration": 19,
    "start_time": "2021-07-05T08:16:40.340Z"
   },
   {
    "duration": 11,
    "start_time": "2021-07-05T08:16:40.361Z"
   },
   {
    "duration": 36,
    "start_time": "2021-07-05T08:16:40.374Z"
   },
   {
    "duration": 17,
    "start_time": "2021-07-05T08:16:40.413Z"
   },
   {
    "duration": 12,
    "start_time": "2021-07-05T08:16:40.432Z"
   },
   {
    "duration": 14,
    "start_time": "2021-07-05T08:16:40.447Z"
   },
   {
    "duration": 49,
    "start_time": "2021-07-05T08:16:40.467Z"
   },
   {
    "duration": 16,
    "start_time": "2021-07-05T08:16:40.519Z"
   },
   {
    "duration": 16,
    "start_time": "2021-07-05T08:16:40.537Z"
   },
   {
    "duration": 53,
    "start_time": "2021-07-05T08:16:40.555Z"
   },
   {
    "duration": 31,
    "start_time": "2021-07-05T08:16:40.612Z"
   },
   {
    "duration": 417,
    "start_time": "2021-07-05T08:16:40.646Z"
   },
   {
    "duration": 17,
    "start_time": "2021-07-05T08:16:41.067Z"
   },
   {
    "duration": 10,
    "start_time": "2021-07-05T08:16:41.101Z"
   },
   {
    "duration": 468,
    "start_time": "2021-07-05T08:16:41.114Z"
   },
   {
    "duration": 25,
    "start_time": "2021-07-05T08:16:41.584Z"
   },
   {
    "duration": 9,
    "start_time": "2021-07-05T08:16:41.612Z"
   },
   {
    "duration": 17,
    "start_time": "2021-07-05T08:16:41.624Z"
   },
   {
    "duration": 21,
    "start_time": "2021-07-05T08:16:41.644Z"
   },
   {
    "duration": 8,
    "start_time": "2021-07-05T08:16:41.702Z"
   },
   {
    "duration": 20,
    "start_time": "2021-07-05T08:16:41.713Z"
   },
   {
    "duration": 2965,
    "start_time": "2021-07-05T08:16:41.736Z"
   },
   {
    "duration": 28,
    "start_time": "2021-07-05T08:16:44.705Z"
   },
   {
    "duration": 86,
    "start_time": "2021-07-05T08:16:44.735Z"
   },
   {
    "duration": 12,
    "start_time": "2021-07-05T08:16:44.827Z"
   },
   {
    "duration": 14,
    "start_time": "2021-07-05T08:16:44.843Z"
   },
   {
    "duration": 76,
    "start_time": "2021-07-05T08:16:44.859Z"
   },
   {
    "duration": 6,
    "start_time": "2021-07-05T08:16:44.938Z"
   },
   {
    "duration": 7,
    "start_time": "2021-07-05T08:16:44.948Z"
   },
   {
    "duration": 12,
    "start_time": "2021-07-05T08:16:44.958Z"
   },
   {
    "duration": 30,
    "start_time": "2021-07-05T08:16:44.973Z"
   },
   {
    "duration": 24,
    "start_time": "2021-07-05T08:16:45.007Z"
   },
   {
    "duration": 18,
    "start_time": "2021-07-05T08:16:45.034Z"
   },
   {
    "duration": 14,
    "start_time": "2021-07-05T08:16:45.055Z"
   },
   {
    "duration": 15,
    "start_time": "2021-07-05T08:16:45.071Z"
   },
   {
    "duration": 20,
    "start_time": "2021-07-05T08:16:45.089Z"
   },
   {
    "duration": 17,
    "start_time": "2021-07-05T08:16:45.112Z"
   },
   {
    "duration": 18,
    "start_time": "2021-07-05T08:16:45.132Z"
   },
   {
    "duration": 68,
    "start_time": "2021-07-05T08:16:45.153Z"
   },
   {
    "duration": 8,
    "start_time": "2021-07-05T08:16:45.224Z"
   },
   {
    "duration": 47,
    "start_time": "2021-07-05T08:16:45.235Z"
   },
   {
    "duration": 7,
    "start_time": "2021-07-05T08:16:45.300Z"
   },
   {
    "duration": 25,
    "start_time": "2021-07-05T08:16:45.310Z"
   },
   {
    "duration": 35,
    "start_time": "2021-07-05T08:16:45.337Z"
   },
   {
    "duration": 12,
    "start_time": "2021-07-05T08:16:45.374Z"
   },
   {
    "duration": 4,
    "start_time": "2021-07-05T08:16:45.402Z"
   },
   {
    "duration": 42,
    "start_time": "2021-07-05T08:16:45.409Z"
   },
   {
    "duration": 38,
    "start_time": "2021-07-05T08:16:45.453Z"
   },
   {
    "duration": 23,
    "start_time": "2021-07-05T08:16:45.501Z"
   },
   {
    "duration": 635,
    "start_time": "2021-07-05T08:16:45.526Z"
   },
   {
    "duration": 37,
    "start_time": "2021-07-05T08:16:46.163Z"
   },
   {
    "duration": 25,
    "start_time": "2021-07-05T08:16:46.204Z"
   },
   {
    "duration": 36,
    "start_time": "2021-07-05T08:16:46.232Z"
   },
   {
    "duration": 44,
    "start_time": "2021-07-05T08:16:46.271Z"
   },
   {
    "duration": 26,
    "start_time": "2021-07-05T08:16:46.318Z"
   },
   {
    "duration": 81,
    "start_time": "2021-07-05T08:16:46.346Z"
   },
   {
    "duration": 40,
    "start_time": "2021-07-05T08:16:46.430Z"
   },
   {
    "duration": 33,
    "start_time": "2021-07-05T08:16:46.473Z"
   },
   {
    "duration": 1290,
    "start_time": "2021-07-05T08:16:46.510Z"
   },
   {
    "duration": 1384,
    "start_time": "2021-07-05T08:16:47.804Z"
   },
   {
    "duration": 348,
    "start_time": "2021-07-05T08:16:49.190Z"
   },
   {
    "duration": 375,
    "start_time": "2021-07-05T08:16:49.541Z"
   },
   {
    "duration": 30,
    "start_time": "2021-07-05T08:16:49.919Z"
   },
   {
    "duration": 321,
    "start_time": "2021-07-05T08:16:49.951Z"
   },
   {
    "duration": 37,
    "start_time": "2021-07-05T08:16:50.275Z"
   },
   {
    "duration": 664,
    "start_time": "2021-07-05T08:16:50.314Z"
   },
   {
    "duration": 1376,
    "start_time": "2021-07-05T08:16:50.981Z"
   },
   {
    "duration": 10,
    "start_time": "2021-07-05T08:16:52.360Z"
   },
   {
    "duration": 567,
    "start_time": "2021-07-05T08:16:52.373Z"
   },
   {
    "duration": 3,
    "start_time": "2021-07-05T08:16:52.942Z"
   },
   {
    "duration": 15,
    "start_time": "2021-07-05T08:16:52.948Z"
   },
   {
    "duration": 19,
    "start_time": "2021-07-05T08:16:52.965Z"
   },
   {
    "duration": 18,
    "start_time": "2021-07-05T08:16:52.987Z"
   },
   {
    "duration": 42,
    "start_time": "2021-07-05T08:18:05.537Z"
   },
   {
    "duration": 34,
    "start_time": "2021-07-05T08:18:53.812Z"
   },
   {
    "duration": 37,
    "start_time": "2021-07-05T08:19:48.632Z"
   },
   {
    "duration": 41,
    "start_time": "2021-07-05T08:20:48.096Z"
   },
   {
    "duration": 31,
    "start_time": "2021-07-05T08:22:20.197Z"
   },
   {
    "duration": 36,
    "start_time": "2021-07-05T08:22:20.742Z"
   },
   {
    "duration": 19,
    "start_time": "2021-07-05T08:24:28.030Z"
   },
   {
    "duration": 37,
    "start_time": "2021-07-05T17:19:15.162Z"
   },
   {
    "duration": 27,
    "start_time": "2021-07-05T17:19:31.983Z"
   },
   {
    "duration": 26,
    "start_time": "2021-07-05T17:19:48.949Z"
   },
   {
    "duration": 25,
    "start_time": "2021-07-05T17:19:49.333Z"
   },
   {
    "duration": 26,
    "start_time": "2021-07-05T17:19:57.031Z"
   },
   {
    "duration": 24,
    "start_time": "2021-07-05T17:19:57.436Z"
   },
   {
    "duration": 24,
    "start_time": "2021-07-05T17:20:04.444Z"
   },
   {
    "duration": 22,
    "start_time": "2021-07-05T17:20:05.206Z"
   },
   {
    "duration": 51,
    "start_time": "2021-07-05T17:23:58.701Z"
   },
   {
    "duration": 12,
    "start_time": "2021-07-05T17:30:29.626Z"
   },
   {
    "duration": 89,
    "start_time": "2021-07-05T18:25:08.564Z"
   },
   {
    "duration": 16,
    "start_time": "2021-07-05T18:25:14.789Z"
   },
   {
    "duration": 9,
    "start_time": "2021-07-05T18:36:07.863Z"
   },
   {
    "duration": 10,
    "start_time": "2021-07-05T18:36:44.555Z"
   },
   {
    "duration": 111,
    "start_time": "2021-07-05T18:38:37.006Z"
   },
   {
    "duration": 13,
    "start_time": "2021-07-05T18:39:01.070Z"
   },
   {
    "duration": 25,
    "start_time": "2021-07-05T18:39:15.017Z"
   },
   {
    "duration": 20,
    "start_time": "2021-07-05T18:53:42.351Z"
   },
   {
    "duration": 35,
    "start_time": "2021-07-05T18:53:42.973Z"
   },
   {
    "duration": 13,
    "start_time": "2021-07-05T18:53:56.286Z"
   },
   {
    "duration": 34,
    "start_time": "2021-07-05T18:53:56.985Z"
   },
   {
    "duration": 507,
    "start_time": "2021-07-05T18:54:44.078Z"
   },
   {
    "duration": 22,
    "start_time": "2021-07-05T18:54:51.924Z"
   },
   {
    "duration": 45,
    "start_time": "2021-07-05T18:54:52.576Z"
   },
   {
    "duration": 17,
    "start_time": "2021-07-05T18:55:02.869Z"
   },
   {
    "duration": 32,
    "start_time": "2021-07-05T18:55:04.270Z"
   },
   {
    "duration": 11,
    "start_time": "2021-07-05T18:56:39.748Z"
   },
   {
    "duration": 10,
    "start_time": "2021-07-05T18:58:38.586Z"
   },
   {
    "duration": 11,
    "start_time": "2021-07-05T18:58:55.577Z"
   },
   {
    "duration": 290,
    "start_time": "2021-07-05T19:07:26.990Z"
   },
   {
    "duration": 6726,
    "start_time": "2021-07-05T19:09:23.442Z"
   },
   {
    "duration": 5,
    "start_time": "2021-07-05T19:10:04.341Z"
   },
   {
    "duration": 25,
    "start_time": "2021-07-05T19:10:19.285Z"
   },
   {
    "duration": 21,
    "start_time": "2021-07-05T19:15:10.440Z"
   },
   {
    "duration": 1294,
    "start_time": "2021-07-05T19:21:44.806Z"
   },
   {
    "duration": 538,
    "start_time": "2021-07-05T19:23:31.304Z"
   },
   {
    "duration": 1529,
    "start_time": "2021-07-06T07:40:17.193Z"
   },
   {
    "duration": 28,
    "start_time": "2021-07-06T07:40:18.725Z"
   },
   {
    "duration": 13,
    "start_time": "2021-07-06T07:40:18.756Z"
   },
   {
    "duration": 8,
    "start_time": "2021-07-06T07:40:18.772Z"
   },
   {
    "duration": 15,
    "start_time": "2021-07-06T07:40:18.782Z"
   },
   {
    "duration": 13,
    "start_time": "2021-07-06T07:40:18.799Z"
   },
   {
    "duration": 12,
    "start_time": "2021-07-06T07:40:18.814Z"
   },
   {
    "duration": 11,
    "start_time": "2021-07-06T07:40:18.829Z"
   },
   {
    "duration": 42,
    "start_time": "2021-07-06T07:40:18.843Z"
   },
   {
    "duration": 14,
    "start_time": "2021-07-06T07:40:18.887Z"
   },
   {
    "duration": 18,
    "start_time": "2021-07-06T07:40:18.903Z"
   },
   {
    "duration": 12,
    "start_time": "2021-07-06T07:40:18.924Z"
   },
   {
    "duration": 53,
    "start_time": "2021-07-06T07:40:18.938Z"
   },
   {
    "duration": 352,
    "start_time": "2021-07-06T07:40:18.994Z"
   },
   {
    "duration": 13,
    "start_time": "2021-07-06T07:40:19.348Z"
   },
   {
    "duration": 5,
    "start_time": "2021-07-06T07:40:19.363Z"
   },
   {
    "duration": 327,
    "start_time": "2021-07-06T07:40:19.370Z"
   },
   {
    "duration": 12,
    "start_time": "2021-07-06T07:40:19.700Z"
   },
   {
    "duration": 13,
    "start_time": "2021-07-06T07:40:19.715Z"
   },
   {
    "duration": 14,
    "start_time": "2021-07-06T07:40:19.730Z"
   },
   {
    "duration": 22,
    "start_time": "2021-07-06T07:40:19.745Z"
   },
   {
    "duration": 19,
    "start_time": "2021-07-06T07:40:19.768Z"
   },
   {
    "duration": 17,
    "start_time": "2021-07-06T07:40:19.793Z"
   },
   {
    "duration": 2452,
    "start_time": "2021-07-06T07:40:19.814Z"
   },
   {
    "duration": 36,
    "start_time": "2021-07-06T07:40:22.269Z"
   },
   {
    "duration": 51,
    "start_time": "2021-07-06T07:40:22.308Z"
   },
   {
    "duration": 26,
    "start_time": "2021-07-06T07:40:22.360Z"
   },
   {
    "duration": 10,
    "start_time": "2021-07-06T07:40:22.389Z"
   },
   {
    "duration": 41,
    "start_time": "2021-07-06T07:40:22.402Z"
   },
   {
    "duration": 8,
    "start_time": "2021-07-06T07:40:22.445Z"
   },
   {
    "duration": 6,
    "start_time": "2021-07-06T07:40:22.456Z"
   },
   {
    "duration": 11,
    "start_time": "2021-07-06T07:40:22.487Z"
   },
   {
    "duration": 5,
    "start_time": "2021-07-06T07:40:22.501Z"
   },
   {
    "duration": 6,
    "start_time": "2021-07-06T07:40:22.508Z"
   },
   {
    "duration": 5,
    "start_time": "2021-07-06T07:40:22.516Z"
   },
   {
    "duration": 7,
    "start_time": "2021-07-06T07:40:22.523Z"
   },
   {
    "duration": 5,
    "start_time": "2021-07-06T07:40:22.532Z"
   },
   {
    "duration": 4,
    "start_time": "2021-07-06T07:40:22.539Z"
   },
   {
    "duration": 41,
    "start_time": "2021-07-06T07:40:22.545Z"
   },
   {
    "duration": 20,
    "start_time": "2021-07-06T07:40:22.588Z"
   },
   {
    "duration": 54,
    "start_time": "2021-07-06T07:40:22.610Z"
   },
   {
    "duration": 9,
    "start_time": "2021-07-06T07:40:22.666Z"
   },
   {
    "duration": 56,
    "start_time": "2021-07-06T07:40:22.677Z"
   },
   {
    "duration": 6,
    "start_time": "2021-07-06T07:40:22.735Z"
   },
   {
    "duration": 15,
    "start_time": "2021-07-06T07:40:22.743Z"
   },
   {
    "duration": 52,
    "start_time": "2021-07-06T07:40:22.759Z"
   },
   {
    "duration": 11,
    "start_time": "2021-07-06T07:40:22.814Z"
   },
   {
    "duration": 11,
    "start_time": "2021-07-06T07:40:22.827Z"
   },
   {
    "duration": 40,
    "start_time": "2021-07-06T07:40:22.840Z"
   },
   {
    "duration": 18,
    "start_time": "2021-07-06T07:40:22.882Z"
   },
   {
    "duration": 9,
    "start_time": "2021-07-06T07:40:22.903Z"
   },
   {
    "duration": 568,
    "start_time": "2021-07-06T07:40:22.914Z"
   },
   {
    "duration": 14,
    "start_time": "2021-07-06T07:40:23.484Z"
   },
   {
    "duration": 15,
    "start_time": "2021-07-06T07:40:23.499Z"
   },
   {
    "duration": 11,
    "start_time": "2021-07-06T07:40:23.516Z"
   },
   {
    "duration": 6,
    "start_time": "2021-07-06T07:40:23.529Z"
   },
   {
    "duration": 4,
    "start_time": "2021-07-06T07:40:23.537Z"
   },
   {
    "duration": 23,
    "start_time": "2021-07-06T07:40:23.585Z"
   },
   {
    "duration": 19,
    "start_time": "2021-07-06T07:40:23.610Z"
   },
   {
    "duration": 16,
    "start_time": "2021-07-06T07:40:23.630Z"
   },
   {
    "duration": 963,
    "start_time": "2021-07-06T07:40:23.648Z"
   },
   {
    "duration": 995,
    "start_time": "2021-07-06T07:40:24.612Z"
   },
   {
    "duration": 259,
    "start_time": "2021-07-06T07:40:25.609Z"
   },
   {
    "duration": 286,
    "start_time": "2021-07-06T07:40:25.870Z"
   },
   {
    "duration": 41,
    "start_time": "2021-07-06T07:40:26.158Z"
   },
   {
    "duration": 213,
    "start_time": "2021-07-06T07:40:26.202Z"
   },
   {
    "duration": 20,
    "start_time": "2021-07-06T07:40:26.417Z"
   },
   {
    "duration": 502,
    "start_time": "2021-07-06T07:40:26.442Z"
   },
   {
    "duration": 882,
    "start_time": "2021-07-06T07:40:26.946Z"
   },
   {
    "duration": 11,
    "start_time": "2021-07-06T07:40:27.831Z"
   },
   {
    "duration": 306,
    "start_time": "2021-07-06T07:40:27.844Z"
   },
   {
    "duration": 2,
    "start_time": "2021-07-06T07:40:28.152Z"
   },
   {
    "duration": 11,
    "start_time": "2021-07-06T07:40:28.156Z"
   },
   {
    "duration": 18,
    "start_time": "2021-07-06T07:40:28.169Z"
   },
   {
    "duration": 7,
    "start_time": "2021-07-06T07:40:28.189Z"
   },
   {
    "duration": 14,
    "start_time": "2021-07-06T12:31:06.185Z"
   },
   {
    "duration": 59060,
    "start_time": "2021-07-06T12:32:28.674Z"
   },
   {
    "duration": 4416,
    "start_time": "2021-07-06T12:40:18.939Z"
   },
   {
    "duration": 520,
    "start_time": "2021-07-06T12:40:31.436Z"
   },
   {
    "duration": 1842,
    "start_time": "2021-07-06T12:43:47.802Z"
   },
   {
    "duration": 519,
    "start_time": "2021-07-06T12:50:23.729Z"
   },
   {
    "duration": 8,
    "start_time": "2021-07-06T12:57:13.120Z"
   },
   {
    "duration": 504,
    "start_time": "2021-07-06T13:12:28.244Z"
   },
   {
    "duration": 528,
    "start_time": "2021-07-06T13:12:55.956Z"
   },
   {
    "duration": 478,
    "start_time": "2021-07-06T13:23:11.283Z"
   },
   {
    "duration": 493,
    "start_time": "2021-07-06T13:23:28.659Z"
   },
   {
    "duration": 7,
    "start_time": "2021-07-06T14:11:36.710Z"
   },
   {
    "duration": 503,
    "start_time": "2021-07-06T14:17:51.046Z"
   },
   {
    "duration": 501,
    "start_time": "2021-07-06T14:18:03.450Z"
   },
   {
    "duration": 513,
    "start_time": "2021-07-06T14:19:28.436Z"
   },
   {
    "duration": 508,
    "start_time": "2021-07-06T14:27:28.754Z"
   },
   {
    "duration": 288,
    "start_time": "2021-07-06T16:47:59.640Z"
   },
   {
    "duration": 1982,
    "start_time": "2021-07-07T06:03:28.115Z"
   },
   {
    "duration": 32,
    "start_time": "2021-07-07T06:03:30.100Z"
   },
   {
    "duration": 29,
    "start_time": "2021-07-07T06:03:30.135Z"
   },
   {
    "duration": 33,
    "start_time": "2021-07-07T06:03:30.167Z"
   },
   {
    "duration": 33,
    "start_time": "2021-07-07T06:03:30.202Z"
   },
   {
    "duration": 39,
    "start_time": "2021-07-07T06:03:30.238Z"
   },
   {
    "duration": 25,
    "start_time": "2021-07-07T06:03:30.280Z"
   },
   {
    "duration": 23,
    "start_time": "2021-07-07T06:03:30.309Z"
   },
   {
    "duration": 19,
    "start_time": "2021-07-07T06:03:30.335Z"
   },
   {
    "duration": 19,
    "start_time": "2021-07-07T06:03:30.356Z"
   },
   {
    "duration": 26,
    "start_time": "2021-07-07T06:03:30.378Z"
   },
   {
    "duration": 28,
    "start_time": "2021-07-07T06:03:30.407Z"
   },
   {
    "duration": 30,
    "start_time": "2021-07-07T06:03:30.438Z"
   },
   {
    "duration": 421,
    "start_time": "2021-07-07T06:03:30.470Z"
   },
   {
    "duration": 17,
    "start_time": "2021-07-07T06:03:30.894Z"
   },
   {
    "duration": 37,
    "start_time": "2021-07-07T06:03:30.913Z"
   },
   {
    "duration": 449,
    "start_time": "2021-07-07T06:03:30.953Z"
   },
   {
    "duration": 18,
    "start_time": "2021-07-07T06:03:31.405Z"
   },
   {
    "duration": 29,
    "start_time": "2021-07-07T06:03:31.426Z"
   },
   {
    "duration": 51,
    "start_time": "2021-07-07T06:03:31.458Z"
   },
   {
    "duration": 36,
    "start_time": "2021-07-07T06:03:31.512Z"
   },
   {
    "duration": 8,
    "start_time": "2021-07-07T06:03:31.551Z"
   },
   {
    "duration": 17,
    "start_time": "2021-07-07T06:03:31.567Z"
   },
   {
    "duration": 2835,
    "start_time": "2021-07-07T06:03:31.590Z"
   },
   {
    "duration": 50,
    "start_time": "2021-07-07T06:03:34.429Z"
   },
   {
    "duration": 115,
    "start_time": "2021-07-07T06:03:34.482Z"
   },
   {
    "duration": 10,
    "start_time": "2021-07-07T06:03:34.600Z"
   },
   {
    "duration": 32,
    "start_time": "2021-07-07T06:03:34.614Z"
   },
   {
    "duration": 53,
    "start_time": "2021-07-07T06:03:34.648Z"
   },
   {
    "duration": 9,
    "start_time": "2021-07-07T06:03:34.703Z"
   },
   {
    "duration": 13,
    "start_time": "2021-07-07T06:03:34.714Z"
   },
   {
    "duration": 29,
    "start_time": "2021-07-07T06:03:34.730Z"
   },
   {
    "duration": 25,
    "start_time": "2021-07-07T06:03:34.762Z"
   },
   {
    "duration": 20,
    "start_time": "2021-07-07T06:03:34.789Z"
   },
   {
    "duration": 12,
    "start_time": "2021-07-07T06:03:34.812Z"
   },
   {
    "duration": 20,
    "start_time": "2021-07-07T06:03:34.826Z"
   },
   {
    "duration": 15,
    "start_time": "2021-07-07T06:03:34.848Z"
   },
   {
    "duration": 10,
    "start_time": "2021-07-07T06:03:34.866Z"
   },
   {
    "duration": 39,
    "start_time": "2021-07-07T06:03:34.878Z"
   },
   {
    "duration": 15,
    "start_time": "2021-07-07T06:03:34.919Z"
   },
   {
    "duration": 61,
    "start_time": "2021-07-07T06:03:34.936Z"
   },
   {
    "duration": 9,
    "start_time": "2021-07-07T06:03:34.999Z"
   },
   {
    "duration": 67,
    "start_time": "2021-07-07T06:03:35.011Z"
   },
   {
    "duration": 6,
    "start_time": "2021-07-07T06:03:35.080Z"
   },
   {
    "duration": 33,
    "start_time": "2021-07-07T06:03:35.089Z"
   },
   {
    "duration": 40,
    "start_time": "2021-07-07T06:03:35.125Z"
   },
   {
    "duration": 12,
    "start_time": "2021-07-07T06:03:35.167Z"
   },
   {
    "duration": 21,
    "start_time": "2021-07-07T06:03:35.182Z"
   },
   {
    "duration": 63,
    "start_time": "2021-07-07T06:03:35.206Z"
   },
   {
    "duration": 31,
    "start_time": "2021-07-07T06:03:35.271Z"
   },
   {
    "duration": 32,
    "start_time": "2021-07-07T06:03:35.305Z"
   },
   {
    "duration": 669,
    "start_time": "2021-07-07T06:03:35.339Z"
   },
   {
    "duration": 17,
    "start_time": "2021-07-07T06:03:36.010Z"
   },
   {
    "duration": 42,
    "start_time": "2021-07-07T06:03:36.029Z"
   },
   {
    "duration": 19,
    "start_time": "2021-07-07T06:03:36.074Z"
   },
   {
    "duration": 21,
    "start_time": "2021-07-07T06:03:36.095Z"
   },
   {
    "duration": 29,
    "start_time": "2021-07-07T06:03:36.119Z"
   },
   {
    "duration": 50,
    "start_time": "2021-07-07T06:03:36.150Z"
   },
   {
    "duration": 38,
    "start_time": "2021-07-07T06:03:36.203Z"
   },
   {
    "duration": 26,
    "start_time": "2021-07-07T06:03:36.244Z"
   },
   {
    "duration": 1216,
    "start_time": "2021-07-07T06:03:36.273Z"
   },
   {
    "duration": 1302,
    "start_time": "2021-07-07T06:03:37.492Z"
   },
   {
    "duration": 349,
    "start_time": "2021-07-07T06:03:38.797Z"
   },
   {
    "duration": 338,
    "start_time": "2021-07-07T06:03:39.153Z"
   },
   {
    "duration": 30,
    "start_time": "2021-07-07T06:03:39.493Z"
   },
   {
    "duration": 303,
    "start_time": "2021-07-07T06:03:39.526Z"
   },
   {
    "duration": 26,
    "start_time": "2021-07-07T06:03:39.831Z"
   },
   {
    "duration": 610,
    "start_time": "2021-07-07T06:03:39.864Z"
   },
   {
    "duration": 1207,
    "start_time": "2021-07-07T06:03:40.477Z"
   },
   {
    "duration": 20,
    "start_time": "2021-07-07T06:03:41.686Z"
   },
   {
    "duration": 765,
    "start_time": "2021-07-07T06:03:41.708Z"
   },
   {
    "duration": 10,
    "start_time": "2021-07-07T06:03:42.475Z"
   },
   {
    "duration": 361,
    "start_time": "2021-07-07T06:03:42.487Z"
   },
   {
    "duration": 738,
    "start_time": "2021-07-07T06:03:42.855Z"
   },
   {
    "duration": 11,
    "start_time": "2021-07-07T06:03:43.596Z"
   },
   {
    "duration": 903,
    "start_time": "2021-07-07T06:03:43.609Z"
   },
   {
    "duration": 768,
    "start_time": "2021-07-07T06:03:44.515Z"
   },
   {
    "duration": 735,
    "start_time": "2021-07-07T06:03:45.285Z"
   },
   {
    "duration": 11,
    "start_time": "2021-07-07T06:03:46.022Z"
   },
   {
    "duration": 421,
    "start_time": "2021-07-07T06:03:46.035Z"
   },
   {
    "duration": 3,
    "start_time": "2021-07-07T06:03:46.458Z"
   },
   {
    "duration": 19,
    "start_time": "2021-07-07T06:03:46.463Z"
   },
   {
    "duration": 21,
    "start_time": "2021-07-07T06:03:46.485Z"
   },
   {
    "duration": 25,
    "start_time": "2021-07-07T06:03:46.509Z"
   },
   {
    "duration": 396,
    "start_time": "2021-07-07T06:10:32.381Z"
   },
   {
    "duration": 389,
    "start_time": "2021-07-07T06:10:52.538Z"
   },
   {
    "duration": 394,
    "start_time": "2021-07-07T06:11:28.084Z"
   },
   {
    "duration": 461,
    "start_time": "2021-07-07T06:12:21.889Z"
   },
   {
    "duration": 10,
    "start_time": "2021-07-07T06:12:37.611Z"
   },
   {
    "duration": 393,
    "start_time": "2021-07-07T06:12:41.624Z"
   },
   {
    "duration": 3,
    "start_time": "2021-07-07T06:12:43.335Z"
   },
   {
    "duration": 4,
    "start_time": "2021-07-07T06:12:43.961Z"
   },
   {
    "duration": 6,
    "start_time": "2021-07-07T06:12:56.914Z"
   },
   {
    "duration": 7,
    "start_time": "2021-07-07T06:13:14.361Z"
   },
   {
    "duration": 11,
    "start_time": "2021-07-07T06:56:34.292Z"
   },
   {
    "duration": 11,
    "start_time": "2021-07-07T06:56:53.731Z"
   },
   {
    "duration": 338,
    "start_time": "2021-07-07T06:59:30.258Z"
   },
   {
    "duration": 12,
    "start_time": "2021-07-07T06:59:42.484Z"
   },
   {
    "duration": 405,
    "start_time": "2021-07-07T07:21:35.531Z"
   },
   {
    "duration": 390,
    "start_time": "2021-07-07T07:22:43.993Z"
   },
   {
    "duration": 400,
    "start_time": "2021-07-07T07:22:50.524Z"
   },
   {
    "duration": 558,
    "start_time": "2021-07-07T07:23:00.620Z"
   },
   {
    "duration": 414,
    "start_time": "2021-07-07T07:23:10.916Z"
   },
   {
    "duration": 788,
    "start_time": "2021-07-07T07:24:34.326Z"
   },
   {
    "duration": 817,
    "start_time": "2021-07-07T07:26:21.543Z"
   },
   {
    "duration": 10,
    "start_time": "2021-07-07T07:28:03.360Z"
   },
   {
    "duration": 10,
    "start_time": "2021-07-07T07:29:56.043Z"
   },
   {
    "duration": 1510,
    "start_time": "2021-07-07T07:52:43.915Z"
   },
   {
    "duration": 41,
    "start_time": "2021-07-07T08:15:28.424Z"
   },
   {
    "duration": 23,
    "start_time": "2021-07-07T08:15:40.647Z"
   },
   {
    "duration": 23,
    "start_time": "2021-07-07T08:15:45.197Z"
   },
   {
    "duration": 15,
    "start_time": "2021-07-07T08:18:37.373Z"
   },
   {
    "duration": 21,
    "start_time": "2021-07-07T08:18:54.985Z"
   },
   {
    "duration": 896,
    "start_time": "2021-07-07T08:19:52.671Z"
   },
   {
    "duration": 2244,
    "start_time": "2021-07-07T09:02:17.677Z"
   },
   {
    "duration": 37,
    "start_time": "2021-07-07T09:02:19.924Z"
   },
   {
    "duration": 22,
    "start_time": "2021-07-07T09:02:19.964Z"
   },
   {
    "duration": 16,
    "start_time": "2021-07-07T09:02:19.990Z"
   },
   {
    "duration": 33,
    "start_time": "2021-07-07T09:02:20.009Z"
   },
   {
    "duration": 18,
    "start_time": "2021-07-07T09:02:20.056Z"
   },
   {
    "duration": 13,
    "start_time": "2021-07-07T09:02:20.077Z"
   },
   {
    "duration": 13,
    "start_time": "2021-07-07T09:02:20.094Z"
   },
   {
    "duration": 52,
    "start_time": "2021-07-07T09:02:20.110Z"
   },
   {
    "duration": 16,
    "start_time": "2021-07-07T09:02:20.165Z"
   },
   {
    "duration": 20,
    "start_time": "2021-07-07T09:02:20.183Z"
   },
   {
    "duration": 9,
    "start_time": "2021-07-07T09:02:20.205Z"
   },
   {
    "duration": 61,
    "start_time": "2021-07-07T09:02:20.216Z"
   },
   {
    "duration": 425,
    "start_time": "2021-07-07T09:02:20.280Z"
   },
   {
    "duration": 19,
    "start_time": "2021-07-07T09:02:20.707Z"
   },
   {
    "duration": 27,
    "start_time": "2021-07-07T09:02:20.728Z"
   },
   {
    "duration": 437,
    "start_time": "2021-07-07T09:02:20.758Z"
   },
   {
    "duration": 16,
    "start_time": "2021-07-07T09:02:21.197Z"
   },
   {
    "duration": 11,
    "start_time": "2021-07-07T09:02:21.215Z"
   },
   {
    "duration": 34,
    "start_time": "2021-07-07T09:02:21.228Z"
   },
   {
    "duration": 22,
    "start_time": "2021-07-07T09:02:21.264Z"
   },
   {
    "duration": 11,
    "start_time": "2021-07-07T09:02:21.289Z"
   },
   {
    "duration": 10,
    "start_time": "2021-07-07T09:02:21.307Z"
   },
   {
    "duration": 3079,
    "start_time": "2021-07-07T09:02:21.321Z"
   },
   {
    "duration": 30,
    "start_time": "2021-07-07T09:02:24.403Z"
   },
   {
    "duration": 118,
    "start_time": "2021-07-07T09:02:24.436Z"
   },
   {
    "duration": 10,
    "start_time": "2021-07-07T09:02:24.557Z"
   },
   {
    "duration": 18,
    "start_time": "2021-07-07T09:02:24.570Z"
   },
   {
    "duration": 50,
    "start_time": "2021-07-07T09:02:24.591Z"
   },
   {
    "duration": 11,
    "start_time": "2021-07-07T09:02:24.655Z"
   },
   {
    "duration": 12,
    "start_time": "2021-07-07T09:02:24.668Z"
   },
   {
    "duration": 23,
    "start_time": "2021-07-07T09:02:24.682Z"
   },
   {
    "duration": 14,
    "start_time": "2021-07-07T09:02:24.707Z"
   },
   {
    "duration": 19,
    "start_time": "2021-07-07T09:02:24.724Z"
   },
   {
    "duration": 9,
    "start_time": "2021-07-07T09:02:24.746Z"
   },
   {
    "duration": 5,
    "start_time": "2021-07-07T09:02:24.759Z"
   },
   {
    "duration": 19,
    "start_time": "2021-07-07T09:02:24.767Z"
   },
   {
    "duration": 17,
    "start_time": "2021-07-07T09:02:24.789Z"
   },
   {
    "duration": 23,
    "start_time": "2021-07-07T09:02:24.809Z"
   },
   {
    "duration": 13,
    "start_time": "2021-07-07T09:02:24.835Z"
   },
   {
    "duration": 72,
    "start_time": "2021-07-07T09:02:24.852Z"
   },
   {
    "duration": 13,
    "start_time": "2021-07-07T09:02:24.927Z"
   },
   {
    "duration": 54,
    "start_time": "2021-07-07T09:02:24.942Z"
   },
   {
    "duration": 5,
    "start_time": "2021-07-07T09:02:24.999Z"
   },
   {
    "duration": 22,
    "start_time": "2021-07-07T09:02:25.007Z"
   },
   {
    "duration": 51,
    "start_time": "2021-07-07T09:02:25.032Z"
   },
   {
    "duration": 12,
    "start_time": "2021-07-07T09:02:25.085Z"
   },
   {
    "duration": 8,
    "start_time": "2021-07-07T09:02:25.100Z"
   },
   {
    "duration": 63,
    "start_time": "2021-07-07T09:02:25.111Z"
   },
   {
    "duration": 24,
    "start_time": "2021-07-07T09:02:25.177Z"
   },
   {
    "duration": 11,
    "start_time": "2021-07-07T09:02:25.203Z"
   },
   {
    "duration": 727,
    "start_time": "2021-07-07T09:02:25.216Z"
   },
   {
    "duration": 29,
    "start_time": "2021-07-07T09:02:25.947Z"
   },
   {
    "duration": 22,
    "start_time": "2021-07-07T09:02:25.979Z"
   },
   {
    "duration": 13,
    "start_time": "2021-07-07T09:02:26.004Z"
   },
   {
    "duration": 36,
    "start_time": "2021-07-07T09:02:26.020Z"
   },
   {
    "duration": 5,
    "start_time": "2021-07-07T09:02:26.059Z"
   },
   {
    "duration": 34,
    "start_time": "2021-07-07T09:02:26.066Z"
   },
   {
    "duration": 29,
    "start_time": "2021-07-07T09:02:26.103Z"
   },
   {
    "duration": 24,
    "start_time": "2021-07-07T09:02:26.155Z"
   },
   {
    "duration": 1315,
    "start_time": "2021-07-07T09:02:26.182Z"
   },
   {
    "duration": 1387,
    "start_time": "2021-07-07T09:02:27.500Z"
   },
   {
    "duration": 370,
    "start_time": "2021-07-07T09:02:28.891Z"
   },
   {
    "duration": 403,
    "start_time": "2021-07-07T09:02:29.264Z"
   },
   {
    "duration": 33,
    "start_time": "2021-07-07T09:02:29.671Z"
   },
   {
    "duration": 346,
    "start_time": "2021-07-07T09:02:29.708Z"
   },
   {
    "duration": 18,
    "start_time": "2021-07-07T09:02:30.057Z"
   },
   {
    "duration": 627,
    "start_time": "2021-07-07T09:02:30.083Z"
   },
   {
    "duration": 1234,
    "start_time": "2021-07-07T09:02:30.713Z"
   },
   {
    "duration": 21,
    "start_time": "2021-07-07T09:02:31.950Z"
   },
   {
    "duration": 755,
    "start_time": "2021-07-07T09:02:31.974Z"
   },
   {
    "duration": 12,
    "start_time": "2021-07-07T09:02:32.732Z"
   },
   {
    "duration": 371,
    "start_time": "2021-07-07T09:02:32.754Z"
   },
   {
    "duration": 777,
    "start_time": "2021-07-07T09:02:33.128Z"
   },
   {
    "duration": 12,
    "start_time": "2021-07-07T09:02:33.907Z"
   },
   {
    "duration": 953,
    "start_time": "2021-07-07T09:02:33.923Z"
   },
   {
    "duration": 836,
    "start_time": "2021-07-07T09:02:34.879Z"
   },
   {
    "duration": 10,
    "start_time": "2021-07-07T09:02:35.718Z"
   },
   {
    "duration": 865,
    "start_time": "2021-07-07T09:02:35.731Z"
   },
   {
    "duration": 762,
    "start_time": "2021-07-07T09:02:36.599Z"
   },
   {
    "duration": 10,
    "start_time": "2021-07-07T09:02:37.364Z"
   },
   {
    "duration": 421,
    "start_time": "2021-07-07T09:02:37.377Z"
   },
   {
    "duration": 3,
    "start_time": "2021-07-07T09:02:37.801Z"
   },
   {
    "duration": 20,
    "start_time": "2021-07-07T09:02:37.807Z"
   },
   {
    "duration": 26,
    "start_time": "2021-07-07T09:02:37.830Z"
   },
   {
    "duration": 32,
    "start_time": "2021-07-07T09:02:37.858Z"
   },
   {
    "duration": 1133,
    "start_time": "2021-07-07T09:02:37.893Z"
   },
   {
    "duration": 1522,
    "start_time": "2021-07-08T14:48:35.380Z"
   },
   {
    "duration": 34,
    "start_time": "2021-07-08T14:48:36.904Z"
   },
   {
    "duration": 18,
    "start_time": "2021-07-08T14:48:36.940Z"
   },
   {
    "duration": 27,
    "start_time": "2021-07-08T14:48:36.961Z"
   },
   {
    "duration": 19,
    "start_time": "2021-07-08T14:48:36.990Z"
   },
   {
    "duration": 26,
    "start_time": "2021-07-08T14:48:37.012Z"
   },
   {
    "duration": 19,
    "start_time": "2021-07-08T14:48:37.040Z"
   },
   {
    "duration": 24,
    "start_time": "2021-07-08T14:48:37.062Z"
   },
   {
    "duration": 15,
    "start_time": "2021-07-08T14:48:37.090Z"
   },
   {
    "duration": 27,
    "start_time": "2021-07-08T14:48:37.108Z"
   },
   {
    "duration": 24,
    "start_time": "2021-07-08T14:48:37.138Z"
   },
   {
    "duration": 26,
    "start_time": "2021-07-08T14:48:37.164Z"
   },
   {
    "duration": 45,
    "start_time": "2021-07-08T14:48:37.192Z"
   },
   {
    "duration": 372,
    "start_time": "2021-07-08T14:48:37.239Z"
   },
   {
    "duration": 19,
    "start_time": "2021-07-08T14:48:37.614Z"
   },
   {
    "duration": 19,
    "start_time": "2021-07-08T14:48:37.636Z"
   },
   {
    "duration": 458,
    "start_time": "2021-07-08T14:48:37.658Z"
   },
   {
    "duration": 17,
    "start_time": "2021-07-08T14:48:38.119Z"
   },
   {
    "duration": 19,
    "start_time": "2021-07-08T14:48:38.138Z"
   },
   {
    "duration": 16,
    "start_time": "2021-07-08T14:48:38.160Z"
   },
   {
    "duration": 22,
    "start_time": "2021-07-08T14:48:38.179Z"
   },
   {
    "duration": 7,
    "start_time": "2021-07-08T14:48:38.204Z"
   },
   {
    "duration": 47,
    "start_time": "2021-07-08T14:48:38.213Z"
   },
   {
    "duration": 2796,
    "start_time": "2021-07-08T14:48:38.263Z"
   },
   {
    "duration": 26,
    "start_time": "2021-07-08T14:48:41.062Z"
   },
   {
    "duration": 82,
    "start_time": "2021-07-08T14:48:41.090Z"
   },
   {
    "duration": 7,
    "start_time": "2021-07-08T14:48:41.182Z"
   },
   {
    "duration": 15,
    "start_time": "2021-07-08T14:48:41.193Z"
   },
   {
    "duration": 71,
    "start_time": "2021-07-08T14:48:41.211Z"
   },
   {
    "duration": 6,
    "start_time": "2021-07-08T14:48:41.284Z"
   },
   {
    "duration": 20,
    "start_time": "2021-07-08T14:48:41.292Z"
   },
   {
    "duration": 33,
    "start_time": "2021-07-08T14:48:41.315Z"
   },
   {
    "duration": 10,
    "start_time": "2021-07-08T14:48:41.351Z"
   },
   {
    "duration": 15,
    "start_time": "2021-07-08T14:48:41.363Z"
   },
   {
    "duration": 23,
    "start_time": "2021-07-08T14:48:41.381Z"
   },
   {
    "duration": 25,
    "start_time": "2021-07-08T14:48:41.406Z"
   },
   {
    "duration": 7,
    "start_time": "2021-07-08T14:48:41.433Z"
   },
   {
    "duration": 14,
    "start_time": "2021-07-08T14:48:41.442Z"
   },
   {
    "duration": 28,
    "start_time": "2021-07-08T14:48:41.458Z"
   },
   {
    "duration": 12,
    "start_time": "2021-07-08T14:48:41.488Z"
   },
   {
    "duration": 65,
    "start_time": "2021-07-08T14:48:41.502Z"
   },
   {
    "duration": 11,
    "start_time": "2021-07-08T14:48:41.569Z"
   },
   {
    "duration": 62,
    "start_time": "2021-07-08T14:48:41.582Z"
   },
   {
    "duration": 11,
    "start_time": "2021-07-08T14:48:41.647Z"
   },
   {
    "duration": 28,
    "start_time": "2021-07-08T14:48:41.661Z"
   },
   {
    "duration": 48,
    "start_time": "2021-07-08T14:48:41.691Z"
   },
   {
    "duration": 12,
    "start_time": "2021-07-08T14:48:41.742Z"
   },
   {
    "duration": 21,
    "start_time": "2021-07-08T14:48:41.756Z"
   },
   {
    "duration": 53,
    "start_time": "2021-07-08T14:48:41.779Z"
   },
   {
    "duration": 40,
    "start_time": "2021-07-08T14:48:41.834Z"
   },
   {
    "duration": 21,
    "start_time": "2021-07-08T14:48:41.877Z"
   },
   {
    "duration": 648,
    "start_time": "2021-07-08T14:48:41.901Z"
   },
   {
    "duration": 17,
    "start_time": "2021-07-08T14:48:42.554Z"
   },
   {
    "duration": 26,
    "start_time": "2021-07-08T14:48:42.573Z"
   },
   {
    "duration": 31,
    "start_time": "2021-07-08T14:48:42.601Z"
   },
   {
    "duration": 28,
    "start_time": "2021-07-08T14:48:42.634Z"
   },
   {
    "duration": 20,
    "start_time": "2021-07-08T14:48:42.664Z"
   },
   {
    "duration": 33,
    "start_time": "2021-07-08T14:48:42.687Z"
   },
   {
    "duration": 45,
    "start_time": "2021-07-08T14:48:42.722Z"
   },
   {
    "duration": 30,
    "start_time": "2021-07-08T14:48:42.769Z"
   },
   {
    "duration": 1243,
    "start_time": "2021-07-08T14:48:42.801Z"
   },
   {
    "duration": 1394,
    "start_time": "2021-07-08T14:48:44.047Z"
   },
   {
    "duration": 346,
    "start_time": "2021-07-08T14:48:45.444Z"
   },
   {
    "duration": 378,
    "start_time": "2021-07-08T14:48:45.793Z"
   },
   {
    "duration": 30,
    "start_time": "2021-07-08T14:48:46.173Z"
   },
   {
    "duration": 299,
    "start_time": "2021-07-08T14:48:46.206Z"
   },
   {
    "duration": 18,
    "start_time": "2021-07-08T14:48:46.507Z"
   },
   {
    "duration": 668,
    "start_time": "2021-07-08T14:48:46.528Z"
   },
   {
    "duration": 1226,
    "start_time": "2021-07-08T14:48:47.199Z"
   },
   {
    "duration": 36,
    "start_time": "2021-07-08T14:48:48.428Z"
   },
   {
    "duration": 777,
    "start_time": "2021-07-08T14:48:48.468Z"
   },
   {
    "duration": 11,
    "start_time": "2021-07-08T14:48:49.254Z"
   },
   {
    "duration": 379,
    "start_time": "2021-07-08T14:48:49.267Z"
   },
   {
    "duration": 754,
    "start_time": "2021-07-08T14:48:49.654Z"
   },
   {
    "duration": 10,
    "start_time": "2021-07-08T14:48:50.411Z"
   },
   {
    "duration": 886,
    "start_time": "2021-07-08T14:48:50.424Z"
   },
   {
    "duration": 877,
    "start_time": "2021-07-08T14:48:51.313Z"
   },
   {
    "duration": 10,
    "start_time": "2021-07-08T14:48:52.193Z"
   },
   {
    "duration": 830,
    "start_time": "2021-07-08T14:48:52.206Z"
   },
   {
    "duration": 815,
    "start_time": "2021-07-08T14:48:53.039Z"
   },
   {
    "duration": 10,
    "start_time": "2021-07-08T14:48:53.862Z"
   },
   {
    "duration": 443,
    "start_time": "2021-07-08T14:48:53.875Z"
   },
   {
    "duration": 4,
    "start_time": "2021-07-08T14:48:54.321Z"
   },
   {
    "duration": 27,
    "start_time": "2021-07-08T14:48:54.328Z"
   },
   {
    "duration": 10,
    "start_time": "2021-07-08T14:48:54.358Z"
   },
   {
    "duration": 30,
    "start_time": "2021-07-08T14:48:54.371Z"
   },
   {
    "duration": 1172,
    "start_time": "2021-07-08T14:48:54.403Z"
   },
   {
    "duration": 1391,
    "start_time": "2023-03-03T09:44:37.128Z"
   },
   {
    "duration": 79,
    "start_time": "2023-03-03T09:44:38.521Z"
   },
   {
    "duration": 17,
    "start_time": "2023-03-03T09:44:38.606Z"
   },
   {
    "duration": 14,
    "start_time": "2023-03-03T09:44:38.625Z"
   },
   {
    "duration": 16,
    "start_time": "2023-03-03T09:44:38.641Z"
   },
   {
    "duration": 11,
    "start_time": "2023-03-03T09:44:38.658Z"
   },
   {
    "duration": 9,
    "start_time": "2023-03-03T09:44:38.671Z"
   },
   {
    "duration": 40,
    "start_time": "2023-03-03T09:44:38.681Z"
   },
   {
    "duration": 9,
    "start_time": "2023-03-03T09:44:38.724Z"
   },
   {
    "duration": 26,
    "start_time": "2023-03-03T09:44:38.734Z"
   },
   {
    "duration": 19,
    "start_time": "2023-03-03T09:44:38.762Z"
   },
   {
    "duration": 15,
    "start_time": "2023-03-03T09:44:38.783Z"
   },
   {
    "duration": 31,
    "start_time": "2023-03-03T09:44:38.800Z"
   },
   {
    "duration": 317,
    "start_time": "2023-03-03T09:44:38.832Z"
   },
   {
    "duration": 14,
    "start_time": "2023-03-03T09:44:39.150Z"
   },
   {
    "duration": 6,
    "start_time": "2023-03-03T09:44:39.165Z"
   },
   {
    "duration": 274,
    "start_time": "2023-03-03T09:44:39.172Z"
   },
   {
    "duration": 13,
    "start_time": "2023-03-03T09:44:39.447Z"
   },
   {
    "duration": 4,
    "start_time": "2023-03-03T09:44:39.462Z"
   },
   {
    "duration": 17,
    "start_time": "2023-03-03T09:44:39.468Z"
   },
   {
    "duration": 45,
    "start_time": "2023-03-03T09:44:39.488Z"
   },
   {
    "duration": 6,
    "start_time": "2023-03-03T09:44:39.536Z"
   },
   {
    "duration": 12,
    "start_time": "2023-03-03T09:44:39.543Z"
   },
   {
    "duration": 2407,
    "start_time": "2023-03-03T09:44:39.558Z"
   },
   {
    "duration": 18,
    "start_time": "2023-03-03T09:44:41.967Z"
   },
   {
    "duration": 63,
    "start_time": "2023-03-03T09:44:41.987Z"
   },
   {
    "duration": 5,
    "start_time": "2023-03-03T09:44:42.057Z"
   },
   {
    "duration": 8,
    "start_time": "2023-03-03T09:44:42.064Z"
   },
   {
    "duration": 27,
    "start_time": "2023-03-03T09:44:42.073Z"
   },
   {
    "duration": 20,
    "start_time": "2023-03-03T09:44:42.102Z"
   },
   {
    "duration": 4,
    "start_time": "2023-03-03T09:44:42.124Z"
   },
   {
    "duration": 6,
    "start_time": "2023-03-03T09:44:42.130Z"
   },
   {
    "duration": 7,
    "start_time": "2023-03-03T09:44:42.137Z"
   },
   {
    "duration": 5,
    "start_time": "2023-03-03T09:44:42.146Z"
   },
   {
    "duration": 5,
    "start_time": "2023-03-03T09:44:42.153Z"
   },
   {
    "duration": 5,
    "start_time": "2023-03-03T09:44:42.159Z"
   },
   {
    "duration": 4,
    "start_time": "2023-03-03T09:44:42.165Z"
   },
   {
    "duration": 5,
    "start_time": "2023-03-03T09:44:42.171Z"
   },
   {
    "duration": 43,
    "start_time": "2023-03-03T09:44:42.178Z"
   },
   {
    "duration": 5,
    "start_time": "2023-03-03T09:44:42.223Z"
   },
   {
    "duration": 39,
    "start_time": "2023-03-03T09:44:42.230Z"
   },
   {
    "duration": 6,
    "start_time": "2023-03-03T09:44:42.270Z"
   },
   {
    "duration": 24,
    "start_time": "2023-03-03T09:44:42.278Z"
   },
   {
    "duration": 20,
    "start_time": "2023-03-03T09:44:42.303Z"
   },
   {
    "duration": 7,
    "start_time": "2023-03-03T09:44:42.326Z"
   },
   {
    "duration": 29,
    "start_time": "2023-03-03T09:44:42.335Z"
   },
   {
    "duration": 8,
    "start_time": "2023-03-03T09:44:42.367Z"
   },
   {
    "duration": 3,
    "start_time": "2023-03-03T09:44:42.377Z"
   },
   {
    "duration": 49,
    "start_time": "2023-03-03T09:44:42.382Z"
   },
   {
    "duration": 13,
    "start_time": "2023-03-03T09:44:42.433Z"
   },
   {
    "duration": 12,
    "start_time": "2023-03-03T09:44:42.448Z"
   },
   {
    "duration": 393,
    "start_time": "2023-03-03T09:44:42.461Z"
   },
   {
    "duration": 11,
    "start_time": "2023-03-03T09:44:42.856Z"
   },
   {
    "duration": 13,
    "start_time": "2023-03-03T09:44:42.869Z"
   },
   {
    "duration": 8,
    "start_time": "2023-03-03T09:44:42.884Z"
   },
   {
    "duration": 34,
    "start_time": "2023-03-03T09:44:42.894Z"
   },
   {
    "duration": 5,
    "start_time": "2023-03-03T09:44:42.930Z"
   },
   {
    "duration": 22,
    "start_time": "2023-03-03T09:44:42.937Z"
   },
   {
    "duration": 20,
    "start_time": "2023-03-03T09:44:42.961Z"
   },
   {
    "duration": 47,
    "start_time": "2023-03-03T09:44:42.982Z"
   },
   {
    "duration": 653,
    "start_time": "2023-03-03T09:44:43.032Z"
   },
   {
    "duration": 729,
    "start_time": "2023-03-03T09:44:43.687Z"
   },
   {
    "duration": 297,
    "start_time": "2023-03-03T09:44:44.421Z"
   },
   {
    "duration": 274,
    "start_time": "2023-03-03T09:44:44.720Z"
   },
   {
    "duration": 30,
    "start_time": "2023-03-03T09:44:44.996Z"
   },
   {
    "duration": 158,
    "start_time": "2023-03-03T09:44:45.028Z"
   },
   {
    "duration": 18,
    "start_time": "2023-03-03T09:44:45.188Z"
   },
   {
    "duration": 435,
    "start_time": "2023-03-03T09:44:45.208Z"
   },
   {
    "duration": 618,
    "start_time": "2023-03-03T09:44:45.645Z"
   },
   {
    "duration": 20,
    "start_time": "2023-03-03T09:44:46.265Z"
   },
   {
    "duration": 417,
    "start_time": "2023-03-03T09:44:46.287Z"
   },
   {
    "duration": 17,
    "start_time": "2023-03-03T09:44:46.706Z"
   },
   {
    "duration": 343,
    "start_time": "2023-03-03T09:44:46.725Z"
   },
   {
    "duration": 380,
    "start_time": "2023-03-03T09:44:47.070Z"
   },
   {
    "duration": 13,
    "start_time": "2023-03-03T09:44:47.452Z"
   },
   {
    "duration": 513,
    "start_time": "2023-03-03T09:44:47.467Z"
   },
   {
    "duration": 461,
    "start_time": "2023-03-03T09:44:47.982Z"
   },
   {
    "duration": 8,
    "start_time": "2023-03-03T09:44:48.445Z"
   },
   {
    "duration": 404,
    "start_time": "2023-03-03T09:44:48.455Z"
   },
   {
    "duration": 406,
    "start_time": "2023-03-03T09:44:48.861Z"
   },
   {
    "duration": 7,
    "start_time": "2023-03-03T09:44:49.272Z"
   },
   {
    "duration": 214,
    "start_time": "2023-03-03T09:44:49.281Z"
   },
   {
    "duration": 3,
    "start_time": "2023-03-03T09:44:49.497Z"
   },
   {
    "duration": 9,
    "start_time": "2023-03-03T09:44:49.501Z"
   },
   {
    "duration": 8,
    "start_time": "2023-03-03T09:44:49.521Z"
   },
   {
    "duration": 18,
    "start_time": "2023-03-03T09:44:49.531Z"
   },
   {
    "duration": 332,
    "start_time": "2023-03-03T09:44:49.551Z"
   },
   {
    "duration": 52,
    "start_time": "2023-03-03T14:23:01.047Z"
   },
   {
    "duration": 11,
    "start_time": "2023-03-03T14:23:06.468Z"
   },
   {
    "duration": 1194,
    "start_time": "2023-03-03T14:29:35.603Z"
   },
   {
    "duration": 41,
    "start_time": "2023-03-03T14:29:36.799Z"
   },
   {
    "duration": 15,
    "start_time": "2023-03-03T14:29:36.841Z"
   },
   {
    "duration": 13,
    "start_time": "2023-03-03T14:29:36.858Z"
   },
   {
    "duration": 9,
    "start_time": "2023-03-03T14:29:36.873Z"
   },
   {
    "duration": 23,
    "start_time": "2023-03-03T14:29:36.884Z"
   },
   {
    "duration": 9,
    "start_time": "2023-03-03T14:29:36.921Z"
   },
   {
    "duration": 13,
    "start_time": "2023-03-03T14:29:36.932Z"
   },
   {
    "duration": 9,
    "start_time": "2023-03-03T14:29:36.947Z"
   },
   {
    "duration": 10,
    "start_time": "2023-03-03T14:29:36.958Z"
   },
   {
    "duration": 10,
    "start_time": "2023-03-03T14:29:36.970Z"
   },
   {
    "duration": 48,
    "start_time": "2023-03-03T14:29:36.982Z"
   },
   {
    "duration": 17,
    "start_time": "2023-03-03T14:29:37.031Z"
   },
   {
    "duration": 294,
    "start_time": "2023-03-03T14:29:37.050Z"
   },
   {
    "duration": 13,
    "start_time": "2023-03-03T14:29:37.346Z"
   },
   {
    "duration": 5,
    "start_time": "2023-03-03T14:29:37.361Z"
   },
   {
    "duration": 283,
    "start_time": "2023-03-03T14:29:37.368Z"
   },
   {
    "duration": 15,
    "start_time": "2023-03-03T14:29:37.654Z"
   },
   {
    "duration": 18,
    "start_time": "2023-03-03T14:29:37.670Z"
   },
   {
    "duration": 21,
    "start_time": "2023-03-03T14:29:37.690Z"
   },
   {
    "duration": 16,
    "start_time": "2023-03-03T14:29:37.713Z"
   },
   {
    "duration": 5,
    "start_time": "2023-03-03T14:29:37.730Z"
   },
   {
    "duration": 21,
    "start_time": "2023-03-03T14:29:37.737Z"
   },
   {
    "duration": 2164,
    "start_time": "2023-03-03T14:29:37.759Z"
   },
   {
    "duration": 20,
    "start_time": "2023-03-03T14:29:39.925Z"
   },
   {
    "duration": 49,
    "start_time": "2023-03-03T14:29:39.947Z"
   },
   {
    "duration": 6,
    "start_time": "2023-03-03T14:29:39.997Z"
   },
   {
    "duration": 6,
    "start_time": "2023-03-03T14:29:40.028Z"
   },
   {
    "duration": 34,
    "start_time": "2023-03-03T14:29:40.036Z"
   },
   {
    "duration": 6,
    "start_time": "2023-03-03T14:29:40.072Z"
   },
   {
    "duration": 7,
    "start_time": "2023-03-03T14:29:40.079Z"
   },
   {
    "duration": 5,
    "start_time": "2023-03-03T14:29:40.088Z"
   },
   {
    "duration": 24,
    "start_time": "2023-03-03T14:29:40.094Z"
   },
   {
    "duration": 3,
    "start_time": "2023-03-03T14:29:40.120Z"
   },
   {
    "duration": 5,
    "start_time": "2023-03-03T14:29:40.125Z"
   },
   {
    "duration": 7,
    "start_time": "2023-03-03T14:29:40.131Z"
   },
   {
    "duration": 9,
    "start_time": "2023-03-03T14:29:40.140Z"
   },
   {
    "duration": 5,
    "start_time": "2023-03-03T14:29:40.151Z"
   },
   {
    "duration": 4,
    "start_time": "2023-03-03T14:29:40.158Z"
   },
   {
    "duration": 8,
    "start_time": "2023-03-03T14:29:40.164Z"
   },
   {
    "duration": 52,
    "start_time": "2023-03-03T14:29:40.173Z"
   },
   {
    "duration": 7,
    "start_time": "2023-03-03T14:29:40.227Z"
   },
   {
    "duration": 31,
    "start_time": "2023-03-03T14:29:40.236Z"
   },
   {
    "duration": 6,
    "start_time": "2023-03-03T14:29:40.270Z"
   },
   {
    "duration": 9,
    "start_time": "2023-03-03T14:29:40.278Z"
   },
   {
    "duration": 31,
    "start_time": "2023-03-03T14:29:40.322Z"
   },
   {
    "duration": 13,
    "start_time": "2023-03-03T14:29:40.355Z"
   },
   {
    "duration": 5,
    "start_time": "2023-03-03T14:29:40.370Z"
   },
   {
    "duration": 46,
    "start_time": "2023-03-03T14:29:40.377Z"
   },
   {
    "duration": 15,
    "start_time": "2023-03-03T14:29:40.425Z"
   },
   {
    "duration": 10,
    "start_time": "2023-03-03T14:29:40.442Z"
   },
   {
    "duration": 398,
    "start_time": "2023-03-03T14:29:40.455Z"
   },
   {
    "duration": 10,
    "start_time": "2023-03-03T14:29:40.855Z"
   },
   {
    "duration": 13,
    "start_time": "2023-03-03T14:29:40.867Z"
   },
   {
    "duration": 10,
    "start_time": "2023-03-03T14:29:40.882Z"
   },
   {
    "duration": 33,
    "start_time": "2023-03-03T14:29:40.893Z"
   },
   {
    "duration": 4,
    "start_time": "2023-03-03T14:29:40.927Z"
   },
   {
    "duration": 22,
    "start_time": "2023-03-03T14:29:40.933Z"
   },
   {
    "duration": 27,
    "start_time": "2023-03-03T14:29:40.957Z"
   },
   {
    "duration": 35,
    "start_time": "2023-03-03T14:29:40.987Z"
   },
   {
    "duration": 606,
    "start_time": "2023-03-03T14:29:41.024Z"
   },
   {
    "duration": 667,
    "start_time": "2023-03-03T14:29:41.632Z"
   },
   {
    "duration": 268,
    "start_time": "2023-03-03T14:29:42.302Z"
   },
   {
    "duration": 294,
    "start_time": "2023-03-03T14:29:42.571Z"
   },
   {
    "duration": 17,
    "start_time": "2023-03-03T14:29:42.867Z"
   },
   {
    "duration": 162,
    "start_time": "2023-03-03T14:29:42.886Z"
   },
   {
    "duration": 13,
    "start_time": "2023-03-03T14:29:43.050Z"
   },
   {
    "duration": 351,
    "start_time": "2023-03-03T14:29:43.065Z"
   },
   {
    "duration": 637,
    "start_time": "2023-03-03T14:29:43.421Z"
   },
   {
    "duration": 15,
    "start_time": "2023-03-03T14:29:44.060Z"
   },
   {
    "duration": 388,
    "start_time": "2023-03-03T14:29:44.077Z"
   },
   {
    "duration": 9,
    "start_time": "2023-03-03T14:29:44.467Z"
   },
   {
    "duration": 297,
    "start_time": "2023-03-03T14:29:44.478Z"
   },
   {
    "duration": 370,
    "start_time": "2023-03-03T14:29:44.777Z"
   },
   {
    "duration": 9,
    "start_time": "2023-03-03T14:29:45.149Z"
   },
   {
    "duration": 496,
    "start_time": "2023-03-03T14:29:45.159Z"
   },
   {
    "duration": 476,
    "start_time": "2023-03-03T14:29:45.656Z"
   },
   {
    "duration": 8,
    "start_time": "2023-03-03T14:29:46.133Z"
   },
   {
    "duration": 413,
    "start_time": "2023-03-03T14:29:46.143Z"
   },
   {
    "duration": 383,
    "start_time": "2023-03-03T14:29:46.558Z"
   },
   {
    "duration": 8,
    "start_time": "2023-03-03T14:29:46.943Z"
   },
   {
    "duration": 197,
    "start_time": "2023-03-03T14:29:46.957Z"
   },
   {
    "duration": 3,
    "start_time": "2023-03-03T14:29:47.156Z"
   },
   {
    "duration": 7,
    "start_time": "2023-03-03T14:29:47.161Z"
   },
   {
    "duration": 7,
    "start_time": "2023-03-03T14:29:47.170Z"
   }
  ],
  "kernelspec": {
   "display_name": "Python 3 (ipykernel)",
   "language": "python",
   "name": "python3"
  },
  "language_info": {
   "codemirror_mode": {
    "name": "ipython",
    "version": 3
   },
   "file_extension": ".py",
   "mimetype": "text/x-python",
   "name": "python",
   "nbconvert_exporter": "python",
   "pygments_lexer": "ipython3",
   "version": "3.9.5"
  },
  "toc": {
   "base_numbering": 1,
   "nav_menu": {},
   "number_sections": true,
   "sideBar": true,
   "skip_h1_title": true,
   "title_cell": "Table of Contents",
   "title_sidebar": "Contents",
   "toc_cell": false,
   "toc_position": {},
   "toc_section_display": true,
   "toc_window_display": false
  }
 },
 "nbformat": 4,
 "nbformat_minor": 2
}
